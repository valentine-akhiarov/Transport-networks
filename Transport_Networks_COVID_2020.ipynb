{
 "cells": [
  {
   "cell_type": "code",
   "execution_count": 1,
   "metadata": {
    "scrolled": true
   },
   "outputs": [
    {
     "name": "stderr",
     "output_type": "stream",
     "text": [
      "\r",
      "  0%|          | 0/600 [00:00<?, ?it/s]"
     ]
    },
    {
     "name": "stdout",
     "output_type": "stream",
     "text": [
      "radiuses 4 5\n",
      "resp.sum 0\n",
      "resp.sum 0\n",
      "\twalk_iter()\t\t\t7.65 sec.\n",
      "\tmake_disease_matrices()\t\t0.01 sec.\n"
     ]
    },
    {
     "name": "stderr",
     "output_type": "stream",
     "text": [
      "\r",
      "  0%|          | 1/600 [00:09<1:35:04,  9.52s/it]"
     ]
    },
    {
     "name": "stdout",
     "output_type": "stream",
     "text": [
      "\tspread_disease()\t\t1.86 sec.\n",
      "\tscreen_for_disease()\t\t0.00 sec.\n",
      "\ttrack_stats()\t\t\t0.00 sec.\n",
      "[epoch=1]\tinfected=1\ttransmitters(visible+invisible)=2\n",
      "\n",
      "\n",
      "radiuses 4 5\n",
      "resp.sum 0\n",
      "resp.sum 0\n",
      "\tdecrement_timers()\t\t0.01 sec.\n",
      "\twalk_iter()\t\t\t5.68 sec.\n",
      "\tmake_disease_matrices()\t\t0.00 sec.\n"
     ]
    },
    {
     "name": "stderr",
     "output_type": "stream",
     "text": [
      "\r",
      "  0%|          | 2/600 [00:16<1:27:33,  8.79s/it]"
     ]
    },
    {
     "name": "stdout",
     "output_type": "stream",
     "text": [
      "\tspread_disease()\t\t1.36 sec.\n",
      "\tscreen_for_disease()\t\t0.00 sec.\n",
      "\ttrack_stats()\t\t\t0.00 sec.\n",
      "[epoch=2]\tinfected=1\ttransmitters(visible+invisible)=2\n",
      "\n",
      "\n",
      "radiuses 4 5\n",
      "resp.sum 0\n",
      "resp.sum 0\n",
      "\tdecrement_timers()\t\t0.00 sec.\n",
      "\twalk_iter()\t\t\t5.78 sec.\n",
      "\tmake_disease_matrices()\t\t0.00 sec.\n"
     ]
    },
    {
     "name": "stderr",
     "output_type": "stream",
     "text": [
      "\r",
      "  0%|          | 3/600 [00:23<1:22:49,  8.32s/it]"
     ]
    },
    {
     "name": "stdout",
     "output_type": "stream",
     "text": [
      "\tspread_disease()\t\t1.46 sec.\n",
      "\tscreen_for_disease()\t\t0.00 sec.\n",
      "\ttrack_stats()\t\t\t0.00 sec.\n",
      "[epoch=3]\tinfected=2\ttransmitters(visible+invisible)=2\n",
      "\n",
      "\n",
      "radiuses 4 5\n",
      "resp.sum 0\n",
      "resp.sum 0\n",
      "\tdecrement_timers()\t\t0.01 sec.\n",
      "\twalk_iter()\t\t\t5.80 sec.\n",
      "\tmake_disease_matrices()\t\t0.00 sec.\n"
     ]
    },
    {
     "name": "stderr",
     "output_type": "stream",
     "text": [
      "\r",
      "  1%|          | 4/600 [00:31<1:19:40,  8.02s/it]"
     ]
    },
    {
     "name": "stdout",
     "output_type": "stream",
     "text": [
      "\tspread_disease()\t\t1.49 sec.\n",
      "\tscreen_for_disease()\t\t0.00 sec.\n",
      "\ttrack_stats()\t\t\t0.00 sec.\n",
      "[epoch=4]\tinfected=2\ttransmitters(visible+invisible)=2\n",
      "\n",
      "\n",
      "radiuses 4 5\n",
      "resp.sum 0\n",
      "resp.sum 0\n",
      "\tdecrement_timers()\t\t0.01 sec.\n",
      "\twalk_iter()\t\t\t5.88 sec.\n",
      "\tmake_disease_matrices()\t\t0.00 sec.\n"
     ]
    },
    {
     "name": "stderr",
     "output_type": "stream",
     "text": [
      "\r",
      "  1%|          | 5/600 [00:38<1:17:15,  7.79s/it]"
     ]
    },
    {
     "name": "stdout",
     "output_type": "stream",
     "text": [
      "\tspread_disease()\t\t1.35 sec.\n",
      "\tscreen_for_disease()\t\t0.00 sec.\n",
      "\ttrack_stats()\t\t\t0.00 sec.\n",
      "[epoch=5]\tinfected=3\ttransmitters(visible+invisible)=2\n",
      "\n",
      "\n",
      "radiuses 4 5\n",
      "resp.sum 0\n",
      "resp.sum 0\n",
      "\tdecrement_timers()\t\t0.01 sec.\n",
      "\twalk_iter()\t\t\t6.13 sec.\n",
      "\tmake_disease_matrices()\t\t0.00 sec.\n"
     ]
    },
    {
     "name": "stderr",
     "output_type": "stream",
     "text": [
      "\r",
      "  1%|          | 6/600 [00:46<1:16:35,  7.74s/it]"
     ]
    },
    {
     "name": "stdout",
     "output_type": "stream",
     "text": [
      "\tspread_disease()\t\t1.47 sec.\n",
      "\tscreen_for_disease()\t\t0.00 sec.\n",
      "\ttrack_stats()\t\t\t0.00 sec.\n",
      "[epoch=6]\tinfected=3\ttransmitters(visible+invisible)=2\n",
      "\n",
      "\n",
      "radiuses 4 5\n",
      "resp.sum 0\n",
      "resp.sum 0\n",
      "\tdecrement_timers()\t\t0.00 sec.\n",
      "\twalk_iter()\t\t\t5.79 sec.\n",
      "\tmake_disease_matrices()\t\t0.00 sec.\n"
     ]
    },
    {
     "name": "stderr",
     "output_type": "stream",
     "text": [
      "\r",
      "  1%|          | 7/600 [00:53<1:14:38,  7.55s/it]"
     ]
    },
    {
     "name": "stdout",
     "output_type": "stream",
     "text": [
      "\tspread_disease()\t\t1.32 sec.\n",
      "\tscreen_for_disease()\t\t0.00 sec.\n",
      "\ttrack_stats()\t\t\t0.00 sec.\n",
      "[epoch=7]\tinfected=3\ttransmitters(visible+invisible)=2\n",
      "\n",
      "\n",
      "radiuses 4 5\n",
      "resp.sum 0\n",
      "resp.sum 0\n",
      "\tdecrement_timers()\t\t0.00 sec.\n",
      "\twalk_iter()\t\t\t6.12 sec.\n",
      "\tmake_disease_matrices()\t\t0.00 sec.\n"
     ]
    },
    {
     "name": "stderr",
     "output_type": "stream",
     "text": [
      "\r",
      "  1%|▏         | 8/600 [01:00<1:14:33,  7.56s/it]"
     ]
    },
    {
     "name": "stdout",
     "output_type": "stream",
     "text": [
      "\tspread_disease()\t\t1.43 sec.\n",
      "\tscreen_for_disease()\t\t0.00 sec.\n",
      "\ttrack_stats()\t\t\t0.00 sec.\n",
      "[epoch=8]\tinfected=3\ttransmitters(visible+invisible)=2\n",
      "\n",
      "\n",
      "radiuses 4 5\n",
      "resp.sum 0\n",
      "resp.sum 0\n",
      "\tdecrement_timers()\t\t0.00 sec.\n",
      "\twalk_iter()\t\t\t6.21 sec.\n",
      "\tmake_disease_matrices()\t\t0.00 sec.\n"
     ]
    },
    {
     "name": "stderr",
     "output_type": "stream",
     "text": [
      "\r",
      "  2%|▏         | 9/600 [01:08<1:15:06,  7.63s/it]"
     ]
    },
    {
     "name": "stdout",
     "output_type": "stream",
     "text": [
      "\tspread_disease()\t\t1.56 sec.\n",
      "\tscreen_for_disease()\t\t0.00 sec.\n",
      "\ttrack_stats()\t\t\t0.00 sec.\n",
      "[epoch=9]\tinfected=3\ttransmitters(visible+invisible)=2\n",
      "\n",
      "\n",
      "radiuses 4 5\n",
      "resp.sum 0\n",
      "resp.sum 0\n",
      "\tdecrement_timers()\t\t0.00 sec.\n",
      "\twalk_iter()\t\t\t6.14 sec.\n",
      "\tmake_disease_matrices()\t\t0.00 sec.\n"
     ]
    },
    {
     "name": "stderr",
     "output_type": "stream",
     "text": [
      "\r",
      "  2%|▏         | 10/600 [01:16<1:15:00,  7.63s/it]"
     ]
    },
    {
     "name": "stdout",
     "output_type": "stream",
     "text": [
      "\tspread_disease()\t\t1.47 sec.\n",
      "\tscreen_for_disease()\t\t0.00 sec.\n",
      "\ttrack_stats()\t\t\t0.00 sec.\n",
      "[epoch=10]\tinfected=4\ttransmitters(visible+invisible)=2\n",
      "\n",
      "\n",
      "radiuses 4 5\n",
      "resp.sum 0\n",
      "resp.sum 0\n",
      "\tdecrement_timers()\t\t0.00 sec.\n",
      "\twalk_iter()\t\t\t6.19 sec.\n",
      "\tmake_disease_matrices()\t\t0.00 sec.\n"
     ]
    },
    {
     "name": "stderr",
     "output_type": "stream",
     "text": [
      "\r",
      "  2%|▏         | 11/600 [01:23<1:15:04,  7.65s/it]"
     ]
    },
    {
     "name": "stdout",
     "output_type": "stream",
     "text": [
      "\tspread_disease()\t\t1.49 sec.\n",
      "\tscreen_for_disease()\t\t0.00 sec.\n",
      "\ttrack_stats()\t\t\t0.00 sec.\n",
      "[epoch=11]\tinfected=5\ttransmitters(visible+invisible)=2\n",
      "\n",
      "\n",
      "radiuses 4 5\n",
      "resp.sum 0\n",
      "resp.sum 0\n",
      "\tdecrement_timers()\t\t0.00 sec.\n",
      "\twalk_iter()\t\t\t6.14 sec.\n",
      "\tmake_disease_matrices()\t\t0.00 sec.\n"
     ]
    },
    {
     "name": "stderr",
     "output_type": "stream",
     "text": [
      "\r",
      "  2%|▏         | 12/600 [01:31<1:15:02,  7.66s/it]"
     ]
    },
    {
     "name": "stdout",
     "output_type": "stream",
     "text": [
      "\tspread_disease()\t\t1.52 sec.\n",
      "\tscreen_for_disease()\t\t0.00 sec.\n",
      "\ttrack_stats()\t\t\t0.00 sec.\n",
      "[epoch=12]\tinfected=6\ttransmitters(visible+invisible)=2\n",
      "\n",
      "\n",
      "radiuses 4 5\n",
      "resp.sum 0\n",
      "resp.sum 0\n",
      "\tdecrement_timers()\t\t0.00 sec.\n",
      "\twalk_iter()\t\t\t6.11 sec.\n",
      "\tmake_disease_matrices()\t\t0.00 sec.\n"
     ]
    },
    {
     "name": "stderr",
     "output_type": "stream",
     "text": [
      "\r",
      "  2%|▏         | 13/600 [01:39<1:14:51,  7.65s/it]"
     ]
    },
    {
     "name": "stdout",
     "output_type": "stream",
     "text": [
      "\tspread_disease()\t\t1.51 sec.\n",
      "\tscreen_for_disease()\t\t0.00 sec.\n",
      "\ttrack_stats()\t\t\t0.00 sec.\n",
      "[epoch=13]\tinfected=6\ttransmitters(visible+invisible)=2\n",
      "\n",
      "\n",
      "radiuses 4 5\n",
      "resp.sum 0\n",
      "resp.sum 0\n",
      "\tdecrement_timers()\t\t0.00 sec.\n",
      "\twalk_iter()\t\t\t6.08 sec.\n",
      "\tmake_disease_matrices()\t\t0.00 sec.\n"
     ]
    },
    {
     "name": "stderr",
     "output_type": "stream",
     "text": [
      "\r",
      "  2%|▏         | 14/600 [01:46<1:14:39,  7.64s/it]"
     ]
    },
    {
     "name": "stdout",
     "output_type": "stream",
     "text": [
      "\tspread_disease()\t\t1.53 sec.\n",
      "\tscreen_for_disease()\t\t0.00 sec.\n",
      "\ttrack_stats()\t\t\t0.00 sec.\n",
      "[epoch=14]\tinfected=6\ttransmitters(visible+invisible)=2\n",
      "\n",
      "\n",
      "radiuses 4 5\n",
      "resp.sum 0\n",
      "resp.sum 0\n",
      "\tdecrement_timers()\t\t0.01 sec.\n",
      "\twalk_iter()\t\t\t6.11 sec.\n",
      "\tmake_disease_matrices()\t\t0.00 sec.\n"
     ]
    },
    {
     "name": "stderr",
     "output_type": "stream",
     "text": [
      "\r",
      "  2%|▎         | 15/600 [01:54<1:14:06,  7.60s/it]"
     ]
    },
    {
     "name": "stdout",
     "output_type": "stream",
     "text": [
      "\tspread_disease()\t\t1.37 sec.\n",
      "\tscreen_for_disease()\t\t0.00 sec.\n",
      "\ttrack_stats()\t\t\t0.00 sec.\n",
      "[epoch=15]\tinfected=6\ttransmitters(visible+invisible)=2\n",
      "\n",
      "\n",
      "radiuses 4 5\n",
      "resp.sum 0\n",
      "resp.sum 0\n",
      "\tdecrement_timers()\t\t0.00 sec.\n",
      "\twalk_iter()\t\t\t6.22 sec.\n",
      "\tmake_disease_matrices()\t\t0.00 sec.\n"
     ]
    },
    {
     "name": "stderr",
     "output_type": "stream",
     "text": [
      "\r",
      "  3%|▎         | 16/600 [02:01<1:14:16,  7.63s/it]"
     ]
    },
    {
     "name": "stdout",
     "output_type": "stream",
     "text": [
      "\tspread_disease()\t\t1.47 sec.\n",
      "\tscreen_for_disease()\t\t0.00 sec.\n",
      "\ttrack_stats()\t\t\t0.00 sec.\n",
      "[epoch=16]\tinfected=6\ttransmitters(visible+invisible)=2\n",
      "\n",
      "\n",
      "radiuses 4 5\n",
      "resp.sum 0\n",
      "resp.sum 0\n",
      "\tdecrement_timers()\t\t0.00 sec.\n",
      "\twalk_iter()\t\t\t6.17 sec.\n",
      "\tmake_disease_matrices()\t\t0.00 sec.\n"
     ]
    },
    {
     "name": "stderr",
     "output_type": "stream",
     "text": [
      "\r",
      "  3%|▎         | 17/600 [02:09<1:14:18,  7.65s/it]"
     ]
    },
    {
     "name": "stdout",
     "output_type": "stream",
     "text": [
      "\tspread_disease()\t\t1.50 sec.\n",
      "\tscreen_for_disease()\t\t0.00 sec.\n",
      "\ttrack_stats()\t\t\t0.00 sec.\n",
      "[epoch=17]\tinfected=6\ttransmitters(visible+invisible)=2\n",
      "\n",
      "\n",
      "radiuses 4 5\n",
      "resp.sum 0\n",
      "resp.sum 0\n",
      "\tdecrement_timers()\t\t0.00 sec.\n",
      "\twalk_iter()\t\t\t6.12 sec.\n",
      "\tmake_disease_matrices()\t\t0.00 sec.\n"
     ]
    },
    {
     "name": "stderr",
     "output_type": "stream",
     "text": [
      "\r",
      "  3%|▎         | 18/600 [02:17<1:14:00,  7.63s/it]"
     ]
    },
    {
     "name": "stdout",
     "output_type": "stream",
     "text": [
      "\tspread_disease()\t\t1.45 sec.\n",
      "\tscreen_for_disease()\t\t0.00 sec.\n",
      "\ttrack_stats()\t\t\t0.00 sec.\n",
      "[epoch=18]\tinfected=6\ttransmitters(visible+invisible)=2\n",
      "\n",
      "\n",
      "radiuses 4 5\n",
      "resp.sum 0\n",
      "resp.sum 0\n",
      "\tdecrement_timers()\t\t0.00 sec.\n",
      "\twalk_iter()\t\t\t6.14 sec.\n",
      "\tmake_disease_matrices()\t\t0.00 sec.\n"
     ]
    },
    {
     "name": "stderr",
     "output_type": "stream",
     "text": [
      "\r",
      "  3%|▎         | 19/600 [02:24<1:13:36,  7.60s/it]"
     ]
    },
    {
     "name": "stdout",
     "output_type": "stream",
     "text": [
      "\tspread_disease()\t\t1.38 sec.\n",
      "\tscreen_for_disease()\t\t0.00 sec.\n",
      "\ttrack_stats()\t\t\t0.00 sec.\n",
      "[epoch=19]\tinfected=6\ttransmitters(visible+invisible)=4\n",
      "\n",
      "\n",
      "radiuses 4 5\n",
      "resp.sum 0\n",
      "resp.sum 0\n",
      "\tdecrement_timers()\t\t0.00 sec.\n",
      "\twalk_iter()\t\t\t6.29 sec.\n",
      "\tmake_disease_matrices()\t\t0.00 sec.\n"
     ]
    },
    {
     "name": "stderr",
     "output_type": "stream",
     "text": [
      "\r",
      "  3%|▎         | 20/600 [02:32<1:14:07,  7.67s/it]"
     ]
    },
    {
     "name": "stdout",
     "output_type": "stream",
     "text": [
      "\tspread_disease()\t\t1.52 sec.\n",
      "\tscreen_for_disease()\t\t0.00 sec.\n",
      "\ttrack_stats()\t\t\t0.00 sec.\n",
      "[epoch=20]\tinfected=6\ttransmitters(visible+invisible)=4\n",
      "\n",
      "\n",
      "radiuses 4 5\n",
      "resp.sum 0\n",
      "resp.sum 0\n",
      "\tdecrement_timers()\t\t0.01 sec.\n",
      "\twalk_iter()\t\t\t6.05 sec.\n",
      "\tmake_disease_matrices()\t\t0.00 sec.\n"
     ]
    },
    {
     "name": "stderr",
     "output_type": "stream",
     "text": [
      "\r",
      "  4%|▎         | 21/600 [02:40<1:13:41,  7.64s/it]"
     ]
    },
    {
     "name": "stdout",
     "output_type": "stream",
     "text": [
      "\tspread_disease()\t\t1.50 sec.\n",
      "\tscreen_for_disease()\t\t0.00 sec.\n",
      "\ttrack_stats()\t\t\t0.00 sec.\n",
      "[epoch=21]\tinfected=6\ttransmitters(visible+invisible)=4\n",
      "\n",
      "\n",
      "radiuses 4 5\n",
      "resp.sum 0\n",
      "resp.sum 0\n",
      "\tdecrement_timers()\t\t0.01 sec.\n",
      "\twalk_iter()\t\t\t6.30 sec.\n",
      "\tmake_disease_matrices()\t\t0.00 sec.\n"
     ]
    },
    {
     "name": "stderr",
     "output_type": "stream",
     "text": [
      "\r",
      "  4%|▎         | 22/600 [02:47<1:13:50,  7.66s/it]"
     ]
    },
    {
     "name": "stdout",
     "output_type": "stream",
     "text": [
      "\tspread_disease()\t\t1.41 sec.\n",
      "\tscreen_for_disease()\t\t0.00 sec.\n",
      "\ttrack_stats()\t\t\t0.00 sec.\n",
      "[epoch=22]\tinfected=8\ttransmitters(visible+invisible)=4\n",
      "\n",
      "\n",
      "radiuses 4 5\n",
      "resp.sum 0\n",
      "resp.sum 0\n",
      "\tdecrement_timers()\t\t0.00 sec.\n",
      "\twalk_iter()\t\t\t6.20 sec.\n",
      "\tmake_disease_matrices()\t\t0.00 sec.\n"
     ]
    },
    {
     "name": "stderr",
     "output_type": "stream",
     "text": [
      "\r",
      "  4%|▍         | 23/600 [02:55<1:13:41,  7.66s/it]"
     ]
    },
    {
     "name": "stdout",
     "output_type": "stream",
     "text": [
      "\tspread_disease()\t\t1.45 sec.\n",
      "\tscreen_for_disease()\t\t0.00 sec.\n",
      "\ttrack_stats()\t\t\t0.00 sec.\n",
      "[epoch=23]\tinfected=9\ttransmitters(visible+invisible)=5\n",
      "\n",
      "\n",
      "radiuses 4 5\n",
      "resp.sum 0\n",
      "resp.sum 0\n",
      "\tdecrement_timers()\t\t0.00 sec.\n",
      "\twalk_iter()\t\t\t6.10 sec.\n",
      "\tmake_disease_matrices()\t\t0.00 sec.\n"
     ]
    },
    {
     "name": "stderr",
     "output_type": "stream",
     "text": [
      "\r",
      "  4%|▍         | 24/600 [03:03<1:13:30,  7.66s/it]"
     ]
    },
    {
     "name": "stdout",
     "output_type": "stream",
     "text": [
      "\tspread_disease()\t\t1.53 sec.\n",
      "\tscreen_for_disease()\t\t0.00 sec.\n",
      "\ttrack_stats()\t\t\t0.00 sec.\n",
      "[epoch=24]\tinfected=9\ttransmitters(visible+invisible)=5\n",
      "\n",
      "\n",
      "radiuses 4 5\n",
      "resp.sum 0\n",
      "resp.sum 0\n",
      "\tdecrement_timers()\t\t0.00 sec.\n",
      "\twalk_iter()\t\t\t6.05 sec.\n",
      "\tmake_disease_matrices()\t\t0.00 sec.\n"
     ]
    },
    {
     "name": "stderr",
     "output_type": "stream",
     "text": [
      "\r",
      "  4%|▍         | 25/600 [03:10<1:12:52,  7.60s/it]"
     ]
    },
    {
     "name": "stdout",
     "output_type": "stream",
     "text": [
      "\tspread_disease()\t\t1.42 sec.\n",
      "\tscreen_for_disease()\t\t0.00 sec.\n",
      "\ttrack_stats()\t\t\t0.00 sec.\n",
      "[epoch=25]\tinfected=8\ttransmitters(visible+invisible)=7\n",
      "\n",
      "\n",
      "radiuses 4 5\n",
      "resp.sum 0\n",
      "resp.sum 0\n",
      "\tdecrement_timers()\t\t0.00 sec.\n",
      "\twalk_iter()\t\t\t6.22 sec.\n",
      "\tmake_disease_matrices()\t\t0.00 sec.\n"
     ]
    },
    {
     "name": "stderr",
     "output_type": "stream",
     "text": [
      "\r",
      "  4%|▍         | 26/600 [03:18<1:13:03,  7.64s/it]"
     ]
    },
    {
     "name": "stdout",
     "output_type": "stream",
     "text": [
      "\tspread_disease()\t\t1.47 sec.\n",
      "\tscreen_for_disease()\t\t0.00 sec.\n",
      "\ttrack_stats()\t\t\t0.00 sec.\n",
      "[epoch=26]\tinfected=8\ttransmitters(visible+invisible)=7\n",
      "\n",
      "\n",
      "radiuses 4 5\n",
      "resp.sum 0\n",
      "resp.sum 0\n",
      "\tdecrement_timers()\t\t0.01 sec.\n",
      "\twalk_iter()\t\t\t6.14 sec.\n",
      "\tmake_disease_matrices()\t\t0.00 sec.\n"
     ]
    },
    {
     "name": "stderr",
     "output_type": "stream",
     "text": [
      "\r",
      "  4%|▍         | 27/600 [03:26<1:13:05,  7.65s/it]"
     ]
    },
    {
     "name": "stdout",
     "output_type": "stream",
     "text": [
      "\tspread_disease()\t\t1.54 sec.\n",
      "\tscreen_for_disease()\t\t0.01 sec.\n",
      "\ttrack_stats()\t\t\t0.00 sec.\n",
      "[epoch=27]\tinfected=9\ttransmitters(visible+invisible)=7\n",
      "\n",
      "\n",
      "radiuses 4 5\n",
      "resp.sum 0\n",
      "resp.sum 0\n",
      "\tdecrement_timers()\t\t0.01 sec.\n",
      "\twalk_iter()\t\t\t6.17 sec.\n",
      "\tmake_disease_matrices()\t\t0.00 sec.\n"
     ]
    },
    {
     "name": "stderr",
     "output_type": "stream",
     "text": [
      "\r",
      "  5%|▍         | 28/600 [03:33<1:12:44,  7.63s/it]"
     ]
    },
    {
     "name": "stdout",
     "output_type": "stream",
     "text": [
      "\tspread_disease()\t\t1.39 sec.\n",
      "\tscreen_for_disease()\t\t0.00 sec.\n",
      "\ttrack_stats()\t\t\t0.00 sec.\n",
      "[epoch=28]\tinfected=10\ttransmitters(visible+invisible)=7\n",
      "\n",
      "\n",
      "radiuses 4 5\n",
      "resp.sum 0\n",
      "resp.sum 0\n",
      "\tdecrement_timers()\t\t0.00 sec.\n",
      "\twalk_iter()\t\t\t6.14 sec.\n",
      "\tmake_disease_matrices()\t\t0.00 sec.\n"
     ]
    },
    {
     "name": "stderr",
     "output_type": "stream",
     "text": [
      "\r",
      "  5%|▍         | 29/600 [03:41<1:12:39,  7.63s/it]"
     ]
    },
    {
     "name": "stdout",
     "output_type": "stream",
     "text": [
      "\tspread_disease()\t\t1.49 sec.\n",
      "\tscreen_for_disease()\t\t0.00 sec.\n",
      "\ttrack_stats()\t\t\t0.00 sec.\n",
      "[epoch=29]\tinfected=10\ttransmitters(visible+invisible)=7\n",
      "\n",
      "\n",
      "radiuses 4 5\n",
      "resp.sum 0\n",
      "resp.sum 0\n",
      "\tdecrement_timers()\t\t0.01 sec.\n",
      "\twalk_iter()\t\t\t6.13 sec.\n",
      "\tmake_disease_matrices()\t\t0.00 sec.\n"
     ]
    },
    {
     "name": "stderr",
     "output_type": "stream",
     "text": [
      "\r",
      "  5%|▌         | 30/600 [03:48<1:12:18,  7.61s/it]"
     ]
    },
    {
     "name": "stdout",
     "output_type": "stream",
     "text": [
      "\tspread_disease()\t\t1.41 sec.\n",
      "\tscreen_for_disease()\t\t0.00 sec.\n",
      "\ttrack_stats()\t\t\t0.00 sec.\n",
      "[epoch=30]\tinfected=11\ttransmitters(visible+invisible)=7\n",
      "\n",
      "\n",
      "radiuses 4 5\n",
      "resp.sum 0\n",
      "resp.sum 0\n",
      "\tdecrement_timers()\t\t0.00 sec.\n",
      "\twalk_iter()\t\t\t6.17 sec.\n",
      "\tmake_disease_matrices()\t\t0.00 sec.\n"
     ]
    },
    {
     "name": "stderr",
     "output_type": "stream",
     "text": [
      "\r",
      "  5%|▌         | 31/600 [03:56<1:12:21,  7.63s/it]"
     ]
    },
    {
     "name": "stdout",
     "output_type": "stream",
     "text": [
      "\tspread_disease()\t\t1.48 sec.\n",
      "\tscreen_for_disease()\t\t0.00 sec.\n",
      "\ttrack_stats()\t\t\t0.00 sec.\n",
      "[epoch=31]\tinfected=12\ttransmitters(visible+invisible)=7\n",
      "\n",
      "\n",
      "radiuses 4 5\n",
      "resp.sum 0\n",
      "resp.sum 0\n",
      "\tdecrement_timers()\t\t0.00 sec.\n",
      "\twalk_iter()\t\t\t6.07 sec.\n",
      "\tmake_disease_matrices()\t\t0.00 sec.\n"
     ]
    },
    {
     "name": "stderr",
     "output_type": "stream",
     "text": [
      "\r",
      "  5%|▌         | 32/600 [04:04<1:12:08,  7.62s/it]"
     ]
    },
    {
     "name": "stdout",
     "output_type": "stream",
     "text": [
      "\tspread_disease()\t\t1.51 sec.\n",
      "\tscreen_for_disease()\t\t0.00 sec.\n",
      "\ttrack_stats()\t\t\t0.00 sec.\n",
      "[epoch=32]\tinfected=12\ttransmitters(visible+invisible)=7\n",
      "\n",
      "\n",
      "radiuses 4 5\n",
      "resp.sum 0\n",
      "resp.sum 0\n",
      "\tdecrement_timers()\t\t0.00 sec.\n",
      "\twalk_iter()\t\t\t6.14 sec.\n",
      "\tmake_disease_matrices()\t\t0.00 sec.\n"
     ]
    },
    {
     "name": "stderr",
     "output_type": "stream",
     "text": [
      "\r",
      "  6%|▌         | 33/600 [04:11<1:11:59,  7.62s/it]"
     ]
    },
    {
     "name": "stdout",
     "output_type": "stream",
     "text": [
      "\tspread_disease()\t\t1.45 sec.\n",
      "\tscreen_for_disease()\t\t0.00 sec.\n",
      "\ttrack_stats()\t\t\t0.00 sec.\n",
      "[epoch=33]\tinfected=13\ttransmitters(visible+invisible)=7\n",
      "\n",
      "\n",
      "radiuses 4 5\n",
      "resp.sum 0\n",
      "resp.sum 0\n",
      "\tdecrement_timers()\t\t0.00 sec.\n",
      "\twalk_iter()\t\t\t6.16 sec.\n",
      "\tmake_disease_matrices()\t\t0.00 sec.\n"
     ]
    },
    {
     "name": "stderr",
     "output_type": "stream",
     "text": [
      "\r",
      "  6%|▌         | 34/600 [04:19<1:11:46,  7.61s/it]"
     ]
    },
    {
     "name": "stdout",
     "output_type": "stream",
     "text": [
      "\tspread_disease()\t\t1.41 sec.\n",
      "\tscreen_for_disease()\t\t0.00 sec.\n",
      "\ttrack_stats()\t\t\t0.00 sec.\n",
      "[epoch=34]\tinfected=12\ttransmitters(visible+invisible)=8\n",
      "\n",
      "\n",
      "radiuses 4 5\n",
      "resp.sum 0\n",
      "resp.sum 0\n",
      "\tdecrement_timers()\t\t0.00 sec.\n",
      "\twalk_iter()\t\t\t6.14 sec.\n",
      "\tmake_disease_matrices()\t\t0.00 sec.\n"
     ]
    },
    {
     "name": "stderr",
     "output_type": "stream",
     "text": [
      "\r",
      "  6%|▌         | 35/600 [04:26<1:11:33,  7.60s/it]"
     ]
    },
    {
     "name": "stdout",
     "output_type": "stream",
     "text": [
      "\tspread_disease()\t\t1.42 sec.\n",
      "\tscreen_for_disease()\t\t0.00 sec.\n",
      "\ttrack_stats()\t\t\t0.00 sec.\n",
      "[epoch=35]\tinfected=12\ttransmitters(visible+invisible)=8\n",
      "\n",
      "\n",
      "radiuses 4 5\n",
      "resp.sum 0\n",
      "resp.sum 0\n",
      "\tdecrement_timers()\t\t0.00 sec.\n",
      "\twalk_iter()\t\t\t6.18 sec.\n",
      "\tmake_disease_matrices()\t\t0.00 sec.\n"
     ]
    },
    {
     "name": "stderr",
     "output_type": "stream",
     "text": [
      "\r",
      "  6%|▌         | 36/600 [04:34<1:11:56,  7.65s/it]"
     ]
    },
    {
     "name": "stdout",
     "output_type": "stream",
     "text": [
      "\tspread_disease()\t\t1.59 sec.\n",
      "\tscreen_for_disease()\t\t0.00 sec.\n",
      "\ttrack_stats()\t\t\t0.00 sec.\n",
      "[epoch=36]\tinfected=12\ttransmitters(visible+invisible)=8\n",
      "\n",
      "\n",
      "radiuses 4 5\n",
      "resp.sum 0\n",
      "resp.sum 0\n",
      "\tdecrement_timers()\t\t0.00 sec.\n",
      "\twalk_iter()\t\t\t6.27 sec.\n",
      "\tmake_disease_matrices()\t\t0.00 sec.\n"
     ]
    },
    {
     "name": "stderr",
     "output_type": "stream",
     "text": [
      "\r",
      "  6%|▌         | 37/600 [04:42<1:12:24,  7.72s/it]"
     ]
    },
    {
     "name": "stdout",
     "output_type": "stream",
     "text": [
      "\tspread_disease()\t\t1.58 sec.\n",
      "\tscreen_for_disease()\t\t0.01 sec.\n",
      "\ttrack_stats()\t\t\t0.00 sec.\n",
      "[epoch=37]\tinfected=13\ttransmitters(visible+invisible)=9\n",
      "\n",
      "\n",
      "radiuses 4 5\n",
      "resp.sum 0\n",
      "resp.sum 0\n",
      "\tdecrement_timers()\t\t0.00 sec.\n",
      "\twalk_iter()\t\t\t6.18 sec.\n",
      "\tmake_disease_matrices()\t\t0.00 sec.\n"
     ]
    },
    {
     "name": "stderr",
     "output_type": "stream",
     "text": [
      "\r",
      "  6%|▋         | 38/600 [04:50<1:12:08,  7.70s/it]"
     ]
    },
    {
     "name": "stdout",
     "output_type": "stream",
     "text": [
      "\tspread_disease()\t\t1.47 sec.\n",
      "\tscreen_for_disease()\t\t0.00 sec.\n",
      "\ttrack_stats()\t\t\t0.00 sec.\n",
      "[epoch=38]\tinfected=12\ttransmitters(visible+invisible)=10\n",
      "\n",
      "\n",
      "radiuses 4 5\n",
      "resp.sum 0\n",
      "resp.sum 0\n",
      "\tdecrement_timers()\t\t0.00 sec.\n",
      "\twalk_iter()\t\t\t6.07 sec.\n",
      "\tmake_disease_matrices()\t\t0.00 sec.\n"
     ]
    },
    {
     "name": "stderr",
     "output_type": "stream",
     "text": [
      "\r",
      "  6%|▋         | 39/600 [04:57<1:11:31,  7.65s/it]"
     ]
    },
    {
     "name": "stdout",
     "output_type": "stream",
     "text": [
      "\tspread_disease()\t\t1.44 sec.\n",
      "\tscreen_for_disease()\t\t0.00 sec.\n",
      "\ttrack_stats()\t\t\t0.00 sec.\n",
      "[epoch=39]\tinfected=12\ttransmitters(visible+invisible)=10\n",
      "\n",
      "\n",
      "radiuses 4 5\n",
      "resp.sum 0\n",
      "resp.sum 0\n",
      "\tdecrement_timers()\t\t0.00 sec.\n",
      "\twalk_iter()\t\t\t6.16 sec.\n",
      "\tmake_disease_matrices()\t\t0.00 sec.\n"
     ]
    },
    {
     "name": "stderr",
     "output_type": "stream",
     "text": [
      "\r",
      "  7%|▋         | 40/600 [05:05<1:11:44,  7.69s/it]"
     ]
    },
    {
     "name": "stdout",
     "output_type": "stream",
     "text": [
      "\tspread_disease()\t\t1.60 sec.\n",
      "\tscreen_for_disease()\t\t0.01 sec.\n",
      "\ttrack_stats()\t\t\t0.00 sec.\n",
      "[epoch=40]\tinfected=11\ttransmitters(visible+invisible)=11\n",
      "\n",
      "\n",
      "radiuses 4 5\n",
      "resp.sum 0\n",
      "resp.sum 0\n",
      "\tdecrement_timers()\t\t0.01 sec.\n",
      "\twalk_iter()\t\t\t6.06 sec.\n",
      "\tmake_disease_matrices()\t\t0.00 sec.\n"
     ]
    },
    {
     "name": "stderr",
     "output_type": "stream",
     "text": [
      "\r",
      "  7%|▋         | 41/600 [05:12<1:11:02,  7.62s/it]"
     ]
    },
    {
     "name": "stdout",
     "output_type": "stream",
     "text": [
      "\tspread_disease()\t\t1.40 sec.\n",
      "\tscreen_for_disease()\t\t0.00 sec.\n",
      "\ttrack_stats()\t\t\t0.00 sec.\n",
      "[epoch=41]\tinfected=11\ttransmitters(visible+invisible)=12\n",
      "\n",
      "\n",
      "radiuses 4 5\n",
      "resp.sum 0\n",
      "resp.sum 0\n",
      "\tdecrement_timers()\t\t0.00 sec.\n",
      "\twalk_iter()\t\t\t6.11 sec.\n",
      "\tmake_disease_matrices()\t\t0.00 sec.\n"
     ]
    },
    {
     "name": "stderr",
     "output_type": "stream",
     "text": [
      "\r",
      "  7%|▋         | 42/600 [05:20<1:10:39,  7.60s/it]"
     ]
    },
    {
     "name": "stdout",
     "output_type": "stream",
     "text": [
      "\tspread_disease()\t\t1.41 sec.\n",
      "\tscreen_for_disease()\t\t0.00 sec.\n",
      "\ttrack_stats()\t\t\t0.00 sec.\n",
      "[epoch=42]\tinfected=13\ttransmitters(visible+invisible)=12\n",
      "\n",
      "\n",
      "radiuses 4 5\n",
      "resp.sum 0\n",
      "resp.sum 0\n",
      "\tdecrement_timers()\t\t0.00 sec.\n",
      "\twalk_iter()\t\t\t6.18 sec.\n",
      "\tmake_disease_matrices()\t\t0.00 sec.\n"
     ]
    },
    {
     "name": "stderr",
     "output_type": "stream",
     "text": [
      "\r",
      "  7%|▋         | 43/600 [05:28<1:10:33,  7.60s/it]"
     ]
    },
    {
     "name": "stdout",
     "output_type": "stream",
     "text": [
      "\tspread_disease()\t\t1.42 sec.\n",
      "\tscreen_for_disease()\t\t0.00 sec.\n",
      "\ttrack_stats()\t\t\t0.00 sec.\n",
      "[epoch=43]\tinfected=12\ttransmitters(visible+invisible)=11\n",
      "\n",
      "\n",
      "radiuses 4 5\n",
      "resp.sum 0\n",
      "resp.sum 0\n",
      "\tdecrement_timers()\t\t0.00 sec.\n",
      "\twalk_iter()\t\t\t6.18 sec.\n",
      "\tmake_disease_matrices()\t\t0.00 sec.\n"
     ]
    },
    {
     "name": "stderr",
     "output_type": "stream",
     "text": [
      "\r",
      "  7%|▋         | 44/600 [05:35<1:10:30,  7.61s/it]"
     ]
    },
    {
     "name": "stdout",
     "output_type": "stream",
     "text": [
      "\tspread_disease()\t\t1.43 sec.\n",
      "\tscreen_for_disease()\t\t0.00 sec.\n",
      "\ttrack_stats()\t\t\t0.00 sec.\n",
      "[epoch=44]\tinfected=12\ttransmitters(visible+invisible)=11\n",
      "\n",
      "\n",
      "radiuses 4 5\n",
      "resp.sum 0\n",
      "resp.sum 0\n",
      "\tdecrement_timers()\t\t0.00 sec.\n",
      "\twalk_iter()\t\t\t6.14 sec.\n",
      "\tmake_disease_matrices()\t\t0.00 sec.\n"
     ]
    },
    {
     "name": "stderr",
     "output_type": "stream",
     "text": [
      "\r",
      "  8%|▊         | 45/600 [05:43<1:10:18,  7.60s/it]"
     ]
    },
    {
     "name": "stdout",
     "output_type": "stream",
     "text": [
      "\tspread_disease()\t\t1.42 sec.\n",
      "\tscreen_for_disease()\t\t0.00 sec.\n",
      "\ttrack_stats()\t\t\t0.00 sec.\n",
      "[epoch=45]\tinfected=10\ttransmitters(visible+invisible)=15\n",
      "\n",
      "\n",
      "radiuses 4 5\n",
      "resp.sum 0\n",
      "resp.sum 0\n",
      "\tdecrement_timers()\t\t0.00 sec.\n",
      "\twalk_iter()\t\t\t6.20 sec.\n",
      "\tmake_disease_matrices()\t\t0.00 sec.\n"
     ]
    },
    {
     "name": "stderr",
     "output_type": "stream",
     "text": [
      "\r",
      "  8%|▊         | 46/600 [05:51<1:10:42,  7.66s/it]"
     ]
    },
    {
     "name": "stdout",
     "output_type": "stream",
     "text": [
      "\tspread_disease()\t\t1.57 sec.\n",
      "\tscreen_for_disease()\t\t0.00 sec.\n",
      "\ttrack_stats()\t\t\t0.00 sec.\n",
      "[epoch=46]\tinfected=12\ttransmitters(visible+invisible)=15\n",
      "\n",
      "\n",
      "radiuses 4 5\n",
      "resp.sum 0\n",
      "resp.sum 0\n",
      "\tdecrement_timers()\t\t0.00 sec.\n",
      "\twalk_iter()\t\t\t6.09 sec.\n",
      "\tmake_disease_matrices()\t\t0.00 sec.\n"
     ]
    },
    {
     "name": "stderr",
     "output_type": "stream",
     "text": [
      "\r",
      "  8%|▊         | 47/600 [05:58<1:10:11,  7.62s/it]"
     ]
    },
    {
     "name": "stdout",
     "output_type": "stream",
     "text": [
      "\tspread_disease()\t\t1.41 sec.\n",
      "\tscreen_for_disease()\t\t0.00 sec.\n",
      "\ttrack_stats()\t\t\t0.00 sec.\n",
      "[epoch=47]\tinfected=13\ttransmitters(visible+invisible)=15\n",
      "\n",
      "\n",
      "radiuses 4 5\n",
      "resp.sum 0\n",
      "resp.sum 0\n",
      "\tdecrement_timers()\t\t0.00 sec.\n",
      "\twalk_iter()\t\t\t6.13 sec.\n",
      "\tmake_disease_matrices()\t\t0.00 sec.\n"
     ]
    },
    {
     "name": "stderr",
     "output_type": "stream",
     "text": [
      "\r",
      "  8%|▊         | 48/600 [06:06<1:09:54,  7.60s/it]"
     ]
    },
    {
     "name": "stdout",
     "output_type": "stream",
     "text": [
      "\tspread_disease()\t\t1.41 sec.\n",
      "\tscreen_for_disease()\t\t0.00 sec.\n",
      "\ttrack_stats()\t\t\t0.00 sec.\n",
      "[epoch=48]\tinfected=15\ttransmitters(visible+invisible)=16\n",
      "\n",
      "\n",
      "radiuses 4 5\n",
      "resp.sum 0\n",
      "resp.sum 0\n",
      "\tdecrement_timers()\t\t0.00 sec.\n",
      "\twalk_iter()\t\t\t6.18 sec.\n",
      "\tmake_disease_matrices()\t\t0.00 sec.\n"
     ]
    },
    {
     "name": "stderr",
     "output_type": "stream",
     "text": [
      "\r",
      "  8%|▊         | 49/600 [06:13<1:09:51,  7.61s/it]"
     ]
    },
    {
     "name": "stdout",
     "output_type": "stream",
     "text": [
      "\tspread_disease()\t\t1.43 sec.\n",
      "\tscreen_for_disease()\t\t0.00 sec.\n",
      "\ttrack_stats()\t\t\t0.00 sec.\n",
      "[epoch=49]\tinfected=15\ttransmitters(visible+invisible)=17\n",
      "\n",
      "\n",
      "radiuses 4 5\n",
      "resp.sum 0\n",
      "resp.sum 0\n",
      "\tdecrement_timers()\t\t0.00 sec.\n",
      "\twalk_iter()\t\t\t6.14 sec.\n",
      "\tmake_disease_matrices()\t\t0.00 sec.\n"
     ]
    },
    {
     "name": "stderr",
     "output_type": "stream",
     "text": [
      "\r",
      "  8%|▊         | 50/600 [06:21<1:09:47,  7.61s/it]"
     ]
    },
    {
     "name": "stdout",
     "output_type": "stream",
     "text": [
      "\tspread_disease()\t\t1.47 sec.\n",
      "\tscreen_for_disease()\t\t0.00 sec.\n",
      "\ttrack_stats()\t\t\t0.00 sec.\n",
      "[epoch=50]\tinfected=14\ttransmitters(visible+invisible)=18\n",
      "\n",
      "\n",
      "radiuses 4 5\n",
      "resp.sum 0\n",
      "resp.sum 0\n",
      "\tdecrement_timers()\t\t0.00 sec.\n",
      "\twalk_iter()\t\t\t6.12 sec.\n",
      "\tmake_disease_matrices()\t\t0.00 sec.\n"
     ]
    },
    {
     "name": "stderr",
     "output_type": "stream",
     "text": [
      "\r",
      "  8%|▊         | 51/600 [06:29<1:09:30,  7.60s/it]"
     ]
    },
    {
     "name": "stdout",
     "output_type": "stream",
     "text": [
      "\tspread_disease()\t\t1.42 sec.\n",
      "\tscreen_for_disease()\t\t0.00 sec.\n",
      "\ttrack_stats()\t\t\t0.00 sec.\n",
      "[epoch=51]\tinfected=15\ttransmitters(visible+invisible)=18\n",
      "\n",
      "\n",
      "radiuses 4 5\n",
      "resp.sum 0\n",
      "resp.sum 0\n",
      "\tdecrement_timers()\t\t0.00 sec.\n",
      "\twalk_iter()\t\t\t6.19 sec.\n",
      "\tmake_disease_matrices()\t\t0.00 sec.\n"
     ]
    },
    {
     "name": "stderr",
     "output_type": "stream",
     "text": [
      "\r",
      "  9%|▊         | 52/600 [06:36<1:09:41,  7.63s/it]"
     ]
    },
    {
     "name": "stdout",
     "output_type": "stream",
     "text": [
      "\tspread_disease()\t\t1.50 sec.\n",
      "\tscreen_for_disease()\t\t0.01 sec.\n",
      "\ttrack_stats()\t\t\t0.00 sec.\n",
      "[epoch=52]\tinfected=16\ttransmitters(visible+invisible)=18\n",
      "\n",
      "\n",
      "radiuses 4 5\n",
      "resp.sum 0\n",
      "resp.sum 0\n",
      "\tdecrement_timers()\t\t0.01 sec.\n",
      "\twalk_iter()\t\t\t6.38 sec.\n",
      "\tmake_disease_matrices()\t\t0.00 sec.\n"
     ]
    },
    {
     "name": "stderr",
     "output_type": "stream",
     "text": [
      "\r",
      "  9%|▉         | 53/600 [06:44<1:10:07,  7.69s/it]"
     ]
    },
    {
     "name": "stdout",
     "output_type": "stream",
     "text": [
      "\tspread_disease()\t\t1.43 sec.\n",
      "\tscreen_for_disease()\t\t0.00 sec.\n",
      "\ttrack_stats()\t\t\t0.00 sec.\n",
      "[epoch=53]\tinfected=19\ttransmitters(visible+invisible)=19\n",
      "\n",
      "\n",
      "radiuses 4 5\n",
      "resp.sum 0\n",
      "resp.sum 0\n",
      "\tdecrement_timers()\t\t0.01 sec.\n",
      "\twalk_iter()\t\t\t6.18 sec.\n",
      "\tmake_disease_matrices()\t\t0.00 sec.\n"
     ]
    },
    {
     "name": "stderr",
     "output_type": "stream",
     "text": [
      "\r",
      "  9%|▉         | 54/600 [06:52<1:10:01,  7.69s/it]"
     ]
    },
    {
     "name": "stdout",
     "output_type": "stream",
     "text": [
      "\tspread_disease()\t\t1.50 sec.\n",
      "\tscreen_for_disease()\t\t0.01 sec.\n",
      "\ttrack_stats()\t\t\t0.00 sec.\n",
      "[epoch=54]\tinfected=21\ttransmitters(visible+invisible)=19\n",
      "\n",
      "\n",
      "radiuses 4 5\n",
      "resp.sum 0\n",
      "resp.sum 0\n",
      "\tdecrement_timers()\t\t0.01 sec.\n",
      "\twalk_iter()\t\t\t6.10 sec.\n",
      "\tmake_disease_matrices()\t\t0.00 sec.\n"
     ]
    },
    {
     "name": "stderr",
     "output_type": "stream",
     "text": [
      "\r",
      "  9%|▉         | 55/600 [06:59<1:09:44,  7.68s/it]"
     ]
    },
    {
     "name": "stdout",
     "output_type": "stream",
     "text": [
      "\tspread_disease()\t\t1.52 sec.\n",
      "\tscreen_for_disease()\t\t0.00 sec.\n",
      "\ttrack_stats()\t\t\t0.00 sec.\n",
      "[epoch=55]\tinfected=23\ttransmitters(visible+invisible)=19\n",
      "\n",
      "\n",
      "radiuses 4 5\n",
      "resp.sum 0\n",
      "resp.sum 0\n",
      "\tdecrement_timers()\t\t0.01 sec.\n",
      "\twalk_iter()\t\t\t6.12 sec.\n",
      "\tmake_disease_matrices()\t\t0.01 sec.\n"
     ]
    },
    {
     "name": "stderr",
     "output_type": "stream",
     "text": [
      "\r",
      "  9%|▉         | 56/600 [07:07<1:09:20,  7.65s/it]"
     ]
    },
    {
     "name": "stdout",
     "output_type": "stream",
     "text": [
      "\tspread_disease()\t\t1.44 sec.\n",
      "\tscreen_for_disease()\t\t0.00 sec.\n",
      "\ttrack_stats()\t\t\t0.00 sec.\n",
      "[epoch=56]\tinfected=26\ttransmitters(visible+invisible)=19\n",
      "\n",
      "\n",
      "radiuses 4 5\n",
      "resp.sum 0\n",
      "resp.sum 0\n",
      "\tdecrement_timers()\t\t0.00 sec.\n",
      "\twalk_iter()\t\t\t6.12 sec.\n",
      "\tmake_disease_matrices()\t\t0.00 sec.\n"
     ]
    },
    {
     "name": "stderr",
     "output_type": "stream",
     "text": [
      "\r",
      " 10%|▉         | 57/600 [07:15<1:08:55,  7.62s/it]"
     ]
    },
    {
     "name": "stdout",
     "output_type": "stream",
     "text": [
      "\tspread_disease()\t\t1.41 sec.\n",
      "\tscreen_for_disease()\t\t0.00 sec.\n",
      "\ttrack_stats()\t\t\t0.00 sec.\n",
      "[epoch=57]\tinfected=26\ttransmitters(visible+invisible)=19\n",
      "\n",
      "\n",
      "radiuses 4 5\n",
      "resp.sum 0\n",
      "resp.sum 0\n",
      "\tdecrement_timers()\t\t0.01 sec.\n",
      "\twalk_iter()\t\t\t6.15 sec.\n",
      "\tmake_disease_matrices()\t\t0.00 sec.\n"
     ]
    },
    {
     "name": "stderr",
     "output_type": "stream",
     "text": [
      "\r",
      " 10%|▉         | 58/600 [07:22<1:08:52,  7.62s/it]"
     ]
    },
    {
     "name": "stdout",
     "output_type": "stream",
     "text": [
      "\tspread_disease()\t\t1.47 sec.\n",
      "\tscreen_for_disease()\t\t0.00 sec.\n",
      "\ttrack_stats()\t\t\t0.00 sec.\n",
      "[epoch=58]\tinfected=28\ttransmitters(visible+invisible)=19\n",
      "\n",
      "\n",
      "radiuses 4 5\n",
      "resp.sum 0\n",
      "resp.sum 0\n",
      "\tdecrement_timers()\t\t0.00 sec.\n",
      "\twalk_iter()\t\t\t6.04 sec.\n",
      "\tmake_disease_matrices()\t\t0.00 sec.\n"
     ]
    },
    {
     "name": "stderr",
     "output_type": "stream",
     "text": [
      "\r",
      " 10%|▉         | 59/600 [07:30<1:08:19,  7.58s/it]"
     ]
    },
    {
     "name": "stdout",
     "output_type": "stream",
     "text": [
      "\tspread_disease()\t\t1.41 sec.\n",
      "\tscreen_for_disease()\t\t0.00 sec.\n",
      "\ttrack_stats()\t\t\t0.00 sec.\n",
      "[epoch=59]\tinfected=31\ttransmitters(visible+invisible)=19\n",
      "\n",
      "\n",
      "radiuses 4 5\n",
      "resp.sum 0\n",
      "resp.sum 0\n",
      "\tdecrement_timers()\t\t0.00 sec.\n",
      "\twalk_iter()\t\t\t6.12 sec.\n",
      "\tmake_disease_matrices()\t\t0.00 sec.\n"
     ]
    },
    {
     "name": "stderr",
     "output_type": "stream",
     "text": [
      "\r",
      " 10%|█         | 60/600 [07:37<1:08:12,  7.58s/it]"
     ]
    },
    {
     "name": "stdout",
     "output_type": "stream",
     "text": [
      "\tspread_disease()\t\t1.44 sec.\n",
      "\tscreen_for_disease()\t\t0.00 sec.\n",
      "\ttrack_stats()\t\t\t0.00 sec.\n",
      "[epoch=60]\tinfected=31\ttransmitters(visible+invisible)=19\n",
      "\n",
      "\n",
      "radiuses 1 1\n",
      "resp.sum 17459\n",
      "resp.sum 50712\n",
      "\tdecrement_timers()\t\t0.00 sec.\n",
      "\twalk_iter()\t\t\t39.14 sec.\n",
      "\tmake_disease_matrices()\t\t0.00 sec.\n"
     ]
    },
    {
     "name": "stderr",
     "output_type": "stream",
     "text": [
      "\r",
      " 10%|█         | 61/600 [08:18<2:37:20, 17.52s/it]"
     ]
    },
    {
     "name": "stdout",
     "output_type": "stream",
     "text": [
      "\tspread_disease()\t\t1.53 sec.\n",
      "\tscreen_for_disease()\t\t0.00 sec.\n",
      "\ttrack_stats()\t\t\t0.00 sec.\n",
      "[epoch=61]\tinfected=31\ttransmitters(visible+invisible)=18\n",
      "\n",
      "\n",
      "radiuses 1 1\n",
      "resp.sum 15676\n",
      "resp.sum 50712\n",
      "\tdecrement_timers()\t\t0.00 sec.\n",
      "\twalk_iter()\t\t\t1.74 sec.\n",
      "\tmake_disease_matrices()\t\t0.00 sec.\n"
     ]
    },
    {
     "name": "stderr",
     "output_type": "stream",
     "text": [
      "\r",
      " 10%|█         | 62/600 [08:21<1:58:48, 13.25s/it]"
     ]
    },
    {
     "name": "stdout",
     "output_type": "stream",
     "text": [
      "\tspread_disease()\t\t1.54 sec.\n",
      "\tscreen_for_disease()\t\t0.01 sec.\n",
      "\ttrack_stats()\t\t\t0.00 sec.\n",
      "[epoch=62]\tinfected=28\ttransmitters(visible+invisible)=21\n",
      "\n",
      "\n",
      "radiuses 1 1\n",
      "resp.sum 15676\n",
      "resp.sum 50712\n",
      "\tdecrement_timers()\t\t0.01 sec.\n",
      "\twalk_iter()\t\t\t2.18 sec.\n",
      "\tmake_disease_matrices()\t\t0.00 sec.\n"
     ]
    },
    {
     "name": "stderr",
     "output_type": "stream",
     "text": [
      "\r",
      " 10%|█         | 63/600 [08:25<1:33:01, 10.39s/it]"
     ]
    },
    {
     "name": "stdout",
     "output_type": "stream",
     "text": [
      "\tspread_disease()\t\t1.53 sec.\n",
      "\tscreen_for_disease()\t\t0.00 sec.\n",
      "\ttrack_stats()\t\t\t0.00 sec.\n",
      "[epoch=63]\tinfected=30\ttransmitters(visible+invisible)=22\n",
      "\n",
      "\n",
      "radiuses 1 1\n",
      "resp.sum 15676\n",
      "resp.sum 50712\n",
      "\tdecrement_timers()\t\t0.01 sec.\n",
      "\twalk_iter()\t\t\t2.05 sec.\n",
      "\tmake_disease_matrices()\t\t0.00 sec.\n"
     ]
    },
    {
     "name": "stderr",
     "output_type": "stream",
     "text": [
      "\r",
      " 11%|█         | 64/600 [08:29<1:14:32,  8.34s/it]"
     ]
    },
    {
     "name": "stdout",
     "output_type": "stream",
     "text": [
      "\tspread_disease()\t\t1.49 sec.\n",
      "\tscreen_for_disease()\t\t0.00 sec.\n",
      "\ttrack_stats()\t\t\t0.00 sec.\n",
      "[epoch=64]\tinfected=30\ttransmitters(visible+invisible)=23\n",
      "\n",
      "\n",
      "radiuses 1 1\n",
      "resp.sum 15676\n",
      "resp.sum 50712\n",
      "\tdecrement_timers()\t\t0.00 sec.\n",
      "\twalk_iter()\t\t\t2.17 sec.\n",
      "\tmake_disease_matrices()\t\t0.00 sec.\n"
     ]
    },
    {
     "name": "stderr",
     "output_type": "stream",
     "text": [
      "\r",
      " 11%|█         | 65/600 [08:32<1:01:59,  6.95s/it]"
     ]
    },
    {
     "name": "stdout",
     "output_type": "stream",
     "text": [
      "\tspread_disease()\t\t1.52 sec.\n",
      "\tscreen_for_disease()\t\t0.00 sec.\n",
      "\ttrack_stats()\t\t\t0.00 sec.\n",
      "[epoch=65]\tinfected=30\ttransmitters(visible+invisible)=22\n",
      "\n",
      "\n",
      "radiuses 1 1\n",
      "resp.sum 13629\n",
      "resp.sum 50712\n",
      "\tdecrement_timers()\t\t0.00 sec.\n",
      "\twalk_iter()\t\t\t2.15 sec.\n",
      "\tmake_disease_matrices()\t\t0.00 sec.\n"
     ]
    },
    {
     "name": "stderr",
     "output_type": "stream",
     "text": [
      "\r",
      " 11%|█         | 66/600 [08:36<53:05,  5.97s/it]  "
     ]
    },
    {
     "name": "stdout",
     "output_type": "stream",
     "text": [
      "\tspread_disease()\t\t1.49 sec.\n",
      "\tscreen_for_disease()\t\t0.00 sec.\n",
      "\ttrack_stats()\t\t\t0.00 sec.\n",
      "[epoch=66]\tinfected=30\ttransmitters(visible+invisible)=23\n",
      "\n",
      "\n",
      "radiuses 1 1\n",
      "resp.sum 13629\n",
      "resp.sum 50712\n",
      "\tdecrement_timers()\t\t0.00 sec.\n",
      "\twalk_iter()\t\t\t2.12 sec.\n",
      "\tmake_disease_matrices()\t\t0.00 sec.\n"
     ]
    },
    {
     "name": "stderr",
     "output_type": "stream",
     "text": [
      "\r",
      " 11%|█         | 67/600 [08:39<46:35,  5.25s/it]"
     ]
    },
    {
     "name": "stdout",
     "output_type": "stream",
     "text": [
      "\tspread_disease()\t\t1.43 sec.\n",
      "\tscreen_for_disease()\t\t0.00 sec.\n",
      "\ttrack_stats()\t\t\t0.00 sec.\n",
      "[epoch=67]\tinfected=32\ttransmitters(visible+invisible)=21\n",
      "\n",
      "\n",
      "radiuses 1 1\n",
      "resp.sum 7930\n",
      "resp.sum 50712\n",
      "\tdecrement_timers()\t\t0.00 sec.\n",
      "\twalk_iter()\t\t\t2.24 sec.\n",
      "\tmake_disease_matrices()\t\t0.00 sec.\n"
     ]
    },
    {
     "name": "stderr",
     "output_type": "stream",
     "text": [
      "\r",
      " 11%|█▏        | 68/600 [08:43<42:57,  4.84s/it]"
     ]
    },
    {
     "name": "stdout",
     "output_type": "stream",
     "text": [
      "\tspread_disease()\t\t1.64 sec.\n",
      "\tscreen_for_disease()\t\t0.00 sec.\n",
      "\ttrack_stats()\t\t\t0.00 sec.\n",
      "[epoch=68]\tinfected=27\ttransmitters(visible+invisible)=26\n",
      "\n",
      "\n",
      "radiuses 1 1\n",
      "resp.sum 11171\n",
      "resp.sum 50712\n",
      "\tdecrement_timers()\t\t0.01 sec.\n",
      "\twalk_iter()\t\t\t2.07 sec.\n",
      "\tmake_disease_matrices()\t\t0.00 sec.\n"
     ]
    },
    {
     "name": "stderr",
     "output_type": "stream",
     "text": [
      "\r",
      " 12%|█▏        | 69/600 [08:47<39:25,  4.45s/it]"
     ]
    },
    {
     "name": "stdout",
     "output_type": "stream",
     "text": [
      "\tspread_disease()\t\t1.45 sec.\n",
      "\tscreen_for_disease()\t\t0.00 sec.\n",
      "\ttrack_stats()\t\t\t0.00 sec.\n",
      "[epoch=69]\tinfected=29\ttransmitters(visible+invisible)=27\n",
      "\n",
      "\n",
      "radiuses 1 1\n",
      "resp.sum 11171\n",
      "resp.sum 50712\n",
      "\tdecrement_timers()\t\t0.00 sec.\n",
      "\twalk_iter()\t\t\t2.17 sec.\n",
      "\tmake_disease_matrices()\t\t0.00 sec.\n"
     ]
    },
    {
     "name": "stderr",
     "output_type": "stream",
     "text": [
      "\r",
      " 12%|█▏        | 70/600 [08:51<37:21,  4.23s/it]"
     ]
    },
    {
     "name": "stdout",
     "output_type": "stream",
     "text": [
      "\tspread_disease()\t\t1.51 sec.\n",
      "\tscreen_for_disease()\t\t0.00 sec.\n",
      "\ttrack_stats()\t\t\t0.00 sec.\n",
      "[epoch=70]\tinfected=29\ttransmitters(visible+invisible)=29\n",
      "\n",
      "\n",
      "radiuses 1 1\n",
      "resp.sum 17459\n",
      "resp.sum 50712\n",
      "\tdecrement_timers()\t\t0.01 sec.\n",
      "\twalk_iter()\t\t\t2.09 sec.\n",
      "\tmake_disease_matrices()\t\t0.00 sec.\n"
     ]
    },
    {
     "name": "stderr",
     "output_type": "stream",
     "text": [
      "\r",
      " 12%|█▏        | 71/600 [08:54<35:29,  4.03s/it]"
     ]
    },
    {
     "name": "stdout",
     "output_type": "stream",
     "text": [
      "\tspread_disease()\t\t1.43 sec.\n",
      "\tscreen_for_disease()\t\t0.00 sec.\n",
      "\ttrack_stats()\t\t\t0.00 sec.\n",
      "[epoch=71]\tinfected=29\ttransmitters(visible+invisible)=29\n",
      "\n",
      "\n",
      "radiuses 1 1\n",
      "resp.sum 19052\n",
      "resp.sum 50712\n",
      "\tdecrement_timers()\t\t0.00 sec.\n",
      "\twalk_iter()\t\t\t2.11 sec.\n",
      "\tmake_disease_matrices()\t\t0.00 sec.\n"
     ]
    },
    {
     "name": "stderr",
     "output_type": "stream",
     "text": [
      "\r",
      " 12%|█▏        | 72/600 [08:58<34:23,  3.91s/it]"
     ]
    },
    {
     "name": "stdout",
     "output_type": "stream",
     "text": [
      "\tspread_disease()\t\t1.50 sec.\n",
      "\tscreen_for_disease()\t\t0.00 sec.\n",
      "\ttrack_stats()\t\t\t0.00 sec.\n",
      "[epoch=72]\tinfected=29\ttransmitters(visible+invisible)=31\n",
      "\n",
      "\n",
      "radiuses 1 1\n",
      "resp.sum 20499\n",
      "resp.sum 50712\n",
      "\tdecrement_timers()\t\t0.01 sec.\n",
      "\twalk_iter()\t\t\t2.12 sec.\n",
      "\tmake_disease_matrices()\t\t0.00 sec.\n"
     ]
    },
    {
     "name": "stderr",
     "output_type": "stream",
     "text": [
      "\r",
      " 12%|█▏        | 73/600 [09:01<33:36,  3.83s/it]"
     ]
    },
    {
     "name": "stdout",
     "output_type": "stream",
     "text": [
      "\tspread_disease()\t\t1.49 sec.\n",
      "\tscreen_for_disease()\t\t0.00 sec.\n",
      "\ttrack_stats()\t\t\t0.00 sec.\n",
      "[epoch=73]\tinfected=30\ttransmitters(visible+invisible)=32\n",
      "\n",
      "\n",
      "radiuses 1 1\n",
      "resp.sum 20499\n",
      "resp.sum 50712\n",
      "\tdecrement_timers()\t\t0.00 sec.\n",
      "\twalk_iter()\t\t\t2.20 sec.\n",
      "\tmake_disease_matrices()\t\t0.00 sec.\n"
     ]
    },
    {
     "name": "stderr",
     "output_type": "stream",
     "text": [
      "\r",
      " 12%|█▏        | 74/600 [09:05<32:56,  3.76s/it]"
     ]
    },
    {
     "name": "stdout",
     "output_type": "stream",
     "text": [
      "\tspread_disease()\t\t1.38 sec.\n",
      "\tscreen_for_disease()\t\t0.00 sec.\n",
      "\ttrack_stats()\t\t\t0.00 sec.\n",
      "[epoch=74]\tinfected=27\ttransmitters(visible+invisible)=35\n",
      "\n",
      "\n",
      "radiuses 1 1\n",
      "resp.sum 21830\n",
      "resp.sum 50712\n",
      "\tdecrement_timers()\t\t0.00 sec.\n",
      "\twalk_iter()\t\t\t2.19 sec.\n",
      "\tmake_disease_matrices()\t\t0.00 sec.\n"
     ]
    },
    {
     "name": "stderr",
     "output_type": "stream",
     "text": [
      "\r",
      " 12%|█▎        | 75/600 [09:09<32:32,  3.72s/it]"
     ]
    },
    {
     "name": "stdout",
     "output_type": "stream",
     "text": [
      "\tspread_disease()\t\t1.42 sec.\n",
      "\tscreen_for_disease()\t\t0.00 sec.\n",
      "\ttrack_stats()\t\t\t0.00 sec.\n",
      "[epoch=75]\tinfected=24\ttransmitters(visible+invisible)=39\n",
      "\n",
      "\n",
      "radiuses 1 1\n",
      "resp.sum 23066\n",
      "resp.sum 50712\n",
      "\tdecrement_timers()\t\t0.00 sec.\n",
      "\twalk_iter()\t\t\t2.15 sec.\n",
      "\tmake_disease_matrices()\t\t0.00 sec.\n"
     ]
    },
    {
     "name": "stderr",
     "output_type": "stream",
     "text": [
      "\r",
      " 13%|█▎        | 76/600 [09:12<32:09,  3.68s/it]"
     ]
    },
    {
     "name": "stdout",
     "output_type": "stream",
     "text": [
      "\tspread_disease()\t\t1.42 sec.\n",
      "\tscreen_for_disease()\t\t0.00 sec.\n",
      "\ttrack_stats()\t\t\t0.00 sec.\n",
      "[epoch=76]\tinfected=24\ttransmitters(visible+invisible)=38\n",
      "\n",
      "\n",
      "radiuses 1 1\n",
      "resp.sum 24220\n",
      "resp.sum 50712\n",
      "\tdecrement_timers()\t\t0.00 sec.\n",
      "\twalk_iter()\t\t\t2.22 sec.\n",
      "\tmake_disease_matrices()\t\t0.00 sec.\n"
     ]
    },
    {
     "name": "stderr",
     "output_type": "stream",
     "text": [
      "\r",
      " 13%|█▎        | 77/600 [09:16<32:12,  3.69s/it]"
     ]
    },
    {
     "name": "stdout",
     "output_type": "stream",
     "text": [
      "\tspread_disease()\t\t1.48 sec.\n",
      "\tscreen_for_disease()\t\t0.00 sec.\n",
      "\ttrack_stats()\t\t\t0.00 sec.\n",
      "[epoch=77]\tinfected=24\ttransmitters(visible+invisible)=39\n",
      "\n",
      "\n",
      "radiuses 1 1\n",
      "resp.sum 25306\n",
      "resp.sum 50712\n",
      "\tdecrement_timers()\t\t0.00 sec.\n",
      "\twalk_iter()\t\t\t2.18 sec.\n",
      "\tmake_disease_matrices()\t\t0.00 sec.\n"
     ]
    },
    {
     "name": "stderr",
     "output_type": "stream",
     "text": [
      "\r",
      " 13%|█▎        | 78/600 [09:20<32:01,  3.68s/it]"
     ]
    },
    {
     "name": "stdout",
     "output_type": "stream",
     "text": [
      "\tspread_disease()\t\t1.45 sec.\n",
      "\tscreen_for_disease()\t\t0.00 sec.\n",
      "\ttrack_stats()\t\t\t0.00 sec.\n",
      "[epoch=78]\tinfected=24\ttransmitters(visible+invisible)=40\n",
      "\n",
      "\n",
      "radiuses 1 1\n",
      "resp.sum 25306\n",
      "resp.sum 50712\n",
      "\tdecrement_timers()\t\t0.00 sec.\n",
      "\twalk_iter()\t\t\t2.11 sec.\n",
      "\tmake_disease_matrices()\t\t0.00 sec.\n"
     ]
    },
    {
     "name": "stderr",
     "output_type": "stream",
     "text": [
      "\r",
      " 13%|█▎        | 79/600 [09:23<31:49,  3.67s/it]"
     ]
    },
    {
     "name": "stdout",
     "output_type": "stream",
     "text": [
      "\tspread_disease()\t\t1.49 sec.\n",
      "\tscreen_for_disease()\t\t0.00 sec.\n",
      "\ttrack_stats()\t\t\t0.00 sec.\n",
      "[epoch=79]\tinfected=25\ttransmitters(visible+invisible)=40\n",
      "\n",
      "\n",
      "radiuses 1 1\n",
      "resp.sum 25306\n",
      "resp.sum 50712\n",
      "\tdecrement_timers()\t\t0.01 sec.\n",
      "\twalk_iter()\t\t\t2.13 sec.\n",
      "\tmake_disease_matrices()\t\t0.00 sec.\n"
     ]
    },
    {
     "name": "stderr",
     "output_type": "stream",
     "text": [
      "\r",
      " 13%|█▎        | 80/600 [09:27<31:28,  3.63s/it]"
     ]
    },
    {
     "name": "stdout",
     "output_type": "stream",
     "text": [
      "\tspread_disease()\t\t1.40 sec.\n",
      "\tscreen_for_disease()\t\t0.00 sec.\n",
      "\ttrack_stats()\t\t\t0.00 sec.\n",
      "[epoch=80]\tinfected=25\ttransmitters(visible+invisible)=40\n",
      "\n",
      "\n",
      "radiuses 1 1\n",
      "resp.sum 25306\n",
      "resp.sum 50712\n",
      "\tdecrement_timers()\t\t0.00 sec.\n",
      "\twalk_iter()\t\t\t2.10 sec.\n",
      "\tmake_disease_matrices()\t\t0.01 sec.\n"
     ]
    },
    {
     "name": "stderr",
     "output_type": "stream",
     "text": [
      "\r",
      " 14%|█▎        | 81/600 [09:30<31:16,  3.62s/it]"
     ]
    },
    {
     "name": "stdout",
     "output_type": "stream",
     "text": [
      "\tspread_disease()\t\t1.46 sec.\n",
      "\tscreen_for_disease()\t\t0.00 sec.\n",
      "\ttrack_stats()\t\t\t0.00 sec.\n",
      "[epoch=81]\tinfected=25\ttransmitters(visible+invisible)=42\n",
      "\n",
      "\n",
      "radiuses 1 1\n",
      "resp.sum 25306\n",
      "resp.sum 50712\n",
      "\tdecrement_timers()\t\t0.00 sec.\n",
      "\twalk_iter()\t\t\t2.15 sec.\n",
      "\tmake_disease_matrices()\t\t0.00 sec.\n"
     ]
    },
    {
     "name": "stderr",
     "output_type": "stream",
     "text": [
      "\r",
      " 14%|█▎        | 82/600 [09:34<31:13,  3.62s/it]"
     ]
    },
    {
     "name": "stdout",
     "output_type": "stream",
     "text": [
      "\tspread_disease()\t\t1.45 sec.\n",
      "\tscreen_for_disease()\t\t0.00 sec.\n",
      "\ttrack_stats()\t\t\t0.00 sec.\n",
      "[epoch=82]\tinfected=27\ttransmitters(visible+invisible)=41\n",
      "\n",
      "\n",
      "radiuses 1 1\n",
      "resp.sum 24220\n",
      "resp.sum 50712\n",
      "\tdecrement_timers()\t\t0.01 sec.\n",
      "\twalk_iter()\t\t\t2.07 sec.\n",
      "\tmake_disease_matrices()\t\t0.00 sec.\n"
     ]
    },
    {
     "name": "stderr",
     "output_type": "stream",
     "text": [
      "\r",
      " 14%|█▍        | 83/600 [09:38<30:52,  3.58s/it]"
     ]
    },
    {
     "name": "stdout",
     "output_type": "stream",
     "text": [
      "\tspread_disease()\t\t1.41 sec.\n",
      "\tscreen_for_disease()\t\t0.00 sec.\n",
      "\ttrack_stats()\t\t\t0.00 sec.\n",
      "[epoch=83]\tinfected=25\ttransmitters(visible+invisible)=44\n",
      "\n",
      "\n",
      "radiuses 1 1\n",
      "resp.sum 23066\n",
      "resp.sum 50712\n",
      "\tdecrement_timers()\t\t0.00 sec.\n",
      "\twalk_iter()\t\t\t2.13 sec.\n",
      "\tmake_disease_matrices()\t\t0.00 sec.\n"
     ]
    },
    {
     "name": "stderr",
     "output_type": "stream",
     "text": [
      "\r",
      " 14%|█▍        | 84/600 [09:41<31:11,  3.63s/it]"
     ]
    },
    {
     "name": "stdout",
     "output_type": "stream",
     "text": [
      "\tspread_disease()\t\t1.57 sec.\n",
      "\tscreen_for_disease()\t\t0.00 sec.\n",
      "\ttrack_stats()\t\t\t0.00 sec.\n",
      "[epoch=84]\tinfected=24\ttransmitters(visible+invisible)=45\n",
      "\n",
      "\n",
      "radiuses 1 1\n",
      "resp.sum 23066\n",
      "resp.sum 50712\n",
      "\tdecrement_timers()\t\t0.01 sec.\n",
      "\twalk_iter()\t\t\t2.06 sec.\n",
      "\tmake_disease_matrices()\t\t0.01 sec.\n"
     ]
    },
    {
     "name": "stderr",
     "output_type": "stream",
     "text": [
      "\r",
      " 14%|█▍        | 85/600 [09:45<31:20,  3.65s/it]"
     ]
    },
    {
     "name": "stdout",
     "output_type": "stream",
     "text": [
      "\tspread_disease()\t\t1.63 sec.\n",
      "\tscreen_for_disease()\t\t0.00 sec.\n",
      "\ttrack_stats()\t\t\t0.00 sec.\n",
      "[epoch=85]\tinfected=24\ttransmitters(visible+invisible)=44\n",
      "\n",
      "\n",
      "radiuses 1 1\n",
      "resp.sum 21830\n",
      "resp.sum 50712\n",
      "\tdecrement_timers()\t\t0.01 sec.\n",
      "\twalk_iter()\t\t\t2.03 sec.\n",
      "\tmake_disease_matrices()\t\t0.00 sec.\n"
     ]
    },
    {
     "name": "stderr",
     "output_type": "stream",
     "text": [
      "\r",
      " 14%|█▍        | 86/600 [09:48<31:01,  3.62s/it]"
     ]
    },
    {
     "name": "stdout",
     "output_type": "stream",
     "text": [
      "\tspread_disease()\t\t1.49 sec.\n",
      "\tscreen_for_disease()\t\t0.01 sec.\n",
      "\ttrack_stats()\t\t\t0.00 sec.\n",
      "[epoch=86]\tinfected=23\ttransmitters(visible+invisible)=46\n",
      "\n",
      "\n",
      "radiuses 1 1\n",
      "resp.sum 24220\n",
      "resp.sum 50712\n",
      "\tdecrement_timers()\t\t0.01 sec.\n",
      "\twalk_iter()\t\t\t2.13 sec.\n",
      "\tmake_disease_matrices()\t\t0.00 sec.\n"
     ]
    },
    {
     "name": "stderr",
     "output_type": "stream",
     "text": [
      "\r",
      " 14%|█▍        | 87/600 [09:52<31:08,  3.64s/it]"
     ]
    },
    {
     "name": "stdout",
     "output_type": "stream",
     "text": [
      "\tspread_disease()\t\t1.53 sec.\n",
      "\tscreen_for_disease()\t\t0.01 sec.\n",
      "\ttrack_stats()\t\t\t0.00 sec.\n",
      "[epoch=87]\tinfected=24\ttransmitters(visible+invisible)=42\n",
      "\n",
      "\n",
      "radiuses 1 1\n",
      "resp.sum 19052\n",
      "resp.sum 50712\n",
      "\tdecrement_timers()\t\t0.01 sec.\n",
      "\twalk_iter()\t\t\t2.15 sec.\n",
      "\tmake_disease_matrices()\t\t0.00 sec.\n"
     ]
    },
    {
     "name": "stderr",
     "output_type": "stream",
     "text": [
      "\r",
      " 15%|█▍        | 88/600 [09:56<31:10,  3.65s/it]"
     ]
    },
    {
     "name": "stdout",
     "output_type": "stream",
     "text": [
      "\tspread_disease()\t\t1.50 sec.\n",
      "\tscreen_for_disease()\t\t0.00 sec.\n",
      "\ttrack_stats()\t\t\t0.00 sec.\n",
      "[epoch=88]\tinfected=25\ttransmitters(visible+invisible)=42\n",
      "\n",
      "\n",
      "radiuses 1 1\n",
      "resp.sum 19052\n",
      "resp.sum 50712\n",
      "\tdecrement_timers()\t\t0.01 sec.\n",
      "\twalk_iter()\t\t\t2.10 sec.\n",
      "\tmake_disease_matrices()\t\t0.00 sec.\n"
     ]
    },
    {
     "name": "stderr",
     "output_type": "stream",
     "text": [
      "\r",
      " 15%|█▍        | 89/600 [09:59<31:01,  3.64s/it]"
     ]
    },
    {
     "name": "stdout",
     "output_type": "stream",
     "text": [
      "\tspread_disease()\t\t1.50 sec.\n",
      "\tscreen_for_disease()\t\t0.00 sec.\n",
      "\ttrack_stats()\t\t\t0.00 sec.\n",
      "[epoch=89]\tinfected=27\ttransmitters(visible+invisible)=42\n",
      "\n",
      "\n",
      "radiuses 1 1\n",
      "resp.sum 19052\n",
      "resp.sum 50712\n",
      "\tdecrement_timers()\t\t0.00 sec.\n",
      "\twalk_iter()\t\t\t2.06 sec.\n",
      "\tmake_disease_matrices()\t\t0.01 sec.\n"
     ]
    },
    {
     "name": "stderr",
     "output_type": "stream",
     "text": [
      "\r",
      " 15%|█▌        | 90/600 [10:03<30:37,  3.60s/it]"
     ]
    },
    {
     "name": "stdout",
     "output_type": "stream",
     "text": [
      "\tspread_disease()\t\t1.43 sec.\n",
      "\tscreen_for_disease()\t\t0.00 sec.\n",
      "\ttrack_stats()\t\t\t0.00 sec.\n",
      "[epoch=90]\tinfected=28\ttransmitters(visible+invisible)=43\n",
      "\n",
      "\n",
      "radiuses 1 1\n",
      "resp.sum 17459\n",
      "resp.sum 50712\n",
      "\tdecrement_timers()\t\t0.00 sec.\n",
      "\twalk_iter()\t\t\t2.15 sec.\n",
      "\tmake_disease_matrices()\t\t0.01 sec.\n"
     ]
    },
    {
     "name": "stderr",
     "output_type": "stream",
     "text": [
      "\r",
      " 15%|█▌        | 91/600 [10:07<30:51,  3.64s/it]"
     ]
    },
    {
     "name": "stdout",
     "output_type": "stream",
     "text": [
      "\tspread_disease()\t\t1.54 sec.\n",
      "\tscreen_for_disease()\t\t0.00 sec.\n",
      "\ttrack_stats()\t\t\t0.00 sec.\n",
      "[epoch=91]\tinfected=28\ttransmitters(visible+invisible)=42\n",
      "\n",
      "\n",
      "radiuses 1 1\n",
      "resp.sum 15676\n",
      "resp.sum 50712\n",
      "\tdecrement_timers()\t\t0.00 sec.\n",
      "\twalk_iter()\t\t\t2.14 sec.\n",
      "\tmake_disease_matrices()\t\t0.00 sec.\n"
     ]
    },
    {
     "name": "stderr",
     "output_type": "stream",
     "text": [
      "\r",
      " 15%|█▌        | 92/600 [10:10<30:39,  3.62s/it]"
     ]
    },
    {
     "name": "stdout",
     "output_type": "stream",
     "text": [
      "\tspread_disease()\t\t1.42 sec.\n",
      "\tscreen_for_disease()\t\t0.00 sec.\n",
      "\ttrack_stats()\t\t\t0.00 sec.\n",
      "[epoch=92]\tinfected=27\ttransmitters(visible+invisible)=44\n",
      "\n",
      "\n",
      "radiuses 1 1\n",
      "resp.sum 13629\n",
      "resp.sum 50712\n",
      "\tdecrement_timers()\t\t0.00 sec.\n",
      "\twalk_iter()\t\t\t2.20 sec.\n",
      "\tmake_disease_matrices()\t\t0.01 sec.\n"
     ]
    },
    {
     "name": "stderr",
     "output_type": "stream",
     "text": [
      "\r",
      " 16%|█▌        | 93/600 [10:14<30:38,  3.63s/it]"
     ]
    },
    {
     "name": "stdout",
     "output_type": "stream",
     "text": [
      "\tspread_disease()\t\t1.42 sec.\n",
      "\tscreen_for_disease()\t\t0.00 sec.\n",
      "\ttrack_stats()\t\t\t0.00 sec.\n",
      "[epoch=93]\tinfected=27\ttransmitters(visible+invisible)=44\n",
      "\n",
      "\n",
      "radiuses 1 1\n",
      "resp.sum 19052\n",
      "resp.sum 50712\n",
      "\tdecrement_timers()\t\t0.00 sec.\n",
      "\twalk_iter()\t\t\t2.21 sec.\n",
      "\tmake_disease_matrices()\t\t0.00 sec.\n"
     ]
    },
    {
     "name": "stderr",
     "output_type": "stream",
     "text": [
      "\r",
      " 16%|█▌        | 94/600 [10:18<30:40,  3.64s/it]"
     ]
    },
    {
     "name": "stdout",
     "output_type": "stream",
     "text": [
      "\tspread_disease()\t\t1.44 sec.\n",
      "\tscreen_for_disease()\t\t0.00 sec.\n",
      "\ttrack_stats()\t\t\t0.00 sec.\n",
      "[epoch=94]\tinfected=26\ttransmitters(visible+invisible)=46\n",
      "\n",
      "\n",
      "radiuses 1 1\n",
      "resp.sum 24220\n",
      "resp.sum 50712\n",
      "\tdecrement_timers()\t\t0.00 sec.\n",
      "\twalk_iter()\t\t\t2.15 sec.\n",
      "\tmake_disease_matrices()\t\t0.00 sec.\n"
     ]
    },
    {
     "name": "stderr",
     "output_type": "stream",
     "text": [
      "\r",
      " 16%|█▌        | 95/600 [10:21<30:27,  3.62s/it]"
     ]
    },
    {
     "name": "stdout",
     "output_type": "stream",
     "text": [
      "\tspread_disease()\t\t1.41 sec.\n",
      "\tscreen_for_disease()\t\t0.00 sec.\n",
      "\ttrack_stats()\t\t\t0.00 sec.\n",
      "[epoch=95]\tinfected=25\ttransmitters(visible+invisible)=49\n",
      "\n",
      "\n",
      "radiuses 1 1\n",
      "resp.sum 24220\n",
      "resp.sum 50712\n",
      "\tdecrement_timers()\t\t0.00 sec.\n",
      "\twalk_iter()\t\t\t2.16 sec.\n",
      "\tmake_disease_matrices()\t\t0.00 sec.\n"
     ]
    },
    {
     "name": "stderr",
     "output_type": "stream",
     "text": [
      "\r",
      " 16%|█▌        | 96/600 [10:25<30:39,  3.65s/it]"
     ]
    },
    {
     "name": "stdout",
     "output_type": "stream",
     "text": [
      "\tspread_disease()\t\t1.53 sec.\n",
      "\tscreen_for_disease()\t\t0.00 sec.\n",
      "\ttrack_stats()\t\t\t0.00 sec.\n",
      "[epoch=96]\tinfected=25\ttransmitters(visible+invisible)=50\n",
      "\n",
      "\n",
      "radiuses 1 1\n",
      "resp.sum 24220\n",
      "resp.sum 50712\n",
      "\tdecrement_timers()\t\t0.00 sec.\n",
      "\twalk_iter()\t\t\t2.05 sec.\n",
      "\tmake_disease_matrices()\t\t0.01 sec.\n"
     ]
    },
    {
     "name": "stderr",
     "output_type": "stream",
     "text": [
      "\r",
      " 16%|█▌        | 97/600 [10:29<30:30,  3.64s/it]"
     ]
    },
    {
     "name": "stdout",
     "output_type": "stream",
     "text": [
      "\tspread_disease()\t\t1.54 sec.\n",
      "\tscreen_for_disease()\t\t0.00 sec.\n",
      "\ttrack_stats()\t\t\t0.00 sec.\n",
      "[epoch=97]\tinfected=25\ttransmitters(visible+invisible)=52\n",
      "\n",
      "\n",
      "radiuses 1 1\n",
      "resp.sum 27302\n",
      "resp.sum 50712\n",
      "\tdecrement_timers()\t\t0.00 sec.\n",
      "\twalk_iter()\t\t\t2.15 sec.\n",
      "\tmake_disease_matrices()\t\t0.00 sec.\n"
     ]
    },
    {
     "name": "stderr",
     "output_type": "stream",
     "text": [
      "\r",
      " 16%|█▋        | 98/600 [10:32<30:29,  3.64s/it]"
     ]
    },
    {
     "name": "stdout",
     "output_type": "stream",
     "text": [
      "\tspread_disease()\t\t1.49 sec.\n",
      "\tscreen_for_disease()\t\t0.00 sec.\n",
      "\ttrack_stats()\t\t\t0.00 sec.\n",
      "[epoch=98]\tinfected=26\ttransmitters(visible+invisible)=54\n",
      "\n",
      "\n",
      "radiuses 1 1\n",
      "resp.sum 29106\n",
      "resp.sum 50712\n",
      "\tdecrement_timers()\t\t0.00 sec.\n",
      "\twalk_iter()\t\t\t2.09 sec.\n",
      "\tmake_disease_matrices()\t\t0.01 sec.\n"
     ]
    },
    {
     "name": "stderr",
     "output_type": "stream",
     "text": [
      "\r",
      " 16%|█▋        | 99/600 [10:36<30:12,  3.62s/it]"
     ]
    },
    {
     "name": "stdout",
     "output_type": "stream",
     "text": [
      "\tspread_disease()\t\t1.45 sec.\n",
      "\tscreen_for_disease()\t\t0.00 sec.\n",
      "\ttrack_stats()\t\t\t0.00 sec.\n",
      "[epoch=99]\tinfected=25\ttransmitters(visible+invisible)=55\n",
      "\n",
      "\n",
      "radiuses 1 1\n",
      "resp.sum 31526\n",
      "resp.sum 50712\n",
      "\tdecrement_timers()\t\t0.00 sec.\n",
      "\twalk_iter()\t\t\t2.12 sec.\n",
      "\tmake_disease_matrices()\t\t0.00 sec.\n"
     ]
    },
    {
     "name": "stderr",
     "output_type": "stream",
     "text": [
      "\r",
      " 17%|█▋        | 100/600 [10:39<29:57,  3.60s/it]"
     ]
    },
    {
     "name": "stdout",
     "output_type": "stream",
     "text": [
      "\tspread_disease()\t\t1.40 sec.\n",
      "\tscreen_for_disease()\t\t0.00 sec.\n",
      "\ttrack_stats()\t\t\t0.00 sec.\n",
      "[epoch=100]\tinfected=24\ttransmitters(visible+invisible)=56\n",
      "\n",
      "\n",
      "radiuses 1 1\n",
      "resp.sum 31526\n",
      "resp.sum 50712\n",
      "\tdecrement_timers()\t\t0.00 sec.\n",
      "\twalk_iter()\t\t\t2.36 sec.\n",
      "\tmake_disease_matrices()\t\t0.00 sec.\n"
     ]
    },
    {
     "name": "stderr",
     "output_type": "stream",
     "text": [
      "\r",
      " 17%|█▋        | 101/600 [10:43<30:29,  3.67s/it]"
     ]
    },
    {
     "name": "stdout",
     "output_type": "stream",
     "text": [
      "\tspread_disease()\t\t1.45 sec.\n",
      "\tscreen_for_disease()\t\t0.00 sec.\n",
      "\ttrack_stats()\t\t\t0.00 sec.\n",
      "[epoch=101]\tinfected=25\ttransmitters(visible+invisible)=58\n",
      "\n",
      "\n",
      "radiuses 1 1\n",
      "resp.sum 32269\n",
      "resp.sum 50712\n",
      "\tdecrement_timers()\t\t0.00 sec.\n",
      "\twalk_iter()\t\t\t2.16 sec.\n",
      "\tmake_disease_matrices()\t\t0.00 sec.\n"
     ]
    },
    {
     "name": "stderr",
     "output_type": "stream",
     "text": [
      "\r",
      " 17%|█▋        | 102/600 [10:47<30:30,  3.68s/it]"
     ]
    },
    {
     "name": "stdout",
     "output_type": "stream",
     "text": [
      "\tspread_disease()\t\t1.51 sec.\n",
      "\tscreen_for_disease()\t\t0.00 sec.\n",
      "\ttrack_stats()\t\t\t0.00 sec.\n",
      "[epoch=102]\tinfected=25\ttransmitters(visible+invisible)=58\n",
      "\n",
      "\n",
      "radiuses 1 1\n",
      "resp.sum 32985\n",
      "resp.sum 50712\n",
      "\tdecrement_timers()\t\t0.00 sec.\n",
      "\twalk_iter()\t\t\t2.04 sec.\n",
      "\tmake_disease_matrices()\t\t0.01 sec.\n"
     ]
    },
    {
     "name": "stderr",
     "output_type": "stream",
     "text": [
      "\r",
      " 17%|█▋        | 103/600 [10:50<30:01,  3.62s/it]"
     ]
    },
    {
     "name": "stdout",
     "output_type": "stream",
     "text": [
      "\tspread_disease()\t\t1.44 sec.\n",
      "\tscreen_for_disease()\t\t0.00 sec.\n",
      "\ttrack_stats()\t\t\t0.00 sec.\n",
      "[epoch=103]\tinfected=24\ttransmitters(visible+invisible)=58\n",
      "\n",
      "\n",
      "radiuses 1 1\n",
      "resp.sum 32985\n",
      "resp.sum 50712\n",
      "\tdecrement_timers()\t\t0.00 sec.\n",
      "\twalk_iter()\t\t\t2.12 sec.\n",
      "\tmake_disease_matrices()\t\t0.00 sec.\n"
     ]
    },
    {
     "name": "stderr",
     "output_type": "stream",
     "text": [
      "\r",
      " 17%|█▋        | 104/600 [10:54<29:50,  3.61s/it]"
     ]
    },
    {
     "name": "stdout",
     "output_type": "stream",
     "text": [
      "\tspread_disease()\t\t1.44 sec.\n",
      "\tscreen_for_disease()\t\t0.00 sec.\n",
      "\ttrack_stats()\t\t\t0.00 sec.\n",
      "[epoch=104]\tinfected=25\ttransmitters(visible+invisible)=57\n",
      "\n",
      "\n",
      "radiuses 1 1\n",
      "resp.sum 31526\n",
      "resp.sum 50712\n",
      "\tdecrement_timers()\t\t0.00 sec.\n",
      "\twalk_iter()\t\t\t2.10 sec.\n",
      "\tmake_disease_matrices()\t\t0.01 sec.\n"
     ]
    },
    {
     "name": "stderr",
     "output_type": "stream",
     "text": [
      "\r",
      " 18%|█▊        | 105/600 [10:57<29:36,  3.59s/it]"
     ]
    },
    {
     "name": "stdout",
     "output_type": "stream",
     "text": [
      "\tspread_disease()\t\t1.41 sec.\n",
      "\tscreen_for_disease()\t\t0.00 sec.\n",
      "\ttrack_stats()\t\t\t0.00 sec.\n",
      "[epoch=105]\tinfected=25\ttransmitters(visible+invisible)=57\n",
      "\n",
      "\n",
      "radiuses 1 1\n",
      "resp.sum 32269\n",
      "resp.sum 50712\n",
      "\tdecrement_timers()\t\t0.00 sec.\n",
      "\twalk_iter()\t\t\t2.22 sec.\n",
      "\tmake_disease_matrices()\t\t0.00 sec.\n"
     ]
    },
    {
     "name": "stderr",
     "output_type": "stream",
     "text": [
      "\r",
      " 18%|█▊        | 106/600 [11:01<29:40,  3.60s/it]"
     ]
    },
    {
     "name": "stdout",
     "output_type": "stream",
     "text": [
      "\tspread_disease()\t\t1.40 sec.\n",
      "\tscreen_for_disease()\t\t0.00 sec.\n",
      "\ttrack_stats()\t\t\t0.00 sec.\n",
      "[epoch=106]\tinfected=23\ttransmitters(visible+invisible)=59\n",
      "\n",
      "\n",
      "radiuses 1 1\n",
      "resp.sum 32269\n",
      "resp.sum 50712\n",
      "\tdecrement_timers()\t\t0.00 sec.\n",
      "\twalk_iter()\t\t\t2.24 sec.\n",
      "\tmake_disease_matrices()\t\t0.00 sec.\n"
     ]
    },
    {
     "name": "stderr",
     "output_type": "stream",
     "text": [
      "\r",
      " 18%|█▊        | 107/600 [11:05<29:55,  3.64s/it]"
     ]
    },
    {
     "name": "stdout",
     "output_type": "stream",
     "text": [
      "\tspread_disease()\t\t1.47 sec.\n",
      "\tscreen_for_disease()\t\t0.00 sec.\n",
      "\ttrack_stats()\t\t\t0.00 sec.\n",
      "[epoch=107]\tinfected=22\ttransmitters(visible+invisible)=60\n",
      "\n",
      "\n",
      "radiuses 1 1\n",
      "resp.sum 32985\n",
      "resp.sum 50712\n",
      "\tdecrement_timers()\t\t0.00 sec.\n",
      "\twalk_iter()\t\t\t2.04 sec.\n",
      "\tmake_disease_matrices()\t\t0.01 sec.\n"
     ]
    },
    {
     "name": "stderr",
     "output_type": "stream",
     "text": [
      "\r",
      " 18%|█▊        | 108/600 [11:08<29:29,  3.60s/it]"
     ]
    },
    {
     "name": "stdout",
     "output_type": "stream",
     "text": [
      "\tspread_disease()\t\t1.42 sec.\n",
      "\tscreen_for_disease()\t\t0.00 sec.\n",
      "\ttrack_stats()\t\t\t0.00 sec.\n",
      "[epoch=108]\tinfected=21\ttransmitters(visible+invisible)=61\n",
      "\n",
      "\n",
      "radiuses 1 1\n",
      "resp.sum 33674\n",
      "resp.sum 50712\n",
      "\tdecrement_timers()\t\t0.00 sec.\n",
      "\twalk_iter()\t\t\t2.16 sec.\n",
      "\tmake_disease_matrices()\t\t0.01 sec.\n"
     ]
    },
    {
     "name": "stderr",
     "output_type": "stream",
     "text": [
      "\r",
      " 18%|█▊        | 109/600 [11:12<29:31,  3.61s/it]"
     ]
    },
    {
     "name": "stdout",
     "output_type": "stream",
     "text": [
      "\tspread_disease()\t\t1.45 sec.\n",
      "\tscreen_for_disease()\t\t0.00 sec.\n",
      "\ttrack_stats()\t\t\t0.00 sec.\n",
      "[epoch=109]\tinfected=23\ttransmitters(visible+invisible)=62\n",
      "\n",
      "\n",
      "radiuses 1 1\n",
      "resp.sum 34339\n",
      "resp.sum 50712\n",
      "\tdecrement_timers()\t\t0.00 sec.\n",
      "\twalk_iter()\t\t\t2.11 sec.\n",
      "\tmake_disease_matrices()\t\t0.00 sec.\n"
     ]
    },
    {
     "name": "stderr",
     "output_type": "stream",
     "text": [
      "\r",
      " 18%|█▊        | 110/600 [11:15<29:11,  3.57s/it]"
     ]
    },
    {
     "name": "stdout",
     "output_type": "stream",
     "text": [
      "\tspread_disease()\t\t1.36 sec.\n",
      "\tscreen_for_disease()\t\t0.00 sec.\n",
      "\ttrack_stats()\t\t\t0.00 sec.\n",
      "[epoch=110]\tinfected=23\ttransmitters(visible+invisible)=57\n",
      "\n",
      "\n",
      "radiuses 1 1\n",
      "resp.sum 32269\n",
      "resp.sum 50712\n",
      "\tdecrement_timers()\t\t0.00 sec.\n",
      "\twalk_iter()\t\t\t2.20 sec.\n",
      "\tmake_disease_matrices()\t\t0.00 sec.\n"
     ]
    },
    {
     "name": "stderr",
     "output_type": "stream",
     "text": [
      "\r",
      " 18%|█▊        | 111/600 [11:19<29:14,  3.59s/it]"
     ]
    },
    {
     "name": "stdout",
     "output_type": "stream",
     "text": [
      "\tspread_disease()\t\t1.40 sec.\n",
      "\tscreen_for_disease()\t\t0.00 sec.\n",
      "\ttrack_stats()\t\t\t0.00 sec.\n",
      "[epoch=111]\tinfected=26\ttransmitters(visible+invisible)=57\n",
      "\n",
      "\n",
      "radiuses 1 1\n",
      "resp.sum 32269\n",
      "resp.sum 50712\n",
      "\tdecrement_timers()\t\t0.00 sec.\n",
      "\twalk_iter()\t\t\t2.11 sec.\n",
      "\tmake_disease_matrices()\t\t0.01 sec.\n"
     ]
    },
    {
     "name": "stderr",
     "output_type": "stream",
     "text": [
      "\r",
      " 19%|█▊        | 112/600 [11:23<29:09,  3.59s/it]"
     ]
    },
    {
     "name": "stdout",
     "output_type": "stream",
     "text": [
      "\tspread_disease()\t\t1.44 sec.\n",
      "\tscreen_for_disease()\t\t0.00 sec.\n",
      "\ttrack_stats()\t\t\t0.00 sec.\n",
      "[epoch=112]\tinfected=26\ttransmitters(visible+invisible)=56\n",
      "\n",
      "\n",
      "radiuses 1 1\n",
      "resp.sum 31526\n",
      "resp.sum 50712\n",
      "\tdecrement_timers()\t\t0.00 sec.\n",
      "\twalk_iter()\t\t\t2.22 sec.\n",
      "\tmake_disease_matrices()\t\t0.00 sec.\n"
     ]
    },
    {
     "name": "stderr",
     "output_type": "stream",
     "text": [
      "\r",
      " 19%|█▉        | 113/600 [11:26<29:22,  3.62s/it]"
     ]
    },
    {
     "name": "stdout",
     "output_type": "stream",
     "text": [
      "\tspread_disease()\t\t1.46 sec.\n",
      "\tscreen_for_disease()\t\t0.00 sec.\n",
      "\ttrack_stats()\t\t\t0.00 sec.\n",
      "[epoch=113]\tinfected=24\ttransmitters(visible+invisible)=58\n",
      "\n",
      "\n",
      "radiuses 1 1\n",
      "resp.sum 32269\n",
      "resp.sum 50712\n",
      "\tdecrement_timers()\t\t0.01 sec.\n",
      "\twalk_iter()\t\t\t2.16 sec.\n",
      "\tmake_disease_matrices()\t\t0.00 sec.\n"
     ]
    },
    {
     "name": "stderr",
     "output_type": "stream",
     "text": [
      "\r",
      " 19%|█▉        | 114/600 [11:30<29:14,  3.61s/it]"
     ]
    },
    {
     "name": "stdout",
     "output_type": "stream",
     "text": [
      "\tspread_disease()\t\t1.41 sec.\n",
      "\tscreen_for_disease()\t\t0.00 sec.\n",
      "\ttrack_stats()\t\t\t0.00 sec.\n",
      "[epoch=114]\tinfected=25\ttransmitters(visible+invisible)=56\n",
      "\n",
      "\n",
      "radiuses 1 1\n",
      "resp.sum 32269\n",
      "resp.sum 50712\n",
      "\tdecrement_timers()\t\t0.00 sec.\n",
      "\twalk_iter()\t\t\t2.20 sec.\n",
      "\tmake_disease_matrices()\t\t0.00 sec.\n"
     ]
    },
    {
     "name": "stderr",
     "output_type": "stream",
     "text": [
      "\r",
      " 19%|█▉        | 115/600 [11:34<29:16,  3.62s/it]"
     ]
    },
    {
     "name": "stdout",
     "output_type": "stream",
     "text": [
      "\tspread_disease()\t\t1.43 sec.\n",
      "\tscreen_for_disease()\t\t0.00 sec.\n",
      "\ttrack_stats()\t\t\t0.00 sec.\n",
      "[epoch=115]\tinfected=24\ttransmitters(visible+invisible)=56\n",
      "\n",
      "\n",
      "radiuses 1 1\n",
      "resp.sum 32269\n",
      "resp.sum 50712\n",
      "\tdecrement_timers()\t\t0.00 sec.\n",
      "\twalk_iter()\t\t\t2.13 sec.\n",
      "\tmake_disease_matrices()\t\t0.01 sec.\n"
     ]
    },
    {
     "name": "stderr",
     "output_type": "stream",
     "text": [
      "\r",
      " 19%|█▉        | 116/600 [11:37<29:22,  3.64s/it]"
     ]
    },
    {
     "name": "stdout",
     "output_type": "stream",
     "text": [
      "\tspread_disease()\t\t1.54 sec.\n",
      "\tscreen_for_disease()\t\t0.00 sec.\n",
      "\ttrack_stats()\t\t\t0.00 sec.\n",
      "[epoch=116]\tinfected=21\ttransmitters(visible+invisible)=56\n",
      "\n",
      "\n",
      "radiuses 1 1\n",
      "resp.sum 30753\n",
      "resp.sum 50712\n",
      "\tdecrement_timers()\t\t0.00 sec.\n",
      "\twalk_iter()\t\t\t2.11 sec.\n",
      "\tmake_disease_matrices()\t\t0.00 sec.\n"
     ]
    },
    {
     "name": "stderr",
     "output_type": "stream",
     "text": [
      "\r",
      " 20%|█▉        | 117/600 [11:41<29:01,  3.61s/it]"
     ]
    },
    {
     "name": "stdout",
     "output_type": "stream",
     "text": [
      "\tspread_disease()\t\t1.39 sec.\n",
      "\tscreen_for_disease()\t\t0.00 sec.\n",
      "\ttrack_stats()\t\t\t0.00 sec.\n",
      "[epoch=117]\tinfected=23\ttransmitters(visible+invisible)=52\n",
      "\n",
      "\n",
      "radiuses 1 1\n",
      "resp.sum 27302\n",
      "resp.sum 50712\n",
      "\tdecrement_timers()\t\t0.00 sec.\n",
      "\twalk_iter()\t\t\t2.15 sec.\n",
      "\tmake_disease_matrices()\t\t0.00 sec.\n"
     ]
    },
    {
     "name": "stderr",
     "output_type": "stream",
     "text": [
      "\r",
      " 20%|█▉        | 118/600 [11:44<28:46,  3.58s/it]"
     ]
    },
    {
     "name": "stdout",
     "output_type": "stream",
     "text": [
      "\tspread_disease()\t\t1.35 sec.\n",
      "\tscreen_for_disease()\t\t0.00 sec.\n",
      "\ttrack_stats()\t\t\t0.00 sec.\n",
      "[epoch=118]\tinfected=22\ttransmitters(visible+invisible)=55\n",
      "\n",
      "\n",
      "radiuses 1 1\n",
      "resp.sum 29106\n",
      "resp.sum 50712\n",
      "\tdecrement_timers()\t\t0.00 sec.\n",
      "\twalk_iter()\t\t\t2.20 sec.\n",
      "\tmake_disease_matrices()\t\t0.00 sec.\n"
     ]
    },
    {
     "name": "stderr",
     "output_type": "stream",
     "text": [
      "\r",
      " 20%|█▉        | 119/600 [11:48<28:47,  3.59s/it]"
     ]
    },
    {
     "name": "stdout",
     "output_type": "stream",
     "text": [
      "\tspread_disease()\t\t1.39 sec.\n",
      "\tscreen_for_disease()\t\t0.00 sec.\n",
      "\ttrack_stats()\t\t\t0.00 sec.\n",
      "[epoch=119]\tinfected=22\ttransmitters(visible+invisible)=54\n",
      "\n",
      "\n",
      "radiuses 1 1\n",
      "resp.sum 29106\n",
      "resp.sum 50712\n",
      "\tdecrement_timers()\t\t0.00 sec.\n",
      "\twalk_iter()\t\t\t2.10 sec.\n",
      "\tmake_disease_matrices()\t\t0.01 sec.\n"
     ]
    },
    {
     "name": "stderr",
     "output_type": "stream",
     "text": [
      "\r",
      " 20%|██        | 120/600 [11:52<28:56,  3.62s/it]"
     ]
    },
    {
     "name": "stdout",
     "output_type": "stream",
     "text": [
      "\tspread_disease()\t\t1.56 sec.\n",
      "\tscreen_for_disease()\t\t0.00 sec.\n",
      "\ttrack_stats()\t\t\t0.00 sec.\n",
      "[epoch=120]\tinfected=20\ttransmitters(visible+invisible)=56\n",
      "\n",
      "\n",
      "radiuses 1 1\n",
      "resp.sum 28225\n",
      "resp.sum 50712\n",
      "\tdecrement_timers()\t\t0.00 sec.\n",
      "\twalk_iter()\t\t\t2.05 sec.\n",
      "\tmake_disease_matrices()\t\t0.01 sec.\n"
     ]
    },
    {
     "name": "stderr",
     "output_type": "stream",
     "text": [
      "\r",
      " 20%|██        | 121/600 [11:55<28:38,  3.59s/it]"
     ]
    },
    {
     "name": "stdout",
     "output_type": "stream",
     "text": [
      "\tspread_disease()\t\t1.44 sec.\n",
      "\tscreen_for_disease()\t\t0.00 sec.\n",
      "\ttrack_stats()\t\t\t0.00 sec.\n",
      "[epoch=121]\tinfected=20\ttransmitters(visible+invisible)=57\n",
      "\n",
      "\n",
      "radiuses 1 1\n",
      "resp.sum 27302\n",
      "resp.sum 50712\n",
      "\tdecrement_timers()\t\t0.00 sec.\n",
      "\twalk_iter()\t\t\t2.18 sec.\n",
      "\tmake_disease_matrices()\t\t0.00 sec.\n"
     ]
    },
    {
     "name": "stderr",
     "output_type": "stream",
     "text": [
      "\r",
      " 20%|██        | 122/600 [11:59<28:30,  3.58s/it]"
     ]
    },
    {
     "name": "stdout",
     "output_type": "stream",
     "text": [
      "\tspread_disease()\t\t1.36 sec.\n",
      "\tscreen_for_disease()\t\t0.00 sec.\n",
      "\ttrack_stats()\t\t\t0.00 sec.\n",
      "[epoch=122]\tinfected=21\ttransmitters(visible+invisible)=56\n",
      "\n",
      "\n",
      "radiuses 1 1\n",
      "resp.sum 28225\n",
      "resp.sum 50712\n",
      "\tdecrement_timers()\t\t0.00 sec.\n",
      "\twalk_iter()\t\t\t2.13 sec.\n",
      "\tmake_disease_matrices()\t\t0.00 sec.\n"
     ]
    },
    {
     "name": "stderr",
     "output_type": "stream",
     "text": [
      "\r",
      " 20%|██        | 123/600 [12:02<28:41,  3.61s/it]"
     ]
    },
    {
     "name": "stdout",
     "output_type": "stream",
     "text": [
      "\tspread_disease()\t\t1.52 sec.\n",
      "\tscreen_for_disease()\t\t0.00 sec.\n",
      "\ttrack_stats()\t\t\t0.00 sec.\n",
      "[epoch=123]\tinfected=21\ttransmitters(visible+invisible)=56\n",
      "\n",
      "\n",
      "radiuses 1 1\n",
      "resp.sum 29106\n",
      "resp.sum 50712\n",
      "\tdecrement_timers()\t\t0.00 sec.\n",
      "\twalk_iter()\t\t\t2.06 sec.\n",
      "\tmake_disease_matrices()\t\t0.00 sec.\n"
     ]
    },
    {
     "name": "stderr",
     "output_type": "stream",
     "text": [
      "\r",
      " 21%|██        | 124/600 [12:06<28:17,  3.57s/it]"
     ]
    },
    {
     "name": "stdout",
     "output_type": "stream",
     "text": [
      "\tspread_disease()\t\t1.39 sec.\n",
      "\tscreen_for_disease()\t\t0.00 sec.\n",
      "\ttrack_stats()\t\t\t0.00 sec.\n",
      "[epoch=124]\tinfected=22\ttransmitters(visible+invisible)=56\n",
      "\n",
      "\n",
      "radiuses 1 1\n",
      "resp.sum 30753\n",
      "resp.sum 50712\n",
      "\tdecrement_timers()\t\t0.00 sec.\n",
      "\twalk_iter()\t\t\t2.21 sec.\n",
      "\tmake_disease_matrices()\t\t0.00 sec.\n"
     ]
    },
    {
     "name": "stderr",
     "output_type": "stream",
     "text": [
      "\r",
      " 21%|██        | 125/600 [12:09<28:26,  3.59s/it]"
     ]
    },
    {
     "name": "stdout",
     "output_type": "stream",
     "text": [
      "\tspread_disease()\t\t1.42 sec.\n",
      "\tscreen_for_disease()\t\t0.00 sec.\n",
      "\ttrack_stats()\t\t\t0.00 sec.\n",
      "[epoch=125]\tinfected=21\ttransmitters(visible+invisible)=54\n",
      "\n",
      "\n",
      "radiuses 1 1\n",
      "resp.sum 28225\n",
      "resp.sum 50712\n",
      "\tdecrement_timers()\t\t0.00 sec.\n",
      "\twalk_iter()\t\t\t2.06 sec.\n",
      "\tmake_disease_matrices()\t\t0.01 sec.\n"
     ]
    },
    {
     "name": "stderr",
     "output_type": "stream",
     "text": [
      "\r",
      " 21%|██        | 126/600 [12:13<28:29,  3.61s/it]"
     ]
    },
    {
     "name": "stdout",
     "output_type": "stream",
     "text": [
      "\tspread_disease()\t\t1.55 sec.\n",
      "\tscreen_for_disease()\t\t0.01 sec.\n",
      "\ttrack_stats()\t\t\t0.00 sec.\n",
      "[epoch=126]\tinfected=22\ttransmitters(visible+invisible)=53\n",
      "\n",
      "\n",
      "radiuses 1 1\n",
      "resp.sum 30753\n",
      "resp.sum 50712\n",
      "\tdecrement_timers()\t\t0.01 sec.\n",
      "\twalk_iter()\t\t\t2.06 sec.\n",
      "\tmake_disease_matrices()\t\t0.01 sec.\n"
     ]
    },
    {
     "name": "stderr",
     "output_type": "stream",
     "text": [
      "\r",
      " 21%|██        | 127/600 [12:17<28:20,  3.60s/it]"
     ]
    },
    {
     "name": "stdout",
     "output_type": "stream",
     "text": [
      "\tspread_disease()\t\t1.49 sec.\n",
      "\tscreen_for_disease()\t\t0.00 sec.\n",
      "\ttrack_stats()\t\t\t0.00 sec.\n",
      "[epoch=127]\tinfected=20\ttransmitters(visible+invisible)=55\n",
      "\n",
      "\n",
      "radiuses 1 1\n",
      "resp.sum 30753\n",
      "resp.sum 50712\n",
      "\tdecrement_timers()\t\t0.00 sec.\n",
      "\twalk_iter()\t\t\t2.08 sec.\n",
      "\tmake_disease_matrices()\t\t0.00 sec.\n"
     ]
    },
    {
     "name": "stderr",
     "output_type": "stream",
     "text": [
      "\r",
      " 21%|██▏       | 128/600 [12:20<28:18,  3.60s/it]"
     ]
    },
    {
     "name": "stdout",
     "output_type": "stream",
     "text": [
      "\tspread_disease()\t\t1.50 sec.\n",
      "\tscreen_for_disease()\t\t0.00 sec.\n",
      "\ttrack_stats()\t\t\t0.00 sec.\n",
      "[epoch=128]\tinfected=25\ttransmitters(visible+invisible)=53\n",
      "\n",
      "\n",
      "radiuses 1 1\n",
      "resp.sum 29947\n",
      "resp.sum 50712\n",
      "\tdecrement_timers()\t\t0.00 sec.\n",
      "\twalk_iter()\t\t\t2.08 sec.\n",
      "\tmake_disease_matrices()\t\t0.01 sec.\n"
     ]
    },
    {
     "name": "stderr",
     "output_type": "stream",
     "text": [
      "\r",
      " 22%|██▏       | 129/600 [12:24<28:25,  3.62s/it]"
     ]
    },
    {
     "name": "stdout",
     "output_type": "stream",
     "text": [
      "\tspread_disease()\t\t1.57 sec.\n",
      "\tscreen_for_disease()\t\t0.00 sec.\n",
      "\ttrack_stats()\t\t\t0.00 sec.\n",
      "[epoch=129]\tinfected=26\ttransmitters(visible+invisible)=53\n",
      "\n",
      "\n",
      "radiuses 1 1\n",
      "resp.sum 31526\n",
      "resp.sum 50712\n",
      "\tdecrement_timers()\t\t0.01 sec.\n",
      "\twalk_iter()\t\t\t2.11 sec.\n",
      "\tmake_disease_matrices()\t\t0.00 sec.\n"
     ]
    },
    {
     "name": "stderr",
     "output_type": "stream",
     "text": [
      "\r",
      " 22%|██▏       | 130/600 [12:28<28:19,  3.62s/it]"
     ]
    },
    {
     "name": "stdout",
     "output_type": "stream",
     "text": [
      "\tspread_disease()\t\t1.46 sec.\n",
      "\tscreen_for_disease()\t\t0.01 sec.\n",
      "\ttrack_stats()\t\t\t0.00 sec.\n",
      "[epoch=130]\tinfected=26\ttransmitters(visible+invisible)=54\n",
      "\n",
      "\n",
      "radiuses 1 1\n",
      "resp.sum 32985\n",
      "resp.sum 50712\n",
      "\tdecrement_timers()\t\t0.01 sec.\n",
      "\twalk_iter()\t\t\t2.11 sec.\n",
      "\tmake_disease_matrices()\t\t0.01 sec.\n"
     ]
    },
    {
     "name": "stderr",
     "output_type": "stream",
     "text": [
      "\r",
      " 22%|██▏       | 131/600 [12:31<28:13,  3.61s/it]"
     ]
    },
    {
     "name": "stdout",
     "output_type": "stream",
     "text": [
      "\tspread_disease()\t\t1.47 sec.\n",
      "\tscreen_for_disease()\t\t0.00 sec.\n",
      "\ttrack_stats()\t\t\t0.00 sec.\n",
      "[epoch=131]\tinfected=25\ttransmitters(visible+invisible)=55\n",
      "\n",
      "\n",
      "radiuses 1 1\n",
      "resp.sum 33674\n",
      "resp.sum 50712\n",
      "\tdecrement_timers()\t\t0.00 sec.\n",
      "\twalk_iter()\t\t\t2.11 sec.\n",
      "\tmake_disease_matrices()\t\t0.01 sec.\n"
     ]
    },
    {
     "name": "stderr",
     "output_type": "stream",
     "text": [
      "\r",
      " 22%|██▏       | 132/600 [12:35<28:04,  3.60s/it]"
     ]
    },
    {
     "name": "stdout",
     "output_type": "stream",
     "text": [
      "\tspread_disease()\t\t1.43 sec.\n",
      "\tscreen_for_disease()\t\t0.00 sec.\n",
      "\ttrack_stats()\t\t\t0.00 sec.\n",
      "[epoch=132]\tinfected=23\ttransmitters(visible+invisible)=55\n",
      "\n",
      "\n",
      "radiuses 1 1\n",
      "resp.sum 32985\n",
      "resp.sum 50712\n",
      "\tdecrement_timers()\t\t0.00 sec.\n",
      "\twalk_iter()\t\t\t2.21 sec.\n",
      "\tmake_disease_matrices()\t\t0.00 sec.\n"
     ]
    },
    {
     "name": "stderr",
     "output_type": "stream",
     "text": [
      "\r",
      " 22%|██▏       | 133/600 [12:38<28:21,  3.64s/it]"
     ]
    },
    {
     "name": "stdout",
     "output_type": "stream",
     "text": [
      "\tspread_disease()\t\t1.51 sec.\n",
      "\tscreen_for_disease()\t\t0.01 sec.\n",
      "\ttrack_stats()\t\t\t0.00 sec.\n",
      "[epoch=133]\tinfected=23\ttransmitters(visible+invisible)=55\n",
      "\n",
      "\n",
      "radiuses 1 1\n",
      "resp.sum 34981\n",
      "resp.sum 50712\n",
      "\tdecrement_timers()\t\t0.01 sec.\n",
      "\twalk_iter()\t\t\t2.25 sec.\n",
      "\tmake_disease_matrices()\t\t0.00 sec.\n"
     ]
    },
    {
     "name": "stderr",
     "output_type": "stream",
     "text": [
      "\r",
      " 22%|██▏       | 134/600 [12:42<28:40,  3.69s/it]"
     ]
    },
    {
     "name": "stdout",
     "output_type": "stream",
     "text": [
      "\tspread_disease()\t\t1.53 sec.\n",
      "\tscreen_for_disease()\t\t0.00 sec.\n",
      "\ttrack_stats()\t\t\t0.00 sec.\n",
      "[epoch=134]\tinfected=22\ttransmitters(visible+invisible)=53\n",
      "\n",
      "\n",
      "radiuses 1 1\n",
      "resp.sum 33674\n",
      "resp.sum 50712\n",
      "\tdecrement_timers()\t\t0.00 sec.\n",
      "\twalk_iter()\t\t\t2.14 sec.\n",
      "\tmake_disease_matrices()\t\t0.00 sec.\n"
     ]
    },
    {
     "name": "stderr",
     "output_type": "stream",
     "text": [
      "\r",
      " 22%|██▎       | 135/600 [12:46<28:29,  3.68s/it]"
     ]
    },
    {
     "name": "stdout",
     "output_type": "stream",
     "text": [
      "\tspread_disease()\t\t1.48 sec.\n",
      "\tscreen_for_disease()\t\t0.00 sec.\n",
      "\ttrack_stats()\t\t\t0.00 sec.\n",
      "[epoch=135]\tinfected=21\ttransmitters(visible+invisible)=54\n",
      "\n",
      "\n",
      "radiuses 1 1\n",
      "resp.sum 34981\n",
      "resp.sum 50712\n",
      "\tdecrement_timers()\t\t0.00 sec.\n",
      "\twalk_iter()\t\t\t2.09 sec.\n",
      "\tmake_disease_matrices()\t\t0.01 sec.\n"
     ]
    },
    {
     "name": "stderr",
     "output_type": "stream",
     "text": [
      "\r",
      " 23%|██▎       | 136/600 [12:49<28:12,  3.65s/it]"
     ]
    },
    {
     "name": "stdout",
     "output_type": "stream",
     "text": [
      "\tspread_disease()\t\t1.47 sec.\n",
      "\tscreen_for_disease()\t\t0.00 sec.\n",
      "\ttrack_stats()\t\t\t0.00 sec.\n",
      "[epoch=136]\tinfected=20\ttransmitters(visible+invisible)=53\n",
      "\n",
      "\n",
      "radiuses 1 1\n",
      "resp.sum 34339\n",
      "resp.sum 50712\n",
      "\tdecrement_timers()\t\t0.00 sec.\n",
      "\twalk_iter()\t\t\t2.19 sec.\n",
      "\tmake_disease_matrices()\t\t0.00 sec.\n"
     ]
    },
    {
     "name": "stderr",
     "output_type": "stream",
     "text": [
      "\r",
      " 23%|██▎       | 137/600 [12:53<28:16,  3.66s/it]"
     ]
    },
    {
     "name": "stdout",
     "output_type": "stream",
     "text": [
      "\tspread_disease()\t\t1.49 sec.\n",
      "\tscreen_for_disease()\t\t0.00 sec.\n",
      "\ttrack_stats()\t\t\t0.00 sec.\n",
      "[epoch=137]\tinfected=19\ttransmitters(visible+invisible)=52\n",
      "\n",
      "\n",
      "radiuses 1 1\n",
      "resp.sum 31526\n",
      "resp.sum 50712\n",
      "\tdecrement_timers()\t\t0.00 sec.\n",
      "\twalk_iter()\t\t\t2.18 sec.\n",
      "\tmake_disease_matrices()\t\t0.00 sec.\n"
     ]
    },
    {
     "name": "stderr",
     "output_type": "stream",
     "text": [
      "\r",
      " 23%|██▎       | 138/600 [12:57<28:12,  3.66s/it]"
     ]
    },
    {
     "name": "stdout",
     "output_type": "stream",
     "text": [
      "\tspread_disease()\t\t1.46 sec.\n",
      "\tscreen_for_disease()\t\t0.00 sec.\n",
      "\ttrack_stats()\t\t\t0.00 sec.\n",
      "[epoch=138]\tinfected=19\ttransmitters(visible+invisible)=51\n",
      "\n",
      "\n",
      "radiuses 1 1\n",
      "resp.sum 31526\n",
      "resp.sum 50712\n",
      "\tdecrement_timers()\t\t0.01 sec.\n",
      "\twalk_iter()\t\t\t2.15 sec.\n",
      "\tmake_disease_matrices()\t\t0.00 sec.\n"
     ]
    },
    {
     "name": "stderr",
     "output_type": "stream",
     "text": [
      "\r",
      " 23%|██▎       | 139/600 [13:00<27:53,  3.63s/it]"
     ]
    },
    {
     "name": "stdout",
     "output_type": "stream",
     "text": [
      "\tspread_disease()\t\t1.38 sec.\n",
      "\tscreen_for_disease()\t\t0.00 sec.\n",
      "\ttrack_stats()\t\t\t0.00 sec.\n",
      "[epoch=139]\tinfected=17\ttransmitters(visible+invisible)=52\n",
      "\n",
      "\n",
      "radiuses 1 1\n",
      "resp.sum 31526\n",
      "resp.sum 50712\n",
      "\tdecrement_timers()\t\t0.00 sec.\n",
      "\twalk_iter()\t\t\t2.13 sec.\n",
      "\tmake_disease_matrices()\t\t0.00 sec.\n"
     ]
    },
    {
     "name": "stderr",
     "output_type": "stream",
     "text": [
      "\r",
      " 23%|██▎       | 140/600 [13:04<27:49,  3.63s/it]"
     ]
    },
    {
     "name": "stdout",
     "output_type": "stream",
     "text": [
      "\tspread_disease()\t\t1.48 sec.\n",
      "\tscreen_for_disease()\t\t0.00 sec.\n",
      "\ttrack_stats()\t\t\t0.00 sec.\n",
      "[epoch=140]\tinfected=18\ttransmitters(visible+invisible)=50\n",
      "\n",
      "\n",
      "radiuses 1 1\n",
      "resp.sum 31526\n",
      "resp.sum 50712\n",
      "\tdecrement_timers()\t\t0.01 sec.\n",
      "\twalk_iter()\t\t\t2.08 sec.\n",
      "\tmake_disease_matrices()\t\t0.01 sec.\n"
     ]
    },
    {
     "name": "stderr",
     "output_type": "stream",
     "text": [
      "\r",
      " 24%|██▎       | 141/600 [13:08<27:29,  3.59s/it]"
     ]
    },
    {
     "name": "stdout",
     "output_type": "stream",
     "text": [
      "\tspread_disease()\t\t1.41 sec.\n",
      "\tscreen_for_disease()\t\t0.00 sec.\n",
      "\ttrack_stats()\t\t\t0.00 sec.\n",
      "[epoch=141]\tinfected=18\ttransmitters(visible+invisible)=50\n",
      "\n",
      "\n",
      "radiuses 1 1\n",
      "resp.sum 32269\n",
      "resp.sum 50712\n",
      "\tdecrement_timers()\t\t0.00 sec.\n",
      "\twalk_iter()\t\t\t2.12 sec.\n",
      "\tmake_disease_matrices()\t\t0.01 sec.\n"
     ]
    },
    {
     "name": "stderr",
     "output_type": "stream",
     "text": [
      "\r",
      " 24%|██▎       | 142/600 [13:11<27:30,  3.60s/it]"
     ]
    },
    {
     "name": "stdout",
     "output_type": "stream",
     "text": [
      "\tspread_disease()\t\t1.48 sec.\n",
      "\tscreen_for_disease()\t\t0.00 sec.\n",
      "\ttrack_stats()\t\t\t0.00 sec.\n",
      "[epoch=142]\tinfected=17\ttransmitters(visible+invisible)=50\n",
      "\n",
      "\n",
      "radiuses 1 1\n",
      "resp.sum 31526\n",
      "resp.sum 50712\n",
      "\tdecrement_timers()\t\t0.00 sec.\n",
      "\twalk_iter()\t\t\t2.17 sec.\n",
      "\tmake_disease_matrices()\t\t0.00 sec.\n"
     ]
    },
    {
     "name": "stderr",
     "output_type": "stream",
     "text": [
      "\r",
      " 24%|██▍       | 143/600 [13:15<27:41,  3.64s/it]"
     ]
    },
    {
     "name": "stdout",
     "output_type": "stream",
     "text": [
      "\tspread_disease()\t\t1.52 sec.\n",
      "\tscreen_for_disease()\t\t0.00 sec.\n",
      "\ttrack_stats()\t\t\t0.00 sec.\n",
      "[epoch=143]\tinfected=17\ttransmitters(visible+invisible)=48\n",
      "\n",
      "\n",
      "radiuses 1 1\n",
      "resp.sum 31526\n",
      "resp.sum 50712\n",
      "\tdecrement_timers()\t\t0.00 sec.\n",
      "\twalk_iter()\t\t\t2.11 sec.\n",
      "\tmake_disease_matrices()\t\t0.00 sec.\n"
     ]
    },
    {
     "name": "stderr",
     "output_type": "stream",
     "text": [
      "\r",
      " 24%|██▍       | 144/600 [13:18<27:26,  3.61s/it]"
     ]
    },
    {
     "name": "stdout",
     "output_type": "stream",
     "text": [
      "\tspread_disease()\t\t1.42 sec.\n",
      "\tscreen_for_disease()\t\t0.00 sec.\n",
      "\ttrack_stats()\t\t\t0.00 sec.\n",
      "[epoch=144]\tinfected=17\ttransmitters(visible+invisible)=49\n",
      "\n",
      "\n",
      "radiuses 1 1\n",
      "resp.sum 32269\n",
      "resp.sum 50712\n",
      "\tdecrement_timers()\t\t0.00 sec.\n",
      "\twalk_iter()\t\t\t2.14 sec.\n",
      "\tmake_disease_matrices()\t\t0.01 sec.\n"
     ]
    },
    {
     "name": "stderr",
     "output_type": "stream",
     "text": [
      "\r",
      " 24%|██▍       | 145/600 [13:22<27:21,  3.61s/it]"
     ]
    },
    {
     "name": "stdout",
     "output_type": "stream",
     "text": [
      "\tspread_disease()\t\t1.44 sec.\n",
      "\tscreen_for_disease()\t\t0.00 sec.\n",
      "\ttrack_stats()\t\t\t0.00 sec.\n",
      "[epoch=145]\tinfected=17\ttransmitters(visible+invisible)=49\n",
      "\n",
      "\n",
      "radiuses 1 1\n",
      "resp.sum 31526\n",
      "resp.sum 50712\n",
      "\tdecrement_timers()\t\t0.00 sec.\n",
      "\twalk_iter()\t\t\t2.10 sec.\n",
      "\tmake_disease_matrices()\t\t0.00 sec.\n"
     ]
    },
    {
     "name": "stderr",
     "output_type": "stream",
     "text": [
      "\r",
      " 24%|██▍       | 146/600 [13:26<27:11,  3.59s/it]"
     ]
    },
    {
     "name": "stdout",
     "output_type": "stream",
     "text": [
      "\tspread_disease()\t\t1.43 sec.\n",
      "\tscreen_for_disease()\t\t0.00 sec.\n",
      "\ttrack_stats()\t\t\t0.00 sec.\n",
      "[epoch=146]\tinfected=18\ttransmitters(visible+invisible)=47\n",
      "\n",
      "\n",
      "radiuses 1 1\n",
      "resp.sum 32269\n",
      "resp.sum 50712\n",
      "\tdecrement_timers()\t\t0.00 sec.\n",
      "\twalk_iter()\t\t\t2.12 sec.\n",
      "\tmake_disease_matrices()\t\t0.01 sec.\n"
     ]
    },
    {
     "name": "stderr",
     "output_type": "stream",
     "text": [
      "\r",
      " 24%|██▍       | 147/600 [13:29<27:00,  3.58s/it]"
     ]
    },
    {
     "name": "stdout",
     "output_type": "stream",
     "text": [
      "\tspread_disease()\t\t1.40 sec.\n",
      "\tscreen_for_disease()\t\t0.00 sec.\n",
      "\ttrack_stats()\t\t\t0.00 sec.\n",
      "[epoch=147]\tinfected=17\ttransmitters(visible+invisible)=47\n",
      "\n",
      "\n",
      "radiuses 1 1\n",
      "resp.sum 32269\n",
      "resp.sum 50712\n",
      "\tdecrement_timers()\t\t0.00 sec.\n",
      "\twalk_iter()\t\t\t2.23 sec.\n",
      "\tmake_disease_matrices()\t\t0.00 sec.\n"
     ]
    },
    {
     "name": "stderr",
     "output_type": "stream",
     "text": [
      "\r",
      " 25%|██▍       | 148/600 [13:33<27:14,  3.62s/it]"
     ]
    },
    {
     "name": "stdout",
     "output_type": "stream",
     "text": [
      "\tspread_disease()\t\t1.46 sec.\n",
      "\tscreen_for_disease()\t\t0.00 sec.\n",
      "\ttrack_stats()\t\t\t0.00 sec.\n",
      "[epoch=148]\tinfected=17\ttransmitters(visible+invisible)=45\n",
      "\n",
      "\n",
      "radiuses 1 1\n",
      "resp.sum 29947\n",
      "resp.sum 50712\n",
      "\tdecrement_timers()\t\t0.00 sec.\n",
      "\twalk_iter()\t\t\t2.10 sec.\n",
      "\tmake_disease_matrices()\t\t0.01 sec.\n"
     ]
    },
    {
     "name": "stderr",
     "output_type": "stream",
     "text": [
      "\r",
      " 25%|██▍       | 149/600 [13:36<26:57,  3.59s/it]"
     ]
    },
    {
     "name": "stdout",
     "output_type": "stream",
     "text": [
      "\tspread_disease()\t\t1.39 sec.\n",
      "\tscreen_for_disease()\t\t0.00 sec.\n",
      "\ttrack_stats()\t\t\t0.00 sec.\n",
      "[epoch=149]\tinfected=16\ttransmitters(visible+invisible)=45\n",
      "\n",
      "\n",
      "radiuses 1 1\n",
      "resp.sum 30753\n",
      "resp.sum 50712\n",
      "\tdecrement_timers()\t\t0.00 sec.\n",
      "\twalk_iter()\t\t\t2.08 sec.\n",
      "\tmake_disease_matrices()\t\t0.01 sec.\n"
     ]
    },
    {
     "name": "stderr",
     "output_type": "stream",
     "text": [
      "\r",
      " 25%|██▌       | 150/600 [13:40<26:43,  3.56s/it]"
     ]
    },
    {
     "name": "stdout",
     "output_type": "stream",
     "text": [
      "\tspread_disease()\t\t1.40 sec.\n",
      "\tscreen_for_disease()\t\t0.00 sec.\n",
      "\ttrack_stats()\t\t\t0.00 sec.\n",
      "[epoch=150]\tinfected=16\ttransmitters(visible+invisible)=44\n",
      "\n",
      "\n",
      "radiuses 1 1\n",
      "resp.sum 30753\n",
      "resp.sum 50712\n",
      "\tdecrement_timers()\t\t0.00 sec.\n",
      "\twalk_iter()\t\t\t2.11 sec.\n",
      "\tmake_disease_matrices()\t\t0.00 sec.\n"
     ]
    },
    {
     "name": "stderr",
     "output_type": "stream",
     "text": [
      "\r",
      " 25%|██▌       | 151/600 [13:43<26:45,  3.58s/it]"
     ]
    },
    {
     "name": "stdout",
     "output_type": "stream",
     "text": [
      "\tspread_disease()\t\t1.47 sec.\n",
      "\tscreen_for_disease()\t\t0.00 sec.\n",
      "\ttrack_stats()\t\t\t0.00 sec.\n",
      "[epoch=151]\tinfected=14\ttransmitters(visible+invisible)=45\n",
      "\n",
      "\n",
      "radiuses 1 1\n",
      "resp.sum 29947\n",
      "resp.sum 50712\n",
      "\tdecrement_timers()\t\t0.00 sec.\n",
      "\twalk_iter()\t\t\t2.11 sec.\n",
      "\tmake_disease_matrices()\t\t0.00 sec.\n"
     ]
    },
    {
     "name": "stderr",
     "output_type": "stream",
     "text": [
      "\r",
      " 25%|██▌       | 152/600 [13:47<26:29,  3.55s/it]"
     ]
    },
    {
     "name": "stdout",
     "output_type": "stream",
     "text": [
      "\tspread_disease()\t\t1.35 sec.\n",
      "\tscreen_for_disease()\t\t0.00 sec.\n",
      "\ttrack_stats()\t\t\t0.00 sec.\n",
      "[epoch=152]\tinfected=12\ttransmitters(visible+invisible)=48\n",
      "\n",
      "\n",
      "radiuses 1 1\n",
      "resp.sum 30753\n",
      "resp.sum 50712\n",
      "\tdecrement_timers()\t\t0.00 sec.\n",
      "\twalk_iter()\t\t\t2.23 sec.\n",
      "\tmake_disease_matrices()\t\t0.00 sec.\n"
     ]
    },
    {
     "name": "stderr",
     "output_type": "stream",
     "text": [
      "\r",
      " 26%|██▌       | 153/600 [13:51<26:32,  3.56s/it]"
     ]
    },
    {
     "name": "stdout",
     "output_type": "stream",
     "text": [
      "\tspread_disease()\t\t1.35 sec.\n",
      "\tscreen_for_disease()\t\t0.00 sec.\n",
      "\ttrack_stats()\t\t\t0.00 sec.\n",
      "[epoch=153]\tinfected=12\ttransmitters(visible+invisible)=47\n",
      "\n",
      "\n",
      "radiuses 1 1\n",
      "resp.sum 30753\n",
      "resp.sum 50712\n",
      "\tdecrement_timers()\t\t0.00 sec.\n",
      "\twalk_iter()\t\t\t2.12 sec.\n",
      "\tmake_disease_matrices()\t\t0.01 sec.\n"
     ]
    },
    {
     "name": "stderr",
     "output_type": "stream",
     "text": [
      "\r",
      " 26%|██▌       | 154/600 [13:54<26:35,  3.58s/it]"
     ]
    },
    {
     "name": "stdout",
     "output_type": "stream",
     "text": [
      "\tspread_disease()\t\t1.46 sec.\n",
      "\tscreen_for_disease()\t\t0.00 sec.\n",
      "\ttrack_stats()\t\t\t0.00 sec.\n",
      "[epoch=154]\tinfected=14\ttransmitters(visible+invisible)=47\n",
      "\n",
      "\n",
      "radiuses 1 1\n",
      "resp.sum 30753\n",
      "resp.sum 50712\n",
      "\tdecrement_timers()\t\t0.01 sec.\n",
      "\twalk_iter()\t\t\t2.14 sec.\n",
      "\tmake_disease_matrices()\t\t0.00 sec.\n"
     ]
    },
    {
     "name": "stderr",
     "output_type": "stream",
     "text": [
      "\r",
      " 26%|██▌       | 155/600 [13:58<26:29,  3.57s/it]"
     ]
    },
    {
     "name": "stdout",
     "output_type": "stream",
     "text": [
      "\tspread_disease()\t\t1.40 sec.\n",
      "\tscreen_for_disease()\t\t0.00 sec.\n",
      "\ttrack_stats()\t\t\t0.00 sec.\n",
      "[epoch=155]\tinfected=14\ttransmitters(visible+invisible)=45\n",
      "\n",
      "\n",
      "radiuses 1 1\n",
      "resp.sum 30753\n",
      "resp.sum 50712\n",
      "\tdecrement_timers()\t\t0.00 sec.\n",
      "\twalk_iter()\t\t\t2.12 sec.\n",
      "\tmake_disease_matrices()\t\t0.01 sec.\n"
     ]
    },
    {
     "name": "stderr",
     "output_type": "stream",
     "text": [
      "\r",
      " 26%|██▌       | 156/600 [14:01<26:38,  3.60s/it]"
     ]
    },
    {
     "name": "stdout",
     "output_type": "stream",
     "text": [
      "\tspread_disease()\t\t1.53 sec.\n",
      "\tscreen_for_disease()\t\t0.00 sec.\n",
      "\ttrack_stats()\t\t\t0.00 sec.\n",
      "[epoch=156]\tinfected=15\ttransmitters(visible+invisible)=46\n",
      "\n",
      "\n",
      "radiuses 1 1\n",
      "resp.sum 30753\n",
      "resp.sum 50712\n",
      "\tdecrement_timers()\t\t0.00 sec.\n",
      "\twalk_iter()\t\t\t2.16 sec.\n",
      "\tmake_disease_matrices()\t\t0.00 sec.\n"
     ]
    },
    {
     "name": "stderr",
     "output_type": "stream",
     "text": [
      "\r",
      " 26%|██▌       | 157/600 [14:05<26:43,  3.62s/it]"
     ]
    },
    {
     "name": "stdout",
     "output_type": "stream",
     "text": [
      "\tspread_disease()\t\t1.48 sec.\n",
      "\tscreen_for_disease()\t\t0.00 sec.\n",
      "\ttrack_stats()\t\t\t0.00 sec.\n",
      "[epoch=157]\tinfected=17\ttransmitters(visible+invisible)=45\n",
      "\n",
      "\n",
      "radiuses 1 1\n",
      "resp.sum 29947\n",
      "resp.sum 50712\n",
      "\tdecrement_timers()\t\t0.00 sec.\n",
      "\twalk_iter()\t\t\t2.18 sec.\n",
      "\tmake_disease_matrices()\t\t0.00 sec.\n"
     ]
    },
    {
     "name": "stderr",
     "output_type": "stream",
     "text": [
      "\r",
      " 26%|██▋       | 158/600 [14:09<26:30,  3.60s/it]"
     ]
    },
    {
     "name": "stdout",
     "output_type": "stream",
     "text": [
      "\tspread_disease()\t\t1.35 sec.\n",
      "\tscreen_for_disease()\t\t0.00 sec.\n",
      "\ttrack_stats()\t\t\t0.00 sec.\n",
      "[epoch=158]\tinfected=18\ttransmitters(visible+invisible)=42\n",
      "\n",
      "\n",
      "radiuses 1 1\n",
      "resp.sum 28225\n",
      "resp.sum 50712\n",
      "\tdecrement_timers()\t\t0.00 sec.\n",
      "\twalk_iter()\t\t\t2.21 sec.\n",
      "\tmake_disease_matrices()\t\t0.00 sec.\n"
     ]
    },
    {
     "name": "stderr",
     "output_type": "stream",
     "text": [
      "\r",
      " 26%|██▋       | 159/600 [14:12<26:27,  3.60s/it]"
     ]
    },
    {
     "name": "stdout",
     "output_type": "stream",
     "text": [
      "\tspread_disease()\t\t1.37 sec.\n",
      "\tscreen_for_disease()\t\t0.00 sec.\n",
      "\ttrack_stats()\t\t\t0.00 sec.\n",
      "[epoch=159]\tinfected=17\ttransmitters(visible+invisible)=43\n",
      "\n",
      "\n",
      "radiuses 1 1\n",
      "resp.sum 30753\n",
      "resp.sum 50712\n",
      "\tdecrement_timers()\t\t0.00 sec.\n",
      "\twalk_iter()\t\t\t2.23 sec.\n",
      "\tmake_disease_matrices()\t\t0.00 sec.\n"
     ]
    },
    {
     "name": "stderr",
     "output_type": "stream",
     "text": [
      "\r",
      " 27%|██▋       | 160/600 [14:16<26:27,  3.61s/it]"
     ]
    },
    {
     "name": "stdout",
     "output_type": "stream",
     "text": [
      "\tspread_disease()\t\t1.37 sec.\n",
      "\tscreen_for_disease()\t\t0.00 sec.\n",
      "\ttrack_stats()\t\t\t0.00 sec.\n",
      "[epoch=160]\tinfected=15\ttransmitters(visible+invisible)=42\n",
      "\n",
      "\n",
      "radiuses 1 1\n",
      "resp.sum 29947\n",
      "resp.sum 50712\n",
      "\tdecrement_timers()\t\t0.00 sec.\n",
      "\twalk_iter()\t\t\t2.16 sec.\n",
      "\tmake_disease_matrices()\t\t0.00 sec.\n"
     ]
    },
    {
     "name": "stderr",
     "output_type": "stream",
     "text": [
      "\r",
      " 27%|██▋       | 161/600 [14:19<26:28,  3.62s/it]"
     ]
    },
    {
     "name": "stdout",
     "output_type": "stream",
     "text": [
      "\tspread_disease()\t\t1.47 sec.\n",
      "\tscreen_for_disease()\t\t0.00 sec.\n",
      "\ttrack_stats()\t\t\t0.00 sec.\n",
      "[epoch=161]\tinfected=13\ttransmitters(visible+invisible)=44\n",
      "\n",
      "\n",
      "radiuses 1 1\n",
      "resp.sum 30753\n",
      "resp.sum 50712\n",
      "\tdecrement_timers()\t\t0.00 sec.\n",
      "\twalk_iter()\t\t\t2.13 sec.\n",
      "\tmake_disease_matrices()\t\t0.00 sec.\n"
     ]
    },
    {
     "name": "stderr",
     "output_type": "stream",
     "text": [
      "\r",
      " 27%|██▋       | 162/600 [14:23<26:21,  3.61s/it]"
     ]
    },
    {
     "name": "stdout",
     "output_type": "stream",
     "text": [
      "\tspread_disease()\t\t1.44 sec.\n",
      "\tscreen_for_disease()\t\t0.00 sec.\n",
      "\ttrack_stats()\t\t\t0.00 sec.\n",
      "[epoch=162]\tinfected=14\ttransmitters(visible+invisible)=41\n",
      "\n",
      "\n",
      "radiuses 1 1\n",
      "resp.sum 29947\n",
      "resp.sum 50712\n",
      "\tdecrement_timers()\t\t0.00 sec.\n",
      "\twalk_iter()\t\t\t2.06 sec.\n",
      "\tmake_disease_matrices()\t\t0.00 sec.\n"
     ]
    },
    {
     "name": "stderr",
     "output_type": "stream",
     "text": [
      "\r",
      " 27%|██▋       | 163/600 [14:27<26:09,  3.59s/it]"
     ]
    },
    {
     "name": "stdout",
     "output_type": "stream",
     "text": [
      "\tspread_disease()\t\t1.46 sec.\n",
      "\tscreen_for_disease()\t\t0.00 sec.\n",
      "\ttrack_stats()\t\t\t0.00 sec.\n",
      "[epoch=163]\tinfected=13\ttransmitters(visible+invisible)=40\n",
      "\n",
      "\n",
      "radiuses 1 1\n",
      "resp.sum 29106\n",
      "resp.sum 50712\n",
      "\tdecrement_timers()\t\t0.00 sec.\n",
      "\twalk_iter()\t\t\t2.15 sec.\n",
      "\tmake_disease_matrices()\t\t0.00 sec.\n"
     ]
    },
    {
     "name": "stderr",
     "output_type": "stream",
     "text": [
      "\r",
      " 27%|██▋       | 164/600 [14:30<26:06,  3.59s/it]"
     ]
    },
    {
     "name": "stdout",
     "output_type": "stream",
     "text": [
      "\tspread_disease()\t\t1.42 sec.\n",
      "\tscreen_for_disease()\t\t0.00 sec.\n",
      "\ttrack_stats()\t\t\t0.00 sec.\n",
      "[epoch=164]\tinfected=12\ttransmitters(visible+invisible)=41\n",
      "\n",
      "\n",
      "radiuses 1 1\n",
      "resp.sum 29106\n",
      "resp.sum 50712\n",
      "\tdecrement_timers()\t\t0.00 sec.\n",
      "\twalk_iter()\t\t\t2.06 sec.\n",
      "\tmake_disease_matrices()\t\t0.00 sec.\n"
     ]
    },
    {
     "name": "stderr",
     "output_type": "stream",
     "text": [
      "\r",
      " 28%|██▊       | 165/600 [14:34<25:47,  3.56s/it]"
     ]
    },
    {
     "name": "stdout",
     "output_type": "stream",
     "text": [
      "\tspread_disease()\t\t1.40 sec.\n",
      "\tscreen_for_disease()\t\t0.00 sec.\n",
      "\ttrack_stats()\t\t\t0.00 sec.\n",
      "[epoch=165]\tinfected=12\ttransmitters(visible+invisible)=39\n",
      "\n",
      "\n",
      "radiuses 1 1\n",
      "resp.sum 28225\n",
      "resp.sum 50712\n",
      "\tdecrement_timers()\t\t0.00 sec.\n",
      "\twalk_iter()\t\t\t2.12 sec.\n",
      "\tmake_disease_matrices()\t\t0.00 sec.\n"
     ]
    },
    {
     "name": "stderr",
     "output_type": "stream",
     "text": [
      "\r",
      " 28%|██▊       | 166/600 [14:37<25:59,  3.59s/it]"
     ]
    },
    {
     "name": "stdout",
     "output_type": "stream",
     "text": [
      "\tspread_disease()\t\t1.54 sec.\n",
      "\tscreen_for_disease()\t\t0.00 sec.\n",
      "\ttrack_stats()\t\t\t0.00 sec.\n",
      "[epoch=166]\tinfected=11\ttransmitters(visible+invisible)=40\n",
      "\n",
      "\n",
      "radiuses 1 1\n",
      "resp.sum 28225\n",
      "resp.sum 50712\n",
      "\tdecrement_timers()\t\t0.00 sec.\n",
      "\twalk_iter()\t\t\t2.08 sec.\n",
      "\tmake_disease_matrices()\t\t0.01 sec.\n"
     ]
    },
    {
     "name": "stderr",
     "output_type": "stream",
     "text": [
      "\r",
      " 28%|██▊       | 167/600 [14:41<26:21,  3.65s/it]"
     ]
    },
    {
     "name": "stdout",
     "output_type": "stream",
     "text": [
      "\tspread_disease()\t\t1.67 sec.\n",
      "\tscreen_for_disease()\t\t0.00 sec.\n",
      "\ttrack_stats()\t\t\t0.00 sec.\n",
      "[epoch=167]\tinfected=12\ttransmitters(visible+invisible)=38\n",
      "\n",
      "\n",
      "radiuses 1 1\n",
      "resp.sum 26330\n",
      "resp.sum 50712\n",
      "\tdecrement_timers()\t\t0.01 sec.\n",
      "\twalk_iter()\t\t\t2.22 sec.\n",
      "\tmake_disease_matrices()\t\t0.00 sec.\n"
     ]
    },
    {
     "name": "stderr",
     "output_type": "stream",
     "text": [
      "\r",
      " 28%|██▊       | 168/600 [14:45<26:23,  3.67s/it]"
     ]
    },
    {
     "name": "stdout",
     "output_type": "stream",
     "text": [
      "\tspread_disease()\t\t1.45 sec.\n",
      "\tscreen_for_disease()\t\t0.00 sec.\n",
      "\ttrack_stats()\t\t\t0.00 sec.\n",
      "[epoch=168]\tinfected=12\ttransmitters(visible+invisible)=38\n",
      "\n",
      "\n",
      "radiuses 1 1\n",
      "resp.sum 26330\n",
      "resp.sum 50712\n",
      "\tdecrement_timers()\t\t0.01 sec.\n",
      "\twalk_iter()\t\t\t2.18 sec.\n",
      "\tmake_disease_matrices()\t\t0.00 sec.\n"
     ]
    },
    {
     "name": "stderr",
     "output_type": "stream",
     "text": [
      "\r",
      " 28%|██▊       | 169/600 [14:48<26:16,  3.66s/it]"
     ]
    },
    {
     "name": "stdout",
     "output_type": "stream",
     "text": [
      "\tspread_disease()\t\t1.43 sec.\n",
      "\tscreen_for_disease()\t\t0.00 sec.\n",
      "\ttrack_stats()\t\t\t0.00 sec.\n",
      "[epoch=169]\tinfected=13\ttransmitters(visible+invisible)=37\n",
      "\n",
      "\n",
      "radiuses 1 1\n",
      "resp.sum 25306\n",
      "resp.sum 50712\n",
      "\tdecrement_timers()\t\t0.00 sec.\n",
      "\twalk_iter()\t\t\t2.18 sec.\n",
      "\tmake_disease_matrices()\t\t0.00 sec.\n"
     ]
    },
    {
     "name": "stderr",
     "output_type": "stream",
     "text": [
      "\r",
      " 28%|██▊       | 170/600 [14:52<26:10,  3.65s/it]"
     ]
    },
    {
     "name": "stdout",
     "output_type": "stream",
     "text": [
      "\tspread_disease()\t\t1.44 sec.\n",
      "\tscreen_for_disease()\t\t0.00 sec.\n",
      "\ttrack_stats()\t\t\t0.00 sec.\n",
      "[epoch=170]\tinfected=15\ttransmitters(visible+invisible)=38\n",
      "\n",
      "\n",
      "radiuses 1 1\n",
      "resp.sum 27302\n",
      "resp.sum 50712\n",
      "\tdecrement_timers()\t\t0.00 sec.\n",
      "\twalk_iter()\t\t\t2.08 sec.\n",
      "\tmake_disease_matrices()\t\t0.00 sec.\n"
     ]
    },
    {
     "name": "stderr",
     "output_type": "stream",
     "text": [
      "\r",
      " 28%|██▊       | 171/600 [14:56<25:59,  3.63s/it]"
     ]
    },
    {
     "name": "stdout",
     "output_type": "stream",
     "text": [
      "\tspread_disease()\t\t1.49 sec.\n",
      "\tscreen_for_disease()\t\t0.00 sec.\n",
      "\ttrack_stats()\t\t\t0.00 sec.\n",
      "[epoch=171]\tinfected=14\ttransmitters(visible+invisible)=39\n",
      "\n",
      "\n",
      "radiuses 1 1\n",
      "resp.sum 29947\n",
      "resp.sum 50712\n",
      "\tdecrement_timers()\t\t0.00 sec.\n",
      "\twalk_iter()\t\t\t2.14 sec.\n",
      "\tmake_disease_matrices()\t\t0.00 sec.\n"
     ]
    },
    {
     "name": "stderr",
     "output_type": "stream",
     "text": [
      "\r",
      " 29%|██▊       | 172/600 [14:59<25:54,  3.63s/it]"
     ]
    },
    {
     "name": "stdout",
     "output_type": "stream",
     "text": [
      "\tspread_disease()\t\t1.47 sec.\n",
      "\tscreen_for_disease()\t\t0.00 sec.\n",
      "\ttrack_stats()\t\t\t0.00 sec.\n",
      "[epoch=172]\tinfected=18\ttransmitters(visible+invisible)=38\n",
      "\n",
      "\n",
      "radiuses 1 1\n",
      "resp.sum 29106\n",
      "resp.sum 50712\n",
      "\tdecrement_timers()\t\t0.00 sec.\n",
      "\twalk_iter()\t\t\t2.13 sec.\n",
      "\tmake_disease_matrices()\t\t0.00 sec.\n"
     ]
    },
    {
     "name": "stderr",
     "output_type": "stream",
     "text": [
      "\r",
      " 29%|██▉       | 173/600 [15:03<25:50,  3.63s/it]"
     ]
    },
    {
     "name": "stdout",
     "output_type": "stream",
     "text": [
      "\tspread_disease()\t\t1.48 sec.\n",
      "\tscreen_for_disease()\t\t0.00 sec.\n",
      "\ttrack_stats()\t\t\t0.00 sec.\n",
      "[epoch=173]\tinfected=17\ttransmitters(visible+invisible)=38\n",
      "\n",
      "\n",
      "radiuses 1 1\n",
      "resp.sum 28225\n",
      "resp.sum 50712\n",
      "\tdecrement_timers()\t\t0.00 sec.\n",
      "\twalk_iter()\t\t\t2.09 sec.\n",
      "\tmake_disease_matrices()\t\t0.01 sec.\n"
     ]
    },
    {
     "name": "stderr",
     "output_type": "stream",
     "text": [
      "\r",
      " 29%|██▉       | 174/600 [15:07<25:35,  3.61s/it]"
     ]
    },
    {
     "name": "stdout",
     "output_type": "stream",
     "text": [
      "\tspread_disease()\t\t1.43 sec.\n",
      "\tscreen_for_disease()\t\t0.00 sec.\n",
      "\ttrack_stats()\t\t\t0.00 sec.\n",
      "[epoch=174]\tinfected=16\ttransmitters(visible+invisible)=37\n",
      "\n",
      "\n",
      "radiuses 1 1\n",
      "resp.sum 27302\n",
      "resp.sum 50712\n",
      "\tdecrement_timers()\t\t0.00 sec.\n",
      "\twalk_iter()\t\t\t2.15 sec.\n",
      "\tmake_disease_matrices()\t\t0.01 sec.\n"
     ]
    },
    {
     "name": "stderr",
     "output_type": "stream",
     "text": [
      "\r",
      " 29%|██▉       | 175/600 [15:10<25:32,  3.60s/it]"
     ]
    },
    {
     "name": "stdout",
     "output_type": "stream",
     "text": [
      "\tspread_disease()\t\t1.43 sec.\n",
      "\tscreen_for_disease()\t\t0.00 sec.\n",
      "\ttrack_stats()\t\t\t0.00 sec.\n",
      "[epoch=175]\tinfected=16\ttransmitters(visible+invisible)=37\n",
      "\n",
      "\n",
      "radiuses 1 1\n",
      "resp.sum 27302\n",
      "resp.sum 50712\n",
      "\tdecrement_timers()\t\t0.00 sec.\n",
      "\twalk_iter()\t\t\t2.18 sec.\n",
      "\tmake_disease_matrices()\t\t0.00 sec.\n"
     ]
    },
    {
     "name": "stderr",
     "output_type": "stream",
     "text": [
      "\r",
      " 29%|██▉       | 176/600 [15:14<25:42,  3.64s/it]"
     ]
    },
    {
     "name": "stdout",
     "output_type": "stream",
     "text": [
      "\tspread_disease()\t\t1.51 sec.\n",
      "\tscreen_for_disease()\t\t0.00 sec.\n",
      "\ttrack_stats()\t\t\t0.00 sec.\n",
      "[epoch=176]\tinfected=16\ttransmitters(visible+invisible)=36\n",
      "\n",
      "\n",
      "radiuses 1 1\n",
      "resp.sum 28225\n",
      "resp.sum 50712\n",
      "\tdecrement_timers()\t\t0.00 sec.\n",
      "\twalk_iter()\t\t\t2.05 sec.\n",
      "\tmake_disease_matrices()\t\t0.00 sec.\n"
     ]
    },
    {
     "name": "stderr",
     "output_type": "stream",
     "text": [
      "\r",
      " 30%|██▉       | 177/600 [15:17<25:31,  3.62s/it]"
     ]
    },
    {
     "name": "stdout",
     "output_type": "stream",
     "text": [
      "\tspread_disease()\t\t1.50 sec.\n",
      "\tscreen_for_disease()\t\t0.00 sec.\n",
      "\ttrack_stats()\t\t\t0.00 sec.\n",
      "[epoch=177]\tinfected=15\ttransmitters(visible+invisible)=36\n",
      "\n",
      "\n",
      "radiuses 1 1\n",
      "resp.sum 27302\n",
      "resp.sum 50712\n",
      "\tdecrement_timers()\t\t0.00 sec.\n",
      "\twalk_iter()\t\t\t2.17 sec.\n",
      "\tmake_disease_matrices()\t\t0.00 sec.\n"
     ]
    },
    {
     "name": "stderr",
     "output_type": "stream",
     "text": [
      "\r",
      " 30%|██▉       | 178/600 [15:21<25:36,  3.64s/it]"
     ]
    },
    {
     "name": "stdout",
     "output_type": "stream",
     "text": [
      "\tspread_disease()\t\t1.50 sec.\n",
      "\tscreen_for_disease()\t\t0.00 sec.\n",
      "\ttrack_stats()\t\t\t0.00 sec.\n",
      "[epoch=178]\tinfected=12\ttransmitters(visible+invisible)=38\n",
      "\n",
      "\n",
      "radiuses 1 1\n",
      "resp.sum 27302\n",
      "resp.sum 50712\n",
      "\tdecrement_timers()\t\t0.00 sec.\n",
      "\twalk_iter()\t\t\t2.06 sec.\n",
      "\tmake_disease_matrices()\t\t0.00 sec.\n"
     ]
    },
    {
     "name": "stderr",
     "output_type": "stream",
     "text": [
      "\r",
      " 30%|██▉       | 179/600 [15:25<25:30,  3.64s/it]"
     ]
    },
    {
     "name": "stdout",
     "output_type": "stream",
     "text": [
      "\tspread_disease()\t\t1.55 sec.\n",
      "\tscreen_for_disease()\t\t0.00 sec.\n",
      "\ttrack_stats()\t\t\t0.00 sec.\n",
      "[epoch=179]\tinfected=13\ttransmitters(visible+invisible)=35\n",
      "\n",
      "\n",
      "radiuses 1 1\n",
      "resp.sum 25306\n",
      "resp.sum 50712\n",
      "\tdecrement_timers()\t\t0.01 sec.\n",
      "\twalk_iter()\t\t\t2.05 sec.\n",
      "\tmake_disease_matrices()\t\t0.00 sec.\n"
     ]
    },
    {
     "name": "stderr",
     "output_type": "stream",
     "text": [
      "\r",
      " 30%|███       | 180/600 [15:28<25:05,  3.58s/it]"
     ]
    },
    {
     "name": "stdout",
     "output_type": "stream",
     "text": [
      "\tspread_disease()\t\t1.39 sec.\n",
      "\tscreen_for_disease()\t\t0.00 sec.\n",
      "\ttrack_stats()\t\t\t0.00 sec.\n",
      "[epoch=180]\tinfected=12\ttransmitters(visible+invisible)=36\n",
      "\n",
      "\n",
      "radiuses 1.0125 1.0125\n",
      "resp.sum 26330\n",
      "resp.sum 12836\n",
      "\tdecrement_timers()\t\t0.00 sec.\n",
      "\twalk_iter()\t\t\t2.06 sec.\n",
      "\tmake_disease_matrices()\t\t0.01 sec.\n"
     ]
    },
    {
     "name": "stderr",
     "output_type": "stream",
     "text": [
      "\r",
      " 30%|███       | 181/600 [15:32<24:56,  3.57s/it]"
     ]
    },
    {
     "name": "stdout",
     "output_type": "stream",
     "text": [
      "\tspread_disease()\t\t1.47 sec.\n",
      "\tscreen_for_disease()\t\t0.00 sec.\n",
      "\ttrack_stats()\t\t\t0.00 sec.\n",
      "[epoch=181]\tinfected=12\ttransmitters(visible+invisible)=33\n",
      "\n",
      "\n",
      "radiuses 1.025 1.025\n",
      "resp.sum 23066\n",
      "resp.sum 12995\n",
      "\tdecrement_timers()\t\t0.00 sec.\n",
      "\twalk_iter()\t\t\t2.03 sec.\n",
      "\tmake_disease_matrices()\t\t0.00 sec.\n"
     ]
    },
    {
     "name": "stderr",
     "output_type": "stream",
     "text": [
      "\r",
      " 30%|███       | 182/600 [15:35<24:46,  3.56s/it]"
     ]
    },
    {
     "name": "stdout",
     "output_type": "stream",
     "text": [
      "\tspread_disease()\t\t1.46 sec.\n",
      "\tscreen_for_disease()\t\t0.00 sec.\n",
      "\ttrack_stats()\t\t\t0.00 sec.\n",
      "[epoch=182]\tinfected=11\ttransmitters(visible+invisible)=34\n",
      "\n",
      "\n",
      "radiuses 1.0375 1.0375\n",
      "resp.sum 26330\n",
      "resp.sum 13153\n",
      "\tdecrement_timers()\t\t0.00 sec.\n",
      "\twalk_iter()\t\t\t2.05 sec.\n",
      "\tmake_disease_matrices()\t\t0.00 sec.\n"
     ]
    },
    {
     "name": "stderr",
     "output_type": "stream",
     "text": [
      "\r",
      " 30%|███       | 183/600 [15:39<24:46,  3.56s/it]"
     ]
    },
    {
     "name": "stdout",
     "output_type": "stream",
     "text": [
      "\tspread_disease()\t\t1.50 sec.\n",
      "\tscreen_for_disease()\t\t0.01 sec.\n",
      "\ttrack_stats()\t\t\t0.00 sec.\n",
      "[epoch=183]\tinfected=11\ttransmitters(visible+invisible)=34\n",
      "\n",
      "\n",
      "radiuses 1.05 1.05\n",
      "resp.sum 27302\n",
      "resp.sum 13312\n",
      "\tdecrement_timers()\t\t0.01 sec.\n",
      "\twalk_iter()\t\t\t2.06 sec.\n",
      "\tmake_disease_matrices()\t\t0.00 sec.\n"
     ]
    },
    {
     "name": "stderr",
     "output_type": "stream",
     "text": [
      "\r",
      " 31%|███       | 184/600 [15:42<24:38,  3.55s/it]"
     ]
    },
    {
     "name": "stdout",
     "output_type": "stream",
     "text": [
      "\tspread_disease()\t\t1.44 sec.\n",
      "\tscreen_for_disease()\t\t0.00 sec.\n",
      "\ttrack_stats()\t\t\t0.00 sec.\n",
      "[epoch=184]\tinfected=13\ttransmitters(visible+invisible)=33\n",
      "\n",
      "\n",
      "radiuses 1.0625 1.0625\n",
      "resp.sum 27302\n",
      "resp.sum 13470\n",
      "\tdecrement_timers()\t\t0.00 sec.\n",
      "\twalk_iter()\t\t\t2.06 sec.\n",
      "\tmake_disease_matrices()\t\t0.00 sec.\n"
     ]
    },
    {
     "name": "stderr",
     "output_type": "stream",
     "text": [
      "\r",
      " 31%|███       | 185/600 [15:46<24:41,  3.57s/it]"
     ]
    },
    {
     "name": "stdout",
     "output_type": "stream",
     "text": [
      "\tspread_disease()\t\t1.53 sec.\n",
      "\tscreen_for_disease()\t\t0.00 sec.\n",
      "\ttrack_stats()\t\t\t0.00 sec.\n",
      "[epoch=185]\tinfected=13\ttransmitters(visible+invisible)=33\n",
      "\n",
      "\n",
      "radiuses 1.075 1.075\n",
      "resp.sum 28225\n",
      "resp.sum 13628\n",
      "\tdecrement_timers()\t\t0.00 sec.\n",
      "\twalk_iter()\t\t\t2.05 sec.\n",
      "\tmake_disease_matrices()\t\t0.00 sec.\n"
     ]
    },
    {
     "name": "stderr",
     "output_type": "stream",
     "text": [
      "\r",
      " 31%|███       | 186/600 [15:49<24:19,  3.53s/it]"
     ]
    },
    {
     "name": "stdout",
     "output_type": "stream",
     "text": [
      "\tspread_disease()\t\t1.35 sec.\n",
      "\tscreen_for_disease()\t\t0.00 sec.\n",
      "\ttrack_stats()\t\t\t0.00 sec.\n",
      "[epoch=186]\tinfected=12\ttransmitters(visible+invisible)=33\n",
      "\n",
      "\n",
      "radiuses 1.0875 1.0875\n",
      "resp.sum 29106\n",
      "resp.sum 13787\n",
      "\tdecrement_timers()\t\t0.00 sec.\n",
      "\twalk_iter()\t\t\t2.13 sec.\n",
      "\tmake_disease_matrices()\t\t0.00 sec.\n"
     ]
    },
    {
     "name": "stderr",
     "output_type": "stream",
     "text": [
      "\r",
      " 31%|███       | 187/600 [15:53<24:22,  3.54s/it]"
     ]
    },
    {
     "name": "stdout",
     "output_type": "stream",
     "text": [
      "\tspread_disease()\t\t1.42 sec.\n",
      "\tscreen_for_disease()\t\t0.00 sec.\n",
      "\ttrack_stats()\t\t\t0.00 sec.\n",
      "[epoch=187]\tinfected=13\ttransmitters(visible+invisible)=32\n",
      "\n",
      "\n",
      "radiuses 1.1 1.1\n",
      "resp.sum 28225\n",
      "resp.sum 13945\n",
      "\tdecrement_timers()\t\t0.00 sec.\n",
      "\twalk_iter()\t\t\t2.15 sec.\n",
      "\tmake_disease_matrices()\t\t0.00 sec.\n"
     ]
    },
    {
     "name": "stderr",
     "output_type": "stream",
     "text": [
      "\r",
      " 31%|███▏      | 188/600 [15:56<24:16,  3.54s/it]"
     ]
    },
    {
     "name": "stdout",
     "output_type": "stream",
     "text": [
      "\tspread_disease()\t\t1.36 sec.\n",
      "\tscreen_for_disease()\t\t0.00 sec.\n",
      "\ttrack_stats()\t\t\t0.00 sec.\n",
      "[epoch=188]\tinfected=13\ttransmitters(visible+invisible)=32\n",
      "\n",
      "\n",
      "radiuses 1.1125 1.1125\n",
      "resp.sum 28225\n",
      "resp.sum 14104\n",
      "\tdecrement_timers()\t\t0.00 sec.\n",
      "\twalk_iter()\t\t\t2.09 sec.\n",
      "\tmake_disease_matrices()\t\t0.00 sec.\n"
     ]
    },
    {
     "name": "stderr",
     "output_type": "stream",
     "text": [
      "\r",
      " 32%|███▏      | 189/600 [16:00<24:21,  3.56s/it]"
     ]
    },
    {
     "name": "stdout",
     "output_type": "stream",
     "text": [
      "\tspread_disease()\t\t1.49 sec.\n",
      "\tscreen_for_disease()\t\t0.00 sec.\n",
      "\ttrack_stats()\t\t\t0.00 sec.\n",
      "[epoch=189]\tinfected=13\ttransmitters(visible+invisible)=31\n",
      "\n",
      "\n",
      "radiuses 1.125 1.125\n",
      "resp.sum 28225\n",
      "resp.sum 14262\n",
      "\tdecrement_timers()\t\t0.00 sec.\n",
      "\twalk_iter()\t\t\t1.97 sec.\n",
      "\tmake_disease_matrices()\t\t0.00 sec.\n"
     ]
    },
    {
     "name": "stderr",
     "output_type": "stream",
     "text": [
      "\r",
      " 32%|███▏      | 190/600 [16:03<23:56,  3.50s/it]"
     ]
    },
    {
     "name": "stdout",
     "output_type": "stream",
     "text": [
      "\tspread_disease()\t\t1.39 sec.\n",
      "\tscreen_for_disease()\t\t0.00 sec.\n",
      "\ttrack_stats()\t\t\t0.00 sec.\n",
      "[epoch=190]\tinfected=11\ttransmitters(visible+invisible)=32\n",
      "\n",
      "\n",
      "radiuses 1.1375 1.1375\n",
      "resp.sum 27302\n",
      "resp.sum 14421\n",
      "\tdecrement_timers()\t\t0.00 sec.\n",
      "\twalk_iter()\t\t\t2.16 sec.\n",
      "\tmake_disease_matrices()\t\t0.00 sec.\n"
     ]
    },
    {
     "name": "stderr",
     "output_type": "stream",
     "text": [
      "\r",
      " 32%|███▏      | 191/600 [16:07<24:03,  3.53s/it]"
     ]
    },
    {
     "name": "stdout",
     "output_type": "stream",
     "text": [
      "\tspread_disease()\t\t1.41 sec.\n",
      "\tscreen_for_disease()\t\t0.00 sec.\n",
      "\ttrack_stats()\t\t\t0.00 sec.\n",
      "[epoch=191]\tinfected=10\ttransmitters(visible+invisible)=32\n",
      "\n",
      "\n",
      "radiuses 1.15 1.15\n",
      "resp.sum 27302\n",
      "resp.sum 14579\n",
      "\tdecrement_timers()\t\t0.00 sec.\n",
      "\twalk_iter()\t\t\t2.02 sec.\n",
      "\tmake_disease_matrices()\t\t0.00 sec.\n"
     ]
    },
    {
     "name": "stderr",
     "output_type": "stream",
     "text": [
      "\r",
      " 32%|███▏      | 192/600 [16:11<23:51,  3.51s/it]"
     ]
    },
    {
     "name": "stdout",
     "output_type": "stream",
     "text": [
      "\tspread_disease()\t\t1.41 sec.\n",
      "\tscreen_for_disease()\t\t0.00 sec.\n",
      "\ttrack_stats()\t\t\t0.00 sec.\n",
      "[epoch=192]\tinfected=9\ttransmitters(visible+invisible)=32\n",
      "\n",
      "\n",
      "radiuses 1.1625 1.1625\n",
      "resp.sum 27302\n",
      "resp.sum 14738\n",
      "\tdecrement_timers()\t\t0.00 sec.\n",
      "\twalk_iter()\t\t\t2.10 sec.\n",
      "\tmake_disease_matrices()\t\t0.00 sec.\n"
     ]
    },
    {
     "name": "stderr",
     "output_type": "stream",
     "text": [
      "\r",
      " 32%|███▏      | 193/600 [16:14<24:03,  3.55s/it]"
     ]
    },
    {
     "name": "stdout",
     "output_type": "stream",
     "text": [
      "\tspread_disease()\t\t1.51 sec.\n",
      "\tscreen_for_disease()\t\t0.00 sec.\n",
      "\ttrack_stats()\t\t\t0.00 sec.\n",
      "[epoch=193]\tinfected=10\ttransmitters(visible+invisible)=30\n",
      "\n",
      "\n",
      "radiuses 1.175 1.175\n",
      "resp.sum 26330\n",
      "resp.sum 14896\n",
      "\tdecrement_timers()\t\t0.00 sec.\n",
      "\twalk_iter()\t\t\t2.06 sec.\n",
      "\tmake_disease_matrices()\t\t0.00 sec.\n"
     ]
    },
    {
     "name": "stderr",
     "output_type": "stream",
     "text": [
      "\r",
      " 32%|███▏      | 194/600 [16:18<23:51,  3.53s/it]"
     ]
    },
    {
     "name": "stdout",
     "output_type": "stream",
     "text": [
      "\tspread_disease()\t\t1.40 sec.\n",
      "\tscreen_for_disease()\t\t0.00 sec.\n",
      "\ttrack_stats()\t\t\t0.00 sec.\n",
      "[epoch=194]\tinfected=8\ttransmitters(visible+invisible)=29\n",
      "\n",
      "\n",
      "radiuses 1.1875 1.1875\n",
      "resp.sum 23066\n",
      "resp.sum 15055\n",
      "\tdecrement_timers()\t\t0.00 sec.\n",
      "\twalk_iter()\t\t\t2.10 sec.\n",
      "\tmake_disease_matrices()\t\t0.00 sec.\n"
     ]
    },
    {
     "name": "stderr",
     "output_type": "stream",
     "text": [
      "\r",
      " 32%|███▎      | 195/600 [16:21<24:02,  3.56s/it]"
     ]
    },
    {
     "name": "stdout",
     "output_type": "stream",
     "text": [
      "\tspread_disease()\t\t1.52 sec.\n",
      "\tscreen_for_disease()\t\t0.00 sec.\n",
      "\ttrack_stats()\t\t\t0.00 sec.\n",
      "[epoch=195]\tinfected=7\ttransmitters(visible+invisible)=30\n",
      "\n",
      "\n",
      "radiuses 1.2 1.2\n",
      "resp.sum 23066\n",
      "resp.sum 15213\n",
      "\tdecrement_timers()\t\t0.00 sec.\n",
      "\twalk_iter()\t\t\t2.10 sec.\n",
      "\tmake_disease_matrices()\t\t0.00 sec.\n"
     ]
    },
    {
     "name": "stderr",
     "output_type": "stream",
     "text": [
      "\r",
      " 33%|███▎      | 196/600 [16:25<24:02,  3.57s/it]"
     ]
    },
    {
     "name": "stdout",
     "output_type": "stream",
     "text": [
      "\tspread_disease()\t\t1.46 sec.\n",
      "\tscreen_for_disease()\t\t0.00 sec.\n",
      "\ttrack_stats()\t\t\t0.00 sec.\n",
      "[epoch=196]\tinfected=8\ttransmitters(visible+invisible)=30\n",
      "\n",
      "\n",
      "radiuses 1.2125 1.2125\n",
      "resp.sum 23066\n",
      "resp.sum 15372\n",
      "\tdecrement_timers()\t\t0.01 sec.\n",
      "\twalk_iter()\t\t\t2.03 sec.\n",
      "\tmake_disease_matrices()\t\t0.00 sec.\n"
     ]
    },
    {
     "name": "stderr",
     "output_type": "stream",
     "text": [
      "\r",
      " 33%|███▎      | 197/600 [16:28<23:47,  3.54s/it]"
     ]
    },
    {
     "name": "stdout",
     "output_type": "stream",
     "text": [
      "\tspread_disease()\t\t1.42 sec.\n",
      "\tscreen_for_disease()\t\t0.00 sec.\n",
      "\ttrack_stats()\t\t\t0.00 sec.\n",
      "[epoch=197]\tinfected=8\ttransmitters(visible+invisible)=31\n",
      "\n",
      "\n",
      "radiuses 1.225 1.225\n",
      "resp.sum 24220\n",
      "resp.sum 15530\n",
      "\tdecrement_timers()\t\t0.00 sec.\n",
      "\twalk_iter()\t\t\t2.08 sec.\n",
      "\tmake_disease_matrices()\t\t0.00 sec.\n"
     ]
    },
    {
     "name": "stderr",
     "output_type": "stream",
     "text": [
      "\r",
      " 33%|███▎      | 198/600 [16:32<23:50,  3.56s/it]"
     ]
    },
    {
     "name": "stdout",
     "output_type": "stream",
     "text": [
      "\tspread_disease()\t\t1.49 sec.\n",
      "\tscreen_for_disease()\t\t0.01 sec.\n",
      "\ttrack_stats()\t\t\t0.00 sec.\n",
      "[epoch=198]\tinfected=7\ttransmitters(visible+invisible)=31\n",
      "\n",
      "\n",
      "radiuses 1.2375 1.2375\n",
      "resp.sum 24220\n",
      "resp.sum 15689\n",
      "\tdecrement_timers()\t\t0.01 sec.\n",
      "\twalk_iter()\t\t\t2.08 sec.\n",
      "\tmake_disease_matrices()\t\t0.00 sec.\n"
     ]
    },
    {
     "name": "stderr",
     "output_type": "stream",
     "text": [
      "\r",
      " 33%|███▎      | 199/600 [16:35<23:42,  3.55s/it]"
     ]
    },
    {
     "name": "stdout",
     "output_type": "stream",
     "text": [
      "\tspread_disease()\t\t1.42 sec.\n",
      "\tscreen_for_disease()\t\t0.00 sec.\n",
      "\ttrack_stats()\t\t\t0.00 sec.\n",
      "[epoch=199]\tinfected=9\ttransmitters(visible+invisible)=31\n",
      "\n",
      "\n",
      "radiuses 1.25 1.25\n",
      "resp.sum 24220\n",
      "resp.sum 15847\n",
      "\tdecrement_timers()\t\t0.00 sec.\n",
      "\twalk_iter()\t\t\t2.21 sec.\n",
      "\tmake_disease_matrices()\t\t0.00 sec.\n"
     ]
    },
    {
     "name": "stderr",
     "output_type": "stream",
     "text": [
      "\r",
      " 33%|███▎      | 200/600 [16:39<23:40,  3.55s/it]"
     ]
    },
    {
     "name": "stdout",
     "output_type": "stream",
     "text": [
      "\tspread_disease()\t\t1.33 sec.\n",
      "\tscreen_for_disease()\t\t0.00 sec.\n",
      "\ttrack_stats()\t\t\t0.00 sec.\n",
      "[epoch=200]\tinfected=9\ttransmitters(visible+invisible)=31\n",
      "\n",
      "\n",
      "radiuses 1.2625 1.2625\n",
      "resp.sum 25306\n",
      "resp.sum 16006\n",
      "\tdecrement_timers()\t\t0.00 sec.\n",
      "\twalk_iter()\t\t\t2.30 sec.\n",
      "\tmake_disease_matrices()\t\t0.00 sec.\n"
     ]
    },
    {
     "name": "stderr",
     "output_type": "stream",
     "text": [
      "\r",
      " 34%|███▎      | 201/600 [16:43<24:09,  3.63s/it]"
     ]
    },
    {
     "name": "stdout",
     "output_type": "stream",
     "text": [
      "\tspread_disease()\t\t1.50 sec.\n",
      "\tscreen_for_disease()\t\t0.00 sec.\n",
      "\ttrack_stats()\t\t\t0.00 sec.\n",
      "[epoch=201]\tinfected=9\ttransmitters(visible+invisible)=30\n",
      "\n",
      "\n",
      "radiuses 1.275 1.275\n",
      "resp.sum 26330\n",
      "resp.sum 16164\n",
      "\tdecrement_timers()\t\t0.00 sec.\n",
      "\twalk_iter()\t\t\t2.07 sec.\n",
      "\tmake_disease_matrices()\t\t0.00 sec.\n"
     ]
    },
    {
     "name": "stderr",
     "output_type": "stream",
     "text": [
      "\r",
      " 34%|███▎      | 202/600 [16:46<24:04,  3.63s/it]"
     ]
    },
    {
     "name": "stdout",
     "output_type": "stream",
     "text": [
      "\tspread_disease()\t\t1.54 sec.\n",
      "\tscreen_for_disease()\t\t0.00 sec.\n",
      "\ttrack_stats()\t\t\t0.00 sec.\n",
      "[epoch=202]\tinfected=9\ttransmitters(visible+invisible)=28\n",
      "\n",
      "\n",
      "radiuses 1.2875 1.2875\n",
      "resp.sum 24220\n",
      "resp.sum 16323\n",
      "\tdecrement_timers()\t\t0.00 sec.\n",
      "\twalk_iter()\t\t\t2.00 sec.\n",
      "\tmake_disease_matrices()\t\t0.00 sec.\n"
     ]
    },
    {
     "name": "stderr",
     "output_type": "stream",
     "text": [
      "\r",
      " 34%|███▍      | 203/600 [16:50<23:53,  3.61s/it]"
     ]
    },
    {
     "name": "stdout",
     "output_type": "stream",
     "text": [
      "\tspread_disease()\t\t1.55 sec.\n",
      "\tscreen_for_disease()\t\t0.00 sec.\n",
      "\ttrack_stats()\t\t\t0.00 sec.\n",
      "[epoch=203]\tinfected=9\ttransmitters(visible+invisible)=26\n",
      "\n",
      "\n",
      "radiuses 1.3 1.3\n",
      "resp.sum 23066\n",
      "resp.sum 16481\n",
      "\tdecrement_timers()\t\t0.01 sec.\n",
      "\twalk_iter()\t\t\t2.06 sec.\n",
      "\tmake_disease_matrices()\t\t0.00 sec.\n"
     ]
    },
    {
     "name": "stderr",
     "output_type": "stream",
     "text": [
      "\r",
      " 34%|███▍      | 204/600 [16:54<23:32,  3.57s/it]"
     ]
    },
    {
     "name": "stdout",
     "output_type": "stream",
     "text": [
      "\tspread_disease()\t\t1.38 sec.\n",
      "\tscreen_for_disease()\t\t0.00 sec.\n",
      "\ttrack_stats()\t\t\t0.00 sec.\n",
      "[epoch=204]\tinfected=9\ttransmitters(visible+invisible)=26\n",
      "\n",
      "\n",
      "radiuses 1.3125 1.3125\n",
      "resp.sum 24220\n",
      "resp.sum 16640\n",
      "\tdecrement_timers()\t\t0.00 sec.\n",
      "\twalk_iter()\t\t\t2.18 sec.\n",
      "\tmake_disease_matrices()\t\t0.00 sec.\n"
     ]
    },
    {
     "name": "stderr",
     "output_type": "stream",
     "text": [
      "\r",
      " 34%|███▍      | 205/600 [16:57<23:39,  3.59s/it]"
     ]
    },
    {
     "name": "stdout",
     "output_type": "stream",
     "text": [
      "\tspread_disease()\t\t1.46 sec.\n",
      "\tscreen_for_disease()\t\t0.00 sec.\n",
      "\ttrack_stats()\t\t\t0.00 sec.\n",
      "[epoch=205]\tinfected=11\ttransmitters(visible+invisible)=25\n",
      "\n",
      "\n",
      "radiuses 1.325 1.325\n",
      "resp.sum 23066\n",
      "resp.sum 16798\n",
      "\tdecrement_timers()\t\t0.01 sec.\n",
      "\twalk_iter()\t\t\t2.15 sec.\n",
      "\tmake_disease_matrices()\t\t0.00 sec.\n"
     ]
    },
    {
     "name": "stderr",
     "output_type": "stream",
     "text": [
      "\r",
      " 34%|███▍      | 206/600 [17:01<23:29,  3.58s/it]"
     ]
    },
    {
     "name": "stdout",
     "output_type": "stream",
     "text": [
      "\tspread_disease()\t\t1.36 sec.\n",
      "\tscreen_for_disease()\t\t0.00 sec.\n",
      "\ttrack_stats()\t\t\t0.00 sec.\n",
      "[epoch=206]\tinfected=12\ttransmitters(visible+invisible)=24\n",
      "\n",
      "\n",
      "radiuses 1.3375 1.3375\n",
      "resp.sum 21830\n",
      "resp.sum 16956\n",
      "\tdecrement_timers()\t\t0.00 sec.\n",
      "\twalk_iter()\t\t\t2.04 sec.\n",
      "\tmake_disease_matrices()\t\t0.00 sec.\n"
     ]
    },
    {
     "name": "stderr",
     "output_type": "stream",
     "text": [
      "\r",
      " 34%|███▍      | 207/600 [17:04<23:21,  3.57s/it]"
     ]
    },
    {
     "name": "stdout",
     "output_type": "stream",
     "text": [
      "\tspread_disease()\t\t1.47 sec.\n",
      "\tscreen_for_disease()\t\t0.00 sec.\n",
      "\ttrack_stats()\t\t\t0.00 sec.\n",
      "[epoch=207]\tinfected=13\ttransmitters(visible+invisible)=24\n",
      "\n",
      "\n",
      "radiuses 1.35 1.35\n",
      "resp.sum 23066\n",
      "resp.sum 17115\n",
      "\tdecrement_timers()\t\t0.00 sec.\n",
      "\twalk_iter()\t\t\t1.99 sec.\n",
      "\tmake_disease_matrices()\t\t0.00 sec.\n"
     ]
    },
    {
     "name": "stderr",
     "output_type": "stream",
     "text": [
      "\r",
      " 35%|███▍      | 208/600 [17:08<23:13,  3.55s/it]"
     ]
    },
    {
     "name": "stdout",
     "output_type": "stream",
     "text": [
      "\tspread_disease()\t\t1.51 sec.\n",
      "\tscreen_for_disease()\t\t0.00 sec.\n",
      "\ttrack_stats()\t\t\t0.00 sec.\n",
      "[epoch=208]\tinfected=13\ttransmitters(visible+invisible)=24\n",
      "\n",
      "\n",
      "radiuses 1.3625 1.3625\n",
      "resp.sum 21830\n",
      "resp.sum 17273\n",
      "\tdecrement_timers()\t\t0.00 sec.\n",
      "\twalk_iter()\t\t\t2.02 sec.\n",
      "\tmake_disease_matrices()\t\t0.00 sec.\n"
     ]
    },
    {
     "name": "stderr",
     "output_type": "stream",
     "text": [
      "\r",
      " 35%|███▍      | 209/600 [17:11<23:10,  3.56s/it]"
     ]
    },
    {
     "name": "stdout",
     "output_type": "stream",
     "text": [
      "\tspread_disease()\t\t1.52 sec.\n",
      "\tscreen_for_disease()\t\t0.00 sec.\n",
      "\ttrack_stats()\t\t\t0.00 sec.\n",
      "[epoch=209]\tinfected=13\ttransmitters(visible+invisible)=25\n",
      "\n",
      "\n",
      "radiuses 1.375 1.375\n",
      "resp.sum 23066\n",
      "resp.sum 17432\n",
      "\tdecrement_timers()\t\t0.00 sec.\n",
      "\twalk_iter()\t\t\t2.00 sec.\n",
      "\tmake_disease_matrices()\t\t0.00 sec.\n"
     ]
    },
    {
     "name": "stderr",
     "output_type": "stream",
     "text": [
      "\r",
      " 35%|███▌      | 210/600 [17:15<23:00,  3.54s/it]"
     ]
    },
    {
     "name": "stdout",
     "output_type": "stream",
     "text": [
      "\tspread_disease()\t\t1.48 sec.\n",
      "\tscreen_for_disease()\t\t0.00 sec.\n",
      "\ttrack_stats()\t\t\t0.00 sec.\n",
      "[epoch=210]\tinfected=11\ttransmitters(visible+invisible)=27\n",
      "\n",
      "\n",
      "radiuses 1.3875 1.3875\n",
      "resp.sum 23066\n",
      "resp.sum 17590\n",
      "\tdecrement_timers()\t\t0.00 sec.\n",
      "\twalk_iter()\t\t\t2.00 sec.\n",
      "\tmake_disease_matrices()\t\t0.00 sec.\n"
     ]
    },
    {
     "name": "stderr",
     "output_type": "stream",
     "text": [
      "\r",
      " 35%|███▌      | 211/600 [17:18<22:47,  3.52s/it]"
     ]
    },
    {
     "name": "stdout",
     "output_type": "stream",
     "text": [
      "\tspread_disease()\t\t1.43 sec.\n",
      "\tscreen_for_disease()\t\t0.00 sec.\n",
      "\ttrack_stats()\t\t\t0.00 sec.\n",
      "[epoch=211]\tinfected=12\ttransmitters(visible+invisible)=26\n",
      "\n",
      "\n",
      "radiuses 1.4 1.4\n",
      "resp.sum 21830\n",
      "resp.sum 17749\n",
      "\tdecrement_timers()\t\t0.00 sec.\n",
      "\twalk_iter()\t\t\t2.20 sec.\n",
      "\tmake_disease_matrices()\t\t0.00 sec.\n"
     ]
    },
    {
     "name": "stderr",
     "output_type": "stream",
     "text": [
      "\r",
      " 35%|███▌      | 212/600 [17:22<22:46,  3.52s/it]"
     ]
    },
    {
     "name": "stdout",
     "output_type": "stream",
     "text": [
      "\tspread_disease()\t\t1.32 sec.\n",
      "\tscreen_for_disease()\t\t0.00 sec.\n",
      "\ttrack_stats()\t\t\t0.00 sec.\n",
      "[epoch=212]\tinfected=11\ttransmitters(visible+invisible)=26\n",
      "\n",
      "\n",
      "radiuses 1.4125 1.4125\n",
      "resp.sum 20499\n",
      "resp.sum 17907\n",
      "\tdecrement_timers()\t\t0.00 sec.\n",
      "\twalk_iter()\t\t\t2.14 sec.\n",
      "\tmake_disease_matrices()\t\t0.00 sec.\n"
     ]
    },
    {
     "name": "stderr",
     "output_type": "stream",
     "text": [
      "\r",
      " 36%|███▌      | 213/600 [17:25<22:49,  3.54s/it]"
     ]
    },
    {
     "name": "stdout",
     "output_type": "stream",
     "text": [
      "\tspread_disease()\t\t1.42 sec.\n",
      "\tscreen_for_disease()\t\t0.00 sec.\n",
      "\ttrack_stats()\t\t\t0.00 sec.\n",
      "[epoch=213]\tinfected=12\ttransmitters(visible+invisible)=26\n",
      "\n",
      "\n",
      "radiuses 1.425 1.425\n",
      "resp.sum 20499\n",
      "resp.sum 18066\n",
      "\tdecrement_timers()\t\t0.00 sec.\n",
      "\twalk_iter()\t\t\t2.00 sec.\n",
      "\tmake_disease_matrices()\t\t0.00 sec.\n"
     ]
    },
    {
     "name": "stderr",
     "output_type": "stream",
     "text": [
      "\r",
      " 36%|███▌      | 214/600 [17:29<22:49,  3.55s/it]"
     ]
    },
    {
     "name": "stdout",
     "output_type": "stream",
     "text": [
      "\tspread_disease()\t\t1.54 sec.\n",
      "\tscreen_for_disease()\t\t0.00 sec.\n",
      "\ttrack_stats()\t\t\t0.00 sec.\n",
      "[epoch=214]\tinfected=13\ttransmitters(visible+invisible)=26\n",
      "\n",
      "\n",
      "radiuses 1.4375 1.4375\n",
      "resp.sum 21830\n",
      "resp.sum 18224\n",
      "\tdecrement_timers()\t\t0.01 sec.\n",
      "\twalk_iter()\t\t\t2.13 sec.\n",
      "\tmake_disease_matrices()\t\t0.00 sec.\n"
     ]
    },
    {
     "name": "stderr",
     "output_type": "stream",
     "text": [
      "\r",
      " 36%|███▌      | 215/600 [17:33<22:48,  3.56s/it]"
     ]
    },
    {
     "name": "stdout",
     "output_type": "stream",
     "text": [
      "\tspread_disease()\t\t1.42 sec.\n",
      "\tscreen_for_disease()\t\t0.00 sec.\n",
      "\ttrack_stats()\t\t\t0.00 sec.\n",
      "[epoch=215]\tinfected=13\ttransmitters(visible+invisible)=25\n",
      "\n",
      "\n",
      "radiuses 1.45 1.45\n",
      "resp.sum 21830\n",
      "resp.sum 18383\n",
      "\tdecrement_timers()\t\t0.00 sec.\n",
      "\twalk_iter()\t\t\t2.21 sec.\n",
      "\tmake_disease_matrices()\t\t0.00 sec.\n"
     ]
    },
    {
     "name": "stderr",
     "output_type": "stream",
     "text": [
      "\r",
      " 36%|███▌      | 216/600 [17:36<23:09,  3.62s/it]"
     ]
    },
    {
     "name": "stdout",
     "output_type": "stream",
     "text": [
      "\tspread_disease()\t\t1.53 sec.\n",
      "\tscreen_for_disease()\t\t0.01 sec.\n",
      "\ttrack_stats()\t\t\t0.00 sec.\n",
      "[epoch=216]\tinfected=13\ttransmitters(visible+invisible)=24\n",
      "\n",
      "\n",
      "radiuses 1.4625 1.4625\n",
      "resp.sum 21830\n",
      "resp.sum 18541\n",
      "\tdecrement_timers()\t\t0.00 sec.\n",
      "\twalk_iter()\t\t\t2.10 sec.\n",
      "\tmake_disease_matrices()\t\t0.00 sec.\n"
     ]
    },
    {
     "name": "stderr",
     "output_type": "stream",
     "text": [
      "\r",
      " 36%|███▌      | 217/600 [17:40<22:59,  3.60s/it]"
     ]
    },
    {
     "name": "stdout",
     "output_type": "stream",
     "text": [
      "\tspread_disease()\t\t1.43 sec.\n",
      "\tscreen_for_disease()\t\t0.00 sec.\n",
      "\ttrack_stats()\t\t\t0.00 sec.\n",
      "[epoch=217]\tinfected=13\ttransmitters(visible+invisible)=24\n",
      "\n",
      "\n",
      "radiuses 1.475 1.475\n",
      "resp.sum 24220\n",
      "resp.sum 18700\n",
      "\tdecrement_timers()\t\t0.00 sec.\n",
      "\twalk_iter()\t\t\t2.20 sec.\n",
      "\tmake_disease_matrices()\t\t0.00 sec.\n"
     ]
    },
    {
     "name": "stderr",
     "output_type": "stream",
     "text": [
      "\r",
      " 36%|███▋      | 218/600 [17:44<23:01,  3.62s/it]"
     ]
    },
    {
     "name": "stdout",
     "output_type": "stream",
     "text": [
      "\tspread_disease()\t\t1.43 sec.\n",
      "\tscreen_for_disease()\t\t0.00 sec.\n",
      "\ttrack_stats()\t\t\t0.00 sec.\n",
      "[epoch=218]\tinfected=16\ttransmitters(visible+invisible)=24\n",
      "\n",
      "\n",
      "radiuses 1.4875 1.4875\n",
      "resp.sum 24220\n",
      "resp.sum 18858\n",
      "\tdecrement_timers()\t\t0.00 sec.\n",
      "\twalk_iter()\t\t\t2.22 sec.\n",
      "\tmake_disease_matrices()\t\t0.00 sec.\n"
     ]
    },
    {
     "name": "stderr",
     "output_type": "stream",
     "text": [
      "\r",
      " 36%|███▋      | 219/600 [17:47<23:14,  3.66s/it]"
     ]
    },
    {
     "name": "stdout",
     "output_type": "stream",
     "text": [
      "\tspread_disease()\t\t1.51 sec.\n",
      "\tscreen_for_disease()\t\t0.00 sec.\n",
      "\ttrack_stats()\t\t\t0.00 sec.\n",
      "[epoch=219]\tinfected=16\ttransmitters(visible+invisible)=23\n",
      "\n",
      "\n",
      "radiuses 1.5 1.5\n",
      "resp.sum 23066\n",
      "resp.sum 19017\n",
      "\tdecrement_timers()\t\t0.00 sec.\n",
      "\twalk_iter()\t\t\t2.20 sec.\n",
      "\tmake_disease_matrices()\t\t0.00 sec.\n"
     ]
    },
    {
     "name": "stderr",
     "output_type": "stream",
     "text": [
      "\r",
      " 37%|███▋      | 220/600 [17:51<23:16,  3.67s/it]"
     ]
    },
    {
     "name": "stdout",
     "output_type": "stream",
     "text": [
      "\tspread_disease()\t\t1.49 sec.\n",
      "\tscreen_for_disease()\t\t0.00 sec.\n",
      "\ttrack_stats()\t\t\t0.00 sec.\n",
      "[epoch=220]\tinfected=17\ttransmitters(visible+invisible)=20\n",
      "\n",
      "\n",
      "radiuses 1.5125 1.5125\n",
      "resp.sum 19052\n",
      "resp.sum 19175\n",
      "\tdecrement_timers()\t\t0.00 sec.\n",
      "\twalk_iter()\t\t\t2.22 sec.\n",
      "\tmake_disease_matrices()\t\t0.00 sec.\n"
     ]
    },
    {
     "name": "stderr",
     "output_type": "stream",
     "text": [
      "\r",
      " 37%|███▋      | 221/600 [17:55<23:06,  3.66s/it]"
     ]
    },
    {
     "name": "stdout",
     "output_type": "stream",
     "text": [
      "\tspread_disease()\t\t1.38 sec.\n",
      "\tscreen_for_disease()\t\t0.00 sec.\n",
      "\ttrack_stats()\t\t\t0.00 sec.\n",
      "[epoch=221]\tinfected=16\ttransmitters(visible+invisible)=21\n",
      "\n",
      "\n",
      "radiuses 1.525 1.525\n",
      "resp.sum 20499\n",
      "resp.sum 19334\n",
      "\tdecrement_timers()\t\t0.00 sec.\n",
      "\twalk_iter()\t\t\t2.17 sec.\n",
      "\tmake_disease_matrices()\t\t0.00 sec.\n"
     ]
    },
    {
     "name": "stderr",
     "output_type": "stream",
     "text": [
      "\r",
      " 37%|███▋      | 222/600 [17:58<22:57,  3.64s/it]"
     ]
    },
    {
     "name": "stdout",
     "output_type": "stream",
     "text": [
      "\tspread_disease()\t\t1.42 sec.\n",
      "\tscreen_for_disease()\t\t0.00 sec.\n",
      "\ttrack_stats()\t\t\t0.00 sec.\n",
      "[epoch=222]\tinfected=16\ttransmitters(visible+invisible)=22\n",
      "\n",
      "\n",
      "radiuses 1.5375 1.5375\n",
      "resp.sum 20499\n",
      "resp.sum 19492\n",
      "\tdecrement_timers()\t\t0.00 sec.\n",
      "\twalk_iter()\t\t\t2.19 sec.\n",
      "\tmake_disease_matrices()\t\t0.00 sec.\n"
     ]
    },
    {
     "name": "stderr",
     "output_type": "stream",
     "text": [
      "\r",
      " 37%|███▋      | 223/600 [18:02<22:53,  3.64s/it]"
     ]
    },
    {
     "name": "stdout",
     "output_type": "stream",
     "text": [
      "\tspread_disease()\t\t1.43 sec.\n",
      "\tscreen_for_disease()\t\t0.00 sec.\n",
      "\ttrack_stats()\t\t\t0.00 sec.\n",
      "[epoch=223]\tinfected=16\ttransmitters(visible+invisible)=24\n",
      "\n",
      "\n",
      "radiuses 1.55 1.55\n",
      "resp.sum 23066\n",
      "resp.sum 19651\n",
      "\tdecrement_timers()\t\t0.00 sec.\n",
      "\twalk_iter()\t\t\t2.21 sec.\n",
      "\tmake_disease_matrices()\t\t0.00 sec.\n"
     ]
    },
    {
     "name": "stderr",
     "output_type": "stream",
     "text": [
      "\r",
      " 37%|███▋      | 224/600 [18:06<23:01,  3.67s/it]"
     ]
    },
    {
     "name": "stdout",
     "output_type": "stream",
     "text": [
      "\tspread_disease()\t\t1.52 sec.\n",
      "\tscreen_for_disease()\t\t0.00 sec.\n",
      "\ttrack_stats()\t\t\t0.00 sec.\n",
      "[epoch=224]\tinfected=14\ttransmitters(visible+invisible)=25\n",
      "\n",
      "\n",
      "radiuses 1.5625 1.5625\n",
      "resp.sum 21830\n",
      "resp.sum 19809\n",
      "\tdecrement_timers()\t\t0.00 sec.\n",
      "\twalk_iter()\t\t\t2.18 sec.\n",
      "\tmake_disease_matrices()\t\t0.00 sec.\n"
     ]
    },
    {
     "name": "stderr",
     "output_type": "stream",
     "text": [
      "\r",
      " 38%|███▊      | 225/600 [18:09<22:50,  3.66s/it]"
     ]
    },
    {
     "name": "stdout",
     "output_type": "stream",
     "text": [
      "\tspread_disease()\t\t1.42 sec.\n",
      "\tscreen_for_disease()\t\t0.00 sec.\n",
      "\ttrack_stats()\t\t\t0.00 sec.\n",
      "[epoch=225]\tinfected=13\ttransmitters(visible+invisible)=25\n",
      "\n",
      "\n",
      "radiuses 1.575 1.575\n",
      "resp.sum 21830\n",
      "resp.sum 19968\n",
      "\tdecrement_timers()\t\t0.00 sec.\n",
      "\twalk_iter()\t\t\t2.15 sec.\n",
      "\tmake_disease_matrices()\t\t0.00 sec.\n"
     ]
    },
    {
     "name": "stderr",
     "output_type": "stream",
     "text": [
      "\r",
      " 38%|███▊      | 226/600 [18:13<22:43,  3.65s/it]"
     ]
    },
    {
     "name": "stdout",
     "output_type": "stream",
     "text": [
      "\tspread_disease()\t\t1.45 sec.\n",
      "\tscreen_for_disease()\t\t0.00 sec.\n",
      "\ttrack_stats()\t\t\t0.00 sec.\n",
      "[epoch=226]\tinfected=14\ttransmitters(visible+invisible)=25\n",
      "\n",
      "\n",
      "radiuses 1.5875 1.5875\n",
      "resp.sum 24220\n",
      "resp.sum 20126\n",
      "\tdecrement_timers()\t\t0.00 sec.\n",
      "\twalk_iter()\t\t\t2.18 sec.\n",
      "\tmake_disease_matrices()\t\t0.00 sec.\n"
     ]
    },
    {
     "name": "stderr",
     "output_type": "stream",
     "text": [
      "\r",
      " 38%|███▊      | 227/600 [18:16<22:36,  3.64s/it]"
     ]
    },
    {
     "name": "stdout",
     "output_type": "stream",
     "text": [
      "\tspread_disease()\t\t1.41 sec.\n",
      "\tscreen_for_disease()\t\t0.00 sec.\n",
      "\ttrack_stats()\t\t\t0.00 sec.\n",
      "[epoch=227]\tinfected=12\ttransmitters(visible+invisible)=27\n",
      "\n",
      "\n",
      "radiuses 1.6 1.6\n",
      "resp.sum 24220\n",
      "resp.sum 20284\n",
      "\tdecrement_timers()\t\t0.00 sec.\n",
      "\twalk_iter()\t\t\t2.22 sec.\n",
      "\tmake_disease_matrices()\t\t0.00 sec.\n"
     ]
    },
    {
     "name": "stderr",
     "output_type": "stream",
     "text": [
      "\r",
      " 38%|███▊      | 228/600 [18:20<22:51,  3.69s/it]"
     ]
    },
    {
     "name": "stdout",
     "output_type": "stream",
     "text": [
      "\tspread_disease()\t\t1.56 sec.\n",
      "\tscreen_for_disease()\t\t0.00 sec.\n",
      "\ttrack_stats()\t\t\t0.00 sec.\n",
      "[epoch=228]\tinfected=12\ttransmitters(visible+invisible)=26\n",
      "\n",
      "\n",
      "radiuses 1.6125 1.6125\n",
      "resp.sum 24220\n",
      "resp.sum 20443\n",
      "\tdecrement_timers()\t\t0.01 sec.\n",
      "\twalk_iter()\t\t\t2.05 sec.\n",
      "\tmake_disease_matrices()\t\t0.00 sec.\n"
     ]
    },
    {
     "name": "stderr",
     "output_type": "stream",
     "text": [
      "\r",
      " 38%|███▊      | 229/600 [18:24<22:31,  3.64s/it]"
     ]
    },
    {
     "name": "stdout",
     "output_type": "stream",
     "text": [
      "\tspread_disease()\t\t1.46 sec.\n",
      "\tscreen_for_disease()\t\t0.01 sec.\n",
      "\ttrack_stats()\t\t\t0.00 sec.\n",
      "[epoch=229]\tinfected=12\ttransmitters(visible+invisible)=27\n",
      "\n",
      "\n",
      "radiuses 1.625 1.625\n",
      "resp.sum 24220\n",
      "resp.sum 20601\n",
      "\tdecrement_timers()\t\t0.01 sec.\n",
      "\twalk_iter()\t\t\t2.13 sec.\n",
      "\tmake_disease_matrices()\t\t0.00 sec.\n"
     ]
    },
    {
     "name": "stderr",
     "output_type": "stream",
     "text": [
      "\r",
      " 38%|███▊      | 230/600 [18:27<22:19,  3.62s/it]"
     ]
    },
    {
     "name": "stdout",
     "output_type": "stream",
     "text": [
      "\tspread_disease()\t\t1.42 sec.\n",
      "\tscreen_for_disease()\t\t0.00 sec.\n",
      "\ttrack_stats()\t\t\t0.00 sec.\n",
      "[epoch=230]\tinfected=12\ttransmitters(visible+invisible)=27\n",
      "\n",
      "\n",
      "radiuses 1.6375 1.6375\n",
      "resp.sum 24220\n",
      "resp.sum 20760\n",
      "\tdecrement_timers()\t\t0.00 sec.\n",
      "\twalk_iter()\t\t\t2.27 sec.\n",
      "\tmake_disease_matrices()\t\t0.00 sec.\n"
     ]
    },
    {
     "name": "stderr",
     "output_type": "stream",
     "text": [
      "\r",
      " 38%|███▊      | 231/600 [18:31<22:25,  3.65s/it]"
     ]
    },
    {
     "name": "stdout",
     "output_type": "stream",
     "text": [
      "\tspread_disease()\t\t1.42 sec.\n",
      "\tscreen_for_disease()\t\t0.00 sec.\n",
      "\ttrack_stats()\t\t\t0.00 sec.\n",
      "[epoch=231]\tinfected=13\ttransmitters(visible+invisible)=27\n",
      "\n",
      "\n",
      "radiuses 1.65 1.65\n",
      "resp.sum 24220\n",
      "resp.sum 20918\n",
      "\tdecrement_timers()\t\t0.00 sec.\n",
      "\twalk_iter()\t\t\t2.22 sec.\n",
      "\tmake_disease_matrices()\t\t0.00 sec.\n"
     ]
    },
    {
     "name": "stderr",
     "output_type": "stream",
     "text": [
      "\r",
      " 39%|███▊      | 232/600 [18:35<22:35,  3.68s/it]"
     ]
    },
    {
     "name": "stdout",
     "output_type": "stream",
     "text": [
      "\tspread_disease()\t\t1.53 sec.\n",
      "\tscreen_for_disease()\t\t0.00 sec.\n",
      "\ttrack_stats()\t\t\t0.00 sec.\n",
      "[epoch=232]\tinfected=13\ttransmitters(visible+invisible)=28\n",
      "\n",
      "\n",
      "radiuses 1.6625 1.6625\n",
      "resp.sum 21830\n",
      "resp.sum 21077\n",
      "\tdecrement_timers()\t\t0.01 sec.\n",
      "\twalk_iter()\t\t\t2.19 sec.\n",
      "\tmake_disease_matrices()\t\t0.00 sec.\n"
     ]
    },
    {
     "name": "stderr",
     "output_type": "stream",
     "text": [
      "\r",
      " 39%|███▉      | 233/600 [18:39<22:31,  3.68s/it]"
     ]
    },
    {
     "name": "stdout",
     "output_type": "stream",
     "text": [
      "\tspread_disease()\t\t1.46 sec.\n",
      "\tscreen_for_disease()\t\t0.00 sec.\n",
      "\ttrack_stats()\t\t\t0.00 sec.\n",
      "[epoch=233]\tinfected=13\ttransmitters(visible+invisible)=27\n",
      "\n",
      "\n",
      "radiuses 1.675 1.675\n",
      "resp.sum 21830\n",
      "resp.sum 21235\n",
      "\tdecrement_timers()\t\t0.00 sec.\n",
      "\twalk_iter()\t\t\t2.31 sec.\n",
      "\tmake_disease_matrices()\t\t0.00 sec.\n"
     ]
    },
    {
     "name": "stderr",
     "output_type": "stream",
     "text": [
      "\r",
      " 39%|███▉      | 234/600 [18:42<22:50,  3.74s/it]"
     ]
    },
    {
     "name": "stdout",
     "output_type": "stream",
     "text": [
      "\tspread_disease()\t\t1.56 sec.\n",
      "\tscreen_for_disease()\t\t0.00 sec.\n",
      "\ttrack_stats()\t\t\t0.00 sec.\n",
      "[epoch=234]\tinfected=13\ttransmitters(visible+invisible)=26\n",
      "\n",
      "\n",
      "radiuses 1.6875 1.6875\n",
      "resp.sum 21830\n",
      "resp.sum 21394\n",
      "\tdecrement_timers()\t\t0.00 sec.\n",
      "\twalk_iter()\t\t\t2.28 sec.\n",
      "\tmake_disease_matrices()\t\t0.00 sec.\n"
     ]
    },
    {
     "name": "stderr",
     "output_type": "stream",
     "text": [
      "\r",
      " 39%|███▉      | 235/600 [18:46<22:50,  3.75s/it]"
     ]
    },
    {
     "name": "stdout",
     "output_type": "stream",
     "text": [
      "\tspread_disease()\t\t1.47 sec.\n",
      "\tscreen_for_disease()\t\t0.00 sec.\n",
      "\ttrack_stats()\t\t\t0.00 sec.\n",
      "[epoch=235]\tinfected=12\ttransmitters(visible+invisible)=27\n",
      "\n",
      "\n",
      "radiuses 1.7 1.7\n",
      "resp.sum 21830\n",
      "resp.sum 21552\n",
      "\tdecrement_timers()\t\t0.00 sec.\n",
      "\twalk_iter()\t\t\t2.18 sec.\n",
      "\tmake_disease_matrices()\t\t0.00 sec.\n"
     ]
    },
    {
     "name": "stderr",
     "output_type": "stream",
     "text": [
      "\r",
      " 39%|███▉      | 236/600 [18:50<22:29,  3.71s/it]"
     ]
    },
    {
     "name": "stdout",
     "output_type": "stream",
     "text": [
      "\tspread_disease()\t\t1.39 sec.\n",
      "\tscreen_for_disease()\t\t0.00 sec.\n",
      "\ttrack_stats()\t\t\t0.00 sec.\n",
      "[epoch=236]\tinfected=12\ttransmitters(visible+invisible)=25\n",
      "\n",
      "\n",
      "radiuses 1.7125 1.7125\n",
      "resp.sum 19052\n",
      "resp.sum 21711\n",
      "\tdecrement_timers()\t\t0.00 sec.\n",
      "\twalk_iter()\t\t\t2.20 sec.\n",
      "\tmake_disease_matrices()\t\t0.00 sec.\n"
     ]
    },
    {
     "name": "stderr",
     "output_type": "stream",
     "text": [
      "\r",
      " 40%|███▉      | 237/600 [18:53<22:17,  3.69s/it]"
     ]
    },
    {
     "name": "stdout",
     "output_type": "stream",
     "text": [
      "\tspread_disease()\t\t1.42 sec.\n",
      "\tscreen_for_disease()\t\t0.00 sec.\n",
      "\ttrack_stats()\t\t\t0.00 sec.\n",
      "[epoch=237]\tinfected=13\ttransmitters(visible+invisible)=24\n",
      "\n",
      "\n",
      "radiuses 1.725 1.725\n",
      "resp.sum 19052\n",
      "resp.sum 21869\n",
      "\tdecrement_timers()\t\t0.00 sec.\n",
      "\twalk_iter()\t\t\t2.21 sec.\n",
      "\tmake_disease_matrices()\t\t0.00 sec.\n"
     ]
    },
    {
     "name": "stderr",
     "output_type": "stream",
     "text": [
      "\r",
      " 40%|███▉      | 238/600 [18:57<22:20,  3.70s/it]"
     ]
    },
    {
     "name": "stdout",
     "output_type": "stream",
     "text": [
      "\tspread_disease()\t\t1.52 sec.\n",
      "\tscreen_for_disease()\t\t0.00 sec.\n",
      "\ttrack_stats()\t\t\t0.00 sec.\n",
      "[epoch=238]\tinfected=13\ttransmitters(visible+invisible)=24\n",
      "\n",
      "\n",
      "radiuses 1.7375 1.7375\n",
      "resp.sum 17459\n",
      "resp.sum 22028\n",
      "\tdecrement_timers()\t\t0.01 sec.\n",
      "\twalk_iter()\t\t\t2.08 sec.\n",
      "\tmake_disease_matrices()\t\t0.00 sec.\n"
     ]
    },
    {
     "name": "stderr",
     "output_type": "stream",
     "text": [
      "\r",
      " 40%|███▉      | 239/600 [19:01<21:55,  3.64s/it]"
     ]
    },
    {
     "name": "stdout",
     "output_type": "stream",
     "text": [
      "\tspread_disease()\t\t1.40 sec.\n",
      "\tscreen_for_disease()\t\t0.00 sec.\n",
      "\ttrack_stats()\t\t\t0.00 sec.\n",
      "[epoch=239]\tinfected=12\ttransmitters(visible+invisible)=24\n",
      "\n",
      "\n",
      "radiuses 1.75 1.75\n",
      "resp.sum 17459\n",
      "resp.sum 22186\n",
      "\tdecrement_timers()\t\t0.00 sec.\n",
      "\twalk_iter()\t\t\t2.28 sec.\n",
      "\tmake_disease_matrices()\t\t0.00 sec.\n"
     ]
    },
    {
     "name": "stderr",
     "output_type": "stream",
     "text": [
      "\r",
      " 40%|████      | 240/600 [19:04<21:50,  3.64s/it]"
     ]
    },
    {
     "name": "stdout",
     "output_type": "stream",
     "text": [
      "\tspread_disease()\t\t1.33 sec.\n",
      "\tscreen_for_disease()\t\t0.00 sec.\n",
      "\ttrack_stats()\t\t\t0.00 sec.\n",
      "[epoch=240]\tinfected=11\ttransmitters(visible+invisible)=24\n",
      "\n",
      "\n",
      "radiuses 1.7625 1.7625\n",
      "resp.sum 17459\n",
      "resp.sum 22345\n",
      "\tdecrement_timers()\t\t0.00 sec.\n",
      "\twalk_iter()\t\t\t2.20 sec.\n",
      "\tmake_disease_matrices()\t\t0.00 sec.\n"
     ]
    },
    {
     "name": "stderr",
     "output_type": "stream",
     "text": [
      "\r",
      " 40%|████      | 241/600 [19:08<21:43,  3.63s/it]"
     ]
    },
    {
     "name": "stdout",
     "output_type": "stream",
     "text": [
      "\tspread_disease()\t\t1.39 sec.\n",
      "\tscreen_for_disease()\t\t0.00 sec.\n",
      "\ttrack_stats()\t\t\t0.00 sec.\n",
      "[epoch=241]\tinfected=10\ttransmitters(visible+invisible)=25\n",
      "\n",
      "\n",
      "radiuses 1.775 1.775\n",
      "resp.sum 17459\n",
      "resp.sum 22503\n",
      "\tdecrement_timers()\t\t0.00 sec.\n",
      "\twalk_iter()\t\t\t2.20 sec.\n",
      "\tmake_disease_matrices()\t\t0.00 sec.\n"
     ]
    },
    {
     "name": "stderr",
     "output_type": "stream",
     "text": [
      "\r",
      " 40%|████      | 242/600 [19:12<21:49,  3.66s/it]"
     ]
    },
    {
     "name": "stdout",
     "output_type": "stream",
     "text": [
      "\tspread_disease()\t\t1.50 sec.\n",
      "\tscreen_for_disease()\t\t0.00 sec.\n",
      "\ttrack_stats()\t\t\t0.00 sec.\n",
      "[epoch=242]\tinfected=10\ttransmitters(visible+invisible)=26\n",
      "\n",
      "\n",
      "radiuses 1.7875 1.7875\n",
      "resp.sum 17459\n",
      "resp.sum 22662\n",
      "\tdecrement_timers()\t\t0.01 sec.\n",
      "\twalk_iter()\t\t\t2.25 sec.\n",
      "\tmake_disease_matrices()\t\t0.00 sec.\n"
     ]
    },
    {
     "name": "stderr",
     "output_type": "stream",
     "text": [
      "\r",
      " 40%|████      | 243/600 [19:15<21:58,  3.69s/it]"
     ]
    },
    {
     "name": "stdout",
     "output_type": "stream",
     "text": [
      "\tspread_disease()\t\t1.49 sec.\n",
      "\tscreen_for_disease()\t\t0.01 sec.\n",
      "\ttrack_stats()\t\t\t0.00 sec.\n",
      "[epoch=243]\tinfected=11\ttransmitters(visible+invisible)=27\n",
      "\n",
      "\n",
      "radiuses 1.8 1.8\n",
      "resp.sum 19052\n",
      "resp.sum 22820\n",
      "\tdecrement_timers()\t\t0.01 sec.\n",
      "\twalk_iter()\t\t\t2.18 sec.\n",
      "\tmake_disease_matrices()\t\t0.00 sec.\n"
     ]
    },
    {
     "name": "stderr",
     "output_type": "stream",
     "text": [
      "\r",
      " 41%|████      | 244/600 [19:19<21:47,  3.67s/it]"
     ]
    },
    {
     "name": "stdout",
     "output_type": "stream",
     "text": [
      "\tspread_disease()\t\t1.42 sec.\n",
      "\tscreen_for_disease()\t\t0.00 sec.\n",
      "\ttrack_stats()\t\t\t0.00 sec.\n",
      "[epoch=244]\tinfected=11\ttransmitters(visible+invisible)=27\n",
      "\n",
      "\n",
      "radiuses 1.8125 1.8125\n",
      "resp.sum 20499\n",
      "resp.sum 22979\n",
      "\tdecrement_timers()\t\t0.00 sec.\n",
      "\twalk_iter()\t\t\t2.14 sec.\n",
      "\tmake_disease_matrices()\t\t0.00 sec.\n"
     ]
    },
    {
     "name": "stderr",
     "output_type": "stream",
     "text": [
      "\r",
      " 41%|████      | 245/600 [19:23<21:39,  3.66s/it]"
     ]
    },
    {
     "name": "stdout",
     "output_type": "stream",
     "text": [
      "\tspread_disease()\t\t1.47 sec.\n",
      "\tscreen_for_disease()\t\t0.00 sec.\n",
      "\ttrack_stats()\t\t\t0.00 sec.\n",
      "[epoch=245]\tinfected=10\ttransmitters(visible+invisible)=28\n",
      "\n",
      "\n",
      "radiuses 1.825 1.825\n",
      "resp.sum 20499\n",
      "resp.sum 23137\n",
      "\tdecrement_timers()\t\t0.00 sec.\n",
      "\twalk_iter()\t\t\t2.12 sec.\n",
      "\tmake_disease_matrices()\t\t0.00 sec.\n"
     ]
    },
    {
     "name": "stderr",
     "output_type": "stream",
     "text": [
      "\r",
      " 41%|████      | 246/600 [19:26<21:39,  3.67s/it]"
     ]
    },
    {
     "name": "stdout",
     "output_type": "stream",
     "text": [
      "\tspread_disease()\t\t1.55 sec.\n",
      "\tscreen_for_disease()\t\t0.01 sec.\n",
      "\ttrack_stats()\t\t\t0.00 sec.\n",
      "[epoch=246]\tinfected=12\ttransmitters(visible+invisible)=29\n",
      "\n",
      "\n",
      "radiuses 1.8375 1.8375\n",
      "resp.sum 20499\n",
      "resp.sum 23296\n",
      "\tdecrement_timers()\t\t0.01 sec.\n",
      "\twalk_iter()\t\t\t2.18 sec.\n",
      "\tmake_disease_matrices()\t\t0.00 sec.\n"
     ]
    },
    {
     "name": "stderr",
     "output_type": "stream",
     "text": [
      "\r",
      " 41%|████      | 247/600 [19:30<21:40,  3.68s/it]"
     ]
    },
    {
     "name": "stdout",
     "output_type": "stream",
     "text": [
      "\tspread_disease()\t\t1.51 sec.\n",
      "\tscreen_for_disease()\t\t0.00 sec.\n",
      "\ttrack_stats()\t\t\t0.00 sec.\n",
      "[epoch=247]\tinfected=12\ttransmitters(visible+invisible)=30\n",
      "\n",
      "\n",
      "radiuses 1.85 1.85\n",
      "resp.sum 21830\n",
      "resp.sum 23454\n",
      "\tdecrement_timers()\t\t0.00 sec.\n",
      "\twalk_iter()\t\t\t2.13 sec.\n",
      "\tmake_disease_matrices()\t\t0.00 sec.\n"
     ]
    },
    {
     "name": "stderr",
     "output_type": "stream",
     "text": [
      "\r",
      " 41%|████▏     | 248/600 [19:34<21:24,  3.65s/it]"
     ]
    },
    {
     "name": "stdout",
     "output_type": "stream",
     "text": [
      "\tspread_disease()\t\t1.41 sec.\n",
      "\tscreen_for_disease()\t\t0.00 sec.\n",
      "\ttrack_stats()\t\t\t0.00 sec.\n",
      "[epoch=248]\tinfected=11\ttransmitters(visible+invisible)=32\n",
      "\n",
      "\n",
      "radiuses 1.8625 1.8625\n",
      "resp.sum 21830\n",
      "resp.sum 23612\n",
      "\tdecrement_timers()\t\t0.00 sec.\n",
      "\twalk_iter()\t\t\t2.21 sec.\n",
      "\tmake_disease_matrices()\t\t0.00 sec.\n"
     ]
    },
    {
     "name": "stderr",
     "output_type": "stream",
     "text": [
      "\r",
      " 42%|████▏     | 249/600 [19:37<21:31,  3.68s/it]"
     ]
    },
    {
     "name": "stdout",
     "output_type": "stream",
     "text": [
      "\tspread_disease()\t\t1.52 sec.\n",
      "\tscreen_for_disease()\t\t0.00 sec.\n",
      "\ttrack_stats()\t\t\t0.00 sec.\n",
      "[epoch=249]\tinfected=12\ttransmitters(visible+invisible)=32\n",
      "\n",
      "\n",
      "radiuses 1.875 1.875\n",
      "resp.sum 23066\n",
      "resp.sum 23771\n",
      "\tdecrement_timers()\t\t0.00 sec.\n",
      "\twalk_iter()\t\t\t2.19 sec.\n",
      "\tmake_disease_matrices()\t\t0.00 sec.\n"
     ]
    },
    {
     "name": "stderr",
     "output_type": "stream",
     "text": [
      "\r",
      " 42%|████▏     | 250/600 [19:41<21:38,  3.71s/it]"
     ]
    },
    {
     "name": "stdout",
     "output_type": "stream",
     "text": [
      "\tspread_disease()\t\t1.57 sec.\n",
      "\tscreen_for_disease()\t\t0.00 sec.\n",
      "\ttrack_stats()\t\t\t0.00 sec.\n",
      "[epoch=250]\tinfected=12\ttransmitters(visible+invisible)=31\n",
      "\n",
      "\n",
      "radiuses 1.8875 1.8875\n",
      "resp.sum 21830\n",
      "resp.sum 23929\n",
      "\tdecrement_timers()\t\t0.00 sec.\n",
      "\twalk_iter()\t\t\t2.13 sec.\n",
      "\tmake_disease_matrices()\t\t0.00 sec.\n"
     ]
    },
    {
     "name": "stderr",
     "output_type": "stream",
     "text": [
      "\r",
      " 42%|████▏     | 251/600 [19:45<21:28,  3.69s/it]"
     ]
    },
    {
     "name": "stdout",
     "output_type": "stream",
     "text": [
      "\tspread_disease()\t\t1.50 sec.\n",
      "\tscreen_for_disease()\t\t0.00 sec.\n",
      "\ttrack_stats()\t\t\t0.00 sec.\n",
      "[epoch=251]\tinfected=14\ttransmitters(visible+invisible)=30\n",
      "\n",
      "\n",
      "radiuses 1.9 1.9\n",
      "resp.sum 20499\n",
      "resp.sum 24088\n",
      "\tdecrement_timers()\t\t0.00 sec.\n",
      "\twalk_iter()\t\t\t2.17 sec.\n",
      "\tmake_disease_matrices()\t\t0.00 sec.\n"
     ]
    },
    {
     "name": "stderr",
     "output_type": "stream",
     "text": [
      "\r",
      " 42%|████▏     | 252/600 [19:48<21:15,  3.67s/it]"
     ]
    },
    {
     "name": "stdout",
     "output_type": "stream",
     "text": [
      "\tspread_disease()\t\t1.42 sec.\n",
      "\tscreen_for_disease()\t\t0.00 sec.\n",
      "\ttrack_stats()\t\t\t0.00 sec.\n",
      "[epoch=252]\tinfected=16\ttransmitters(visible+invisible)=29\n",
      "\n",
      "\n",
      "radiuses 1.9125 1.9125\n",
      "resp.sum 19052\n",
      "resp.sum 24246\n",
      "\tdecrement_timers()\t\t0.00 sec.\n",
      "\twalk_iter()\t\t\t2.32 sec.\n",
      "\tmake_disease_matrices()\t\t0.00 sec.\n"
     ]
    },
    {
     "name": "stderr",
     "output_type": "stream",
     "text": [
      "\r",
      " 42%|████▏     | 253/600 [19:52<21:22,  3.70s/it]"
     ]
    },
    {
     "name": "stdout",
     "output_type": "stream",
     "text": [
      "\tspread_disease()\t\t1.43 sec.\n",
      "\tscreen_for_disease()\t\t0.00 sec.\n",
      "\ttrack_stats()\t\t\t0.00 sec.\n",
      "[epoch=253]\tinfected=17\ttransmitters(visible+invisible)=29\n",
      "\n",
      "\n",
      "radiuses 1.925 1.925\n",
      "resp.sum 20499\n",
      "resp.sum 24405\n",
      "\tdecrement_timers()\t\t0.00 sec.\n",
      "\twalk_iter()\t\t\t2.21 sec.\n",
      "\tmake_disease_matrices()\t\t0.00 sec.\n"
     ]
    },
    {
     "name": "stderr",
     "output_type": "stream",
     "text": [
      "\r",
      " 42%|████▏     | 254/600 [19:56<21:24,  3.71s/it]"
     ]
    },
    {
     "name": "stdout",
     "output_type": "stream",
     "text": [
      "\tspread_disease()\t\t1.52 sec.\n",
      "\tscreen_for_disease()\t\t0.00 sec.\n",
      "\ttrack_stats()\t\t\t0.00 sec.\n",
      "[epoch=254]\tinfected=18\ttransmitters(visible+invisible)=28\n",
      "\n",
      "\n",
      "radiuses 1.9375 1.9375\n",
      "resp.sum 19052\n",
      "resp.sum 24563\n",
      "\tdecrement_timers()\t\t0.01 sec.\n",
      "\twalk_iter()\t\t\t2.12 sec.\n",
      "\tmake_disease_matrices()\t\t0.00 sec.\n"
     ]
    },
    {
     "name": "stderr",
     "output_type": "stream",
     "text": [
      "\r",
      " 42%|████▎     | 255/600 [20:00<21:08,  3.68s/it]"
     ]
    },
    {
     "name": "stdout",
     "output_type": "stream",
     "text": [
      "\tspread_disease()\t\t1.45 sec.\n",
      "\tscreen_for_disease()\t\t0.00 sec.\n",
      "\ttrack_stats()\t\t\t0.00 sec.\n",
      "[epoch=255]\tinfected=19\ttransmitters(visible+invisible)=27\n",
      "\n",
      "\n",
      "radiuses 1.95 1.95\n",
      "resp.sum 19052\n",
      "resp.sum 24722\n",
      "\tdecrement_timers()\t\t0.00 sec.\n",
      "\twalk_iter()\t\t\t2.19 sec.\n",
      "\tmake_disease_matrices()\t\t0.00 sec.\n"
     ]
    },
    {
     "name": "stderr",
     "output_type": "stream",
     "text": [
      "\r",
      " 43%|████▎     | 256/600 [20:03<20:59,  3.66s/it]"
     ]
    },
    {
     "name": "stdout",
     "output_type": "stream",
     "text": [
      "\tspread_disease()\t\t1.40 sec.\n",
      "\tscreen_for_disease()\t\t0.00 sec.\n",
      "\ttrack_stats()\t\t\t0.00 sec.\n",
      "[epoch=256]\tinfected=18\ttransmitters(visible+invisible)=28\n",
      "\n",
      "\n",
      "radiuses 1.9625 1.9625\n",
      "resp.sum 20499\n",
      "resp.sum 24880\n",
      "\tdecrement_timers()\t\t0.00 sec.\n",
      "\twalk_iter()\t\t\t2.17 sec.\n",
      "\tmake_disease_matrices()\t\t0.00 sec.\n"
     ]
    },
    {
     "name": "stderr",
     "output_type": "stream",
     "text": [
      "\r",
      " 43%|████▎     | 257/600 [20:07<20:53,  3.66s/it]"
     ]
    },
    {
     "name": "stdout",
     "output_type": "stream",
     "text": [
      "\tspread_disease()\t\t1.45 sec.\n",
      "\tscreen_for_disease()\t\t0.00 sec.\n",
      "\ttrack_stats()\t\t\t0.00 sec.\n",
      "[epoch=257]\tinfected=17\ttransmitters(visible+invisible)=29\n",
      "\n",
      "\n",
      "radiuses 1.975 1.975\n",
      "resp.sum 21830\n",
      "resp.sum 25039\n",
      "\tdecrement_timers()\t\t0.00 sec.\n",
      "\twalk_iter()\t\t\t2.17 sec.\n",
      "\tmake_disease_matrices()\t\t0.00 sec.\n"
     ]
    },
    {
     "name": "stderr",
     "output_type": "stream",
     "text": [
      "\r",
      " 43%|████▎     | 258/600 [20:11<20:53,  3.66s/it]"
     ]
    },
    {
     "name": "stdout",
     "output_type": "stream",
     "text": [
      "\tspread_disease()\t\t1.50 sec.\n",
      "\tscreen_for_disease()\t\t0.00 sec.\n",
      "\ttrack_stats()\t\t\t0.00 sec.\n",
      "[epoch=258]\tinfected=17\ttransmitters(visible+invisible)=30\n",
      "\n",
      "\n",
      "radiuses 1.9875 1.9875\n",
      "resp.sum 24220\n",
      "resp.sum 25197\n",
      "\tdecrement_timers()\t\t0.00 sec.\n",
      "\twalk_iter()\t\t\t2.21 sec.\n",
      "\tmake_disease_matrices()\t\t0.00 sec.\n"
     ]
    },
    {
     "name": "stderr",
     "output_type": "stream",
     "text": [
      "\r",
      " 43%|████▎     | 259/600 [20:14<20:56,  3.68s/it]"
     ]
    },
    {
     "name": "stdout",
     "output_type": "stream",
     "text": [
      "\tspread_disease()\t\t1.50 sec.\n",
      "\tscreen_for_disease()\t\t0.01 sec.\n",
      "\ttrack_stats()\t\t\t0.00 sec.\n",
      "[epoch=259]\tinfected=17\ttransmitters(visible+invisible)=30\n",
      "\n",
      "\n",
      "radiuses 2.0 2.0\n",
      "resp.sum 24220\n",
      "resp.sum 25356\n",
      "\tdecrement_timers()\t\t0.01 sec.\n",
      "\twalk_iter()\t\t\t2.61 sec.\n",
      "\tmake_disease_matrices()\t\t0.00 sec.\n"
     ]
    },
    {
     "name": "stderr",
     "output_type": "stream",
     "text": [
      "\r",
      " 43%|████▎     | 260/600 [20:18<21:39,  3.82s/it]"
     ]
    },
    {
     "name": "stdout",
     "output_type": "stream",
     "text": [
      "\tspread_disease()\t\t1.51 sec.\n",
      "\tscreen_for_disease()\t\t0.00 sec.\n",
      "\ttrack_stats()\t\t\t0.00 sec.\n",
      "[epoch=260]\tinfected=17\ttransmitters(visible+invisible)=30\n",
      "\n",
      "\n",
      "radiuses 2.0125 2.0125\n",
      "resp.sum 26330\n",
      "resp.sum 25514\n",
      "\tdecrement_timers()\t\t0.00 sec.\n",
      "\twalk_iter()\t\t\t2.77 sec.\n",
      "\tmake_disease_matrices()\t\t0.00 sec.\n"
     ]
    },
    {
     "name": "stderr",
     "output_type": "stream",
     "text": [
      "\r",
      " 44%|████▎     | 261/600 [20:23<22:13,  3.93s/it]"
     ]
    },
    {
     "name": "stdout",
     "output_type": "stream",
     "text": [
      "\tspread_disease()\t\t1.40 sec.\n",
      "\tscreen_for_disease()\t\t0.00 sec.\n",
      "\ttrack_stats()\t\t\t0.00 sec.\n",
      "[epoch=261]\tinfected=16\ttransmitters(visible+invisible)=31\n",
      "\n",
      "\n",
      "radiuses 2.025 2.025\n",
      "resp.sum 27302\n",
      "resp.sum 25673\n",
      "\tdecrement_timers()\t\t0.00 sec.\n",
      "\twalk_iter()\t\t\t2.87 sec.\n",
      "\tmake_disease_matrices()\t\t0.00 sec.\n"
     ]
    },
    {
     "name": "stderr",
     "output_type": "stream",
     "text": [
      "\r",
      " 44%|████▎     | 262/600 [20:27<22:43,  4.03s/it]"
     ]
    },
    {
     "name": "stdout",
     "output_type": "stream",
     "text": [
      "\tspread_disease()\t\t1.38 sec.\n",
      "\tscreen_for_disease()\t\t0.00 sec.\n",
      "\ttrack_stats()\t\t\t0.00 sec.\n",
      "[epoch=262]\tinfected=16\ttransmitters(visible+invisible)=33\n",
      "\n",
      "\n",
      "radiuses 2.0375 2.0375\n",
      "resp.sum 27302\n",
      "resp.sum 25831\n",
      "\tdecrement_timers()\t\t0.00 sec.\n",
      "\twalk_iter()\t\t\t2.84 sec.\n",
      "\tmake_disease_matrices()\t\t0.00 sec.\n"
     ]
    },
    {
     "name": "stderr",
     "output_type": "stream",
     "text": [
      "\r",
      " 44%|████▍     | 263/600 [20:31<23:03,  4.11s/it]"
     ]
    },
    {
     "name": "stdout",
     "output_type": "stream",
     "text": [
      "\tspread_disease()\t\t1.41 sec.\n",
      "\tscreen_for_disease()\t\t0.00 sec.\n",
      "\ttrack_stats()\t\t\t0.00 sec.\n",
      "[epoch=263]\tinfected=16\ttransmitters(visible+invisible)=33\n",
      "\n",
      "\n",
      "radiuses 2.05 2.05\n",
      "resp.sum 26330\n",
      "resp.sum 25990\n",
      "\tdecrement_timers()\t\t0.00 sec.\n",
      "\twalk_iter()\t\t\t2.89 sec.\n",
      "\tmake_disease_matrices()\t\t0.00 sec.\n"
     ]
    },
    {
     "name": "stderr",
     "output_type": "stream",
     "text": [
      "\r",
      " 44%|████▍     | 264/600 [20:35<23:13,  4.15s/it]"
     ]
    },
    {
     "name": "stdout",
     "output_type": "stream",
     "text": [
      "\tspread_disease()\t\t1.34 sec.\n",
      "\tscreen_for_disease()\t\t0.00 sec.\n",
      "\ttrack_stats()\t\t\t0.00 sec.\n",
      "[epoch=264]\tinfected=17\ttransmitters(visible+invisible)=31\n",
      "\n",
      "\n",
      "radiuses 2.0625 2.0625\n",
      "resp.sum 26330\n",
      "resp.sum 26148\n",
      "\tdecrement_timers()\t\t0.00 sec.\n",
      "\twalk_iter()\t\t\t2.85 sec.\n",
      "\tmake_disease_matrices()\t\t0.00 sec.\n"
     ]
    },
    {
     "name": "stderr",
     "output_type": "stream",
     "text": [
      "\r",
      " 44%|████▍     | 265/600 [20:40<23:23,  4.19s/it]"
     ]
    },
    {
     "name": "stdout",
     "output_type": "stream",
     "text": [
      "\tspread_disease()\t\t1.41 sec.\n",
      "\tscreen_for_disease()\t\t0.00 sec.\n",
      "\ttrack_stats()\t\t\t0.00 sec.\n",
      "[epoch=265]\tinfected=16\ttransmitters(visible+invisible)=30\n",
      "\n",
      "\n",
      "radiuses 2.075 2.075\n",
      "resp.sum 25306\n",
      "resp.sum 26307\n",
      "\tdecrement_timers()\t\t0.00 sec.\n",
      "\twalk_iter()\t\t\t3.19 sec.\n",
      "\tmake_disease_matrices()\t\t0.00 sec.\n"
     ]
    },
    {
     "name": "stderr",
     "output_type": "stream",
     "text": [
      "\r",
      " 44%|████▍     | 266/600 [20:44<24:08,  4.34s/it]"
     ]
    },
    {
     "name": "stdout",
     "output_type": "stream",
     "text": [
      "\tspread_disease()\t\t1.46 sec.\n",
      "\tscreen_for_disease()\t\t0.00 sec.\n",
      "\ttrack_stats()\t\t\t0.00 sec.\n",
      "[epoch=266]\tinfected=17\ttransmitters(visible+invisible)=28\n",
      "\n",
      "\n",
      "radiuses 2.0875 2.0875\n",
      "resp.sum 24220\n",
      "resp.sum 26465\n",
      "\tdecrement_timers()\t\t0.00 sec.\n",
      "\twalk_iter()\t\t\t2.76 sec.\n",
      "\tmake_disease_matrices()\t\t0.00 sec.\n"
     ]
    },
    {
     "name": "stderr",
     "output_type": "stream",
     "text": [
      "\r",
      " 44%|████▍     | 267/600 [20:49<23:52,  4.30s/it]"
     ]
    },
    {
     "name": "stdout",
     "output_type": "stream",
     "text": [
      "\tspread_disease()\t\t1.44 sec.\n",
      "\tscreen_for_disease()\t\t0.00 sec.\n",
      "\ttrack_stats()\t\t\t0.00 sec.\n",
      "[epoch=267]\tinfected=17\ttransmitters(visible+invisible)=27\n",
      "\n",
      "\n",
      "radiuses 2.1 2.1\n",
      "resp.sum 23066\n",
      "resp.sum 26624\n",
      "\tdecrement_timers()\t\t0.00 sec.\n",
      "\twalk_iter()\t\t\t2.79 sec.\n",
      "\tmake_disease_matrices()\t\t0.00 sec.\n"
     ]
    },
    {
     "name": "stderr",
     "output_type": "stream",
     "text": [
      "\r",
      " 45%|████▍     | 268/600 [20:53<23:49,  4.31s/it]"
     ]
    },
    {
     "name": "stdout",
     "output_type": "stream",
     "text": [
      "\tspread_disease()\t\t1.50 sec.\n",
      "\tscreen_for_disease()\t\t0.00 sec.\n",
      "\ttrack_stats()\t\t\t0.00 sec.\n",
      "[epoch=268]\tinfected=17\ttransmitters(visible+invisible)=27\n",
      "\n",
      "\n",
      "radiuses 2.1125 2.1125\n",
      "resp.sum 23066\n",
      "resp.sum 26782\n",
      "\tdecrement_timers()\t\t0.00 sec.\n",
      "\twalk_iter()\t\t\t2.78 sec.\n",
      "\tmake_disease_matrices()\t\t0.00 sec.\n"
     ]
    },
    {
     "name": "stderr",
     "output_type": "stream",
     "text": [
      "\r",
      " 45%|████▍     | 269/600 [20:57<23:44,  4.30s/it]"
     ]
    },
    {
     "name": "stdout",
     "output_type": "stream",
     "text": [
      "\tspread_disease()\t\t1.49 sec.\n",
      "\tscreen_for_disease()\t\t0.00 sec.\n",
      "\ttrack_stats()\t\t\t0.00 sec.\n",
      "[epoch=269]\tinfected=16\ttransmitters(visible+invisible)=26\n",
      "\n",
      "\n",
      "radiuses 2.125 2.125\n",
      "resp.sum 23066\n",
      "resp.sum 26940\n",
      "\tdecrement_timers()\t\t0.00 sec.\n",
      "\twalk_iter()\t\t\t2.83 sec.\n",
      "\tmake_disease_matrices()\t\t0.00 sec.\n"
     ]
    },
    {
     "name": "stderr",
     "output_type": "stream",
     "text": [
      "\r",
      " 45%|████▌     | 270/600 [21:01<23:40,  4.30s/it]"
     ]
    },
    {
     "name": "stdout",
     "output_type": "stream",
     "text": [
      "\tspread_disease()\t\t1.46 sec.\n",
      "\tscreen_for_disease()\t\t0.01 sec.\n",
      "\ttrack_stats()\t\t\t0.00 sec.\n",
      "[epoch=270]\tinfected=13\ttransmitters(visible+invisible)=29\n",
      "\n",
      "\n",
      "radiuses 2.1375 2.1375\n",
      "resp.sum 25306\n",
      "resp.sum 27099\n",
      "\tdecrement_timers()\t\t0.01 sec.\n",
      "\twalk_iter()\t\t\t2.75 sec.\n",
      "\tmake_disease_matrices()\t\t0.00 sec.\n"
     ]
    },
    {
     "name": "stderr",
     "output_type": "stream",
     "text": [
      "\r",
      " 45%|████▌     | 271/600 [21:06<23:33,  4.30s/it]"
     ]
    },
    {
     "name": "stdout",
     "output_type": "stream",
     "text": [
      "\tspread_disease()\t\t1.50 sec.\n",
      "\tscreen_for_disease()\t\t0.01 sec.\n",
      "\ttrack_stats()\t\t\t0.00 sec.\n",
      "[epoch=271]\tinfected=13\ttransmitters(visible+invisible)=29\n",
      "\n",
      "\n",
      "radiuses 2.15 2.15\n",
      "resp.sum 25306\n",
      "resp.sum 27257\n",
      "\tdecrement_timers()\t\t0.01 sec.\n",
      "\twalk_iter()\t\t\t2.76 sec.\n",
      "\tmake_disease_matrices()\t\t0.00 sec.\n"
     ]
    },
    {
     "name": "stderr",
     "output_type": "stream",
     "text": [
      "\r",
      " 45%|████▌     | 272/600 [21:10<23:32,  4.31s/it]"
     ]
    },
    {
     "name": "stdout",
     "output_type": "stream",
     "text": [
      "\tspread_disease()\t\t1.54 sec.\n",
      "\tscreen_for_disease()\t\t0.00 sec.\n",
      "\ttrack_stats()\t\t\t0.00 sec.\n",
      "[epoch=272]\tinfected=12\ttransmitters(visible+invisible)=31\n",
      "\n",
      "\n",
      "radiuses 2.1625 2.1625\n",
      "resp.sum 25306\n",
      "resp.sum 27416\n",
      "\tdecrement_timers()\t\t0.00 sec.\n",
      "\twalk_iter()\t\t\t2.80 sec.\n",
      "\tmake_disease_matrices()\t\t0.00 sec.\n"
     ]
    },
    {
     "name": "stderr",
     "output_type": "stream",
     "text": [
      "\r",
      " 46%|████▌     | 273/600 [21:14<23:16,  4.27s/it]"
     ]
    },
    {
     "name": "stdout",
     "output_type": "stream",
     "text": [
      "\tspread_disease()\t\t1.37 sec.\n",
      "\tscreen_for_disease()\t\t0.00 sec.\n",
      "\ttrack_stats()\t\t\t0.00 sec.\n",
      "[epoch=273]\tinfected=11\ttransmitters(visible+invisible)=33\n",
      "\n",
      "\n",
      "radiuses 2.175 2.175\n",
      "resp.sum 26330\n",
      "resp.sum 27574\n",
      "\tdecrement_timers()\t\t0.00 sec.\n",
      "\twalk_iter()\t\t\t2.83 sec.\n",
      "\tmake_disease_matrices()\t\t0.00 sec.\n"
     ]
    },
    {
     "name": "stderr",
     "output_type": "stream",
     "text": [
      "\r",
      " 46%|████▌     | 274/600 [21:19<23:27,  4.32s/it]"
     ]
    },
    {
     "name": "stdout",
     "output_type": "stream",
     "text": [
      "\tspread_disease()\t\t1.58 sec.\n",
      "\tscreen_for_disease()\t\t0.00 sec.\n",
      "\ttrack_stats()\t\t\t0.00 sec.\n",
      "[epoch=274]\tinfected=11\ttransmitters(visible+invisible)=30\n",
      "\n",
      "\n",
      "radiuses 2.1875 2.1875\n",
      "resp.sum 25306\n",
      "resp.sum 27733\n",
      "\tdecrement_timers()\t\t0.01 sec.\n",
      "\twalk_iter()\t\t\t2.71 sec.\n",
      "\tmake_disease_matrices()\t\t0.00 sec.\n"
     ]
    },
    {
     "name": "stderr",
     "output_type": "stream",
     "text": [
      "\r",
      " 46%|████▌     | 275/600 [21:23<23:13,  4.29s/it]"
     ]
    },
    {
     "name": "stdout",
     "output_type": "stream",
     "text": [
      "\tspread_disease()\t\t1.48 sec.\n",
      "\tscreen_for_disease()\t\t0.00 sec.\n",
      "\ttrack_stats()\t\t\t0.00 sec.\n",
      "[epoch=275]\tinfected=10\ttransmitters(visible+invisible)=31\n",
      "\n",
      "\n",
      "radiuses 2.2 2.2\n",
      "resp.sum 25306\n",
      "resp.sum 27891\n",
      "\tdecrement_timers()\t\t0.00 sec.\n",
      "\twalk_iter()\t\t\t2.77 sec.\n",
      "\tmake_disease_matrices()\t\t0.00 sec.\n"
     ]
    },
    {
     "name": "stderr",
     "output_type": "stream",
     "text": [
      "\r",
      " 46%|████▌     | 276/600 [21:27<23:11,  4.30s/it]"
     ]
    },
    {
     "name": "stdout",
     "output_type": "stream",
     "text": [
      "\tspread_disease()\t\t1.53 sec.\n",
      "\tscreen_for_disease()\t\t0.01 sec.\n",
      "\ttrack_stats()\t\t\t0.00 sec.\n",
      "[epoch=276]\tinfected=8\ttransmitters(visible+invisible)=33\n",
      "\n",
      "\n",
      "radiuses 2.2125 2.2125\n",
      "resp.sum 25306\n",
      "resp.sum 28050\n",
      "\tdecrement_timers()\t\t0.01 sec.\n",
      "\twalk_iter()\t\t\t2.79 sec.\n",
      "\tmake_disease_matrices()\t\t0.00 sec.\n"
     ]
    },
    {
     "name": "stderr",
     "output_type": "stream",
     "text": [
      "\r",
      " 46%|████▌     | 277/600 [21:32<23:18,  4.33s/it]"
     ]
    },
    {
     "name": "stdout",
     "output_type": "stream",
     "text": [
      "\tspread_disease()\t\t1.59 sec.\n",
      "\tscreen_for_disease()\t\t0.00 sec.\n",
      "\ttrack_stats()\t\t\t0.00 sec.\n",
      "[epoch=277]\tinfected=8\ttransmitters(visible+invisible)=32\n",
      "\n",
      "\n",
      "radiuses 2.225 2.225\n",
      "resp.sum 24220\n",
      "resp.sum 28208\n",
      "\tdecrement_timers()\t\t0.00 sec.\n",
      "\twalk_iter()\t\t\t3.37 sec.\n",
      "\tmake_disease_matrices()\t\t0.00 sec.\n"
     ]
    },
    {
     "name": "stderr",
     "output_type": "stream",
     "text": [
      "\r",
      " 46%|████▋     | 278/600 [21:37<24:29,  4.56s/it]"
     ]
    },
    {
     "name": "stdout",
     "output_type": "stream",
     "text": [
      "\tspread_disease()\t\t1.73 sec.\n",
      "\tscreen_for_disease()\t\t0.00 sec.\n",
      "\ttrack_stats()\t\t\t0.00 sec.\n",
      "[epoch=278]\tinfected=9\ttransmitters(visible+invisible)=32\n",
      "\n",
      "\n",
      "radiuses 2.2375 2.2375\n",
      "resp.sum 24220\n",
      "resp.sum 28367\n",
      "\tdecrement_timers()\t\t0.00 sec.\n",
      "\twalk_iter()\t\t\t3.56 sec.\n",
      "\tmake_disease_matrices()\t\t0.00 sec.\n"
     ]
    },
    {
     "name": "stderr",
     "output_type": "stream",
     "text": [
      "\r",
      " 46%|████▋     | 279/600 [21:42<25:31,  4.77s/it]"
     ]
    },
    {
     "name": "stdout",
     "output_type": "stream",
     "text": [
      "\tspread_disease()\t\t1.67 sec.\n",
      "\tscreen_for_disease()\t\t0.01 sec.\n",
      "\ttrack_stats()\t\t\t0.00 sec.\n",
      "[epoch=279]\tinfected=9\ttransmitters(visible+invisible)=33\n",
      "\n",
      "\n",
      "radiuses 2.25 2.25\n",
      "resp.sum 24220\n",
      "resp.sum 28525\n",
      "\tdecrement_timers()\t\t0.00 sec.\n",
      "\twalk_iter()\t\t\t4.12 sec.\n",
      "\tmake_disease_matrices()\t\t0.01 sec.\n"
     ]
    },
    {
     "name": "stderr",
     "output_type": "stream",
     "text": [
      "\r",
      " 47%|████▋     | 280/600 [21:48<26:56,  5.05s/it]"
     ]
    },
    {
     "name": "stdout",
     "output_type": "stream",
     "text": [
      "\tspread_disease()\t\t1.56 sec.\n",
      "\tscreen_for_disease()\t\t0.00 sec.\n",
      "\ttrack_stats()\t\t\t0.00 sec.\n",
      "[epoch=280]\tinfected=9\ttransmitters(visible+invisible)=32\n",
      "\n",
      "\n",
      "radiuses 2.2625 2.2625\n",
      "resp.sum 23066\n",
      "resp.sum 28684\n",
      "\tdecrement_timers()\t\t0.00 sec.\n",
      "\twalk_iter()\t\t\t3.39 sec.\n",
      "\tmake_disease_matrices()\t\t0.00 sec.\n"
     ]
    },
    {
     "name": "stderr",
     "output_type": "stream",
     "text": [
      "\r",
      " 47%|████▋     | 281/600 [21:53<26:29,  4.98s/it]"
     ]
    },
    {
     "name": "stdout",
     "output_type": "stream",
     "text": [
      "\tspread_disease()\t\t1.41 sec.\n",
      "\tscreen_for_disease()\t\t0.00 sec.\n",
      "\ttrack_stats()\t\t\t0.00 sec.\n",
      "[epoch=281]\tinfected=9\ttransmitters(visible+invisible)=31\n",
      "\n",
      "\n",
      "radiuses 2.275 2.275\n",
      "resp.sum 21830\n",
      "resp.sum 28842\n",
      "\tdecrement_timers()\t\t0.00 sec.\n",
      "\twalk_iter()\t\t\t3.33 sec.\n",
      "\tmake_disease_matrices()\t\t0.00 sec.\n"
     ]
    },
    {
     "name": "stderr",
     "output_type": "stream",
     "text": [
      "\r",
      " 47%|████▋     | 282/600 [21:57<26:13,  4.95s/it]"
     ]
    },
    {
     "name": "stdout",
     "output_type": "stream",
     "text": [
      "\tspread_disease()\t\t1.52 sec.\n",
      "\tscreen_for_disease()\t\t0.00 sec.\n",
      "\ttrack_stats()\t\t\t0.00 sec.\n",
      "[epoch=282]\tinfected=8\ttransmitters(visible+invisible)=31\n",
      "\n",
      "\n",
      "radiuses 2.2875 2.2875\n",
      "resp.sum 21830\n",
      "resp.sum 29001\n",
      "\tdecrement_timers()\t\t0.01 sec.\n",
      "\twalk_iter()\t\t\t3.29 sec.\n",
      "\tmake_disease_matrices()\t\t0.00 sec.\n"
     ]
    },
    {
     "name": "stderr",
     "output_type": "stream",
     "text": [
      "\r",
      " 47%|████▋     | 283/600 [22:02<25:51,  4.90s/it]"
     ]
    },
    {
     "name": "stdout",
     "output_type": "stream",
     "text": [
      "\tspread_disease()\t\t1.46 sec.\n",
      "\tscreen_for_disease()\t\t0.00 sec.\n",
      "\ttrack_stats()\t\t\t0.00 sec.\n",
      "[epoch=283]\tinfected=8\ttransmitters(visible+invisible)=31\n",
      "\n",
      "\n",
      "radiuses 2.3 2.3\n",
      "resp.sum 21830\n",
      "resp.sum 29159\n",
      "\tdecrement_timers()\t\t0.00 sec.\n",
      "\twalk_iter()\t\t\t3.36 sec.\n",
      "\tmake_disease_matrices()\t\t0.00 sec.\n"
     ]
    },
    {
     "name": "stderr",
     "output_type": "stream",
     "text": [
      "\r",
      " 47%|████▋     | 284/600 [22:07<25:47,  4.90s/it]"
     ]
    },
    {
     "name": "stdout",
     "output_type": "stream",
     "text": [
      "\tspread_disease()\t\t1.51 sec.\n",
      "\tscreen_for_disease()\t\t0.00 sec.\n",
      "\ttrack_stats()\t\t\t0.00 sec.\n",
      "[epoch=284]\tinfected=8\ttransmitters(visible+invisible)=30\n",
      "\n",
      "\n",
      "radiuses 2.3125 2.3125\n",
      "resp.sum 24220\n",
      "resp.sum 29318\n",
      "\tdecrement_timers()\t\t0.00 sec.\n",
      "\twalk_iter()\t\t\t3.35 sec.\n",
      "\tmake_disease_matrices()\t\t0.00 sec.\n"
     ]
    },
    {
     "name": "stderr",
     "output_type": "stream",
     "text": [
      "\r",
      " 48%|████▊     | 285/600 [22:12<25:31,  4.86s/it]"
     ]
    },
    {
     "name": "stdout",
     "output_type": "stream",
     "text": [
      "\tspread_disease()\t\t1.41 sec.\n",
      "\tscreen_for_disease()\t\t0.00 sec.\n",
      "\ttrack_stats()\t\t\t0.00 sec.\n",
      "[epoch=285]\tinfected=8\ttransmitters(visible+invisible)=29\n",
      "\n",
      "\n",
      "radiuses 2.325 2.325\n",
      "resp.sum 23066\n",
      "resp.sum 29476\n",
      "\tdecrement_timers()\t\t0.00 sec.\n",
      "\twalk_iter()\t\t\t3.38 sec.\n",
      "\tmake_disease_matrices()\t\t0.00 sec.\n"
     ]
    },
    {
     "name": "stderr",
     "output_type": "stream",
     "text": [
      "\r",
      " 48%|████▊     | 286/600 [22:17<25:25,  4.86s/it]"
     ]
    },
    {
     "name": "stdout",
     "output_type": "stream",
     "text": [
      "\tspread_disease()\t\t1.44 sec.\n",
      "\tscreen_for_disease()\t\t0.00 sec.\n",
      "\ttrack_stats()\t\t\t0.00 sec.\n",
      "[epoch=286]\tinfected=10\ttransmitters(visible+invisible)=29\n",
      "\n",
      "\n",
      "radiuses 2.3375 2.3375\n",
      "resp.sum 24220\n",
      "resp.sum 29635\n",
      "\tdecrement_timers()\t\t0.01 sec.\n",
      "\twalk_iter()\t\t\t3.35 sec.\n",
      "\tmake_disease_matrices()\t\t0.00 sec.\n"
     ]
    },
    {
     "name": "stderr",
     "output_type": "stream",
     "text": [
      "\r",
      " 48%|████▊     | 287/600 [22:22<25:19,  4.85s/it]"
     ]
    },
    {
     "name": "stdout",
     "output_type": "stream",
     "text": [
      "\tspread_disease()\t\t1.48 sec.\n",
      "\tscreen_for_disease()\t\t0.00 sec.\n",
      "\ttrack_stats()\t\t\t0.00 sec.\n",
      "[epoch=287]\tinfected=9\ttransmitters(visible+invisible)=29\n",
      "\n",
      "\n",
      "radiuses 2.35 2.35\n",
      "resp.sum 24220\n",
      "resp.sum 29793\n",
      "\tdecrement_timers()\t\t0.00 sec.\n",
      "\twalk_iter()\t\t\t3.32 sec.\n",
      "\tmake_disease_matrices()\t\t0.01 sec.\n"
     ]
    },
    {
     "name": "stderr",
     "output_type": "stream",
     "text": [
      "\r",
      " 48%|████▊     | 288/600 [22:26<25:05,  4.83s/it]"
     ]
    },
    {
     "name": "stdout",
     "output_type": "stream",
     "text": [
      "\tspread_disease()\t\t1.42 sec.\n",
      "\tscreen_for_disease()\t\t0.00 sec.\n",
      "\ttrack_stats()\t\t\t0.00 sec.\n",
      "[epoch=288]\tinfected=9\ttransmitters(visible+invisible)=28\n",
      "\n",
      "\n",
      "radiuses 2.3625 2.3625\n",
      "resp.sum 23066\n",
      "resp.sum 29952\n",
      "\tdecrement_timers()\t\t0.01 sec.\n",
      "\twalk_iter()\t\t\t3.40 sec.\n",
      "\tmake_disease_matrices()\t\t0.00 sec.\n"
     ]
    },
    {
     "name": "stderr",
     "output_type": "stream",
     "text": [
      "\r",
      " 48%|████▊     | 289/600 [22:31<25:14,  4.87s/it]"
     ]
    },
    {
     "name": "stdout",
     "output_type": "stream",
     "text": [
      "\tspread_disease()\t\t1.55 sec.\n",
      "\tscreen_for_disease()\t\t0.00 sec.\n",
      "\ttrack_stats()\t\t\t0.00 sec.\n",
      "[epoch=289]\tinfected=10\ttransmitters(visible+invisible)=27\n",
      "\n",
      "\n",
      "radiuses 2.375 2.375\n",
      "resp.sum 21830\n",
      "resp.sum 30110\n",
      "\tdecrement_timers()\t\t0.00 sec.\n",
      "\twalk_iter()\t\t\t3.27 sec.\n",
      "\tmake_disease_matrices()\t\t0.00 sec.\n"
     ]
    },
    {
     "name": "stderr",
     "output_type": "stream",
     "text": [
      "\r",
      " 48%|████▊     | 290/600 [22:36<25:05,  4.86s/it]"
     ]
    },
    {
     "name": "stdout",
     "output_type": "stream",
     "text": [
      "\tspread_disease()\t\t1.52 sec.\n",
      "\tscreen_for_disease()\t\t0.01 sec.\n",
      "\ttrack_stats()\t\t\t0.00 sec.\n",
      "[epoch=290]\tinfected=11\ttransmitters(visible+invisible)=25\n",
      "\n",
      "\n",
      "radiuses 2.3875 2.3875\n",
      "resp.sum 19052\n",
      "resp.sum 30268\n",
      "\tdecrement_timers()\t\t0.01 sec.\n",
      "\twalk_iter()\t\t\t3.37 sec.\n",
      "\tmake_disease_matrices()\t\t0.00 sec.\n"
     ]
    },
    {
     "name": "stderr",
     "output_type": "stream",
     "text": [
      "\r",
      " 48%|████▊     | 291/600 [22:41<25:29,  4.95s/it]"
     ]
    },
    {
     "name": "stdout",
     "output_type": "stream",
     "text": [
      "\tspread_disease()\t\t1.78 sec.\n",
      "\tscreen_for_disease()\t\t0.01 sec.\n",
      "\ttrack_stats()\t\t\t0.00 sec.\n",
      "[epoch=291]\tinfected=9\ttransmitters(visible+invisible)=27\n",
      "\n",
      "\n",
      "radiuses 2.4 2.4\n",
      "resp.sum 19052\n",
      "resp.sum 30427\n",
      "\tdecrement_timers()\t\t0.01 sec.\n",
      "\twalk_iter()\t\t\t3.48 sec.\n",
      "\tmake_disease_matrices()\t\t0.00 sec.\n"
     ]
    },
    {
     "name": "stderr",
     "output_type": "stream",
     "text": [
      "\r",
      " 49%|████▊     | 292/600 [22:46<25:29,  4.97s/it]"
     ]
    },
    {
     "name": "stdout",
     "output_type": "stream",
     "text": [
      "\tspread_disease()\t\t1.50 sec.\n",
      "\tscreen_for_disease()\t\t0.00 sec.\n",
      "\ttrack_stats()\t\t\t0.00 sec.\n",
      "[epoch=292]\tinfected=11\ttransmitters(visible+invisible)=27\n",
      "\n",
      "\n",
      "radiuses 2.4125 2.4125\n",
      "resp.sum 21830\n",
      "resp.sum 30585\n",
      "\tdecrement_timers()\t\t0.00 sec.\n",
      "\twalk_iter()\t\t\t3.39 sec.\n",
      "\tmake_disease_matrices()\t\t0.00 sec.\n"
     ]
    },
    {
     "name": "stderr",
     "output_type": "stream",
     "text": [
      "\r",
      " 49%|████▉     | 293/600 [22:51<25:26,  4.97s/it]"
     ]
    },
    {
     "name": "stdout",
     "output_type": "stream",
     "text": [
      "\tspread_disease()\t\t1.57 sec.\n",
      "\tscreen_for_disease()\t\t0.00 sec.\n",
      "\ttrack_stats()\t\t\t0.00 sec.\n",
      "[epoch=293]\tinfected=10\ttransmitters(visible+invisible)=28\n",
      "\n",
      "\n",
      "radiuses 2.425 2.425\n",
      "resp.sum 21830\n",
      "resp.sum 30744\n",
      "\tdecrement_timers()\t\t0.00 sec.\n",
      "\twalk_iter()\t\t\t3.31 sec.\n",
      "\tmake_disease_matrices()\t\t0.00 sec.\n"
     ]
    },
    {
     "name": "stderr",
     "output_type": "stream",
     "text": [
      "\r",
      " 49%|████▉     | 294/600 [22:56<25:06,  4.92s/it]"
     ]
    },
    {
     "name": "stdout",
     "output_type": "stream",
     "text": [
      "\tspread_disease()\t\t1.47 sec.\n",
      "\tscreen_for_disease()\t\t0.00 sec.\n",
      "\ttrack_stats()\t\t\t0.00 sec.\n",
      "[epoch=294]\tinfected=10\ttransmitters(visible+invisible)=27\n",
      "\n",
      "\n",
      "radiuses 2.4375 2.4375\n",
      "resp.sum 21830\n",
      "resp.sum 30902\n",
      "\tdecrement_timers()\t\t0.00 sec.\n",
      "\twalk_iter()\t\t\t3.44 sec.\n",
      "\tmake_disease_matrices()\t\t0.00 sec.\n"
     ]
    },
    {
     "name": "stderr",
     "output_type": "stream",
     "text": [
      "\r",
      " 49%|████▉     | 295/600 [23:01<25:01,  4.92s/it]"
     ]
    },
    {
     "name": "stdout",
     "output_type": "stream",
     "text": [
      "\tspread_disease()\t\t1.47 sec.\n",
      "\tscreen_for_disease()\t\t0.00 sec.\n",
      "\ttrack_stats()\t\t\t0.00 sec.\n",
      "[epoch=295]\tinfected=11\ttransmitters(visible+invisible)=27\n",
      "\n",
      "\n",
      "radiuses 2.45 2.45\n",
      "resp.sum 21830\n",
      "resp.sum 31061\n",
      "\tdecrement_timers()\t\t0.00 sec.\n",
      "\twalk_iter()\t\t\t3.38 sec.\n",
      "\tmake_disease_matrices()\t\t0.00 sec.\n"
     ]
    },
    {
     "name": "stderr",
     "output_type": "stream",
     "text": [
      "\r",
      " 49%|████▉     | 296/600 [23:06<24:50,  4.90s/it]"
     ]
    },
    {
     "name": "stdout",
     "output_type": "stream",
     "text": [
      "\tspread_disease()\t\t1.45 sec.\n",
      "\tscreen_for_disease()\t\t0.00 sec.\n",
      "\ttrack_stats()\t\t\t0.00 sec.\n",
      "[epoch=296]\tinfected=11\ttransmitters(visible+invisible)=28\n",
      "\n",
      "\n",
      "radiuses 2.4625 2.4625\n",
      "resp.sum 21830\n",
      "resp.sum 31219\n",
      "\tdecrement_timers()\t\t0.00 sec.\n",
      "\twalk_iter()\t\t\t3.33 sec.\n",
      "\tmake_disease_matrices()\t\t0.00 sec.\n"
     ]
    },
    {
     "name": "stderr",
     "output_type": "stream",
     "text": [
      "\r",
      " 50%|████▉     | 297/600 [23:11<24:43,  4.90s/it]"
     ]
    },
    {
     "name": "stdout",
     "output_type": "stream",
     "text": [
      "\tspread_disease()\t\t1.53 sec.\n",
      "\tscreen_for_disease()\t\t0.00 sec.\n",
      "\ttrack_stats()\t\t\t0.00 sec.\n",
      "[epoch=297]\tinfected=12\ttransmitters(visible+invisible)=28\n",
      "\n",
      "\n",
      "radiuses 2.475 2.475\n",
      "resp.sum 21830\n",
      "resp.sum 31378\n",
      "\tdecrement_timers()\t\t0.01 sec.\n",
      "\twalk_iter()\t\t\t3.34 sec.\n",
      "\tmake_disease_matrices()\t\t0.00 sec.\n"
     ]
    },
    {
     "name": "stderr",
     "output_type": "stream",
     "text": [
      "\r",
      " 50%|████▉     | 298/600 [23:16<24:26,  4.86s/it]"
     ]
    },
    {
     "name": "stdout",
     "output_type": "stream",
     "text": [
      "\tspread_disease()\t\t1.39 sec.\n",
      "\tscreen_for_disease()\t\t0.00 sec.\n",
      "\ttrack_stats()\t\t\t0.00 sec.\n",
      "[epoch=298]\tinfected=12\ttransmitters(visible+invisible)=27\n",
      "\n",
      "\n",
      "radiuses 2.4875 2.4875\n",
      "resp.sum 21830\n",
      "resp.sum 31536\n",
      "\tdecrement_timers()\t\t0.00 sec.\n",
      "\twalk_iter()\t\t\t3.31 sec.\n",
      "\tmake_disease_matrices()\t\t0.00 sec.\n"
     ]
    },
    {
     "name": "stderr",
     "output_type": "stream",
     "text": [
      "\r",
      " 50%|████▉     | 299/600 [23:20<24:20,  4.85s/it]"
     ]
    },
    {
     "name": "stdout",
     "output_type": "stream",
     "text": [
      "\tspread_disease()\t\t1.51 sec.\n",
      "\tscreen_for_disease()\t\t0.00 sec.\n",
      "\ttrack_stats()\t\t\t0.00 sec.\n",
      "[epoch=299]\tinfected=12\ttransmitters(visible+invisible)=26\n",
      "\n",
      "\n",
      "radiuses 2.5 2.5\n",
      "resp.sum 20499\n",
      "resp.sum 31695\n",
      "\tdecrement_timers()\t\t0.01 sec.\n",
      "\twalk_iter()\t\t\t3.32 sec.\n",
      "\tmake_disease_matrices()\t\t0.00 sec.\n"
     ]
    },
    {
     "name": "stderr",
     "output_type": "stream",
     "text": [
      "\r",
      " 50%|█████     | 300/600 [23:25<24:10,  4.84s/it]"
     ]
    },
    {
     "name": "stdout",
     "output_type": "stream",
     "text": [
      "\tspread_disease()\t\t1.46 sec.\n",
      "\tscreen_for_disease()\t\t0.00 sec.\n",
      "\ttrack_stats()\t\t\t0.00 sec.\n",
      "[epoch=300]\tinfected=15\ttransmitters(visible+invisible)=25\n",
      "\n",
      "\n",
      "radiuses 2.5125 2.5125\n",
      "resp.sum 20499\n",
      "resp.sum 31853\n",
      "\tdecrement_timers()\t\t0.00 sec.\n",
      "\twalk_iter()\t\t\t3.34 sec.\n",
      "\tmake_disease_matrices()\t\t0.00 sec.\n"
     ]
    },
    {
     "name": "stderr",
     "output_type": "stream",
     "text": [
      "\r",
      " 50%|█████     | 301/600 [23:30<24:04,  4.83s/it]"
     ]
    },
    {
     "name": "stdout",
     "output_type": "stream",
     "text": [
      "\tspread_disease()\t\t1.46 sec.\n",
      "\tscreen_for_disease()\t\t0.00 sec.\n",
      "\ttrack_stats()\t\t\t0.00 sec.\n",
      "[epoch=301]\tinfected=15\ttransmitters(visible+invisible)=26\n",
      "\n",
      "\n",
      "radiuses 2.525 2.525\n",
      "resp.sum 24220\n",
      "resp.sum 32012\n",
      "\tdecrement_timers()\t\t0.01 sec.\n",
      "\twalk_iter()\t\t\t3.40 sec.\n",
      "\tmake_disease_matrices()\t\t0.00 sec.\n"
     ]
    },
    {
     "name": "stderr",
     "output_type": "stream",
     "text": [
      "\r",
      " 50%|█████     | 302/600 [23:35<24:06,  4.85s/it]"
     ]
    },
    {
     "name": "stdout",
     "output_type": "stream",
     "text": [
      "\tspread_disease()\t\t1.48 sec.\n",
      "\tscreen_for_disease()\t\t0.00 sec.\n",
      "\ttrack_stats()\t\t\t0.00 sec.\n",
      "[epoch=302]\tinfected=14\ttransmitters(visible+invisible)=27\n",
      "\n",
      "\n",
      "radiuses 2.5375 2.5375\n",
      "resp.sum 24220\n",
      "resp.sum 32170\n",
      "\tdecrement_timers()\t\t0.00 sec.\n",
      "\twalk_iter()\t\t\t3.34 sec.\n",
      "\tmake_disease_matrices()\t\t0.00 sec.\n"
     ]
    },
    {
     "name": "stderr",
     "output_type": "stream",
     "text": [
      "\r",
      " 50%|█████     | 303/600 [23:40<23:57,  4.84s/it]"
     ]
    },
    {
     "name": "stdout",
     "output_type": "stream",
     "text": [
      "\tspread_disease()\t\t1.44 sec.\n",
      "\tscreen_for_disease()\t\t0.00 sec.\n",
      "\ttrack_stats()\t\t\t0.00 sec.\n",
      "[epoch=303]\tinfected=13\ttransmitters(visible+invisible)=27\n",
      "\n",
      "\n",
      "radiuses 2.55 2.55\n",
      "resp.sum 25306\n",
      "resp.sum 32329\n",
      "\tdecrement_timers()\t\t0.00 sec.\n",
      "\twalk_iter()\t\t\t3.35 sec.\n",
      "\tmake_disease_matrices()\t\t0.00 sec.\n"
     ]
    },
    {
     "name": "stderr",
     "output_type": "stream",
     "text": [
      "\r",
      " 51%|█████     | 304/600 [23:45<24:01,  4.87s/it]"
     ]
    },
    {
     "name": "stdout",
     "output_type": "stream",
     "text": [
      "\tspread_disease()\t\t1.57 sec.\n",
      "\tscreen_for_disease()\t\t0.00 sec.\n",
      "\ttrack_stats()\t\t\t0.00 sec.\n",
      "[epoch=304]\tinfected=12\ttransmitters(visible+invisible)=27\n",
      "\n",
      "\n",
      "radiuses 2.5625 2.5625\n",
      "resp.sum 26330\n",
      "resp.sum 32487\n",
      "\tdecrement_timers()\t\t0.01 sec.\n",
      "\twalk_iter()\t\t\t3.34 sec.\n",
      "\tmake_disease_matrices()\t\t0.00 sec.\n"
     ]
    },
    {
     "name": "stderr",
     "output_type": "stream",
     "text": [
      "\r",
      " 51%|█████     | 305/600 [23:49<23:56,  4.87s/it]"
     ]
    },
    {
     "name": "stdout",
     "output_type": "stream",
     "text": [
      "\tspread_disease()\t\t1.50 sec.\n",
      "\tscreen_for_disease()\t\t0.00 sec.\n",
      "\ttrack_stats()\t\t\t0.00 sec.\n",
      "[epoch=305]\tinfected=11\ttransmitters(visible+invisible)=27\n",
      "\n",
      "\n",
      "radiuses 2.575 2.575\n",
      "resp.sum 26330\n",
      "resp.sum 32646\n",
      "\tdecrement_timers()\t\t0.00 sec.\n",
      "\twalk_iter()\t\t\t3.37 sec.\n",
      "\tmake_disease_matrices()\t\t0.00 sec.\n"
     ]
    },
    {
     "name": "stderr",
     "output_type": "stream",
     "text": [
      "\r",
      " 51%|█████     | 306/600 [23:54<23:56,  4.89s/it]"
     ]
    },
    {
     "name": "stdout",
     "output_type": "stream",
     "text": [
      "\tspread_disease()\t\t1.53 sec.\n",
      "\tscreen_for_disease()\t\t0.00 sec.\n",
      "\ttrack_stats()\t\t\t0.00 sec.\n",
      "[epoch=306]\tinfected=15\ttransmitters(visible+invisible)=27\n",
      "\n",
      "\n",
      "radiuses 2.5875 2.5875\n",
      "resp.sum 26330\n",
      "resp.sum 32804\n",
      "\tdecrement_timers()\t\t0.01 sec.\n",
      "\twalk_iter()\t\t\t3.29 sec.\n",
      "\tmake_disease_matrices()\t\t0.01 sec.\n"
     ]
    },
    {
     "name": "stderr",
     "output_type": "stream",
     "text": [
      "\r",
      " 51%|█████     | 307/600 [23:59<23:49,  4.88s/it]"
     ]
    },
    {
     "name": "stdout",
     "output_type": "stream",
     "text": [
      "\tspread_disease()\t\t1.54 sec.\n",
      "\tscreen_for_disease()\t\t0.00 sec.\n",
      "\ttrack_stats()\t\t\t0.00 sec.\n",
      "[epoch=307]\tinfected=14\ttransmitters(visible+invisible)=27\n",
      "\n",
      "\n",
      "radiuses 2.6 2.6\n",
      "resp.sum 26330\n",
      "resp.sum 32963\n",
      "\tdecrement_timers()\t\t0.00 sec.\n",
      "\twalk_iter()\t\t\t3.36 sec.\n",
      "\tmake_disease_matrices()\t\t0.00 sec.\n"
     ]
    },
    {
     "name": "stderr",
     "output_type": "stream",
     "text": [
      "\r",
      " 51%|█████▏    | 308/600 [24:04<23:41,  4.87s/it]"
     ]
    },
    {
     "name": "stdout",
     "output_type": "stream",
     "text": [
      "\tspread_disease()\t\t1.47 sec.\n",
      "\tscreen_for_disease()\t\t0.00 sec.\n",
      "\ttrack_stats()\t\t\t0.00 sec.\n",
      "[epoch=308]\tinfected=15\ttransmitters(visible+invisible)=28\n",
      "\n",
      "\n",
      "radiuses 2.6125 2.6125\n",
      "resp.sum 26330\n",
      "resp.sum 33121\n",
      "\tdecrement_timers()\t\t0.00 sec.\n",
      "\twalk_iter()\t\t\t3.40 sec.\n",
      "\tmake_disease_matrices()\t\t0.00 sec.\n"
     ]
    },
    {
     "name": "stderr",
     "output_type": "stream",
     "text": [
      "\r",
      " 52%|█████▏    | 309/600 [24:09<23:37,  4.87s/it]"
     ]
    },
    {
     "name": "stdout",
     "output_type": "stream",
     "text": [
      "\tspread_disease()\t\t1.46 sec.\n",
      "\tscreen_for_disease()\t\t0.00 sec.\n",
      "\ttrack_stats()\t\t\t0.00 sec.\n",
      "[epoch=309]\tinfected=16\ttransmitters(visible+invisible)=28\n",
      "\n",
      "\n",
      "radiuses 2.625 2.625\n",
      "resp.sum 26330\n",
      "resp.sum 33280\n",
      "\tdecrement_timers()\t\t0.00 sec.\n",
      "\twalk_iter()\t\t\t3.32 sec.\n",
      "\tmake_disease_matrices()\t\t0.00 sec.\n"
     ]
    },
    {
     "name": "stderr",
     "output_type": "stream",
     "text": [
      "\r",
      " 52%|█████▏    | 310/600 [24:14<23:23,  4.84s/it]"
     ]
    },
    {
     "name": "stdout",
     "output_type": "stream",
     "text": [
      "\tspread_disease()\t\t1.42 sec.\n",
      "\tscreen_for_disease()\t\t0.00 sec.\n",
      "\ttrack_stats()\t\t\t0.00 sec.\n",
      "[epoch=310]\tinfected=18\ttransmitters(visible+invisible)=28\n",
      "\n",
      "\n",
      "radiuses 2.6375 2.6375\n",
      "resp.sum 27302\n",
      "resp.sum 33438\n",
      "\tdecrement_timers()\t\t0.00 sec.\n",
      "\twalk_iter()\t\t\t3.37 sec.\n",
      "\tmake_disease_matrices()\t\t0.00 sec.\n"
     ]
    },
    {
     "name": "stderr",
     "output_type": "stream",
     "text": [
      "\r",
      " 52%|█████▏    | 311/600 [24:19<23:23,  4.86s/it]"
     ]
    },
    {
     "name": "stdout",
     "output_type": "stream",
     "text": [
      "\tspread_disease()\t\t1.50 sec.\n",
      "\tscreen_for_disease()\t\t0.00 sec.\n",
      "\ttrack_stats()\t\t\t0.00 sec.\n",
      "[epoch=311]\tinfected=17\ttransmitters(visible+invisible)=28\n",
      "\n",
      "\n",
      "radiuses 2.65 2.65\n",
      "resp.sum 26330\n",
      "resp.sum 33596\n",
      "\tdecrement_timers()\t\t0.00 sec.\n",
      "\twalk_iter()\t\t\t3.31 sec.\n",
      "\tmake_disease_matrices()\t\t0.00 sec.\n"
     ]
    },
    {
     "name": "stderr",
     "output_type": "stream",
     "text": [
      "\r",
      " 52%|█████▏    | 312/600 [24:23<23:12,  4.83s/it]"
     ]
    },
    {
     "name": "stdout",
     "output_type": "stream",
     "text": [
      "\tspread_disease()\t\t1.45 sec.\n",
      "\tscreen_for_disease()\t\t0.00 sec.\n",
      "\ttrack_stats()\t\t\t0.00 sec.\n",
      "[epoch=312]\tinfected=17\ttransmitters(visible+invisible)=26\n",
      "\n",
      "\n",
      "radiuses 2.6625 2.6625\n",
      "resp.sum 24220\n",
      "resp.sum 33755\n",
      "\tdecrement_timers()\t\t0.00 sec.\n",
      "\twalk_iter()\t\t\t3.39 sec.\n",
      "\tmake_disease_matrices()\t\t0.00 sec.\n"
     ]
    },
    {
     "name": "stderr",
     "output_type": "stream",
     "text": [
      "\r",
      " 52%|█████▏    | 313/600 [24:28<23:20,  4.88s/it]"
     ]
    },
    {
     "name": "stdout",
     "output_type": "stream",
     "text": [
      "\tspread_disease()\t\t1.57 sec.\n",
      "\tscreen_for_disease()\t\t0.00 sec.\n",
      "\ttrack_stats()\t\t\t0.00 sec.\n",
      "[epoch=313]\tinfected=17\ttransmitters(visible+invisible)=26\n",
      "\n",
      "\n",
      "radiuses 2.675 2.675\n",
      "resp.sum 24220\n",
      "resp.sum 33913\n",
      "\tdecrement_timers()\t\t0.00 sec.\n",
      "\twalk_iter()\t\t\t3.34 sec.\n",
      "\tmake_disease_matrices()\t\t0.00 sec.\n"
     ]
    },
    {
     "name": "stderr",
     "output_type": "stream",
     "text": [
      "\r",
      " 52%|█████▏    | 314/600 [24:33<23:20,  4.90s/it]"
     ]
    },
    {
     "name": "stdout",
     "output_type": "stream",
     "text": [
      "\tspread_disease()\t\t1.57 sec.\n",
      "\tscreen_for_disease()\t\t0.01 sec.\n",
      "\ttrack_stats()\t\t\t0.00 sec.\n",
      "[epoch=314]\tinfected=17\ttransmitters(visible+invisible)=25\n",
      "\n",
      "\n",
      "radiuses 2.6875 2.6875\n",
      "resp.sum 21830\n",
      "resp.sum 34072\n",
      "\tdecrement_timers()\t\t0.01 sec.\n",
      "\twalk_iter()\t\t\t3.26 sec.\n",
      "\tmake_disease_matrices()\t\t0.00 sec.\n"
     ]
    },
    {
     "name": "stderr",
     "output_type": "stream",
     "text": [
      "\r",
      " 52%|█████▎    | 315/600 [24:38<23:08,  4.87s/it]"
     ]
    },
    {
     "name": "stdout",
     "output_type": "stream",
     "text": [
      "\tspread_disease()\t\t1.52 sec.\n",
      "\tscreen_for_disease()\t\t0.01 sec.\n",
      "\ttrack_stats()\t\t\t0.00 sec.\n",
      "[epoch=315]\tinfected=17\ttransmitters(visible+invisible)=23\n",
      "\n",
      "\n",
      "radiuses 2.7 2.7\n",
      "resp.sum 19052\n",
      "resp.sum 34230\n",
      "\tdecrement_timers()\t\t0.01 sec.\n",
      "\twalk_iter()\t\t\t3.56 sec.\n",
      "\tmake_disease_matrices()\t\t0.00 sec.\n"
     ]
    },
    {
     "name": "stderr",
     "output_type": "stream",
     "text": [
      "\r",
      " 53%|█████▎    | 316/600 [24:43<23:29,  4.96s/it]"
     ]
    },
    {
     "name": "stdout",
     "output_type": "stream",
     "text": [
      "\tspread_disease()\t\t1.58 sec.\n",
      "\tscreen_for_disease()\t\t0.00 sec.\n",
      "\ttrack_stats()\t\t\t0.00 sec.\n",
      "[epoch=316]\tinfected=18\ttransmitters(visible+invisible)=23\n",
      "\n",
      "\n",
      "radiuses 2.7125 2.7125\n",
      "resp.sum 20499\n",
      "resp.sum 34389\n",
      "\tdecrement_timers()\t\t0.00 sec.\n",
      "\twalk_iter()\t\t\t3.35 sec.\n",
      "\tmake_disease_matrices()\t\t0.00 sec.\n"
     ]
    },
    {
     "name": "stderr",
     "output_type": "stream",
     "text": [
      "\r",
      " 53%|█████▎    | 317/600 [24:48<23:06,  4.90s/it]"
     ]
    },
    {
     "name": "stdout",
     "output_type": "stream",
     "text": [
      "\tspread_disease()\t\t1.38 sec.\n",
      "\tscreen_for_disease()\t\t0.00 sec.\n",
      "\ttrack_stats()\t\t\t0.00 sec.\n",
      "[epoch=317]\tinfected=19\ttransmitters(visible+invisible)=22\n",
      "\n",
      "\n",
      "radiuses 2.725 2.725\n",
      "resp.sum 19052\n",
      "resp.sum 34547\n",
      "\tdecrement_timers()\t\t0.00 sec.\n",
      "\twalk_iter()\t\t\t3.38 sec.\n",
      "\tmake_disease_matrices()\t\t0.00 sec.\n"
     ]
    },
    {
     "name": "stderr",
     "output_type": "stream",
     "text": [
      "\r",
      " 53%|█████▎    | 318/600 [24:53<22:53,  4.87s/it]"
     ]
    },
    {
     "name": "stdout",
     "output_type": "stream",
     "text": [
      "\tspread_disease()\t\t1.40 sec.\n",
      "\tscreen_for_disease()\t\t0.00 sec.\n",
      "\ttrack_stats()\t\t\t0.00 sec.\n",
      "[epoch=318]\tinfected=19\ttransmitters(visible+invisible)=21\n",
      "\n",
      "\n",
      "radiuses 2.7375 2.7375\n",
      "resp.sum 15676\n",
      "resp.sum 34706\n",
      "\tdecrement_timers()\t\t0.01 sec.\n",
      "\twalk_iter()\t\t\t3.48 sec.\n",
      "\tmake_disease_matrices()\t\t0.00 sec.\n"
     ]
    },
    {
     "name": "stderr",
     "output_type": "stream",
     "text": [
      "\r",
      " 53%|█████▎    | 319/600 [24:58<23:06,  4.93s/it]"
     ]
    },
    {
     "name": "stdout",
     "output_type": "stream",
     "text": [
      "\tspread_disease()\t\t1.57 sec.\n",
      "\tscreen_for_disease()\t\t0.01 sec.\n",
      "\ttrack_stats()\t\t\t0.00 sec.\n",
      "[epoch=319]\tinfected=20\ttransmitters(visible+invisible)=21\n",
      "\n",
      "\n",
      "radiuses 2.75 2.75\n",
      "resp.sum 15676\n",
      "resp.sum 34864\n",
      "\tdecrement_timers()\t\t0.01 sec.\n",
      "\twalk_iter()\t\t\t3.34 sec.\n",
      "\tmake_disease_matrices()\t\t0.00 sec.\n"
     ]
    },
    {
     "name": "stderr",
     "output_type": "stream",
     "text": [
      "\r",
      " 53%|█████▎    | 320/600 [25:03<22:47,  4.88s/it]"
     ]
    },
    {
     "name": "stdout",
     "output_type": "stream",
     "text": [
      "\tspread_disease()\t\t1.40 sec.\n",
      "\tscreen_for_disease()\t\t0.00 sec.\n",
      "\ttrack_stats()\t\t\t0.00 sec.\n",
      "[epoch=320]\tinfected=19\ttransmitters(visible+invisible)=22\n",
      "\n",
      "\n",
      "radiuses 2.7625 2.7625\n",
      "resp.sum 15676\n",
      "resp.sum 35023\n",
      "\tdecrement_timers()\t\t0.00 sec.\n",
      "\twalk_iter()\t\t\t3.42 sec.\n",
      "\tmake_disease_matrices()\t\t0.00 sec.\n"
     ]
    },
    {
     "name": "stderr",
     "output_type": "stream",
     "text": [
      "\r",
      " 54%|█████▎    | 321/600 [25:08<22:43,  4.89s/it]"
     ]
    },
    {
     "name": "stdout",
     "output_type": "stream",
     "text": [
      "\tspread_disease()\t\t1.46 sec.\n",
      "\tscreen_for_disease()\t\t0.00 sec.\n",
      "\ttrack_stats()\t\t\t0.00 sec.\n",
      "[epoch=321]\tinfected=21\ttransmitters(visible+invisible)=21\n",
      "\n",
      "\n",
      "radiuses 2.775 2.775\n",
      "resp.sum 13629\n",
      "resp.sum 35181\n",
      "\tdecrement_timers()\t\t0.00 sec.\n",
      "\twalk_iter()\t\t\t3.35 sec.\n",
      "\tmake_disease_matrices()\t\t0.00 sec.\n"
     ]
    },
    {
     "name": "stderr",
     "output_type": "stream",
     "text": [
      "\r",
      " 54%|█████▎    | 322/600 [25:13<22:40,  4.89s/it]"
     ]
    },
    {
     "name": "stdout",
     "output_type": "stream",
     "text": [
      "\tspread_disease()\t\t1.53 sec.\n",
      "\tscreen_for_disease()\t\t0.01 sec.\n",
      "\ttrack_stats()\t\t\t0.00 sec.\n",
      "[epoch=322]\tinfected=20\ttransmitters(visible+invisible)=22\n",
      "\n",
      "\n",
      "radiuses 2.7875 2.7875\n",
      "resp.sum 13629\n",
      "resp.sum 35340\n",
      "\tdecrement_timers()\t\t0.01 sec.\n",
      "\twalk_iter()\t\t\t3.32 sec.\n",
      "\tmake_disease_matrices()\t\t0.00 sec.\n"
     ]
    },
    {
     "name": "stderr",
     "output_type": "stream",
     "text": [
      "\r",
      " 54%|█████▍    | 323/600 [25:17<22:25,  4.86s/it]"
     ]
    },
    {
     "name": "stdout",
     "output_type": "stream",
     "text": [
      "\tspread_disease()\t\t1.43 sec.\n",
      "\tscreen_for_disease()\t\t0.00 sec.\n",
      "\ttrack_stats()\t\t\t0.00 sec.\n",
      "[epoch=323]\tinfected=20\ttransmitters(visible+invisible)=23\n",
      "\n",
      "\n",
      "radiuses 2.8 2.8\n",
      "resp.sum 13629\n",
      "resp.sum 35498\n",
      "\tdecrement_timers()\t\t0.00 sec.\n",
      "\twalk_iter()\t\t\t3.35 sec.\n",
      "\tmake_disease_matrices()\t\t0.00 sec.\n"
     ]
    },
    {
     "name": "stderr",
     "output_type": "stream",
     "text": [
      "\r",
      " 54%|█████▍    | 324/600 [25:22<22:27,  4.88s/it]"
     ]
    },
    {
     "name": "stdout",
     "output_type": "stream",
     "text": [
      "\tspread_disease()\t\t1.57 sec.\n",
      "\tscreen_for_disease()\t\t0.00 sec.\n",
      "\ttrack_stats()\t\t\t0.00 sec.\n",
      "[epoch=324]\tinfected=19\ttransmitters(visible+invisible)=24\n",
      "\n",
      "\n",
      "radiuses 2.8125 2.8125\n",
      "resp.sum 11171\n",
      "resp.sum 35657\n",
      "\tdecrement_timers()\t\t0.00 sec.\n",
      "\twalk_iter()\t\t\t3.34 sec.\n",
      "\tmake_disease_matrices()\t\t0.00 sec.\n"
     ]
    },
    {
     "name": "stderr",
     "output_type": "stream",
     "text": [
      "\r",
      " 54%|█████▍    | 325/600 [25:27<22:22,  4.88s/it]"
     ]
    },
    {
     "name": "stdout",
     "output_type": "stream",
     "text": [
      "\tspread_disease()\t\t1.52 sec.\n",
      "\tscreen_for_disease()\t\t0.01 sec.\n",
      "\ttrack_stats()\t\t\t0.00 sec.\n",
      "[epoch=325]\tinfected=19\ttransmitters(visible+invisible)=24\n",
      "\n",
      "\n",
      "radiuses 2.825 2.825\n",
      "resp.sum 11171\n",
      "resp.sum 35815\n",
      "\tdecrement_timers()\t\t0.01 sec.\n",
      "\twalk_iter()\t\t\t3.29 sec.\n",
      "\tmake_disease_matrices()\t\t0.00 sec.\n"
     ]
    },
    {
     "name": "stderr",
     "output_type": "stream",
     "text": [
      "\r",
      " 54%|█████▍    | 326/600 [25:32<22:06,  4.84s/it]"
     ]
    },
    {
     "name": "stdout",
     "output_type": "stream",
     "text": [
      "\tspread_disease()\t\t1.43 sec.\n",
      "\tscreen_for_disease()\t\t0.00 sec.\n",
      "\ttrack_stats()\t\t\t0.00 sec.\n",
      "[epoch=326]\tinfected=22\ttransmitters(visible+invisible)=24\n",
      "\n",
      "\n",
      "radiuses 2.8375 2.8375\n",
      "resp.sum 15676\n",
      "resp.sum 35974\n",
      "\tdecrement_timers()\t\t0.00 sec.\n",
      "\twalk_iter()\t\t\t3.62 sec.\n",
      "\tmake_disease_matrices()\t\t0.00 sec.\n"
     ]
    },
    {
     "name": "stderr",
     "output_type": "stream",
     "text": [
      "\r",
      " 55%|█████▍    | 327/600 [25:37<22:17,  4.90s/it]"
     ]
    },
    {
     "name": "stdout",
     "output_type": "stream",
     "text": [
      "\tspread_disease()\t\t1.39 sec.\n",
      "\tscreen_for_disease()\t\t0.00 sec.\n",
      "\ttrack_stats()\t\t\t0.00 sec.\n",
      "[epoch=327]\tinfected=23\ttransmitters(visible+invisible)=26\n",
      "\n",
      "\n",
      "radiuses 2.85 2.85\n",
      "resp.sum 15676\n",
      "resp.sum 36132\n",
      "\tdecrement_timers()\t\t0.00 sec.\n",
      "\twalk_iter()\t\t\t3.69 sec.\n",
      "\tmake_disease_matrices()\t\t0.00 sec.\n"
     ]
    },
    {
     "name": "stderr",
     "output_type": "stream",
     "text": [
      "\r",
      " 55%|█████▍    | 328/600 [25:42<22:43,  5.01s/it]"
     ]
    },
    {
     "name": "stdout",
     "output_type": "stream",
     "text": [
      "\tspread_disease()\t\t1.57 sec.\n",
      "\tscreen_for_disease()\t\t0.00 sec.\n",
      "\ttrack_stats()\t\t\t0.00 sec.\n",
      "[epoch=328]\tinfected=23\ttransmitters(visible+invisible)=27\n",
      "\n",
      "\n",
      "radiuses 2.8625 2.8625\n",
      "resp.sum 19052\n",
      "resp.sum 36291\n",
      "\tdecrement_timers()\t\t0.01 sec.\n",
      "\twalk_iter()\t\t\t3.63 sec.\n",
      "\tmake_disease_matrices()\t\t0.00 sec.\n"
     ]
    },
    {
     "name": "stderr",
     "output_type": "stream",
     "text": [
      "\r",
      " 55%|█████▍    | 329/600 [25:47<22:45,  5.04s/it]"
     ]
    },
    {
     "name": "stdout",
     "output_type": "stream",
     "text": [
      "\tspread_disease()\t\t1.44 sec.\n",
      "\tscreen_for_disease()\t\t0.00 sec.\n",
      "\ttrack_stats()\t\t\t0.00 sec.\n",
      "[epoch=329]\tinfected=22\ttransmitters(visible+invisible)=28\n",
      "\n",
      "\n",
      "radiuses 2.875 2.875\n",
      "resp.sum 17459\n",
      "resp.sum 36449\n",
      "\tdecrement_timers()\t\t0.00 sec.\n",
      "\twalk_iter()\t\t\t3.69 sec.\n",
      "\tmake_disease_matrices()\t\t0.00 sec.\n"
     ]
    },
    {
     "name": "stderr",
     "output_type": "stream",
     "text": [
      "\r",
      " 55%|█████▌    | 330/600 [25:53<22:55,  5.09s/it]"
     ]
    },
    {
     "name": "stdout",
     "output_type": "stream",
     "text": [
      "\tspread_disease()\t\t1.51 sec.\n",
      "\tscreen_for_disease()\t\t0.01 sec.\n",
      "\ttrack_stats()\t\t\t0.00 sec.\n",
      "[epoch=330]\tinfected=22\ttransmitters(visible+invisible)=28\n",
      "\n",
      "\n",
      "radiuses 2.8875 2.8875\n",
      "resp.sum 20499\n",
      "resp.sum 36608\n",
      "\tdecrement_timers()\t\t0.01 sec.\n",
      "\twalk_iter()\t\t\t3.62 sec.\n",
      "\tmake_disease_matrices()\t\t0.01 sec.\n"
     ]
    },
    {
     "name": "stderr",
     "output_type": "stream",
     "text": [
      "\r",
      " 55%|█████▌    | 331/600 [25:58<23:01,  5.14s/it]"
     ]
    },
    {
     "name": "stdout",
     "output_type": "stream",
     "text": [
      "\tspread_disease()\t\t1.59 sec.\n",
      "\tscreen_for_disease()\t\t0.00 sec.\n",
      "\ttrack_stats()\t\t\t0.00 sec.\n",
      "[epoch=331]\tinfected=21\ttransmitters(visible+invisible)=30\n",
      "\n",
      "\n",
      "radiuses 2.9 2.9\n",
      "resp.sum 20499\n",
      "resp.sum 36766\n",
      "\tdecrement_timers()\t\t0.00 sec.\n",
      "\twalk_iter()\t\t\t3.61 sec.\n",
      "\tmake_disease_matrices()\t\t0.00 sec.\n"
     ]
    },
    {
     "name": "stderr",
     "output_type": "stream",
     "text": [
      "\r",
      " 55%|█████▌    | 332/600 [26:03<22:58,  5.14s/it]"
     ]
    },
    {
     "name": "stdout",
     "output_type": "stream",
     "text": [
      "\tspread_disease()\t\t1.52 sec.\n",
      "\tscreen_for_disease()\t\t0.00 sec.\n",
      "\ttrack_stats()\t\t\t0.00 sec.\n",
      "[epoch=332]\tinfected=22\ttransmitters(visible+invisible)=31\n",
      "\n",
      "\n",
      "radiuses 2.9125 2.9125\n",
      "resp.sum 21830\n",
      "resp.sum 36924\n",
      "\tdecrement_timers()\t\t0.00 sec.\n",
      "\twalk_iter()\t\t\t3.63 sec.\n",
      "\tmake_disease_matrices()\t\t0.00 sec.\n"
     ]
    },
    {
     "name": "stderr",
     "output_type": "stream",
     "text": [
      "\r",
      " 56%|█████▌    | 333/600 [26:08<22:57,  5.16s/it]"
     ]
    },
    {
     "name": "stdout",
     "output_type": "stream",
     "text": [
      "\tspread_disease()\t\t1.55 sec.\n",
      "\tscreen_for_disease()\t\t0.01 sec.\n",
      "\ttrack_stats()\t\t\t0.00 sec.\n",
      "[epoch=333]\tinfected=22\ttransmitters(visible+invisible)=30\n",
      "\n",
      "\n",
      "radiuses 2.925 2.925\n",
      "resp.sum 19052\n",
      "resp.sum 37083\n",
      "\tdecrement_timers()\t\t0.01 sec.\n",
      "\twalk_iter()\t\t\t3.63 sec.\n",
      "\tmake_disease_matrices()\t\t0.00 sec.\n"
     ]
    },
    {
     "name": "stderr",
     "output_type": "stream",
     "text": [
      "\r",
      " 56%|█████▌    | 334/600 [26:13<22:59,  5.18s/it]"
     ]
    },
    {
     "name": "stdout",
     "output_type": "stream",
     "text": [
      "\tspread_disease()\t\t1.58 sec.\n",
      "\tscreen_for_disease()\t\t0.00 sec.\n",
      "\ttrack_stats()\t\t\t0.00 sec.\n",
      "[epoch=334]\tinfected=21\ttransmitters(visible+invisible)=32\n",
      "\n",
      "\n",
      "radiuses 2.9375 2.9375\n",
      "resp.sum 20499\n",
      "resp.sum 37241\n",
      "\tdecrement_timers()\t\t0.01 sec.\n",
      "\twalk_iter()\t\t\t3.64 sec.\n",
      "\tmake_disease_matrices()\t\t0.00 sec.\n"
     ]
    },
    {
     "name": "stderr",
     "output_type": "stream",
     "text": [
      "\r",
      " 56%|█████▌    | 335/600 [26:19<22:51,  5.18s/it]"
     ]
    },
    {
     "name": "stdout",
     "output_type": "stream",
     "text": [
      "\tspread_disease()\t\t1.49 sec.\n",
      "\tscreen_for_disease()\t\t0.00 sec.\n",
      "\ttrack_stats()\t\t\t0.00 sec.\n",
      "[epoch=335]\tinfected=22\ttransmitters(visible+invisible)=32\n",
      "\n",
      "\n",
      "radiuses 2.95 2.95\n",
      "resp.sum 20499\n",
      "resp.sum 37400\n",
      "\tdecrement_timers()\t\t0.01 sec.\n",
      "\twalk_iter()\t\t\t3.60 sec.\n",
      "\tmake_disease_matrices()\t\t0.00 sec.\n"
     ]
    },
    {
     "name": "stderr",
     "output_type": "stream",
     "text": [
      "\r",
      " 56%|█████▌    | 336/600 [26:24<22:38,  5.14s/it]"
     ]
    },
    {
     "name": "stdout",
     "output_type": "stream",
     "text": [
      "\tspread_disease()\t\t1.45 sec.\n",
      "\tscreen_for_disease()\t\t0.00 sec.\n",
      "\ttrack_stats()\t\t\t0.00 sec.\n",
      "[epoch=336]\tinfected=21\ttransmitters(visible+invisible)=33\n",
      "\n",
      "\n",
      "radiuses 2.9625 2.9625\n",
      "resp.sum 20499\n",
      "resp.sum 37558\n",
      "\tdecrement_timers()\t\t0.00 sec.\n",
      "\twalk_iter()\t\t\t3.72 sec.\n",
      "\tmake_disease_matrices()\t\t0.00 sec.\n"
     ]
    },
    {
     "name": "stderr",
     "output_type": "stream",
     "text": [
      "\r",
      " 56%|█████▌    | 337/600 [26:29<22:32,  5.14s/it]"
     ]
    },
    {
     "name": "stdout",
     "output_type": "stream",
     "text": [
      "\tspread_disease()\t\t1.39 sec.\n",
      "\tscreen_for_disease()\t\t0.00 sec.\n",
      "\ttrack_stats()\t\t\t0.00 sec.\n",
      "[epoch=337]\tinfected=21\ttransmitters(visible+invisible)=34\n",
      "\n",
      "\n",
      "radiuses 2.975 2.975\n",
      "resp.sum 23066\n",
      "resp.sum 37717\n",
      "\tdecrement_timers()\t\t0.01 sec.\n",
      "\twalk_iter()\t\t\t3.60 sec.\n",
      "\tmake_disease_matrices()\t\t0.01 sec.\n"
     ]
    },
    {
     "name": "stderr",
     "output_type": "stream",
     "text": [
      "\r",
      " 56%|█████▋    | 338/600 [26:34<22:39,  5.19s/it]"
     ]
    },
    {
     "name": "stdout",
     "output_type": "stream",
     "text": [
      "\tspread_disease()\t\t1.67 sec.\n",
      "\tscreen_for_disease()\t\t0.00 sec.\n",
      "\ttrack_stats()\t\t\t0.00 sec.\n",
      "[epoch=338]\tinfected=24\ttransmitters(visible+invisible)=33\n",
      "\n",
      "\n",
      "radiuses 2.9875 2.9875\n",
      "resp.sum 21830\n",
      "resp.sum 37875\n",
      "\tdecrement_timers()\t\t0.01 sec.\n",
      "\twalk_iter()\t\t\t4.04 sec.\n",
      "\tmake_disease_matrices()\t\t0.01 sec.\n"
     ]
    },
    {
     "name": "stderr",
     "output_type": "stream",
     "text": [
      "\r",
      " 56%|█████▋    | 339/600 [26:40<22:56,  5.28s/it]"
     ]
    },
    {
     "name": "stdout",
     "output_type": "stream",
     "text": [
      "\tspread_disease()\t\t1.42 sec.\n",
      "\tscreen_for_disease()\t\t0.00 sec.\n",
      "\ttrack_stats()\t\t\t0.00 sec.\n",
      "[epoch=339]\tinfected=26\ttransmitters(visible+invisible)=33\n",
      "\n",
      "\n",
      "radiuses 3.0 3.0\n",
      "resp.sum 24220\n",
      "resp.sum 38034\n",
      "\tdecrement_timers()\t\t0.00 sec.\n",
      "\twalk_iter()\t\t\t4.28 sec.\n",
      "\tmake_disease_matrices()\t\t0.00 sec.\n"
     ]
    },
    {
     "name": "stderr",
     "output_type": "stream",
     "text": [
      "\r",
      " 57%|█████▋    | 340/600 [26:45<23:34,  5.44s/it]"
     ]
    },
    {
     "name": "stdout",
     "output_type": "stream",
     "text": [
      "\tspread_disease()\t\t1.53 sec.\n",
      "\tscreen_for_disease()\t\t0.00 sec.\n",
      "\ttrack_stats()\t\t\t0.00 sec.\n",
      "[epoch=340]\tinfected=26\ttransmitters(visible+invisible)=35\n",
      "\n",
      "\n",
      "radiuses 3.0125 3.0125\n",
      "resp.sum 24220\n",
      "resp.sum 38192\n",
      "\tdecrement_timers()\t\t0.00 sec.\n",
      "\twalk_iter()\t\t\t4.19 sec.\n",
      "\tmake_disease_matrices()\t\t0.01 sec.\n"
     ]
    },
    {
     "name": "stderr",
     "output_type": "stream",
     "text": [
      "\r",
      " 57%|█████▋    | 341/600 [26:51<23:43,  5.50s/it]"
     ]
    },
    {
     "name": "stdout",
     "output_type": "stream",
     "text": [
      "\tspread_disease()\t\t1.41 sec.\n",
      "\tscreen_for_disease()\t\t0.00 sec.\n",
      "\ttrack_stats()\t\t\t0.00 sec.\n",
      "[epoch=341]\tinfected=26\ttransmitters(visible+invisible)=35\n",
      "\n",
      "\n",
      "radiuses 3.025 3.025\n",
      "resp.sum 25306\n",
      "resp.sum 38351\n",
      "\tdecrement_timers()\t\t0.00 sec.\n",
      "\twalk_iter()\t\t\t4.27 sec.\n",
      "\tmake_disease_matrices()\t\t0.01 sec.\n"
     ]
    },
    {
     "name": "stderr",
     "output_type": "stream",
     "text": [
      "\r",
      " 57%|█████▋    | 342/600 [26:57<24:08,  5.61s/it]"
     ]
    },
    {
     "name": "stdout",
     "output_type": "stream",
     "text": [
      "\tspread_disease()\t\t1.59 sec.\n",
      "\tscreen_for_disease()\t\t0.00 sec.\n",
      "\ttrack_stats()\t\t\t0.00 sec.\n",
      "[epoch=342]\tinfected=27\ttransmitters(visible+invisible)=35\n",
      "\n",
      "\n",
      "radiuses 3.0375 3.0375\n",
      "resp.sum 26330\n",
      "resp.sum 38509\n",
      "\tdecrement_timers()\t\t0.01 sec.\n",
      "\twalk_iter()\t\t\t4.16 sec.\n",
      "\tmake_disease_matrices()\t\t0.01 sec.\n"
     ]
    },
    {
     "name": "stderr",
     "output_type": "stream",
     "text": [
      "\r",
      " 57%|█████▋    | 343/600 [27:03<24:10,  5.65s/it]"
     ]
    },
    {
     "name": "stdout",
     "output_type": "stream",
     "text": [
      "\tspread_disease()\t\t1.54 sec.\n",
      "\tscreen_for_disease()\t\t0.00 sec.\n",
      "\ttrack_stats()\t\t\t0.00 sec.\n",
      "[epoch=343]\tinfected=26\ttransmitters(visible+invisible)=36\n",
      "\n",
      "\n",
      "radiuses 3.05 3.05\n",
      "resp.sum 25306\n",
      "resp.sum 38668\n",
      "\tdecrement_timers()\t\t0.00 sec.\n",
      "\twalk_iter()\t\t\t4.19 sec.\n",
      "\tmake_disease_matrices()\t\t0.00 sec.\n"
     ]
    },
    {
     "name": "stderr",
     "output_type": "stream",
     "text": [
      "\r",
      " 57%|█████▋    | 344/600 [27:08<24:10,  5.67s/it]"
     ]
    },
    {
     "name": "stdout",
     "output_type": "stream",
     "text": [
      "\tspread_disease()\t\t1.50 sec.\n",
      "\tscreen_for_disease()\t\t0.00 sec.\n",
      "\ttrack_stats()\t\t\t0.00 sec.\n",
      "[epoch=344]\tinfected=26\ttransmitters(visible+invisible)=35\n",
      "\n",
      "\n",
      "radiuses 3.0625 3.0625\n",
      "resp.sum 24220\n",
      "resp.sum 38826\n",
      "\tdecrement_timers()\t\t0.00 sec.\n",
      "\twalk_iter()\t\t\t4.18 sec.\n",
      "\tmake_disease_matrices()\t\t0.00 sec.\n"
     ]
    },
    {
     "name": "stderr",
     "output_type": "stream",
     "text": [
      "\r",
      " 57%|█████▊    | 345/600 [27:14<24:07,  5.68s/it]"
     ]
    },
    {
     "name": "stdout",
     "output_type": "stream",
     "text": [
      "\tspread_disease()\t\t1.49 sec.\n",
      "\tscreen_for_disease()\t\t0.00 sec.\n",
      "\ttrack_stats()\t\t\t0.00 sec.\n",
      "[epoch=345]\tinfected=26\ttransmitters(visible+invisible)=34\n",
      "\n",
      "\n",
      "radiuses 3.075 3.075\n",
      "resp.sum 24220\n",
      "resp.sum 38985\n",
      "\tdecrement_timers()\t\t0.00 sec.\n",
      "\twalk_iter()\t\t\t4.21 sec.\n",
      "\tmake_disease_matrices()\t\t0.01 sec.\n"
     ]
    },
    {
     "name": "stderr",
     "output_type": "stream",
     "text": [
      "\r",
      " 58%|█████▊    | 346/600 [27:20<24:03,  5.68s/it]"
     ]
    },
    {
     "name": "stdout",
     "output_type": "stream",
     "text": [
      "\tspread_disease()\t\t1.47 sec.\n",
      "\tscreen_for_disease()\t\t0.00 sec.\n",
      "\ttrack_stats()\t\t\t0.00 sec.\n",
      "[epoch=346]\tinfected=27\ttransmitters(visible+invisible)=33\n",
      "\n",
      "\n",
      "radiuses 3.0875 3.0875\n",
      "resp.sum 21830\n",
      "resp.sum 39143\n",
      "\tdecrement_timers()\t\t0.00 sec.\n",
      "\twalk_iter()\t\t\t4.19 sec.\n",
      "\tmake_disease_matrices()\t\t0.01 sec.\n"
     ]
    },
    {
     "name": "stderr",
     "output_type": "stream",
     "text": [
      "\r",
      " 58%|█████▊    | 347/600 [27:25<24:02,  5.70s/it]"
     ]
    },
    {
     "name": "stdout",
     "output_type": "stream",
     "text": [
      "\tspread_disease()\t\t1.53 sec.\n",
      "\tscreen_for_disease()\t\t0.00 sec.\n",
      "\ttrack_stats()\t\t\t0.00 sec.\n",
      "[epoch=347]\tinfected=25\ttransmitters(visible+invisible)=36\n",
      "\n",
      "\n",
      "radiuses 3.1 3.1\n",
      "resp.sum 21830\n",
      "resp.sum 39302\n",
      "\tdecrement_timers()\t\t0.01 sec.\n",
      "\twalk_iter()\t\t\t4.23 sec.\n",
      "\tmake_disease_matrices()\t\t0.00 sec.\n"
     ]
    },
    {
     "name": "stderr",
     "output_type": "stream",
     "text": [
      "\r",
      " 58%|█████▊    | 348/600 [27:31<24:00,  5.72s/it]"
     ]
    },
    {
     "name": "stdout",
     "output_type": "stream",
     "text": [
      "\tspread_disease()\t\t1.49 sec.\n",
      "\tscreen_for_disease()\t\t0.00 sec.\n",
      "\ttrack_stats()\t\t\t0.00 sec.\n",
      "[epoch=348]\tinfected=25\ttransmitters(visible+invisible)=37\n",
      "\n",
      "\n",
      "radiuses 3.1125 3.1125\n",
      "resp.sum 21830\n",
      "resp.sum 39460\n",
      "\tdecrement_timers()\t\t0.00 sec.\n",
      "\twalk_iter()\t\t\t4.17 sec.\n",
      "\tmake_disease_matrices()\t\t0.00 sec.\n"
     ]
    },
    {
     "name": "stderr",
     "output_type": "stream",
     "text": [
      "\r",
      " 58%|█████▊    | 349/600 [27:37<23:53,  5.71s/it]"
     ]
    },
    {
     "name": "stdout",
     "output_type": "stream",
     "text": [
      "\tspread_disease()\t\t1.52 sec.\n",
      "\tscreen_for_disease()\t\t0.00 sec.\n",
      "\ttrack_stats()\t\t\t0.00 sec.\n",
      "[epoch=349]\tinfected=25\ttransmitters(visible+invisible)=38\n",
      "\n",
      "\n",
      "radiuses 3.125 3.125\n",
      "resp.sum 20499\n",
      "resp.sum 39619\n",
      "\tdecrement_timers()\t\t0.00 sec.\n",
      "\twalk_iter()\t\t\t4.23 sec.\n",
      "\tmake_disease_matrices()\t\t0.01 sec.\n"
     ]
    },
    {
     "name": "stderr",
     "output_type": "stream",
     "text": [
      "\r",
      " 58%|█████▊    | 350/600 [27:43<23:52,  5.73s/it]"
     ]
    },
    {
     "name": "stdout",
     "output_type": "stream",
     "text": [
      "\tspread_disease()\t\t1.53 sec.\n",
      "\tscreen_for_disease()\t\t0.00 sec.\n",
      "\ttrack_stats()\t\t\t0.00 sec.\n",
      "[epoch=350]\tinfected=23\ttransmitters(visible+invisible)=39\n",
      "\n",
      "\n",
      "radiuses 3.1375 3.1375\n",
      "resp.sum 20499\n",
      "resp.sum 39777\n",
      "\tdecrement_timers()\t\t0.00 sec.\n",
      "\twalk_iter()\t\t\t4.19 sec.\n",
      "\tmake_disease_matrices()\t\t0.00 sec.\n"
     ]
    },
    {
     "name": "stderr",
     "output_type": "stream",
     "text": [
      "\r",
      " 58%|█████▊    | 351/600 [27:48<23:49,  5.74s/it]"
     ]
    },
    {
     "name": "stdout",
     "output_type": "stream",
     "text": [
      "\tspread_disease()\t\t1.55 sec.\n",
      "\tscreen_for_disease()\t\t0.00 sec.\n",
      "\ttrack_stats()\t\t\t0.00 sec.\n",
      "[epoch=351]\tinfected=20\ttransmitters(visible+invisible)=42\n",
      "\n",
      "\n",
      "radiuses 3.15 3.15\n",
      "resp.sum 20499\n",
      "resp.sum 39936\n",
      "\tdecrement_timers()\t\t0.00 sec.\n",
      "\twalk_iter()\t\t\t4.16 sec.\n",
      "\tmake_disease_matrices()\t\t0.00 sec.\n"
     ]
    },
    {
     "name": "stderr",
     "output_type": "stream",
     "text": [
      "\r",
      " 59%|█████▊    | 352/600 [27:54<23:30,  5.69s/it]"
     ]
    },
    {
     "name": "stdout",
     "output_type": "stream",
     "text": [
      "\tspread_disease()\t\t1.38 sec.\n",
      "\tscreen_for_disease()\t\t0.00 sec.\n",
      "\ttrack_stats()\t\t\t0.00 sec.\n",
      "[epoch=352]\tinfected=21\ttransmitters(visible+invisible)=42\n",
      "\n",
      "\n",
      "radiuses 3.1625 3.1625\n",
      "resp.sum 24220\n",
      "resp.sum 40094\n",
      "\tdecrement_timers()\t\t0.00 sec.\n",
      "\twalk_iter()\t\t\t4.82 sec.\n",
      "\tmake_disease_matrices()\t\t0.00 sec.\n"
     ]
    },
    {
     "name": "stderr",
     "output_type": "stream",
     "text": [
      "\r",
      " 59%|█████▉    | 353/600 [28:00<24:05,  5.85s/it]"
     ]
    },
    {
     "name": "stdout",
     "output_type": "stream",
     "text": [
      "\tspread_disease()\t\t1.40 sec.\n",
      "\tscreen_for_disease()\t\t0.00 sec.\n",
      "\ttrack_stats()\t\t\t0.00 sec.\n",
      "[epoch=353]\tinfected=22\ttransmitters(visible+invisible)=41\n",
      "\n",
      "\n",
      "radiuses 3.175 3.175\n",
      "resp.sum 25306\n",
      "resp.sum 40252\n",
      "\tdecrement_timers()\t\t0.00 sec.\n",
      "\twalk_iter()\t\t\t4.85 sec.\n",
      "\tmake_disease_matrices()\t\t0.00 sec.\n"
     ]
    },
    {
     "name": "stderr",
     "output_type": "stream",
     "text": [
      "\r",
      " 59%|█████▉    | 354/600 [28:07<24:32,  5.99s/it]"
     ]
    },
    {
     "name": "stdout",
     "output_type": "stream",
     "text": [
      "\tspread_disease()\t\t1.43 sec.\n",
      "\tscreen_for_disease()\t\t0.00 sec.\n",
      "\ttrack_stats()\t\t\t0.00 sec.\n",
      "[epoch=354]\tinfected=22\ttransmitters(visible+invisible)=42\n",
      "\n",
      "\n",
      "radiuses 3.1875 3.1875\n",
      "resp.sum 25306\n",
      "resp.sum 40411\n",
      "\tdecrement_timers()\t\t0.00 sec.\n",
      "\twalk_iter()\t\t\t4.82 sec.\n",
      "\tmake_disease_matrices()\t\t0.01 sec.\n"
     ]
    },
    {
     "name": "stderr",
     "output_type": "stream",
     "text": [
      "\r",
      " 59%|█████▉    | 355/600 [28:13<24:54,  6.10s/it]"
     ]
    },
    {
     "name": "stdout",
     "output_type": "stream",
     "text": [
      "\tspread_disease()\t\t1.52 sec.\n",
      "\tscreen_for_disease()\t\t0.00 sec.\n",
      "\ttrack_stats()\t\t\t0.00 sec.\n",
      "[epoch=355]\tinfected=21\ttransmitters(visible+invisible)=42\n",
      "\n",
      "\n",
      "radiuses 3.2 3.2\n",
      "resp.sum 25306\n",
      "resp.sum 40569\n",
      "\tdecrement_timers()\t\t0.00 sec.\n",
      "\twalk_iter()\t\t\t4.74 sec.\n",
      "\tmake_disease_matrices()\t\t0.01 sec.\n"
     ]
    },
    {
     "name": "stderr",
     "output_type": "stream",
     "text": [
      "\r",
      " 59%|█████▉    | 356/600 [28:19<24:54,  6.13s/it]"
     ]
    },
    {
     "name": "stdout",
     "output_type": "stream",
     "text": [
      "\tspread_disease()\t\t1.42 sec.\n",
      "\tscreen_for_disease()\t\t0.00 sec.\n",
      "\ttrack_stats()\t\t\t0.00 sec.\n",
      "[epoch=356]\tinfected=17\ttransmitters(visible+invisible)=45\n",
      "\n",
      "\n",
      "radiuses 3.2125 3.2125\n",
      "resp.sum 24220\n",
      "resp.sum 40728\n",
      "\tdecrement_timers()\t\t0.00 sec.\n",
      "\twalk_iter()\t\t\t4.83 sec.\n",
      "\tmake_disease_matrices()\t\t0.01 sec.\n"
     ]
    },
    {
     "name": "stderr",
     "output_type": "stream",
     "text": [
      "\r",
      " 60%|█████▉    | 357/600 [28:25<24:58,  6.17s/it]"
     ]
    },
    {
     "name": "stdout",
     "output_type": "stream",
     "text": [
      "\tspread_disease()\t\t1.41 sec.\n",
      "\tscreen_for_disease()\t\t0.00 sec.\n",
      "\ttrack_stats()\t\t\t0.00 sec.\n",
      "[epoch=357]\tinfected=16\ttransmitters(visible+invisible)=46\n",
      "\n",
      "\n",
      "radiuses 3.225 3.225\n",
      "resp.sum 25306\n",
      "resp.sum 40886\n",
      "\tdecrement_timers()\t\t0.00 sec.\n",
      "\twalk_iter()\t\t\t4.82 sec.\n",
      "\tmake_disease_matrices()\t\t0.01 sec.\n"
     ]
    },
    {
     "name": "stderr",
     "output_type": "stream",
     "text": [
      "\r",
      " 60%|█████▉    | 358/600 [28:32<25:03,  6.21s/it]"
     ]
    },
    {
     "name": "stdout",
     "output_type": "stream",
     "text": [
      "\tspread_disease()\t\t1.48 sec.\n",
      "\tscreen_for_disease()\t\t0.00 sec.\n",
      "\ttrack_stats()\t\t\t0.00 sec.\n",
      "[epoch=358]\tinfected=19\ttransmitters(visible+invisible)=47\n",
      "\n",
      "\n",
      "radiuses 3.2375 3.2375\n",
      "resp.sum 28225\n",
      "resp.sum 41045\n",
      "\tdecrement_timers()\t\t0.00 sec.\n",
      "\twalk_iter()\t\t\t4.83 sec.\n",
      "\tmake_disease_matrices()\t\t0.00 sec.\n"
     ]
    },
    {
     "name": "stderr",
     "output_type": "stream",
     "text": [
      "\r",
      " 60%|█████▉    | 359/600 [28:38<25:06,  6.25s/it]"
     ]
    },
    {
     "name": "stdout",
     "output_type": "stream",
     "text": [
      "\tspread_disease()\t\t1.49 sec.\n",
      "\tscreen_for_disease()\t\t0.00 sec.\n",
      "\ttrack_stats()\t\t\t0.00 sec.\n",
      "[epoch=359]\tinfected=18\ttransmitters(visible+invisible)=48\n",
      "\n",
      "\n",
      "radiuses 3.25 3.25\n",
      "resp.sum 28225\n",
      "resp.sum 41203\n",
      "\tdecrement_timers()\t\t0.00 sec.\n",
      "\twalk_iter()\t\t\t4.87 sec.\n",
      "\tmake_disease_matrices()\t\t0.01 sec.\n"
     ]
    },
    {
     "name": "stderr",
     "output_type": "stream",
     "text": [
      "\r",
      " 60%|██████    | 360/600 [28:44<25:05,  6.27s/it]"
     ]
    },
    {
     "name": "stdout",
     "output_type": "stream",
     "text": [
      "\tspread_disease()\t\t1.43 sec.\n",
      "\tscreen_for_disease()\t\t0.00 sec.\n",
      "\ttrack_stats()\t\t\t0.00 sec.\n",
      "[epoch=360]\tinfected=17\ttransmitters(visible+invisible)=48\n",
      "\n",
      "\n",
      "radiuses 3.2625 3.2625\n",
      "resp.sum 28225\n",
      "resp.sum 41362\n",
      "\tdecrement_timers()\t\t0.00 sec.\n",
      "\twalk_iter()\t\t\t4.78 sec.\n",
      "\tmake_disease_matrices()\t\t0.01 sec.\n"
     ]
    },
    {
     "name": "stderr",
     "output_type": "stream",
     "text": [
      "\r",
      " 60%|██████    | 361/600 [28:51<24:56,  6.26s/it]"
     ]
    },
    {
     "name": "stdout",
     "output_type": "stream",
     "text": [
      "\tspread_disease()\t\t1.44 sec.\n",
      "\tscreen_for_disease()\t\t0.00 sec.\n",
      "\ttrack_stats()\t\t\t0.00 sec.\n",
      "[epoch=361]\tinfected=18\ttransmitters(visible+invisible)=49\n",
      "\n",
      "\n",
      "radiuses 3.275 3.275\n",
      "resp.sum 28225\n",
      "resp.sum 41520\n",
      "\tdecrement_timers()\t\t0.00 sec.\n",
      "\twalk_iter()\t\t\t4.87 sec.\n",
      "\tmake_disease_matrices()\t\t0.01 sec.\n"
     ]
    },
    {
     "name": "stderr",
     "output_type": "stream",
     "text": [
      "\r",
      " 60%|██████    | 362/600 [28:57<24:56,  6.29s/it]"
     ]
    },
    {
     "name": "stdout",
     "output_type": "stream",
     "text": [
      "\tspread_disease()\t\t1.45 sec.\n",
      "\tscreen_for_disease()\t\t0.00 sec.\n",
      "\ttrack_stats()\t\t\t0.00 sec.\n",
      "[epoch=362]\tinfected=20\ttransmitters(visible+invisible)=49\n",
      "\n",
      "\n",
      "radiuses 3.2875 3.2875\n",
      "resp.sum 28225\n",
      "resp.sum 41679\n",
      "\tdecrement_timers()\t\t0.00 sec.\n",
      "\twalk_iter()\t\t\t4.81 sec.\n",
      "\tmake_disease_matrices()\t\t0.01 sec.\n"
     ]
    },
    {
     "name": "stderr",
     "output_type": "stream",
     "text": [
      "\r",
      " 60%|██████    | 363/600 [29:03<24:50,  6.29s/it]"
     ]
    },
    {
     "name": "stdout",
     "output_type": "stream",
     "text": [
      "\tspread_disease()\t\t1.46 sec.\n",
      "\tscreen_for_disease()\t\t0.00 sec.\n",
      "\ttrack_stats()\t\t\t0.00 sec.\n",
      "[epoch=363]\tinfected=20\ttransmitters(visible+invisible)=50\n",
      "\n",
      "\n",
      "radiuses 3.3 3.3\n",
      "resp.sum 30753\n",
      "resp.sum 41837\n",
      "\tdecrement_timers()\t\t0.00 sec.\n",
      "\twalk_iter()\t\t\t4.78 sec.\n",
      "\tmake_disease_matrices()\t\t0.01 sec.\n"
     ]
    },
    {
     "name": "stderr",
     "output_type": "stream",
     "text": [
      "\r",
      " 61%|██████    | 364/600 [29:09<24:44,  6.29s/it]"
     ]
    },
    {
     "name": "stdout",
     "output_type": "stream",
     "text": [
      "\tspread_disease()\t\t1.49 sec.\n",
      "\tscreen_for_disease()\t\t0.00 sec.\n",
      "\ttrack_stats()\t\t\t0.00 sec.\n",
      "[epoch=364]\tinfected=21\ttransmitters(visible+invisible)=50\n",
      "\n",
      "\n",
      "radiuses 3.3125 3.3125\n",
      "resp.sum 30753\n",
      "resp.sum 41996\n",
      "\tdecrement_timers()\t\t0.01 sec.\n",
      "\twalk_iter()\t\t\t4.79 sec.\n",
      "\tmake_disease_matrices()\t\t0.01 sec.\n"
     ]
    },
    {
     "name": "stderr",
     "output_type": "stream",
     "text": [
      "\r",
      " 61%|██████    | 365/600 [29:16<24:35,  6.28s/it]"
     ]
    },
    {
     "name": "stdout",
     "output_type": "stream",
     "text": [
      "\tspread_disease()\t\t1.43 sec.\n",
      "\tscreen_for_disease()\t\t0.00 sec.\n",
      "\ttrack_stats()\t\t\t0.00 sec.\n",
      "[epoch=365]\tinfected=21\ttransmitters(visible+invisible)=50\n",
      "\n",
      "\n",
      "radiuses 3.325 3.325\n",
      "resp.sum 30753\n",
      "resp.sum 42154\n",
      "\tdecrement_timers()\t\t0.00 sec.\n",
      "\twalk_iter()\t\t\t4.85 sec.\n",
      "\tmake_disease_matrices()\t\t0.01 sec.\n"
     ]
    },
    {
     "name": "stderr",
     "output_type": "stream",
     "text": [
      "\r",
      " 61%|██████    | 366/600 [29:22<24:30,  6.28s/it]"
     ]
    },
    {
     "name": "stdout",
     "output_type": "stream",
     "text": [
      "\tspread_disease()\t\t1.42 sec.\n",
      "\tscreen_for_disease()\t\t0.00 sec.\n",
      "\ttrack_stats()\t\t\t0.00 sec.\n",
      "[epoch=366]\tinfected=22\ttransmitters(visible+invisible)=49\n",
      "\n",
      "\n",
      "radiuses 3.3375 3.3375\n",
      "resp.sum 29947\n",
      "resp.sum 42313\n",
      "\tdecrement_timers()\t\t0.00 sec.\n",
      "\twalk_iter()\t\t\t4.80 sec.\n",
      "\tmake_disease_matrices()\t\t0.01 sec.\n"
     ]
    },
    {
     "name": "stderr",
     "output_type": "stream",
     "text": [
      "\r",
      " 61%|██████    | 367/600 [29:28<24:21,  6.27s/it]"
     ]
    },
    {
     "name": "stdout",
     "output_type": "stream",
     "text": [
      "\tspread_disease()\t\t1.43 sec.\n",
      "\tscreen_for_disease()\t\t0.00 sec.\n",
      "\ttrack_stats()\t\t\t0.00 sec.\n",
      "[epoch=367]\tinfected=23\ttransmitters(visible+invisible)=49\n",
      "\n",
      "\n",
      "radiuses 3.35 3.35\n",
      "resp.sum 29106\n",
      "resp.sum 42471\n",
      "\tdecrement_timers()\t\t0.00 sec.\n",
      "\twalk_iter()\t\t\t4.87 sec.\n",
      "\tmake_disease_matrices()\t\t0.01 sec.\n"
     ]
    },
    {
     "name": "stderr",
     "output_type": "stream",
     "text": [
      "\r",
      " 61%|██████▏   | 368/600 [29:35<24:22,  6.30s/it]"
     ]
    },
    {
     "name": "stdout",
     "output_type": "stream",
     "text": [
      "\tspread_disease()\t\t1.49 sec.\n",
      "\tscreen_for_disease()\t\t0.00 sec.\n",
      "\ttrack_stats()\t\t\t0.00 sec.\n",
      "[epoch=368]\tinfected=24\ttransmitters(visible+invisible)=50\n",
      "\n",
      "\n",
      "radiuses 3.3625 3.3625\n",
      "resp.sum 29106\n",
      "resp.sum 42630\n",
      "\tdecrement_timers()\t\t0.00 sec.\n",
      "\twalk_iter()\t\t\t4.80 sec.\n",
      "\tmake_disease_matrices()\t\t0.01 sec.\n"
     ]
    },
    {
     "name": "stderr",
     "output_type": "stream",
     "text": [
      "\r",
      " 62%|██████▏   | 369/600 [29:41<24:17,  6.31s/it]"
     ]
    },
    {
     "name": "stdout",
     "output_type": "stream",
     "text": [
      "\tspread_disease()\t\t1.50 sec.\n",
      "\tscreen_for_disease()\t\t0.00 sec.\n",
      "\ttrack_stats()\t\t\t0.00 sec.\n",
      "[epoch=369]\tinfected=26\ttransmitters(visible+invisible)=49\n",
      "\n",
      "\n",
      "radiuses 3.375 3.375\n",
      "resp.sum 27302\n",
      "resp.sum 42788\n",
      "\tdecrement_timers()\t\t0.00 sec.\n",
      "\twalk_iter()\t\t\t4.79 sec.\n",
      "\tmake_disease_matrices()\t\t0.01 sec.\n"
     ]
    },
    {
     "name": "stderr",
     "output_type": "stream",
     "text": [
      "\r",
      " 62%|██████▏   | 370/600 [29:47<24:13,  6.32s/it]"
     ]
    },
    {
     "name": "stdout",
     "output_type": "stream",
     "text": [
      "\tspread_disease()\t\t1.53 sec.\n",
      "\tscreen_for_disease()\t\t0.00 sec.\n",
      "\ttrack_stats()\t\t\t0.00 sec.\n",
      "[epoch=370]\tinfected=30\ttransmitters(visible+invisible)=48\n",
      "\n",
      "\n",
      "radiuses 3.3875 3.3875\n",
      "resp.sum 26330\n",
      "resp.sum 42947\n",
      "\tdecrement_timers()\t\t0.00 sec.\n",
      "\twalk_iter()\t\t\t4.75 sec.\n",
      "\tmake_disease_matrices()\t\t0.01 sec.\n"
     ]
    },
    {
     "name": "stderr",
     "output_type": "stream",
     "text": [
      "\r",
      " 62%|██████▏   | 371/600 [29:54<24:01,  6.29s/it]"
     ]
    },
    {
     "name": "stdout",
     "output_type": "stream",
     "text": [
      "\tspread_disease()\t\t1.46 sec.\n",
      "\tscreen_for_disease()\t\t0.00 sec.\n",
      "\ttrack_stats()\t\t\t0.00 sec.\n",
      "[epoch=371]\tinfected=33\ttransmitters(visible+invisible)=46\n",
      "\n",
      "\n",
      "radiuses 3.4 3.4\n",
      "resp.sum 25306\n",
      "resp.sum 43105\n",
      "\tdecrement_timers()\t\t0.00 sec.\n",
      "\twalk_iter()\t\t\t4.81 sec.\n",
      "\tmake_disease_matrices()\t\t0.01 sec.\n"
     ]
    },
    {
     "name": "stderr",
     "output_type": "stream",
     "text": [
      "\r",
      " 62%|██████▏   | 372/600 [30:00<23:55,  6.30s/it]"
     ]
    },
    {
     "name": "stdout",
     "output_type": "stream",
     "text": [
      "\tspread_disease()\t\t1.47 sec.\n",
      "\tscreen_for_disease()\t\t0.00 sec.\n",
      "\ttrack_stats()\t\t\t0.00 sec.\n",
      "[epoch=372]\tinfected=35\ttransmitters(visible+invisible)=47\n",
      "\n",
      "\n",
      "radiuses 3.4125 3.4125\n",
      "resp.sum 26330\n",
      "resp.sum 43264\n",
      "\tdecrement_timers()\t\t0.00 sec.\n",
      "\twalk_iter()\t\t\t4.80 sec.\n",
      "\tmake_disease_matrices()\t\t0.01 sec.\n"
     ]
    },
    {
     "name": "stderr",
     "output_type": "stream",
     "text": [
      "\r",
      " 62%|██████▏   | 373/600 [30:06<23:48,  6.29s/it]"
     ]
    },
    {
     "name": "stdout",
     "output_type": "stream",
     "text": [
      "\tspread_disease()\t\t1.46 sec.\n",
      "\tscreen_for_disease()\t\t0.00 sec.\n",
      "\ttrack_stats()\t\t\t0.00 sec.\n",
      "[epoch=373]\tinfected=36\ttransmitters(visible+invisible)=45\n",
      "\n",
      "\n",
      "radiuses 3.425 3.425\n",
      "resp.sum 24220\n",
      "resp.sum 43422\n",
      "\tdecrement_timers()\t\t0.00 sec.\n",
      "\twalk_iter()\t\t\t4.87 sec.\n",
      "\tmake_disease_matrices()\t\t0.01 sec.\n"
     ]
    },
    {
     "name": "stderr",
     "output_type": "stream",
     "text": [
      "\r",
      " 62%|██████▏   | 374/600 [30:12<23:43,  6.30s/it]"
     ]
    },
    {
     "name": "stdout",
     "output_type": "stream",
     "text": [
      "\tspread_disease()\t\t1.42 sec.\n",
      "\tscreen_for_disease()\t\t0.00 sec.\n",
      "\ttrack_stats()\t\t\t0.00 sec.\n",
      "[epoch=374]\tinfected=34\ttransmitters(visible+invisible)=46\n",
      "\n",
      "\n",
      "radiuses 3.4375 3.4375\n",
      "resp.sum 23066\n",
      "resp.sum 43580\n",
      "\tdecrement_timers()\t\t0.00 sec.\n",
      "\twalk_iter()\t\t\t4.89 sec.\n",
      "\tmake_disease_matrices()\t\t0.01 sec.\n"
     ]
    },
    {
     "name": "stderr",
     "output_type": "stream",
     "text": [
      "\r",
      " 62%|██████▎   | 375/600 [30:19<23:48,  6.35s/it]"
     ]
    },
    {
     "name": "stdout",
     "output_type": "stream",
     "text": [
      "\tspread_disease()\t\t1.54 sec.\n",
      "\tscreen_for_disease()\t\t0.00 sec.\n",
      "\ttrack_stats()\t\t\t0.00 sec.\n",
      "[epoch=375]\tinfected=36\ttransmitters(visible+invisible)=46\n",
      "\n",
      "\n",
      "radiuses 3.45 3.45\n",
      "resp.sum 24220\n",
      "resp.sum 43739\n",
      "\tdecrement_timers()\t\t0.00 sec.\n",
      "\twalk_iter()\t\t\t4.75 sec.\n",
      "\tmake_disease_matrices()\t\t0.01 sec.\n"
     ]
    },
    {
     "name": "stderr",
     "output_type": "stream",
     "text": [
      "\r",
      " 63%|██████▎   | 376/600 [30:25<23:32,  6.31s/it]"
     ]
    },
    {
     "name": "stdout",
     "output_type": "stream",
     "text": [
      "\tspread_disease()\t\t1.44 sec.\n",
      "\tscreen_for_disease()\t\t0.00 sec.\n",
      "\ttrack_stats()\t\t\t0.00 sec.\n",
      "[epoch=376]\tinfected=37\ttransmitters(visible+invisible)=45\n",
      "\n",
      "\n",
      "radiuses 3.4625 3.4625\n",
      "resp.sum 21830\n",
      "resp.sum 43897\n",
      "\tdecrement_timers()\t\t0.00 sec.\n",
      "\twalk_iter()\t\t\t4.85 sec.\n",
      "\tmake_disease_matrices()\t\t0.01 sec.\n"
     ]
    },
    {
     "name": "stderr",
     "output_type": "stream",
     "text": [
      "\r",
      " 63%|██████▎   | 377/600 [30:31<23:27,  6.31s/it]"
     ]
    },
    {
     "name": "stdout",
     "output_type": "stream",
     "text": [
      "\tspread_disease()\t\t1.45 sec.\n",
      "\tscreen_for_disease()\t\t0.00 sec.\n",
      "\ttrack_stats()\t\t\t0.00 sec.\n",
      "[epoch=377]\tinfected=38\ttransmitters(visible+invisible)=44\n",
      "\n",
      "\n",
      "radiuses 3.475 3.475\n",
      "resp.sum 24220\n",
      "resp.sum 44056\n",
      "\tdecrement_timers()\t\t0.00 sec.\n",
      "\twalk_iter()\t\t\t4.89 sec.\n",
      "\tmake_disease_matrices()\t\t0.01 sec.\n"
     ]
    },
    {
     "name": "stderr",
     "output_type": "stream",
     "text": [
      "\r",
      " 63%|██████▎   | 378/600 [30:38<23:26,  6.33s/it]"
     ]
    },
    {
     "name": "stdout",
     "output_type": "stream",
     "text": [
      "\tspread_disease()\t\t1.48 sec.\n",
      "\tscreen_for_disease()\t\t0.00 sec.\n",
      "\ttrack_stats()\t\t\t0.00 sec.\n",
      "[epoch=378]\tinfected=41\ttransmitters(visible+invisible)=44\n",
      "\n",
      "\n",
      "radiuses 3.4875 3.4875\n",
      "resp.sum 24220\n",
      "resp.sum 44214\n",
      "\tdecrement_timers()\t\t0.00 sec.\n",
      "\twalk_iter()\t\t\t4.93 sec.\n",
      "\tmake_disease_matrices()\t\t0.01 sec.\n"
     ]
    },
    {
     "name": "stderr",
     "output_type": "stream",
     "text": [
      "\r",
      " 63%|██████▎   | 379/600 [30:44<23:22,  6.35s/it]"
     ]
    },
    {
     "name": "stdout",
     "output_type": "stream",
     "text": [
      "\tspread_disease()\t\t1.42 sec.\n",
      "\tscreen_for_disease()\t\t0.00 sec.\n",
      "\ttrack_stats()\t\t\t0.00 sec.\n",
      "[epoch=379]\tinfected=42\ttransmitters(visible+invisible)=43\n",
      "\n",
      "\n",
      "radiuses 3.5 3.5\n",
      "resp.sum 25306\n",
      "resp.sum 44373\n",
      "\tdecrement_timers()\t\t0.00 sec.\n",
      "\twalk_iter()\t\t\t4.87 sec.\n",
      "\tmake_disease_matrices()\t\t0.01 sec.\n"
     ]
    },
    {
     "name": "stderr",
     "output_type": "stream",
     "text": [
      "\r",
      " 63%|██████▎   | 380/600 [30:51<23:22,  6.37s/it]"
     ]
    },
    {
     "name": "stdout",
     "output_type": "stream",
     "text": [
      "\tspread_disease()\t\t1.54 sec.\n",
      "\tscreen_for_disease()\t\t0.00 sec.\n",
      "\ttrack_stats()\t\t\t0.00 sec.\n",
      "[epoch=380]\tinfected=42\ttransmitters(visible+invisible)=45\n",
      "\n",
      "\n",
      "radiuses 3.5125 3.5125\n",
      "resp.sum 27302\n",
      "resp.sum 44531\n",
      "\tdecrement_timers()\t\t0.00 sec.\n",
      "\twalk_iter()\t\t\t4.81 sec.\n",
      "\tmake_disease_matrices()\t\t0.01 sec.\n"
     ]
    },
    {
     "name": "stderr",
     "output_type": "stream",
     "text": [
      "\r",
      " 64%|██████▎   | 381/600 [30:57<23:04,  6.32s/it]"
     ]
    },
    {
     "name": "stdout",
     "output_type": "stream",
     "text": [
      "\tspread_disease()\t\t1.37 sec.\n",
      "\tscreen_for_disease()\t\t0.00 sec.\n",
      "\ttrack_stats()\t\t\t0.00 sec.\n",
      "[epoch=381]\tinfected=39\ttransmitters(visible+invisible)=50\n",
      "\n",
      "\n",
      "radiuses 3.525 3.525\n",
      "resp.sum 29106\n",
      "resp.sum 44690\n",
      "\tdecrement_timers()\t\t0.00 sec.\n",
      "\twalk_iter()\t\t\t4.83 sec.\n",
      "\tmake_disease_matrices()\t\t0.01 sec.\n"
     ]
    },
    {
     "name": "stderr",
     "output_type": "stream",
     "text": [
      "\r",
      " 64%|██████▎   | 382/600 [31:03<22:58,  6.33s/it]"
     ]
    },
    {
     "name": "stdout",
     "output_type": "stream",
     "text": [
      "\tspread_disease()\t\t1.48 sec.\n",
      "\tscreen_for_disease()\t\t0.00 sec.\n",
      "\ttrack_stats()\t\t\t0.00 sec.\n",
      "[epoch=382]\tinfected=37\ttransmitters(visible+invisible)=51\n",
      "\n",
      "\n",
      "radiuses 3.5375 3.5375\n",
      "resp.sum 28225\n",
      "resp.sum 44848\n",
      "\tdecrement_timers()\t\t0.00 sec.\n",
      "\twalk_iter()\t\t\t4.77 sec.\n",
      "\tmake_disease_matrices()\t\t0.01 sec.\n"
     ]
    },
    {
     "name": "stderr",
     "output_type": "stream",
     "text": [
      "\r",
      " 64%|██████▍   | 383/600 [31:09<22:43,  6.28s/it]"
     ]
    },
    {
     "name": "stdout",
     "output_type": "stream",
     "text": [
      "\tspread_disease()\t\t1.39 sec.\n",
      "\tscreen_for_disease()\t\t0.00 sec.\n",
      "\ttrack_stats()\t\t\t0.00 sec.\n",
      "[epoch=383]\tinfected=38\ttransmitters(visible+invisible)=51\n",
      "\n",
      "\n",
      "radiuses 3.55 3.55\n",
      "resp.sum 32269\n",
      "resp.sum 45007\n",
      "\tdecrement_timers()\t\t0.00 sec.\n",
      "\twalk_iter()\t\t\t4.84 sec.\n",
      "\tmake_disease_matrices()\t\t0.00 sec.\n"
     ]
    },
    {
     "name": "stderr",
     "output_type": "stream",
     "text": [
      "\r",
      " 64%|██████▍   | 384/600 [31:16<22:34,  6.27s/it]"
     ]
    },
    {
     "name": "stdout",
     "output_type": "stream",
     "text": [
      "\tspread_disease()\t\t1.39 sec.\n",
      "\tscreen_for_disease()\t\t0.00 sec.\n",
      "\ttrack_stats()\t\t\t0.00 sec.\n",
      "[epoch=384]\tinfected=37\ttransmitters(visible+invisible)=53\n",
      "\n",
      "\n",
      "radiuses 3.5625 3.5625\n",
      "resp.sum 33674\n",
      "resp.sum 45165\n",
      "\tdecrement_timers()\t\t0.00 sec.\n",
      "\twalk_iter()\t\t\t4.81 sec.\n",
      "\tmake_disease_matrices()\t\t0.01 sec.\n"
     ]
    },
    {
     "name": "stderr",
     "output_type": "stream",
     "text": [
      "\r",
      " 64%|██████▍   | 385/600 [31:22<22:26,  6.26s/it]"
     ]
    },
    {
     "name": "stdout",
     "output_type": "stream",
     "text": [
      "\tspread_disease()\t\t1.41 sec.\n",
      "\tscreen_for_disease()\t\t0.00 sec.\n",
      "\ttrack_stats()\t\t\t0.00 sec.\n",
      "[epoch=385]\tinfected=39\ttransmitters(visible+invisible)=53\n",
      "\n",
      "\n",
      "radiuses 3.575 3.575\n",
      "resp.sum 32269\n",
      "resp.sum 45324\n",
      "\tdecrement_timers()\t\t0.00 sec.\n",
      "\twalk_iter()\t\t\t4.84 sec.\n",
      "\tmake_disease_matrices()\t\t0.01 sec.\n"
     ]
    },
    {
     "name": "stderr",
     "output_type": "stream",
     "text": [
      "\r",
      " 64%|██████▍   | 386/600 [31:28<22:26,  6.29s/it]"
     ]
    },
    {
     "name": "stdout",
     "output_type": "stream",
     "text": [
      "\tspread_disease()\t\t1.50 sec.\n",
      "\tscreen_for_disease()\t\t0.01 sec.\n",
      "\ttrack_stats()\t\t\t0.00 sec.\n",
      "[epoch=386]\tinfected=39\ttransmitters(visible+invisible)=55\n",
      "\n",
      "\n",
      "radiuses 3.5875 3.5875\n",
      "resp.sum 32269\n",
      "resp.sum 45482\n",
      "\tdecrement_timers()\t\t0.01 sec.\n",
      "\twalk_iter()\t\t\t4.81 sec.\n",
      "\tmake_disease_matrices()\t\t0.01 sec.\n"
     ]
    },
    {
     "name": "stderr",
     "output_type": "stream",
     "text": [
      "\r",
      " 64%|██████▍   | 387/600 [31:35<22:29,  6.34s/it]"
     ]
    },
    {
     "name": "stdout",
     "output_type": "stream",
     "text": [
      "\tspread_disease()\t\t1.60 sec.\n",
      "\tscreen_for_disease()\t\t0.00 sec.\n",
      "\ttrack_stats()\t\t\t0.00 sec.\n",
      "[epoch=387]\tinfected=38\ttransmitters(visible+invisible)=57\n",
      "\n",
      "\n",
      "radiuses 3.6 3.6\n",
      "resp.sum 32269\n",
      "resp.sum 45641\n",
      "\tdecrement_timers()\t\t0.00 sec.\n",
      "\twalk_iter()\t\t\t5.16 sec.\n",
      "\tmake_disease_matrices()\t\t0.01 sec.\n"
     ]
    },
    {
     "name": "stderr",
     "output_type": "stream",
     "text": [
      "\r",
      " 65%|██████▍   | 388/600 [31:41<22:45,  6.44s/it]"
     ]
    },
    {
     "name": "stdout",
     "output_type": "stream",
     "text": [
      "\tspread_disease()\t\t1.50 sec.\n",
      "\tscreen_for_disease()\t\t0.00 sec.\n",
      "\ttrack_stats()\t\t\t0.00 sec.\n",
      "[epoch=388]\tinfected=38\ttransmitters(visible+invisible)=58\n",
      "\n",
      "\n",
      "radiuses 3.6125 3.6125\n",
      "resp.sum 32985\n",
      "resp.sum 45799\n",
      "\tdecrement_timers()\t\t0.00 sec.\n",
      "\twalk_iter()\t\t\t5.32 sec.\n",
      "\tmake_disease_matrices()\t\t0.01 sec.\n"
     ]
    },
    {
     "name": "stderr",
     "output_type": "stream",
     "text": [
      "\r",
      " 65%|██████▍   | 389/600 [31:48<23:08,  6.58s/it]"
     ]
    },
    {
     "name": "stdout",
     "output_type": "stream",
     "text": [
      "\tspread_disease()\t\t1.56 sec.\n",
      "\tscreen_for_disease()\t\t0.00 sec.\n",
      "\ttrack_stats()\t\t\t0.00 sec.\n",
      "[epoch=389]\tinfected=41\ttransmitters(visible+invisible)=55\n",
      "\n",
      "\n",
      "radiuses 3.625 3.625\n",
      "resp.sum 30753\n",
      "resp.sum 45958\n",
      "\tdecrement_timers()\t\t0.01 sec.\n",
      "\twalk_iter()\t\t\t5.38 sec.\n",
      "\tmake_disease_matrices()\t\t0.01 sec.\n"
     ]
    },
    {
     "name": "stderr",
     "output_type": "stream",
     "text": [
      "\r",
      " 65%|██████▌   | 390/600 [31:55<23:24,  6.69s/it]"
     ]
    },
    {
     "name": "stdout",
     "output_type": "stream",
     "text": [
      "\tspread_disease()\t\t1.52 sec.\n",
      "\tscreen_for_disease()\t\t0.00 sec.\n",
      "\ttrack_stats()\t\t\t0.00 sec.\n",
      "[epoch=390]\tinfected=43\ttransmitters(visible+invisible)=54\n",
      "\n",
      "\n",
      "radiuses 3.6375 3.6375\n",
      "resp.sum 31526\n",
      "resp.sum 46116\n",
      "\tdecrement_timers()\t\t0.00 sec.\n",
      "\twalk_iter()\t\t\t5.38 sec.\n",
      "\tmake_disease_matrices()\t\t0.01 sec.\n"
     ]
    },
    {
     "name": "stderr",
     "output_type": "stream",
     "text": [
      "\r",
      " 65%|██████▌   | 391/600 [32:02<23:34,  6.77s/it]"
     ]
    },
    {
     "name": "stdout",
     "output_type": "stream",
     "text": [
      "\tspread_disease()\t\t1.56 sec.\n",
      "\tscreen_for_disease()\t\t0.00 sec.\n",
      "\ttrack_stats()\t\t\t0.00 sec.\n",
      "[epoch=391]\tinfected=43\ttransmitters(visible+invisible)=55\n",
      "\n",
      "\n",
      "radiuses 3.65 3.65\n",
      "resp.sum 30753\n",
      "resp.sum 46275\n",
      "\tdecrement_timers()\t\t0.01 sec.\n",
      "\twalk_iter()\t\t\t5.27 sec.\n",
      "\tmake_disease_matrices()\t\t0.01 sec.\n"
     ]
    },
    {
     "name": "stderr",
     "output_type": "stream",
     "text": [
      "\r",
      " 65%|██████▌   | 392/600 [32:09<23:24,  6.75s/it]"
     ]
    },
    {
     "name": "stdout",
     "output_type": "stream",
     "text": [
      "\tspread_disease()\t\t1.42 sec.\n",
      "\tscreen_for_disease()\t\t0.00 sec.\n",
      "\ttrack_stats()\t\t\t0.00 sec.\n",
      "[epoch=392]\tinfected=41\ttransmitters(visible+invisible)=56\n",
      "\n",
      "\n",
      "radiuses 3.6625 3.6625\n",
      "resp.sum 29947\n",
      "resp.sum 46433\n",
      "\tdecrement_timers()\t\t0.00 sec.\n",
      "\twalk_iter()\t\t\t5.55 sec.\n",
      "\tmake_disease_matrices()\t\t0.01 sec.\n"
     ]
    },
    {
     "name": "stderr",
     "output_type": "stream",
     "text": [
      "\r",
      " 66%|██████▌   | 393/600 [32:16<23:50,  6.91s/it]"
     ]
    },
    {
     "name": "stdout",
     "output_type": "stream",
     "text": [
      "\tspread_disease()\t\t1.69 sec.\n",
      "\tscreen_for_disease()\t\t0.00 sec.\n",
      "\ttrack_stats()\t\t\t0.00 sec.\n",
      "[epoch=393]\tinfected=41\ttransmitters(visible+invisible)=54\n",
      "\n",
      "\n",
      "radiuses 3.675 3.675\n",
      "resp.sum 29106\n",
      "resp.sum 46592\n",
      "\tdecrement_timers()\t\t0.00 sec.\n",
      "\twalk_iter()\t\t\t7.24 sec.\n",
      "\tmake_disease_matrices()\t\t0.01 sec.\n"
     ]
    },
    {
     "name": "stderr",
     "output_type": "stream",
     "text": [
      "\r",
      " 66%|██████▌   | 394/600 [32:25<26:04,  7.60s/it]"
     ]
    },
    {
     "name": "stdout",
     "output_type": "stream",
     "text": [
      "\tspread_disease()\t\t1.94 sec.\n",
      "\tscreen_for_disease()\t\t0.00 sec.\n",
      "\ttrack_stats()\t\t\t0.00 sec.\n",
      "[epoch=394]\tinfected=42\ttransmitters(visible+invisible)=56\n",
      "\n",
      "\n",
      "radiuses 3.6875 3.6875\n",
      "resp.sum 29947\n",
      "resp.sum 46750\n",
      "\tdecrement_timers()\t\t0.00 sec.\n",
      "\twalk_iter()\t\t\t5.82 sec.\n",
      "\tmake_disease_matrices()\t\t0.01 sec.\n"
     ]
    },
    {
     "name": "stderr",
     "output_type": "stream",
     "text": [
      "\r",
      " 66%|██████▌   | 395/600 [32:33<25:44,  7.54s/it]"
     ]
    },
    {
     "name": "stdout",
     "output_type": "stream",
     "text": [
      "\tspread_disease()\t\t1.55 sec.\n",
      "\tscreen_for_disease()\t\t0.00 sec.\n",
      "\ttrack_stats()\t\t\t0.00 sec.\n",
      "[epoch=395]\tinfected=43\ttransmitters(visible+invisible)=57\n",
      "\n",
      "\n",
      "radiuses 3.7 3.7\n",
      "resp.sum 31526\n",
      "resp.sum 46908\n",
      "\tdecrement_timers()\t\t0.00 sec.\n",
      "\twalk_iter()\t\t\t5.91 sec.\n",
      "\tmake_disease_matrices()\t\t0.01 sec.\n"
     ]
    },
    {
     "name": "stderr",
     "output_type": "stream",
     "text": [
      "\r",
      " 66%|██████▌   | 396/600 [32:40<25:42,  7.56s/it]"
     ]
    },
    {
     "name": "stdout",
     "output_type": "stream",
     "text": [
      "\tspread_disease()\t\t1.69 sec.\n",
      "\tscreen_for_disease()\t\t0.00 sec.\n",
      "\ttrack_stats()\t\t\t0.00 sec.\n",
      "[epoch=396]\tinfected=42\ttransmitters(visible+invisible)=58\n",
      "\n",
      "\n",
      "radiuses 3.7125 3.7125\n",
      "resp.sum 29947\n",
      "resp.sum 47067\n",
      "\tdecrement_timers()\t\t0.01 sec.\n",
      "\twalk_iter()\t\t\t6.04 sec.\n",
      "\tmake_disease_matrices()\t\t0.01 sec.\n"
     ]
    },
    {
     "name": "stderr",
     "output_type": "stream",
     "text": [
      "\r",
      " 66%|██████▌   | 397/600 [32:48<25:54,  7.66s/it]"
     ]
    },
    {
     "name": "stdout",
     "output_type": "stream",
     "text": [
      "\tspread_disease()\t\t1.81 sec.\n",
      "\tscreen_for_disease()\t\t0.00 sec.\n",
      "\ttrack_stats()\t\t\t0.00 sec.\n",
      "[epoch=397]\tinfected=42\ttransmitters(visible+invisible)=59\n",
      "\n",
      "\n",
      "radiuses 3.725 3.725\n",
      "resp.sum 29106\n",
      "resp.sum 47225\n",
      "\tdecrement_timers()\t\t0.00 sec.\n",
      "\twalk_iter()\t\t\t6.78 sec.\n",
      "\tmake_disease_matrices()\t\t0.00 sec.\n"
     ]
    },
    {
     "name": "stderr",
     "output_type": "stream",
     "text": [
      "\r",
      " 66%|██████▋   | 398/600 [32:57<26:34,  7.89s/it]"
     ]
    },
    {
     "name": "stdout",
     "output_type": "stream",
     "text": [
      "\tspread_disease()\t\t1.64 sec.\n",
      "\tscreen_for_disease()\t\t0.00 sec.\n",
      "\ttrack_stats()\t\t\t0.00 sec.\n",
      "[epoch=398]\tinfected=43\ttransmitters(visible+invisible)=58\n",
      "\n",
      "\n",
      "radiuses 3.7375 3.7375\n",
      "resp.sum 26330\n",
      "resp.sum 47384\n",
      "\tdecrement_timers()\t\t0.00 sec.\n",
      "\twalk_iter()\t\t\t6.64 sec.\n",
      "\tmake_disease_matrices()\t\t0.01 sec.\n"
     ]
    },
    {
     "name": "stderr",
     "output_type": "stream",
     "text": [
      "\r",
      " 66%|██████▋   | 399/600 [33:05<27:06,  8.09s/it]"
     ]
    },
    {
     "name": "stdout",
     "output_type": "stream",
     "text": [
      "\tspread_disease()\t\t1.88 sec.\n",
      "\tscreen_for_disease()\t\t0.00 sec.\n",
      "\ttrack_stats()\t\t\t0.00 sec.\n",
      "[epoch=399]\tinfected=46\ttransmitters(visible+invisible)=58\n",
      "\n",
      "\n",
      "radiuses 3.75 3.75\n",
      "resp.sum 25306\n",
      "resp.sum 47542\n",
      "\tdecrement_timers()\t\t0.00 sec.\n",
      "\twalk_iter()\t\t\t5.69 sec.\n",
      "\tmake_disease_matrices()\t\t0.01 sec.\n"
     ]
    },
    {
     "name": "stderr",
     "output_type": "stream",
     "text": [
      "\r",
      " 67%|██████▋   | 400/600 [33:12<26:07,  7.84s/it]"
     ]
    },
    {
     "name": "stdout",
     "output_type": "stream",
     "text": [
      "\tspread_disease()\t\t1.53 sec.\n",
      "\tscreen_for_disease()\t\t0.00 sec.\n",
      "\ttrack_stats()\t\t\t0.00 sec.\n",
      "[epoch=400]\tinfected=47\ttransmitters(visible+invisible)=59\n",
      "\n",
      "\n",
      "radiuses 3.7625 3.7625\n",
      "resp.sum 26330\n",
      "resp.sum 47701\n",
      "\tdecrement_timers()\t\t0.00 sec.\n",
      "\twalk_iter()\t\t\t5.94 sec.\n",
      "\tmake_disease_matrices()\t\t0.01 sec.\n"
     ]
    },
    {
     "name": "stderr",
     "output_type": "stream",
     "text": [
      "\r",
      " 67%|██████▋   | 401/600 [33:20<25:44,  7.76s/it]"
     ]
    },
    {
     "name": "stdout",
     "output_type": "stream",
     "text": [
      "\tspread_disease()\t\t1.63 sec.\n",
      "\tscreen_for_disease()\t\t0.01 sec.\n",
      "\ttrack_stats()\t\t\t0.00 sec.\n",
      "[epoch=401]\tinfected=48\ttransmitters(visible+invisible)=59\n",
      "\n",
      "\n",
      "radiuses 3.775 3.775\n",
      "resp.sum 25306\n",
      "resp.sum 47859\n",
      "\tdecrement_timers()\t\t0.01 sec.\n",
      "\twalk_iter()\t\t\t5.92 sec.\n",
      "\tmake_disease_matrices()\t\t0.01 sec.\n"
     ]
    },
    {
     "name": "stderr",
     "output_type": "stream",
     "text": [
      "\r",
      " 67%|██████▋   | 402/600 [33:28<25:22,  7.69s/it]"
     ]
    },
    {
     "name": "stdout",
     "output_type": "stream",
     "text": [
      "\tspread_disease()\t\t1.58 sec.\n",
      "\tscreen_for_disease()\t\t0.00 sec.\n",
      "\ttrack_stats()\t\t\t0.00 sec.\n",
      "[epoch=402]\tinfected=43\ttransmitters(visible+invisible)=64\n",
      "\n",
      "\n",
      "radiuses 3.7875 3.7875\n",
      "resp.sum 24220\n",
      "resp.sum 48018\n",
      "\tdecrement_timers()\t\t0.01 sec.\n",
      "\twalk_iter()\t\t\t5.68 sec.\n",
      "\tmake_disease_matrices()\t\t0.01 sec.\n"
     ]
    },
    {
     "name": "stderr",
     "output_type": "stream",
     "text": [
      "\r",
      " 67%|██████▋   | 403/600 [33:35<24:44,  7.54s/it]"
     ]
    },
    {
     "name": "stdout",
     "output_type": "stream",
     "text": [
      "\tspread_disease()\t\t1.48 sec.\n",
      "\tscreen_for_disease()\t\t0.00 sec.\n",
      "\ttrack_stats()\t\t\t0.00 sec.\n",
      "[epoch=403]\tinfected=44\ttransmitters(visible+invisible)=67\n",
      "\n",
      "\n",
      "radiuses 3.8 3.8\n",
      "resp.sum 23066\n",
      "resp.sum 48176\n",
      "\tdecrement_timers()\t\t0.00 sec.\n",
      "\twalk_iter()\t\t\t6.45 sec.\n",
      "\tmake_disease_matrices()\t\t0.01 sec.\n"
     ]
    },
    {
     "name": "stderr",
     "output_type": "stream",
     "text": [
      "\r",
      " 67%|██████▋   | 404/600 [33:43<25:22,  7.77s/it]"
     ]
    },
    {
     "name": "stdout",
     "output_type": "stream",
     "text": [
      "\tspread_disease()\t\t1.84 sec.\n",
      "\tscreen_for_disease()\t\t0.00 sec.\n",
      "\ttrack_stats()\t\t\t0.00 sec.\n",
      "[epoch=404]\tinfected=48\ttransmitters(visible+invisible)=66\n",
      "\n",
      "\n",
      "radiuses 3.8125 3.8125\n",
      "resp.sum 21830\n",
      "resp.sum 48335\n",
      "\tdecrement_timers()\t\t0.00 sec.\n",
      "\twalk_iter()\t\t\t5.98 sec.\n",
      "\tmake_disease_matrices()\t\t0.01 sec.\n"
     ]
    },
    {
     "name": "stderr",
     "output_type": "stream",
     "text": [
      "\r",
      " 68%|██████▊   | 405/600 [33:51<25:15,  7.77s/it]"
     ]
    },
    {
     "name": "stdout",
     "output_type": "stream",
     "text": [
      "\tspread_disease()\t\t1.77 sec.\n",
      "\tscreen_for_disease()\t\t0.01 sec.\n",
      "\ttrack_stats()\t\t\t0.00 sec.\n",
      "[epoch=405]\tinfected=47\ttransmitters(visible+invisible)=68\n",
      "\n",
      "\n",
      "radiuses 3.825 3.825\n",
      "resp.sum 23066\n",
      "resp.sum 48493\n",
      "\tdecrement_timers()\t\t0.01 sec.\n",
      "\twalk_iter()\t\t\t6.07 sec.\n",
      "\tmake_disease_matrices()\t\t0.01 sec.\n"
     ]
    },
    {
     "name": "stderr",
     "output_type": "stream",
     "text": [
      "\r",
      " 68%|██████▊   | 406/600 [33:59<25:24,  7.86s/it]"
     ]
    },
    {
     "name": "stdout",
     "output_type": "stream",
     "text": [
      "\tspread_disease()\t\t1.95 sec.\n",
      "\tscreen_for_disease()\t\t0.00 sec.\n",
      "\ttrack_stats()\t\t\t0.00 sec.\n",
      "[epoch=406]\tinfected=50\ttransmitters(visible+invisible)=69\n",
      "\n",
      "\n",
      "radiuses 3.8375 3.8375\n",
      "resp.sum 25306\n",
      "resp.sum 48652\n",
      "\tdecrement_timers()\t\t0.00 sec.\n",
      "\twalk_iter()\t\t\t6.68 sec.\n",
      "\tmake_disease_matrices()\t\t0.01 sec.\n"
     ]
    },
    {
     "name": "stderr",
     "output_type": "stream",
     "text": [
      "\r",
      " 68%|██████▊   | 407/600 [34:07<25:55,  8.06s/it]"
     ]
    },
    {
     "name": "stdout",
     "output_type": "stream",
     "text": [
      "\tspread_disease()\t\t1.83 sec.\n",
      "\tscreen_for_disease()\t\t0.00 sec.\n",
      "\ttrack_stats()\t\t\t0.00 sec.\n",
      "[epoch=407]\tinfected=53\ttransmitters(visible+invisible)=69\n",
      "\n",
      "\n",
      "radiuses 3.85 3.85\n",
      "resp.sum 25306\n",
      "resp.sum 48810\n",
      "\tdecrement_timers()\t\t0.00 sec.\n",
      "\twalk_iter()\t\t\t6.16 sec.\n",
      "\tmake_disease_matrices()\t\t0.01 sec.\n"
     ]
    },
    {
     "name": "stderr",
     "output_type": "stream",
     "text": [
      "\r",
      " 68%|██████▊   | 408/600 [34:15<25:31,  7.98s/it]"
     ]
    },
    {
     "name": "stdout",
     "output_type": "stream",
     "text": [
      "\tspread_disease()\t\t1.60 sec.\n",
      "\tscreen_for_disease()\t\t0.00 sec.\n",
      "\ttrack_stats()\t\t\t0.00 sec.\n",
      "[epoch=408]\tinfected=56\ttransmitters(visible+invisible)=68\n",
      "\n",
      "\n",
      "radiuses 3.8625 3.8625\n",
      "resp.sum 25306\n",
      "resp.sum 48969\n",
      "\tdecrement_timers()\t\t0.00 sec.\n",
      "\twalk_iter()\t\t\t6.27 sec.\n",
      "\tmake_disease_matrices()\t\t0.01 sec.\n"
     ]
    },
    {
     "name": "stderr",
     "output_type": "stream",
     "text": [
      "\r",
      " 68%|██████▊   | 409/600 [34:23<25:25,  7.99s/it]"
     ]
    },
    {
     "name": "stdout",
     "output_type": "stream",
     "text": [
      "\tspread_disease()\t\t1.71 sec.\n",
      "\tscreen_for_disease()\t\t0.00 sec.\n",
      "\ttrack_stats()\t\t\t0.00 sec.\n",
      "[epoch=409]\tinfected=60\ttransmitters(visible+invisible)=68\n",
      "\n",
      "\n",
      "radiuses 3.875 3.875\n",
      "resp.sum 26330\n",
      "resp.sum 49127\n",
      "\tdecrement_timers()\t\t0.00 sec.\n",
      "\twalk_iter()\t\t\t5.58 sec.\n",
      "\tmake_disease_matrices()\t\t0.01 sec.\n"
     ]
    },
    {
     "name": "stderr",
     "output_type": "stream",
     "text": [
      "\r",
      " 68%|██████▊   | 410/600 [34:30<24:24,  7.71s/it]"
     ]
    },
    {
     "name": "stdout",
     "output_type": "stream",
     "text": [
      "\tspread_disease()\t\t1.46 sec.\n",
      "\tscreen_for_disease()\t\t0.00 sec.\n",
      "\ttrack_stats()\t\t\t0.00 sec.\n",
      "[epoch=410]\tinfected=61\ttransmitters(visible+invisible)=69\n",
      "\n",
      "\n",
      "radiuses 3.8875 3.8875\n",
      "resp.sum 25306\n",
      "resp.sum 49286\n",
      "\tdecrement_timers()\t\t0.00 sec.\n",
      "\twalk_iter()\t\t\t5.96 sec.\n",
      "\tmake_disease_matrices()\t\t0.01 sec.\n"
     ]
    },
    {
     "name": "stderr",
     "output_type": "stream",
     "text": [
      "\r",
      " 68%|██████▊   | 411/600 [34:38<24:07,  7.66s/it]"
     ]
    },
    {
     "name": "stdout",
     "output_type": "stream",
     "text": [
      "\tspread_disease()\t\t1.56 sec.\n",
      "\tscreen_for_disease()\t\t0.00 sec.\n",
      "\ttrack_stats()\t\t\t0.00 sec.\n",
      "[epoch=411]\tinfected=61\ttransmitters(visible+invisible)=71\n",
      "\n",
      "\n",
      "radiuses 3.9 3.9\n",
      "resp.sum 29947\n",
      "resp.sum 49444\n",
      "\tdecrement_timers()\t\t0.00 sec.\n",
      "\twalk_iter()\t\t\t6.04 sec.\n",
      "\tmake_disease_matrices()\t\t0.01 sec.\n"
     ]
    },
    {
     "name": "stderr",
     "output_type": "stream",
     "text": [
      "\r",
      " 69%|██████▊   | 412/600 [34:46<24:05,  7.69s/it]"
     ]
    },
    {
     "name": "stdout",
     "output_type": "stream",
     "text": [
      "\tspread_disease()\t\t1.70 sec.\n",
      "\tscreen_for_disease()\t\t0.01 sec.\n",
      "\ttrack_stats()\t\t\t0.00 sec.\n",
      "[epoch=412]\tinfected=62\ttransmitters(visible+invisible)=72\n",
      "\n",
      "\n",
      "radiuses 3.9125 3.9125\n",
      "resp.sum 30753\n",
      "resp.sum 49603\n",
      "\tdecrement_timers()\t\t0.00 sec.\n",
      "\twalk_iter()\t\t\t6.10 sec.\n",
      "\tmake_disease_matrices()\t\t0.01 sec.\n"
     ]
    },
    {
     "name": "stderr",
     "output_type": "stream",
     "text": [
      "\r",
      " 69%|██████▉   | 413/600 [34:53<23:58,  7.69s/it]"
     ]
    },
    {
     "name": "stdout",
     "output_type": "stream",
     "text": [
      "\tspread_disease()\t\t1.57 sec.\n",
      "\tscreen_for_disease()\t\t0.00 sec.\n",
      "\ttrack_stats()\t\t\t0.00 sec.\n",
      "[epoch=413]\tinfected=63\ttransmitters(visible+invisible)=75\n",
      "\n",
      "\n",
      "radiuses 3.925 3.925\n",
      "resp.sum 31526\n",
      "resp.sum 49761\n",
      "\tdecrement_timers()\t\t0.00 sec.\n",
      "\twalk_iter()\t\t\t6.18 sec.\n",
      "\tmake_disease_matrices()\t\t0.01 sec.\n"
     ]
    },
    {
     "name": "stderr",
     "output_type": "stream",
     "text": [
      "\r",
      " 69%|██████▉   | 414/600 [35:01<24:08,  7.79s/it]"
     ]
    },
    {
     "name": "stdout",
     "output_type": "stream",
     "text": [
      "\tspread_disease()\t\t1.81 sec.\n",
      "\tscreen_for_disease()\t\t0.00 sec.\n",
      "\ttrack_stats()\t\t\t0.00 sec.\n",
      "[epoch=414]\tinfected=63\ttransmitters(visible+invisible)=76\n",
      "\n",
      "\n",
      "radiuses 3.9375 3.9375\n",
      "resp.sum 31526\n",
      "resp.sum 49920\n",
      "\tdecrement_timers()\t\t0.00 sec.\n",
      "\twalk_iter()\t\t\t6.03 sec.\n",
      "\tmake_disease_matrices()\t\t0.01 sec.\n"
     ]
    },
    {
     "name": "stderr",
     "output_type": "stream",
     "text": [
      "\r",
      " 69%|██████▉   | 415/600 [35:09<23:48,  7.72s/it]"
     ]
    },
    {
     "name": "stdout",
     "output_type": "stream",
     "text": [
      "\tspread_disease()\t\t1.50 sec.\n",
      "\tscreen_for_disease()\t\t0.00 sec.\n",
      "\ttrack_stats()\t\t\t0.00 sec.\n",
      "[epoch=415]\tinfected=62\ttransmitters(visible+invisible)=81\n",
      "\n",
      "\n",
      "radiuses 3.95 3.95\n",
      "resp.sum 32269\n",
      "resp.sum 50078\n",
      "\tdecrement_timers()\t\t0.00 sec.\n",
      "\twalk_iter()\t\t\t5.91 sec.\n",
      "\tmake_disease_matrices()\t\t0.01 sec.\n"
     ]
    },
    {
     "name": "stderr",
     "output_type": "stream",
     "text": [
      "\r",
      " 69%|██████▉   | 416/600 [35:16<23:34,  7.68s/it]"
     ]
    },
    {
     "name": "stdout",
     "output_type": "stream",
     "text": [
      "\tspread_disease()\t\t1.67 sec.\n",
      "\tscreen_for_disease()\t\t0.00 sec.\n",
      "\ttrack_stats()\t\t\t0.00 sec.\n",
      "[epoch=416]\tinfected=61\ttransmitters(visible+invisible)=83\n",
      "\n",
      "\n",
      "radiuses 3.9625 3.9625\n",
      "resp.sum 34981\n",
      "resp.sum 50236\n",
      "\tdecrement_timers()\t\t0.00 sec.\n",
      "\twalk_iter()\t\t\t5.84 sec.\n",
      "\tmake_disease_matrices()\t\t0.01 sec.\n"
     ]
    },
    {
     "name": "stderr",
     "output_type": "stream",
     "text": [
      "\r",
      " 70%|██████▉   | 417/600 [35:24<23:09,  7.59s/it]"
     ]
    },
    {
     "name": "stdout",
     "output_type": "stream",
     "text": [
      "\tspread_disease()\t\t1.52 sec.\n",
      "\tscreen_for_disease()\t\t0.00 sec.\n",
      "\ttrack_stats()\t\t\t0.00 sec.\n",
      "[epoch=417]\tinfected=59\ttransmitters(visible+invisible)=87\n",
      "\n",
      "\n",
      "radiuses 3.975 3.975\n",
      "resp.sum 35602\n",
      "resp.sum 50395\n",
      "\tdecrement_timers()\t\t0.00 sec.\n",
      "\twalk_iter()\t\t\t5.75 sec.\n",
      "\tmake_disease_matrices()\t\t0.01 sec.\n"
     ]
    },
    {
     "name": "stderr",
     "output_type": "stream",
     "text": [
      "\r",
      " 70%|██████▉   | 418/600 [35:31<22:56,  7.56s/it]"
     ]
    },
    {
     "name": "stdout",
     "output_type": "stream",
     "text": [
      "\tspread_disease()\t\t1.71 sec.\n",
      "\tscreen_for_disease()\t\t0.00 sec.\n",
      "\ttrack_stats()\t\t\t0.00 sec.\n",
      "[epoch=418]\tinfected=58\ttransmitters(visible+invisible)=88\n",
      "\n",
      "\n",
      "radiuses 3.9875 3.9875\n",
      "resp.sum 37348\n",
      "resp.sum 50553\n",
      "\tdecrement_timers()\t\t0.01 sec.\n",
      "\twalk_iter()\t\t\t6.20 sec.\n",
      "\tmake_disease_matrices()\t\t0.01 sec.\n"
     ]
    },
    {
     "name": "stderr",
     "output_type": "stream",
     "text": [
      "\r",
      " 70%|██████▉   | 419/600 [35:39<23:12,  7.69s/it]"
     ]
    },
    {
     "name": "stdout",
     "output_type": "stream",
     "text": [
      "\tspread_disease()\t\t1.77 sec.\n",
      "\tscreen_for_disease()\t\t0.00 sec.\n",
      "\ttrack_stats()\t\t\t0.00 sec.\n",
      "[epoch=419]\tinfected=60\ttransmitters(visible+invisible)=91\n",
      "\n",
      "\n",
      "radiuses 4.0 4.0\n",
      "resp.sum 37348\n",
      "resp.sum 50712\n",
      "\tdecrement_timers()\t\t0.01 sec.\n",
      "\twalk_iter()\t\t\t6.34 sec.\n",
      "\tmake_disease_matrices()\t\t0.01 sec.\n"
     ]
    },
    {
     "name": "stderr",
     "output_type": "stream",
     "text": [
      "\r",
      " 70%|███████   | 420/600 [35:47<23:21,  7.79s/it]"
     ]
    },
    {
     "name": "stdout",
     "output_type": "stream",
     "text": [
      "\tspread_disease()\t\t1.64 sec.\n",
      "\tscreen_for_disease()\t\t0.00 sec.\n",
      "\ttrack_stats()\t\t\t0.00 sec.\n",
      "[epoch=420]\tinfected=63\ttransmitters(visible+invisible)=92\n",
      "\n",
      "\n",
      "radiuses 4 5\n",
      "resp.sum 37348\n",
      "resp.sum 50712\n",
      "\tdecrement_timers()\t\t0.00 sec.\n",
      "\twalk_iter()\t\t\t6.27 sec.\n",
      "\tmake_disease_matrices()\t\t0.01 sec.\n"
     ]
    },
    {
     "name": "stderr",
     "output_type": "stream",
     "text": [
      "\r",
      " 70%|███████   | 421/600 [35:55<23:21,  7.83s/it]"
     ]
    },
    {
     "name": "stdout",
     "output_type": "stream",
     "text": [
      "\tspread_disease()\t\t1.63 sec.\n",
      "\tscreen_for_disease()\t\t0.00 sec.\n",
      "\ttrack_stats()\t\t\t0.00 sec.\n",
      "[epoch=421]\tinfected=68\ttransmitters(visible+invisible)=98\n",
      "\n",
      "\n",
      "radiuses 4 5\n",
      "resp.sum 37348\n",
      "resp.sum 50712\n",
      "\tdecrement_timers()\t\t0.00 sec.\n",
      "\twalk_iter()\t\t\t6.98 sec.\n",
      "\tmake_disease_matrices()\t\t0.01 sec.\n"
     ]
    },
    {
     "name": "stderr",
     "output_type": "stream",
     "text": [
      "\r",
      " 70%|███████   | 422/600 [36:04<23:52,  8.05s/it]"
     ]
    },
    {
     "name": "stdout",
     "output_type": "stream",
     "text": [
      "\tspread_disease()\t\t1.56 sec.\n",
      "\tscreen_for_disease()\t\t0.00 sec.\n",
      "\ttrack_stats()\t\t\t0.00 sec.\n",
      "[epoch=422]\tinfected=68\ttransmitters(visible+invisible)=100\n",
      "\n",
      "\n",
      "radiuses 4 5\n",
      "resp.sum 36202\n",
      "resp.sum 50712\n",
      "\tdecrement_timers()\t\t0.00 sec.\n",
      "\twalk_iter()\t\t\t7.10 sec.\n",
      "\tmake_disease_matrices()\t\t0.01 sec.\n"
     ]
    },
    {
     "name": "stderr",
     "output_type": "stream",
     "text": [
      "\r",
      " 70%|███████   | 423/600 [36:13<24:21,  8.26s/it]"
     ]
    },
    {
     "name": "stdout",
     "output_type": "stream",
     "text": [
      "\tspread_disease()\t\t1.63 sec.\n",
      "\tscreen_for_disease()\t\t0.00 sec.\n",
      "\ttrack_stats()\t\t\t0.00 sec.\n",
      "[epoch=423]\tinfected=72\ttransmitters(visible+invisible)=97\n",
      "\n",
      "\n",
      "radiuses 4 5\n",
      "resp.sum 34981\n",
      "resp.sum 50712\n",
      "\tdecrement_timers()\t\t0.00 sec.\n",
      "\twalk_iter()\t\t\t6.67 sec.\n",
      "\tmake_disease_matrices()\t\t0.01 sec.\n"
     ]
    },
    {
     "name": "stderr",
     "output_type": "stream",
     "text": [
      "\r",
      " 71%|███████   | 424/600 [36:21<24:23,  8.32s/it]"
     ]
    },
    {
     "name": "stdout",
     "output_type": "stream",
     "text": [
      "\tspread_disease()\t\t1.75 sec.\n",
      "\tscreen_for_disease()\t\t0.01 sec.\n",
      "\ttrack_stats()\t\t\t0.00 sec.\n",
      "[epoch=424]\tinfected=75\ttransmitters(visible+invisible)=95\n",
      "\n",
      "\n",
      "radiuses 4 5\n",
      "resp.sum 33674\n",
      "resp.sum 50712\n",
      "\tdecrement_timers()\t\t0.01 sec.\n",
      "\twalk_iter()\t\t\t6.67 sec.\n",
      "\tmake_disease_matrices()\t\t0.01 sec.\n"
     ]
    },
    {
     "name": "stderr",
     "output_type": "stream",
     "text": [
      "\r",
      " 71%|███████   | 425/600 [36:29<24:14,  8.31s/it]"
     ]
    },
    {
     "name": "stdout",
     "output_type": "stream",
     "text": [
      "\tspread_disease()\t\t1.61 sec.\n",
      "\tscreen_for_disease()\t\t0.00 sec.\n",
      "\ttrack_stats()\t\t\t0.00 sec.\n",
      "[epoch=425]\tinfected=75\ttransmitters(visible+invisible)=98\n",
      "\n",
      "\n",
      "radiuses 4 5\n",
      "resp.sum 34339\n",
      "resp.sum 50712\n",
      "\tdecrement_timers()\t\t0.01 sec.\n",
      "\twalk_iter()\t\t\t6.77 sec.\n",
      "\tmake_disease_matrices()\t\t0.01 sec.\n"
     ]
    },
    {
     "name": "stderr",
     "output_type": "stream",
     "text": [
      "\r",
      " 71%|███████   | 426/600 [36:38<24:08,  8.32s/it]"
     ]
    },
    {
     "name": "stdout",
     "output_type": "stream",
     "text": [
      "\tspread_disease()\t\t1.55 sec.\n",
      "\tscreen_for_disease()\t\t0.00 sec.\n",
      "\ttrack_stats()\t\t\t0.00 sec.\n",
      "[epoch=426]\tinfected=79\ttransmitters(visible+invisible)=99\n",
      "\n",
      "\n",
      "radiuses 4 5\n",
      "resp.sum 33674\n",
      "resp.sum 50712\n",
      "\tdecrement_timers()\t\t0.00 sec.\n",
      "\twalk_iter()\t\t\t6.60 sec.\n",
      "\tmake_disease_matrices()\t\t0.01 sec.\n"
     ]
    },
    {
     "name": "stderr",
     "output_type": "stream",
     "text": [
      "\r",
      " 71%|███████   | 427/600 [36:46<23:50,  8.27s/it]"
     ]
    },
    {
     "name": "stdout",
     "output_type": "stream",
     "text": [
      "\tspread_disease()\t\t1.51 sec.\n",
      "\tscreen_for_disease()\t\t0.00 sec.\n",
      "\ttrack_stats()\t\t\t0.00 sec.\n",
      "[epoch=427]\tinfected=85\ttransmitters(visible+invisible)=97\n",
      "\n",
      "\n",
      "radiuses 4 5\n",
      "resp.sum 36202\n",
      "resp.sum 50712\n",
      "\tdecrement_timers()\t\t0.00 sec.\n",
      "\twalk_iter()\t\t\t6.49 sec.\n",
      "\tmake_disease_matrices()\t\t0.01 sec.\n"
     ]
    },
    {
     "name": "stderr",
     "output_type": "stream",
     "text": [
      "\r",
      " 71%|███████▏  | 428/600 [36:54<23:27,  8.18s/it]"
     ]
    },
    {
     "name": "stdout",
     "output_type": "stream",
     "text": [
      "\tspread_disease()\t\t1.47 sec.\n",
      "\tscreen_for_disease()\t\t0.00 sec.\n",
      "\ttrack_stats()\t\t\t0.00 sec.\n",
      "[epoch=428]\tinfected=84\ttransmitters(visible+invisible)=97\n",
      "\n",
      "\n",
      "radiuses 4 5\n",
      "resp.sum 35602\n",
      "resp.sum 50712\n",
      "\tdecrement_timers()\t\t0.00 sec.\n",
      "\twalk_iter()\t\t\t6.52 sec.\n",
      "\tmake_disease_matrices()\t\t0.01 sec.\n"
     ]
    },
    {
     "name": "stderr",
     "output_type": "stream",
     "text": [
      "\r",
      " 72%|███████▏  | 429/600 [37:02<23:11,  8.14s/it]"
     ]
    },
    {
     "name": "stdout",
     "output_type": "stream",
     "text": [
      "\tspread_disease()\t\t1.49 sec.\n",
      "\tscreen_for_disease()\t\t0.01 sec.\n",
      "\ttrack_stats()\t\t\t0.00 sec.\n",
      "[epoch=429]\tinfected=87\ttransmitters(visible+invisible)=99\n",
      "\n",
      "\n",
      "radiuses 4 5\n",
      "resp.sum 35602\n",
      "resp.sum 50712\n",
      "\tdecrement_timers()\t\t0.00 sec.\n",
      "\twalk_iter()\t\t\t6.51 sec.\n",
      "\tmake_disease_matrices()\t\t0.01 sec.\n"
     ]
    },
    {
     "name": "stderr",
     "output_type": "stream",
     "text": [
      "\r",
      " 72%|███████▏  | 430/600 [37:10<22:58,  8.11s/it]"
     ]
    },
    {
     "name": "stdout",
     "output_type": "stream",
     "text": [
      "\tspread_disease()\t\t1.51 sec.\n",
      "\tscreen_for_disease()\t\t0.00 sec.\n",
      "\ttrack_stats()\t\t\t0.00 sec.\n",
      "[epoch=430]\tinfected=86\ttransmitters(visible+invisible)=103\n",
      "\n",
      "\n",
      "radiuses 4 5\n",
      "resp.sum 38426\n",
      "resp.sum 50712\n",
      "\tdecrement_timers()\t\t0.00 sec.\n",
      "\twalk_iter()\t\t\t6.42 sec.\n",
      "\tmake_disease_matrices()\t\t0.01 sec.\n"
     ]
    },
    {
     "name": "stderr",
     "output_type": "stream",
     "text": [
      "\r",
      " 72%|███████▏  | 431/600 [37:18<22:41,  8.06s/it]"
     ]
    },
    {
     "name": "stdout",
     "output_type": "stream",
     "text": [
      "\tspread_disease()\t\t1.50 sec.\n",
      "\tscreen_for_disease()\t\t0.00 sec.\n",
      "\ttrack_stats()\t\t\t0.00 sec.\n",
      "[epoch=431]\tinfected=87\ttransmitters(visible+invisible)=105\n",
      "\n",
      "\n",
      "radiuses 4 5\n",
      "resp.sum 38941\n",
      "resp.sum 50712\n",
      "\tdecrement_timers()\t\t0.00 sec.\n",
      "\twalk_iter()\t\t\t6.47 sec.\n",
      "\tmake_disease_matrices()\t\t0.01 sec.\n"
     ]
    },
    {
     "name": "stderr",
     "output_type": "stream",
     "text": [
      "\r",
      " 72%|███████▏  | 432/600 [37:26<22:34,  8.06s/it]"
     ]
    },
    {
     "name": "stdout",
     "output_type": "stream",
     "text": [
      "\tspread_disease()\t\t1.58 sec.\n",
      "\tscreen_for_disease()\t\t0.00 sec.\n",
      "\ttrack_stats()\t\t\t0.00 sec.\n",
      "[epoch=432]\tinfected=91\ttransmitters(visible+invisible)=108\n",
      "\n",
      "\n",
      "radiuses 4 5\n",
      "resp.sum 39442\n",
      "resp.sum 50712\n",
      "\tdecrement_timers()\t\t0.00 sec.\n",
      "\twalk_iter()\t\t\t6.43 sec.\n",
      "\tmake_disease_matrices()\t\t0.01 sec.\n"
     ]
    },
    {
     "name": "stderr",
     "output_type": "stream",
     "text": [
      "\r",
      " 72%|███████▏  | 433/600 [37:34<22:19,  8.02s/it]"
     ]
    },
    {
     "name": "stdout",
     "output_type": "stream",
     "text": [
      "\tspread_disease()\t\t1.48 sec.\n",
      "\tscreen_for_disease()\t\t0.00 sec.\n",
      "\ttrack_stats()\t\t\t0.00 sec.\n",
      "[epoch=433]\tinfected=93\ttransmitters(visible+invisible)=107\n",
      "\n",
      "\n",
      "radiuses 4 5\n",
      "resp.sum 38426\n",
      "resp.sum 50712\n",
      "\tdecrement_timers()\t\t0.00 sec.\n",
      "\twalk_iter()\t\t\t6.42 sec.\n",
      "\tmake_disease_matrices()\t\t0.01 sec.\n"
     ]
    },
    {
     "name": "stderr",
     "output_type": "stream",
     "text": [
      "\r",
      " 72%|███████▏  | 434/600 [37:42<22:04,  7.98s/it]"
     ]
    },
    {
     "name": "stdout",
     "output_type": "stream",
     "text": [
      "\tspread_disease()\t\t1.45 sec.\n",
      "\tscreen_for_disease()\t\t0.00 sec.\n",
      "\ttrack_stats()\t\t\t0.00 sec.\n",
      "[epoch=434]\tinfected=91\ttransmitters(visible+invisible)=108\n",
      "\n",
      "\n",
      "radiuses 4 5\n",
      "resp.sum 37348\n",
      "resp.sum 50712\n",
      "\tdecrement_timers()\t\t0.00 sec.\n",
      "\twalk_iter()\t\t\t6.49 sec.\n",
      "\tmake_disease_matrices()\t\t0.01 sec.\n"
     ]
    },
    {
     "name": "stderr",
     "output_type": "stream",
     "text": [
      "\r",
      " 72%|███████▎  | 435/600 [37:50<21:56,  7.98s/it]"
     ]
    },
    {
     "name": "stdout",
     "output_type": "stream",
     "text": [
      "\tspread_disease()\t\t1.46 sec.\n",
      "\tscreen_for_disease()\t\t0.00 sec.\n",
      "\ttrack_stats()\t\t\t0.00 sec.\n",
      "[epoch=435]\tinfected=94\ttransmitters(visible+invisible)=109\n",
      "\n",
      "\n",
      "radiuses 4 5\n",
      "resp.sum 37895\n",
      "resp.sum 50712\n",
      "\tdecrement_timers()\t\t0.00 sec.\n",
      "\twalk_iter()\t\t\t6.48 sec.\n",
      "\tmake_disease_matrices()\t\t0.01 sec.\n"
     ]
    },
    {
     "name": "stderr",
     "output_type": "stream",
     "text": [
      "\r",
      " 73%|███████▎  | 436/600 [37:58<21:54,  8.02s/it]"
     ]
    },
    {
     "name": "stdout",
     "output_type": "stream",
     "text": [
      "\tspread_disease()\t\t1.60 sec.\n",
      "\tscreen_for_disease()\t\t0.00 sec.\n",
      "\ttrack_stats()\t\t\t0.00 sec.\n",
      "[epoch=436]\tinfected=99\ttransmitters(visible+invisible)=110\n",
      "\n",
      "\n",
      "radiuses 4 5\n",
      "resp.sum 37895\n",
      "resp.sum 50712\n",
      "\tdecrement_timers()\t\t0.00 sec.\n",
      "\twalk_iter()\t\t\t6.36 sec.\n",
      "\tmake_disease_matrices()\t\t0.01 sec.\n"
     ]
    },
    {
     "name": "stderr",
     "output_type": "stream",
     "text": [
      "\r",
      " 73%|███████▎  | 437/600 [38:06<21:45,  8.01s/it]"
     ]
    },
    {
     "name": "stdout",
     "output_type": "stream",
     "text": [
      "\tspread_disease()\t\t1.61 sec.\n",
      "\tscreen_for_disease()\t\t0.00 sec.\n",
      "\ttrack_stats()\t\t\t0.00 sec.\n",
      "[epoch=437]\tinfected=100\ttransmitters(visible+invisible)=111\n",
      "\n",
      "\n",
      "radiuses 4 5\n",
      "resp.sum 37895\n",
      "resp.sum 50712\n",
      "\tdecrement_timers()\t\t0.00 sec.\n",
      "\twalk_iter()\t\t\t6.36 sec.\n",
      "\tmake_disease_matrices()\t\t0.01 sec.\n"
     ]
    },
    {
     "name": "stderr",
     "output_type": "stream",
     "text": [
      "\r",
      " 73%|███████▎  | 438/600 [38:14<21:33,  7.98s/it]"
     ]
    },
    {
     "name": "stdout",
     "output_type": "stream",
     "text": [
      "\tspread_disease()\t\t1.55 sec.\n",
      "\tscreen_for_disease()\t\t0.00 sec.\n",
      "\ttrack_stats()\t\t\t0.00 sec.\n",
      "[epoch=438]\tinfected=100\ttransmitters(visible+invisible)=114\n",
      "\n",
      "\n",
      "radiuses 4 5\n",
      "resp.sum 36784\n",
      "resp.sum 50712\n",
      "\tdecrement_timers()\t\t0.00 sec.\n",
      "\twalk_iter()\t\t\t6.45 sec.\n",
      "\tmake_disease_matrices()\t\t0.01 sec.\n"
     ]
    },
    {
     "name": "stderr",
     "output_type": "stream",
     "text": [
      "\r",
      " 73%|███████▎  | 439/600 [38:22<21:23,  7.97s/it]"
     ]
    },
    {
     "name": "stdout",
     "output_type": "stream",
     "text": [
      "\tspread_disease()\t\t1.47 sec.\n",
      "\tscreen_for_disease()\t\t0.01 sec.\n",
      "\ttrack_stats()\t\t\t0.00 sec.\n",
      "[epoch=439]\tinfected=100\ttransmitters(visible+invisible)=115\n",
      "\n",
      "\n",
      "radiuses 4 5\n",
      "resp.sum 37895\n",
      "resp.sum 50712\n",
      "\tdecrement_timers()\t\t0.00 sec.\n",
      "\twalk_iter()\t\t\t6.41 sec.\n",
      "\tmake_disease_matrices()\t\t0.01 sec.\n"
     ]
    },
    {
     "name": "stderr",
     "output_type": "stream",
     "text": [
      "\r",
      " 73%|███████▎  | 440/600 [38:30<21:12,  7.95s/it]"
     ]
    },
    {
     "name": "stdout",
     "output_type": "stream",
     "text": [
      "\tspread_disease()\t\t1.48 sec.\n",
      "\tscreen_for_disease()\t\t0.00 sec.\n",
      "\ttrack_stats()\t\t\t0.00 sec.\n",
      "[epoch=440]\tinfected=100\ttransmitters(visible+invisible)=116\n",
      "\n",
      "\n",
      "radiuses 4 5\n",
      "resp.sum 38426\n",
      "resp.sum 50712\n",
      "\tdecrement_timers()\t\t0.00 sec.\n",
      "\twalk_iter()\t\t\t6.50 sec.\n",
      "\tmake_disease_matrices()\t\t0.01 sec.\n"
     ]
    },
    {
     "name": "stderr",
     "output_type": "stream",
     "text": [
      "\r",
      " 74%|███████▎  | 441/600 [38:38<21:08,  7.98s/it]"
     ]
    },
    {
     "name": "stdout",
     "output_type": "stream",
     "text": [
      "\tspread_disease()\t\t1.51 sec.\n",
      "\tscreen_for_disease()\t\t0.00 sec.\n",
      "\ttrack_stats()\t\t\t0.00 sec.\n",
      "[epoch=441]\tinfected=99\ttransmitters(visible+invisible)=122\n",
      "\n",
      "\n",
      "radiuses 4 5\n",
      "resp.sum 38941\n",
      "resp.sum 50712\n",
      "\tdecrement_timers()\t\t0.00 sec.\n",
      "\twalk_iter()\t\t\t6.60 sec.\n",
      "\tmake_disease_matrices()\t\t0.01 sec.\n"
     ]
    },
    {
     "name": "stderr",
     "output_type": "stream",
     "text": [
      "\r",
      " 74%|███████▎  | 442/600 [38:46<21:11,  8.05s/it]"
     ]
    },
    {
     "name": "stdout",
     "output_type": "stream",
     "text": [
      "\tspread_disease()\t\t1.58 sec.\n",
      "\tscreen_for_disease()\t\t0.00 sec.\n",
      "\ttrack_stats()\t\t\t0.00 sec.\n",
      "[epoch=442]\tinfected=98\ttransmitters(visible+invisible)=126\n",
      "\n",
      "\n",
      "radiuses 4 5\n",
      "resp.sum 38426\n",
      "resp.sum 50712\n",
      "\tdecrement_timers()\t\t0.01 sec.\n",
      "\twalk_iter()\t\t\t6.49 sec.\n",
      "\tmake_disease_matrices()\t\t0.01 sec.\n"
     ]
    },
    {
     "name": "stderr",
     "output_type": "stream",
     "text": [
      "\r",
      " 74%|███████▍  | 443/600 [38:54<21:05,  8.06s/it]"
     ]
    },
    {
     "name": "stdout",
     "output_type": "stream",
     "text": [
      "\tspread_disease()\t\t1.58 sec.\n",
      "\tscreen_for_disease()\t\t0.00 sec.\n",
      "\ttrack_stats()\t\t\t0.00 sec.\n",
      "[epoch=443]\tinfected=100\ttransmitters(visible+invisible)=128\n",
      "\n",
      "\n",
      "radiuses 4 5\n",
      "resp.sum 39442\n",
      "resp.sum 50712\n",
      "\tdecrement_timers()\t\t0.00 sec.\n",
      "\twalk_iter()\t\t\t6.39 sec.\n",
      "\tmake_disease_matrices()\t\t0.01 sec.\n"
     ]
    },
    {
     "name": "stderr",
     "output_type": "stream",
     "text": [
      "\r",
      " 74%|███████▍  | 444/600 [39:02<20:56,  8.05s/it]"
     ]
    },
    {
     "name": "stdout",
     "output_type": "stream",
     "text": [
      "\tspread_disease()\t\t1.63 sec.\n",
      "\tscreen_for_disease()\t\t0.00 sec.\n",
      "\ttrack_stats()\t\t\t0.00 sec.\n",
      "[epoch=444]\tinfected=101\ttransmitters(visible+invisible)=127\n",
      "\n",
      "\n",
      "radiuses 4 5\n",
      "resp.sum 37895\n",
      "resp.sum 50712\n",
      "\tdecrement_timers()\t\t0.00 sec.\n",
      "\twalk_iter()\t\t\t6.30 sec.\n",
      "\tmake_disease_matrices()\t\t0.01 sec.\n"
     ]
    },
    {
     "name": "stderr",
     "output_type": "stream",
     "text": [
      "\r",
      " 74%|███████▍  | 445/600 [39:10<20:41,  8.01s/it]"
     ]
    },
    {
     "name": "stdout",
     "output_type": "stream",
     "text": [
      "\tspread_disease()\t\t1.58 sec.\n",
      "\tscreen_for_disease()\t\t0.00 sec.\n",
      "\ttrack_stats()\t\t\t0.00 sec.\n",
      "[epoch=445]\tinfected=101\ttransmitters(visible+invisible)=127\n",
      "\n",
      "\n",
      "radiuses 4 5\n",
      "resp.sum 36202\n",
      "resp.sum 50712\n",
      "\tdecrement_timers()\t\t0.00 sec.\n",
      "\twalk_iter()\t\t\t6.36 sec.\n",
      "\tmake_disease_matrices()\t\t0.01 sec.\n"
     ]
    },
    {
     "name": "stderr",
     "output_type": "stream",
     "text": [
      "\r",
      " 74%|███████▍  | 446/600 [39:18<20:30,  7.99s/it]"
     ]
    },
    {
     "name": "stdout",
     "output_type": "stream",
     "text": [
      "\tspread_disease()\t\t1.57 sec.\n",
      "\tscreen_for_disease()\t\t0.00 sec.\n",
      "\ttrack_stats()\t\t\t0.00 sec.\n",
      "[epoch=446]\tinfected=101\ttransmitters(visible+invisible)=133\n",
      "\n",
      "\n",
      "radiuses 4 5\n",
      "resp.sum 38941\n",
      "resp.sum 50712\n",
      "\tdecrement_timers()\t\t0.00 sec.\n",
      "\twalk_iter()\t\t\t6.35 sec.\n",
      "\tmake_disease_matrices()\t\t0.01 sec.\n"
     ]
    },
    {
     "name": "stderr",
     "output_type": "stream",
     "text": [
      "\r",
      " 74%|███████▍  | 447/600 [39:26<20:19,  7.97s/it]"
     ]
    },
    {
     "name": "stdout",
     "output_type": "stream",
     "text": [
      "\tspread_disease()\t\t1.55 sec.\n",
      "\tscreen_for_disease()\t\t0.00 sec.\n",
      "\ttrack_stats()\t\t\t0.00 sec.\n",
      "[epoch=447]\tinfected=104\ttransmitters(visible+invisible)=134\n",
      "\n",
      "\n",
      "radiuses 4 5\n",
      "resp.sum 37895\n",
      "resp.sum 50712\n",
      "\tdecrement_timers()\t\t0.00 sec.\n",
      "\twalk_iter()\t\t\t6.35 sec.\n",
      "\tmake_disease_matrices()\t\t0.01 sec.\n"
     ]
    },
    {
     "name": "stderr",
     "output_type": "stream",
     "text": [
      "\r",
      " 75%|███████▍  | 448/600 [39:34<20:07,  7.94s/it]"
     ]
    },
    {
     "name": "stdout",
     "output_type": "stream",
     "text": [
      "\tspread_disease()\t\t1.51 sec.\n",
      "\tscreen_for_disease()\t\t0.00 sec.\n",
      "\ttrack_stats()\t\t\t0.00 sec.\n",
      "[epoch=448]\tinfected=110\ttransmitters(visible+invisible)=133\n",
      "\n",
      "\n",
      "radiuses 4 5\n",
      "resp.sum 38426\n",
      "resp.sum 50712\n",
      "\tdecrement_timers()\t\t0.00 sec.\n",
      "\twalk_iter()\t\t\t6.41 sec.\n",
      "\tmake_disease_matrices()\t\t0.01 sec.\n"
     ]
    },
    {
     "name": "stderr",
     "output_type": "stream",
     "text": [
      "\r",
      " 75%|███████▍  | 449/600 [39:42<20:01,  7.96s/it]"
     ]
    },
    {
     "name": "stdout",
     "output_type": "stream",
     "text": [
      "\tspread_disease()\t\t1.55 sec.\n",
      "\tscreen_for_disease()\t\t0.00 sec.\n",
      "\ttrack_stats()\t\t\t0.00 sec.\n",
      "[epoch=449]\tinfected=106\ttransmitters(visible+invisible)=141\n",
      "\n",
      "\n",
      "radiuses 4 5\n",
      "resp.sum 38941\n",
      "resp.sum 50712\n",
      "\tdecrement_timers()\t\t0.00 sec.\n",
      "\twalk_iter()\t\t\t6.55 sec.\n",
      "\tmake_disease_matrices()\t\t0.01 sec.\n"
     ]
    },
    {
     "name": "stderr",
     "output_type": "stream",
     "text": [
      "\r",
      " 75%|███████▌  | 450/600 [39:50<19:56,  7.97s/it]"
     ]
    },
    {
     "name": "stdout",
     "output_type": "stream",
     "text": [
      "\tspread_disease()\t\t1.45 sec.\n",
      "\tscreen_for_disease()\t\t0.00 sec.\n",
      "\ttrack_stats()\t\t\t0.00 sec.\n",
      "[epoch=450]\tinfected=104\ttransmitters(visible+invisible)=149\n",
      "\n",
      "\n",
      "radiuses 4 5\n",
      "resp.sum 40863\n",
      "resp.sum 50712\n",
      "\tdecrement_timers()\t\t0.00 sec.\n",
      "\twalk_iter()\t\t\t6.52 sec.\n",
      "\tmake_disease_matrices()\t\t0.01 sec.\n"
     ]
    },
    {
     "name": "stderr",
     "output_type": "stream",
     "text": [
      "\r",
      " 75%|███████▌  | 451/600 [39:58<19:55,  8.02s/it]"
     ]
    },
    {
     "name": "stdout",
     "output_type": "stream",
     "text": [
      "\tspread_disease()\t\t1.60 sec.\n",
      "\tscreen_for_disease()\t\t0.00 sec.\n",
      "\ttrack_stats()\t\t\t0.00 sec.\n",
      "[epoch=451]\tinfected=106\ttransmitters(visible+invisible)=154\n",
      "\n",
      "\n",
      "radiuses 4 5\n",
      "resp.sum 42174\n",
      "resp.sum 50712\n",
      "\tdecrement_timers()\t\t0.00 sec.\n",
      "\twalk_iter()\t\t\t6.43 sec.\n",
      "\tmake_disease_matrices()\t\t0.01 sec.\n"
     ]
    },
    {
     "name": "stderr",
     "output_type": "stream",
     "text": [
      "\r",
      " 75%|███████▌  | 452/600 [40:06<19:43,  7.99s/it]"
     ]
    },
    {
     "name": "stdout",
     "output_type": "stream",
     "text": [
      "\tspread_disease()\t\t1.47 sec.\n",
      "\tscreen_for_disease()\t\t0.00 sec.\n",
      "\ttrack_stats()\t\t\t0.00 sec.\n",
      "[epoch=452]\tinfected=106\ttransmitters(visible+invisible)=157\n",
      "\n",
      "\n",
      "radiuses 4 5\n",
      "resp.sum 43772\n",
      "resp.sum 50712\n",
      "\tdecrement_timers()\t\t0.00 sec.\n",
      "\twalk_iter()\t\t\t6.49 sec.\n",
      "\tmake_disease_matrices()\t\t0.01 sec.\n"
     ]
    },
    {
     "name": "stderr",
     "output_type": "stream",
     "text": [
      "\r",
      " 76%|███████▌  | 453/600 [40:14<19:37,  8.01s/it]"
     ]
    },
    {
     "name": "stdout",
     "output_type": "stream",
     "text": [
      "\tspread_disease()\t\t1.54 sec.\n",
      "\tscreen_for_disease()\t\t0.00 sec.\n",
      "\ttrack_stats()\t\t\t0.00 sec.\n",
      "[epoch=453]\tinfected=105\ttransmitters(visible+invisible)=161\n",
      "\n",
      "\n",
      "radiuses 4 5\n",
      "resp.sum 43772\n",
      "resp.sum 50712\n",
      "\tdecrement_timers()\t\t0.00 sec.\n",
      "\twalk_iter()\t\t\t6.51 sec.\n",
      "\tmake_disease_matrices()\t\t0.01 sec.\n"
     ]
    },
    {
     "name": "stderr",
     "output_type": "stream",
     "text": [
      "\r",
      " 76%|███████▌  | 454/600 [40:22<19:35,  8.05s/it]"
     ]
    },
    {
     "name": "stdout",
     "output_type": "stream",
     "text": [
      "\tspread_disease()\t\t1.61 sec.\n",
      "\tscreen_for_disease()\t\t0.00 sec.\n",
      "\ttrack_stats()\t\t\t0.00 sec.\n",
      "[epoch=454]\tinfected=103\ttransmitters(visible+invisible)=166\n",
      "\n",
      "\n",
      "radiuses 4 5\n",
      "resp.sum 44514\n",
      "resp.sum 50712\n",
      "\tdecrement_timers()\t\t0.01 sec.\n",
      "\twalk_iter()\t\t\t6.25 sec.\n",
      "\tmake_disease_matrices()\t\t0.01 sec.\n"
     ]
    },
    {
     "name": "stderr",
     "output_type": "stream",
     "text": [
      "\r",
      " 76%|███████▌  | 455/600 [40:30<19:15,  7.97s/it]"
     ]
    },
    {
     "name": "stdout",
     "output_type": "stream",
     "text": [
      "\tspread_disease()\t\t1.51 sec.\n",
      "\tscreen_for_disease()\t\t0.00 sec.\n",
      "\ttrack_stats()\t\t\t0.00 sec.\n",
      "[epoch=455]\tinfected=100\ttransmitters(visible+invisible)=169\n",
      "\n",
      "\n",
      "radiuses 4 5\n",
      "resp.sum 44872\n",
      "resp.sum 50712\n",
      "\tdecrement_timers()\t\t0.00 sec.\n",
      "\twalk_iter()\t\t\t6.19 sec.\n",
      "\tmake_disease_matrices()\t\t0.01 sec.\n"
     ]
    },
    {
     "name": "stderr",
     "output_type": "stream",
     "text": [
      "\r",
      " 76%|███████▌  | 456/600 [40:37<18:57,  7.90s/it]"
     ]
    },
    {
     "name": "stdout",
     "output_type": "stream",
     "text": [
      "\tspread_disease()\t\t1.52 sec.\n",
      "\tscreen_for_disease()\t\t0.00 sec.\n",
      "\ttrack_stats()\t\t\t0.00 sec.\n",
      "[epoch=456]\tinfected=100\ttransmitters(visible+invisible)=174\n",
      "\n",
      "\n",
      "radiuses 4 5\n",
      "resp.sum 44872\n",
      "resp.sum 50712\n",
      "\tdecrement_timers()\t\t0.00 sec.\n",
      "\twalk_iter()\t\t\t6.29 sec.\n",
      "\tmake_disease_matrices()\t\t0.01 sec.\n"
     ]
    },
    {
     "name": "stderr",
     "output_type": "stream",
     "text": [
      "\r",
      " 76%|███████▌  | 457/600 [40:45<18:44,  7.86s/it]"
     ]
    },
    {
     "name": "stdout",
     "output_type": "stream",
     "text": [
      "\tspread_disease()\t\t1.46 sec.\n",
      "\tscreen_for_disease()\t\t0.00 sec.\n",
      "\ttrack_stats()\t\t\t0.00 sec.\n",
      "[epoch=457]\tinfected=103\ttransmitters(visible+invisible)=172\n",
      "\n",
      "\n",
      "radiuses 4 5\n",
      "resp.sum 43387\n",
      "resp.sum 50712\n",
      "\tdecrement_timers()\t\t0.00 sec.\n",
      "\twalk_iter()\t\t\t6.15 sec.\n",
      "\tmake_disease_matrices()\t\t0.01 sec.\n"
     ]
    },
    {
     "name": "stderr",
     "output_type": "stream",
     "text": [
      "\r",
      " 76%|███████▋  | 458/600 [40:53<18:28,  7.81s/it]"
     ]
    },
    {
     "name": "stdout",
     "output_type": "stream",
     "text": [
      "\tspread_disease()\t\t1.51 sec.\n",
      "\tscreen_for_disease()\t\t0.00 sec.\n",
      "\ttrack_stats()\t\t\t0.00 sec.\n",
      "[epoch=458]\tinfected=110\ttransmitters(visible+invisible)=168\n",
      "\n",
      "\n",
      "radiuses 4 5\n",
      "resp.sum 42993\n",
      "resp.sum 50712\n",
      "\tdecrement_timers()\t\t0.00 sec.\n",
      "\twalk_iter()\t\t\t6.18 sec.\n",
      "\tmake_disease_matrices()\t\t0.01 sec.\n"
     ]
    },
    {
     "name": "stderr",
     "output_type": "stream",
     "text": [
      "\r",
      " 76%|███████▋  | 459/600 [41:00<18:13,  7.76s/it]"
     ]
    },
    {
     "name": "stdout",
     "output_type": "stream",
     "text": [
      "\tspread_disease()\t\t1.44 sec.\n",
      "\tscreen_for_disease()\t\t0.00 sec.\n",
      "\ttrack_stats()\t\t\t0.00 sec.\n",
      "[epoch=459]\tinfected=112\ttransmitters(visible+invisible)=167\n",
      "\n",
      "\n",
      "radiuses 4 5\n",
      "resp.sum 41748\n",
      "resp.sum 50712\n",
      "\tdecrement_timers()\t\t0.00 sec.\n",
      "\twalk_iter()\t\t\t6.20 sec.\n",
      "\tmake_disease_matrices()\t\t0.01 sec.\n"
     ]
    },
    {
     "name": "stderr",
     "output_type": "stream",
     "text": [
      "\r",
      " 77%|███████▋  | 460/600 [41:08<18:05,  7.75s/it]"
     ]
    },
    {
     "name": "stdout",
     "output_type": "stream",
     "text": [
      "\tspread_disease()\t\t1.52 sec.\n",
      "\tscreen_for_disease()\t\t0.01 sec.\n",
      "\ttrack_stats()\t\t\t0.00 sec.\n",
      "[epoch=460]\tinfected=115\ttransmitters(visible+invisible)=169\n",
      "\n",
      "\n",
      "radiuses 4 5\n",
      "resp.sum 41311\n",
      "resp.sum 50712\n",
      "\tdecrement_timers()\t\t0.01 sec.\n",
      "\twalk_iter()\t\t\t6.25 sec.\n",
      "\tmake_disease_matrices()\t\t0.01 sec.\n"
     ]
    },
    {
     "name": "stderr",
     "output_type": "stream",
     "text": [
      "\r",
      " 77%|███████▋  | 461/600 [41:16<18:00,  7.77s/it]"
     ]
    },
    {
     "name": "stdout",
     "output_type": "stream",
     "text": [
      "\tspread_disease()\t\t1.55 sec.\n",
      "\tscreen_for_disease()\t\t0.00 sec.\n",
      "\ttrack_stats()\t\t\t0.00 sec.\n",
      "[epoch=461]\tinfected=114\ttransmitters(visible+invisible)=176\n",
      "\n",
      "\n",
      "radiuses 4 5\n",
      "resp.sum 42993\n",
      "resp.sum 50712\n",
      "\tdecrement_timers()\t\t0.00 sec.\n",
      "\twalk_iter()\t\t\t6.22 sec.\n",
      "\tmake_disease_matrices()\t\t0.01 sec.\n"
     ]
    },
    {
     "name": "stderr",
     "output_type": "stream",
     "text": [
      "\r",
      " 77%|███████▋  | 462/600 [41:24<17:48,  7.74s/it]"
     ]
    },
    {
     "name": "stdout",
     "output_type": "stream",
     "text": [
      "\tspread_disease()\t\t1.44 sec.\n",
      "\tscreen_for_disease()\t\t0.00 sec.\n",
      "\ttrack_stats()\t\t\t0.00 sec.\n",
      "[epoch=462]\tinfected=115\ttransmitters(visible+invisible)=180\n",
      "\n",
      "\n",
      "radiuses 4 5\n",
      "resp.sum 43772\n",
      "resp.sum 50712\n",
      "\tdecrement_timers()\t\t0.00 sec.\n",
      "\twalk_iter()\t\t\t6.22 sec.\n",
      "\tmake_disease_matrices()\t\t0.01 sec.\n"
     ]
    },
    {
     "name": "stderr",
     "output_type": "stream",
     "text": [
      "\r",
      " 77%|███████▋  | 463/600 [41:32<17:43,  7.76s/it]"
     ]
    },
    {
     "name": "stdout",
     "output_type": "stream",
     "text": [
      "\tspread_disease()\t\t1.57 sec.\n",
      "\tscreen_for_disease()\t\t0.00 sec.\n",
      "\ttrack_stats()\t\t\t0.00 sec.\n",
      "[epoch=463]\tinfected=117\ttransmitters(visible+invisible)=177\n",
      "\n",
      "\n",
      "radiuses 4 5\n",
      "resp.sum 42589\n",
      "resp.sum 50712\n",
      "\tdecrement_timers()\t\t0.00 sec.\n",
      "\twalk_iter()\t\t\t6.12 sec.\n",
      "\tmake_disease_matrices()\t\t0.01 sec.\n"
     ]
    },
    {
     "name": "stderr",
     "output_type": "stream",
     "text": [
      "\r",
      " 77%|███████▋  | 464/600 [41:39<17:32,  7.74s/it]"
     ]
    },
    {
     "name": "stdout",
     "output_type": "stream",
     "text": [
      "\tspread_disease()\t\t1.55 sec.\n",
      "\tscreen_for_disease()\t\t0.00 sec.\n",
      "\ttrack_stats()\t\t\t0.00 sec.\n",
      "[epoch=464]\tinfected=121\ttransmitters(visible+invisible)=177\n",
      "\n",
      "\n",
      "radiuses 4 5\n",
      "resp.sum 42589\n",
      "resp.sum 50712\n",
      "\tdecrement_timers()\t\t0.00 sec.\n",
      "\twalk_iter()\t\t\t6.28 sec.\n",
      "\tmake_disease_matrices()\t\t0.01 sec.\n"
     ]
    },
    {
     "name": "stderr",
     "output_type": "stream",
     "text": [
      "\r",
      " 78%|███████▊  | 465/600 [41:47<17:28,  7.76s/it]"
     ]
    },
    {
     "name": "stdout",
     "output_type": "stream",
     "text": [
      "\tspread_disease()\t\t1.51 sec.\n",
      "\tscreen_for_disease()\t\t0.00 sec.\n",
      "\ttrack_stats()\t\t\t0.00 sec.\n",
      "[epoch=465]\tinfected=119\ttransmitters(visible+invisible)=183\n",
      "\n",
      "\n",
      "radiuses 4 5\n",
      "resp.sum 44148\n",
      "resp.sum 50712\n",
      "\tdecrement_timers()\t\t0.00 sec.\n",
      "\twalk_iter()\t\t\t6.14 sec.\n",
      "\tmake_disease_matrices()\t\t0.01 sec.\n"
     ]
    },
    {
     "name": "stderr",
     "output_type": "stream",
     "text": [
      "\r",
      " 78%|███████▊  | 466/600 [41:55<17:16,  7.73s/it]"
     ]
    },
    {
     "name": "stdout",
     "output_type": "stream",
     "text": [
      "\tspread_disease()\t\t1.51 sec.\n",
      "\tscreen_for_disease()\t\t0.00 sec.\n",
      "\ttrack_stats()\t\t\t0.00 sec.\n",
      "[epoch=466]\tinfected=117\ttransmitters(visible+invisible)=190\n",
      "\n",
      "\n",
      "radiuses 4 5\n",
      "resp.sum 45221\n",
      "resp.sum 50712\n",
      "\tdecrement_timers()\t\t0.00 sec.\n",
      "\twalk_iter()\t\t\t6.12 sec.\n",
      "\tmake_disease_matrices()\t\t0.01 sec.\n"
     ]
    },
    {
     "name": "stderr",
     "output_type": "stream",
     "text": [
      "\r",
      " 78%|███████▊  | 467/600 [42:02<17:02,  7.69s/it]"
     ]
    },
    {
     "name": "stdout",
     "output_type": "stream",
     "text": [
      "\tspread_disease()\t\t1.43 sec.\n",
      "\tscreen_for_disease()\t\t0.00 sec.\n",
      "\ttrack_stats()\t\t\t0.00 sec.\n",
      "[epoch=467]\tinfected=122\ttransmitters(visible+invisible)=191\n",
      "\n",
      "\n",
      "radiuses 4 5\n",
      "resp.sum 45563\n",
      "resp.sum 50712\n",
      "\tdecrement_timers()\t\t0.00 sec.\n",
      "\twalk_iter()\t\t\t6.19 sec.\n",
      "\tmake_disease_matrices()\t\t0.01 sec.\n"
     ]
    },
    {
     "name": "stderr",
     "output_type": "stream",
     "text": [
      "\r",
      " 78%|███████▊  | 468/600 [42:10<16:59,  7.72s/it]"
     ]
    },
    {
     "name": "stdout",
     "output_type": "stream",
     "text": [
      "\tspread_disease()\t\t1.60 sec.\n",
      "\tscreen_for_disease()\t\t0.00 sec.\n",
      "\ttrack_stats()\t\t\t0.00 sec.\n",
      "[epoch=468]\tinfected=123\ttransmitters(visible+invisible)=194\n",
      "\n",
      "\n",
      "radiuses 4 5\n",
      "resp.sum 44872\n",
      "resp.sum 50712\n",
      "\tdecrement_timers()\t\t0.00 sec.\n",
      "\twalk_iter()\t\t\t6.11 sec.\n",
      "\tmake_disease_matrices()\t\t0.01 sec.\n"
     ]
    },
    {
     "name": "stderr",
     "output_type": "stream",
     "text": [
      "\r",
      " 78%|███████▊  | 469/600 [42:18<16:48,  7.70s/it]"
     ]
    },
    {
     "name": "stdout",
     "output_type": "stream",
     "text": [
      "\tspread_disease()\t\t1.51 sec.\n",
      "\tscreen_for_disease()\t\t0.00 sec.\n",
      "\ttrack_stats()\t\t\t0.00 sec.\n",
      "[epoch=469]\tinfected=122\ttransmitters(visible+invisible)=201\n",
      "\n",
      "\n",
      "radiuses 4 5\n",
      "resp.sum 46541\n",
      "resp.sum 50712\n",
      "\tdecrement_timers()\t\t0.00 sec.\n",
      "\twalk_iter()\t\t\t6.15 sec.\n",
      "\tmake_disease_matrices()\t\t0.01 sec.\n"
     ]
    },
    {
     "name": "stderr",
     "output_type": "stream",
     "text": [
      "\r",
      " 78%|███████▊  | 470/600 [42:25<16:38,  7.68s/it]"
     ]
    },
    {
     "name": "stdout",
     "output_type": "stream",
     "text": [
      "\tspread_disease()\t\t1.46 sec.\n",
      "\tscreen_for_disease()\t\t0.00 sec.\n",
      "\ttrack_stats()\t\t\t0.00 sec.\n",
      "[epoch=470]\tinfected=125\ttransmitters(visible+invisible)=204\n",
      "\n",
      "\n",
      "radiuses 4 5\n",
      "resp.sum 47456\n",
      "resp.sum 50712\n",
      "\tdecrement_timers()\t\t0.00 sec.\n",
      "\twalk_iter()\t\t\t6.23 sec.\n",
      "\tmake_disease_matrices()\t\t0.01 sec.\n"
     ]
    },
    {
     "name": "stderr",
     "output_type": "stream",
     "text": [
      "\r",
      " 78%|███████▊  | 471/600 [42:33<16:33,  7.70s/it]"
     ]
    },
    {
     "name": "stdout",
     "output_type": "stream",
     "text": [
      "\tspread_disease()\t\t1.49 sec.\n",
      "\tscreen_for_disease()\t\t0.00 sec.\n",
      "\ttrack_stats()\t\t\t0.00 sec.\n",
      "[epoch=471]\tinfected=131\ttransmitters(visible+invisible)=206\n",
      "\n",
      "\n",
      "radiuses 4 5\n",
      "resp.sum 48032\n",
      "resp.sum 50712\n",
      "\tdecrement_timers()\t\t0.01 sec.\n",
      "\twalk_iter()\t\t\t6.26 sec.\n",
      "\tmake_disease_matrices()\t\t0.01 sec.\n"
     ]
    },
    {
     "name": "stderr",
     "output_type": "stream",
     "text": [
      "\r",
      " 79%|███████▊  | 472/600 [42:41<16:30,  7.74s/it]"
     ]
    },
    {
     "name": "stdout",
     "output_type": "stream",
     "text": [
      "\tspread_disease()\t\t1.55 sec.\n",
      "\tscreen_for_disease()\t\t0.00 sec.\n",
      "\ttrack_stats()\t\t\t0.00 sec.\n",
      "[epoch=472]\tinfected=138\ttransmitters(visible+invisible)=203\n",
      "\n",
      "\n",
      "radiuses 4 5\n",
      "resp.sum 48032\n",
      "resp.sum 50712\n",
      "\tdecrement_timers()\t\t0.00 sec.\n",
      "\twalk_iter()\t\t\t6.42 sec.\n",
      "\tmake_disease_matrices()\t\t0.01 sec.\n"
     ]
    },
    {
     "name": "stderr",
     "output_type": "stream",
     "text": [
      "\r",
      " 79%|███████▉  | 473/600 [42:49<16:30,  7.80s/it]"
     ]
    },
    {
     "name": "stdout",
     "output_type": "stream",
     "text": [
      "\tspread_disease()\t\t1.51 sec.\n",
      "\tscreen_for_disease()\t\t0.00 sec.\n",
      "\ttrack_stats()\t\t\t0.00 sec.\n",
      "[epoch=473]\tinfected=134\ttransmitters(visible+invisible)=207\n",
      "\n",
      "\n",
      "radiuses 4 5\n",
      "resp.sum 48032\n",
      "resp.sum 50712\n",
      "\tdecrement_timers()\t\t0.01 sec.\n",
      "\twalk_iter()\t\t\t6.63 sec.\n",
      "\tmake_disease_matrices()\t\t0.01 sec.\n"
     ]
    },
    {
     "name": "stderr",
     "output_type": "stream",
     "text": [
      "\r",
      " 79%|███████▉  | 474/600 [42:57<16:38,  7.92s/it]"
     ]
    },
    {
     "name": "stdout",
     "output_type": "stream",
     "text": [
      "\tspread_disease()\t\t1.55 sec.\n",
      "\tscreen_for_disease()\t\t0.00 sec.\n",
      "\ttrack_stats()\t\t\t0.00 sec.\n",
      "[epoch=474]\tinfected=139\ttransmitters(visible+invisible)=206\n",
      "\n",
      "\n",
      "radiuses 4 5\n",
      "resp.sum 49114\n",
      "resp.sum 50712\n",
      "\tdecrement_timers()\t\t0.00 sec.\n",
      "\twalk_iter()\t\t\t6.28 sec.\n",
      "\tmake_disease_matrices()\t\t0.01 sec.\n"
     ]
    },
    {
     "name": "stderr",
     "output_type": "stream",
     "text": [
      "\r",
      " 79%|███████▉  | 475/600 [43:05<16:22,  7.86s/it]"
     ]
    },
    {
     "name": "stdout",
     "output_type": "stream",
     "text": [
      "\tspread_disease()\t\t1.41 sec.\n",
      "\tscreen_for_disease()\t\t0.00 sec.\n",
      "\ttrack_stats()\t\t\t0.00 sec.\n",
      "[epoch=475]\tinfected=134\ttransmitters(visible+invisible)=211\n",
      "\n",
      "\n",
      "radiuses 4 5\n",
      "resp.sum 50576\n",
      "resp.sum 50712\n",
      "\tdecrement_timers()\t\t0.00 sec.\n",
      "\twalk_iter()\t\t\t6.18 sec.\n",
      "\tmake_disease_matrices()\t\t0.01 sec.\n"
     ]
    },
    {
     "name": "stderr",
     "output_type": "stream",
     "text": [
      "\r",
      " 79%|███████▉  | 476/600 [43:12<16:04,  7.78s/it]"
     ]
    },
    {
     "name": "stdout",
     "output_type": "stream",
     "text": [
      "\tspread_disease()\t\t1.39 sec.\n",
      "\tscreen_for_disease()\t\t0.00 sec.\n",
      "\ttrack_stats()\t\t\t0.00 sec.\n",
      "[epoch=476]\tinfected=132\ttransmitters(visible+invisible)=212\n",
      "\n",
      "\n",
      "radiuses 4 5\n",
      "resp.sum 50109\n",
      "resp.sum 50712\n",
      "\tdecrement_timers()\t\t0.00 sec.\n",
      "\twalk_iter()\t\t\t6.19 sec.\n",
      "\tmake_disease_matrices()\t\t0.01 sec.\n"
     ]
    },
    {
     "name": "stderr",
     "output_type": "stream",
     "text": [
      "\r",
      " 80%|███████▉  | 477/600 [43:20<15:53,  7.75s/it]"
     ]
    },
    {
     "name": "stdout",
     "output_type": "stream",
     "text": [
      "\tspread_disease()\t\t1.47 sec.\n",
      "\tscreen_for_disease()\t\t0.00 sec.\n",
      "\ttrack_stats()\t\t\t0.00 sec.\n",
      "[epoch=477]\tinfected=134\ttransmitters(visible+invisible)=218\n",
      "\n",
      "\n",
      "radiuses 4 5\n",
      "resp.sum 49868\n",
      "resp.sum 50712\n",
      "\tdecrement_timers()\t\t0.00 sec.\n",
      "\twalk_iter()\t\t\t6.26 sec.\n",
      "\tmake_disease_matrices()\t\t0.01 sec.\n"
     ]
    },
    {
     "name": "stderr",
     "output_type": "stream",
     "text": [
      "\r",
      " 80%|███████▉  | 478/600 [43:28<15:44,  7.74s/it]"
     ]
    },
    {
     "name": "stdout",
     "output_type": "stream",
     "text": [
      "\tspread_disease()\t\t1.42 sec.\n",
      "\tscreen_for_disease()\t\t0.00 sec.\n",
      "\ttrack_stats()\t\t\t0.00 sec.\n",
      "[epoch=478]\tinfected=139\ttransmitters(visible+invisible)=217\n",
      "\n",
      "\n",
      "radiuses 4 5\n",
      "resp.sum 49622\n",
      "resp.sum 50712\n",
      "\tdecrement_timers()\t\t0.00 sec.\n",
      "\twalk_iter()\t\t\t6.21 sec.\n",
      "\tmake_disease_matrices()\t\t0.01 sec.\n"
     ]
    },
    {
     "name": "stderr",
     "output_type": "stream",
     "text": [
      "\r",
      " 80%|███████▉  | 479/600 [43:35<15:35,  7.73s/it]"
     ]
    },
    {
     "name": "stdout",
     "output_type": "stream",
     "text": [
      "\tspread_disease()\t\t1.47 sec.\n",
      "\tscreen_for_disease()\t\t0.00 sec.\n",
      "\ttrack_stats()\t\t\t0.00 sec.\n",
      "[epoch=479]\tinfected=133\ttransmitters(visible+invisible)=224\n",
      "\n",
      "\n",
      "radiuses 4 5\n",
      "resp.sum 50576\n",
      "resp.sum 50712\n",
      "\tdecrement_timers()\t\t0.00 sec.\n",
      "\twalk_iter()\t\t\t6.23 sec.\n",
      "\tmake_disease_matrices()\t\t0.01 sec.\n"
     ]
    },
    {
     "name": "stderr",
     "output_type": "stream",
     "text": [
      "\r",
      " 80%|████████  | 480/600 [43:43<15:29,  7.75s/it]"
     ]
    },
    {
     "name": "stdout",
     "output_type": "stream",
     "text": [
      "\tspread_disease()\t\t1.55 sec.\n",
      "\tscreen_for_disease()\t\t0.00 sec.\n",
      "\ttrack_stats()\t\t\t0.00 sec.\n",
      "[epoch=480]\tinfected=132\ttransmitters(visible+invisible)=223\n",
      "\n",
      "\n",
      "radiuses 4 5\n",
      "resp.sum 50576\n",
      "resp.sum 50712\n",
      "\tdecrement_timers()\t\t0.00 sec.\n",
      "\twalk_iter()\t\t\t6.15 sec.\n",
      "\tmake_disease_matrices()\t\t0.01 sec.\n"
     ]
    },
    {
     "name": "stderr",
     "output_type": "stream",
     "text": [
      "\r",
      " 80%|████████  | 481/600 [43:51<15:16,  7.70s/it]"
     ]
    },
    {
     "name": "stdout",
     "output_type": "stream",
     "text": [
      "\tspread_disease()\t\t1.42 sec.\n",
      "\tscreen_for_disease()\t\t0.00 sec.\n",
      "\ttrack_stats()\t\t\t0.00 sec.\n",
      "[epoch=481]\tinfected=135\ttransmitters(visible+invisible)=225\n",
      "\n",
      "\n",
      "radiuses 4 5\n",
      "resp.sum 50576\n",
      "resp.sum 50712\n",
      "\tdecrement_timers()\t\t0.00 sec.\n",
      "\twalk_iter()\t\t\t6.27 sec.\n",
      "\tmake_disease_matrices()\t\t0.01 sec.\n"
     ]
    },
    {
     "name": "stderr",
     "output_type": "stream",
     "text": [
      "\r",
      " 80%|████████  | 482/600 [43:59<15:12,  7.73s/it]"
     ]
    },
    {
     "name": "stdout",
     "output_type": "stream",
     "text": [
      "\tspread_disease()\t\t1.51 sec.\n",
      "\tscreen_for_disease()\t\t0.00 sec.\n",
      "\ttrack_stats()\t\t\t0.00 sec.\n",
      "[epoch=482]\tinfected=133\ttransmitters(visible+invisible)=229\n",
      "\n",
      "\n",
      "radiuses 4 5\n",
      "resp.sum 51456\n",
      "resp.sum 50712\n",
      "\tdecrement_timers()\t\t0.00 sec.\n",
      "\twalk_iter()\t\t\t6.21 sec.\n",
      "\tmake_disease_matrices()\t\t0.01 sec.\n"
     ]
    },
    {
     "name": "stderr",
     "output_type": "stream",
     "text": [
      "\r",
      " 80%|████████  | 483/600 [44:06<15:05,  7.74s/it]"
     ]
    },
    {
     "name": "stdout",
     "output_type": "stream",
     "text": [
      "\tspread_disease()\t\t1.53 sec.\n",
      "\tscreen_for_disease()\t\t0.00 sec.\n",
      "\ttrack_stats()\t\t\t0.00 sec.\n",
      "[epoch=483]\tinfected=130\ttransmitters(visible+invisible)=231\n",
      "\n",
      "\n",
      "radiuses 4 5\n",
      "resp.sum 51456\n",
      "resp.sum 50712\n",
      "\tdecrement_timers()\t\t0.00 sec.\n",
      "\twalk_iter()\t\t\t6.20 sec.\n",
      "\tmake_disease_matrices()\t\t0.01 sec.\n"
     ]
    },
    {
     "name": "stderr",
     "output_type": "stream",
     "text": [
      "\r",
      " 81%|████████  | 484/600 [44:14<14:56,  7.73s/it]"
     ]
    },
    {
     "name": "stdout",
     "output_type": "stream",
     "text": [
      "\tspread_disease()\t\t1.49 sec.\n",
      "\tscreen_for_disease()\t\t0.00 sec.\n",
      "\ttrack_stats()\t\t\t0.00 sec.\n",
      "[epoch=484]\tinfected=134\ttransmitters(visible+invisible)=229\n",
      "\n",
      "\n",
      "radiuses 4 5\n",
      "resp.sum 51242\n",
      "resp.sum 50712\n",
      "\tdecrement_timers()\t\t0.00 sec.\n",
      "\twalk_iter()\t\t\t6.26 sec.\n",
      "\tmake_disease_matrices()\t\t0.01 sec.\n"
     ]
    },
    {
     "name": "stderr",
     "output_type": "stream",
     "text": [
      "\r",
      " 81%|████████  | 485/600 [44:22<14:50,  7.75s/it]"
     ]
    },
    {
     "name": "stdout",
     "output_type": "stream",
     "text": [
      "\tspread_disease()\t\t1.50 sec.\n",
      "\tscreen_for_disease()\t\t0.00 sec.\n",
      "\ttrack_stats()\t\t\t0.00 sec.\n",
      "[epoch=485]\tinfected=140\ttransmitters(visible+invisible)=233\n",
      "\n",
      "\n",
      "radiuses 4 5\n",
      "resp.sum 51665\n",
      "resp.sum 50712\n",
      "\tdecrement_timers()\t\t0.00 sec.\n",
      "\twalk_iter()\t\t\t6.23 sec.\n",
      "\tmake_disease_matrices()\t\t0.01 sec.\n"
     ]
    },
    {
     "name": "stderr",
     "output_type": "stream",
     "text": [
      "\r",
      " 81%|████████  | 486/600 [44:30<14:44,  7.76s/it]"
     ]
    },
    {
     "name": "stdout",
     "output_type": "stream",
     "text": [
      "\tspread_disease()\t\t1.53 sec.\n",
      "\tscreen_for_disease()\t\t0.01 sec.\n",
      "\ttrack_stats()\t\t\t0.00 sec.\n",
      "[epoch=486]\tinfected=145\ttransmitters(visible+invisible)=237\n",
      "\n",
      "\n",
      "radiuses 4 5\n",
      "resp.sum 51870\n",
      "resp.sum 50712\n",
      "\tdecrement_timers()\t\t0.01 sec.\n",
      "\twalk_iter()\t\t\t6.19 sec.\n",
      "\tmake_disease_matrices()\t\t0.01 sec.\n"
     ]
    },
    {
     "name": "stderr",
     "output_type": "stream",
     "text": [
      "\r",
      " 81%|████████  | 487/600 [44:38<14:38,  7.77s/it]"
     ]
    },
    {
     "name": "stdout",
     "output_type": "stream",
     "text": [
      "\tspread_disease()\t\t1.58 sec.\n",
      "\tscreen_for_disease()\t\t0.00 sec.\n",
      "\ttrack_stats()\t\t\t0.00 sec.\n",
      "[epoch=487]\tinfected=140\ttransmitters(visible+invisible)=243\n",
      "\n",
      "\n",
      "radiuses 4 5\n",
      "resp.sum 52071\n",
      "resp.sum 50712\n",
      "\tdecrement_timers()\t\t0.00 sec.\n",
      "\twalk_iter()\t\t\t6.32 sec.\n",
      "\tmake_disease_matrices()\t\t0.01 sec.\n"
     ]
    },
    {
     "name": "stderr",
     "output_type": "stream",
     "text": [
      "\r",
      " 81%|████████▏ | 488/600 [44:45<14:35,  7.82s/it]"
     ]
    },
    {
     "name": "stdout",
     "output_type": "stream",
     "text": [
      "\tspread_disease()\t\t1.59 sec.\n",
      "\tscreen_for_disease()\t\t0.00 sec.\n",
      "\ttrack_stats()\t\t\t0.00 sec.\n",
      "[epoch=488]\tinfected=143\ttransmitters(visible+invisible)=241\n",
      "\n",
      "\n",
      "radiuses 4 5\n",
      "resp.sum 51665\n",
      "resp.sum 50712\n",
      "\tdecrement_timers()\t\t0.00 sec.\n",
      "\twalk_iter()\t\t\t6.17 sec.\n",
      "\tmake_disease_matrices()\t\t0.01 sec.\n"
     ]
    },
    {
     "name": "stderr",
     "output_type": "stream",
     "text": [
      "\r",
      " 82%|████████▏ | 489/600 [44:53<14:21,  7.76s/it]"
     ]
    },
    {
     "name": "stdout",
     "output_type": "stream",
     "text": [
      "\tspread_disease()\t\t1.45 sec.\n",
      "\tscreen_for_disease()\t\t0.00 sec.\n",
      "\ttrack_stats()\t\t\t0.00 sec.\n",
      "[epoch=489]\tinfected=143\ttransmitters(visible+invisible)=250\n",
      "\n",
      "\n",
      "radiuses 4 5\n",
      "resp.sum 51870\n",
      "resp.sum 50712\n",
      "\tdecrement_timers()\t\t0.00 sec.\n",
      "\twalk_iter()\t\t\t6.27 sec.\n",
      "\tmake_disease_matrices()\t\t0.01 sec.\n"
     ]
    },
    {
     "name": "stderr",
     "output_type": "stream",
     "text": [
      "\r",
      " 82%|████████▏ | 490/600 [45:01<14:16,  7.79s/it]"
     ]
    },
    {
     "name": "stdout",
     "output_type": "stream",
     "text": [
      "\tspread_disease()\t\t1.54 sec.\n",
      "\tscreen_for_disease()\t\t0.00 sec.\n",
      "\ttrack_stats()\t\t\t0.00 sec.\n",
      "[epoch=490]\tinfected=137\ttransmitters(visible+invisible)=258\n",
      "\n",
      "\n",
      "radiuses 4 5\n",
      "resp.sum 53198\n",
      "resp.sum 50712\n",
      "\tdecrement_timers()\t\t0.00 sec.\n",
      "\twalk_iter()\t\t\t6.14 sec.\n",
      "\tmake_disease_matrices()\t\t0.01 sec.\n"
     ]
    },
    {
     "name": "stderr",
     "output_type": "stream",
     "text": [
      "\r",
      " 82%|████████▏ | 491/600 [45:09<14:05,  7.76s/it]"
     ]
    },
    {
     "name": "stdout",
     "output_type": "stream",
     "text": [
      "\tspread_disease()\t\t1.53 sec.\n",
      "\tscreen_for_disease()\t\t0.00 sec.\n",
      "\ttrack_stats()\t\t\t0.00 sec.\n",
      "[epoch=491]\tinfected=146\ttransmitters(visible+invisible)=254\n",
      "\n",
      "\n",
      "radiuses 4 5\n",
      "resp.sum 53019\n",
      "resp.sum 50712\n",
      "\tdecrement_timers()\t\t0.01 sec.\n",
      "\twalk_iter()\t\t\t6.14 sec.\n",
      "\tmake_disease_matrices()\t\t0.01 sec.\n"
     ]
    },
    {
     "name": "stderr",
     "output_type": "stream",
     "text": [
      "\r",
      " 82%|████████▏ | 492/600 [45:16<13:58,  7.76s/it]"
     ]
    },
    {
     "name": "stdout",
     "output_type": "stream",
     "text": [
      "\tspread_disease()\t\t1.59 sec.\n",
      "\tscreen_for_disease()\t\t0.00 sec.\n",
      "\ttrack_stats()\t\t\t0.00 sec.\n",
      "[epoch=492]\tinfected=149\ttransmitters(visible+invisible)=251\n",
      "\n",
      "\n",
      "radiuses 4 5\n",
      "resp.sum 52071\n",
      "resp.sum 50712\n",
      "\tdecrement_timers()\t\t0.00 sec.\n",
      "\twalk_iter()\t\t\t6.16 sec.\n",
      "\tmake_disease_matrices()\t\t0.01 sec.\n"
     ]
    },
    {
     "name": "stderr",
     "output_type": "stream",
     "text": [
      "\r",
      " 82%|████████▏ | 493/600 [45:24<13:45,  7.72s/it]"
     ]
    },
    {
     "name": "stdout",
     "output_type": "stream",
     "text": [
      "\tspread_disease()\t\t1.44 sec.\n",
      "\tscreen_for_disease()\t\t0.00 sec.\n",
      "\ttrack_stats()\t\t\t0.00 sec.\n",
      "[epoch=493]\tinfected=147\ttransmitters(visible+invisible)=253\n",
      "\n",
      "\n",
      "radiuses 4 5\n",
      "resp.sum 52268\n",
      "resp.sum 50712\n",
      "\tdecrement_timers()\t\t0.00 sec.\n",
      "\twalk_iter()\t\t\t6.20 sec.\n",
      "\tmake_disease_matrices()\t\t0.01 sec.\n"
     ]
    },
    {
     "name": "stderr",
     "output_type": "stream",
     "text": [
      "\r",
      " 82%|████████▏ | 494/600 [45:32<13:37,  7.71s/it]"
     ]
    },
    {
     "name": "stdout",
     "output_type": "stream",
     "text": [
      "\tspread_disease()\t\t1.46 sec.\n",
      "\tscreen_for_disease()\t\t0.00 sec.\n",
      "\ttrack_stats()\t\t\t0.00 sec.\n",
      "[epoch=494]\tinfected=151\ttransmitters(visible+invisible)=255\n",
      "\n",
      "\n",
      "radiuses 4 5\n",
      "resp.sum 52071\n",
      "resp.sum 50712\n",
      "\tdecrement_timers()\t\t0.00 sec.\n",
      "\twalk_iter()\t\t\t6.21 sec.\n",
      "\tmake_disease_matrices()\t\t0.01 sec.\n"
     ]
    },
    {
     "name": "stderr",
     "output_type": "stream",
     "text": [
      "\r",
      " 82%|████████▎ | 495/600 [45:39<13:27,  7.69s/it]"
     ]
    },
    {
     "name": "stdout",
     "output_type": "stream",
     "text": [
      "\tspread_disease()\t\t1.42 sec.\n",
      "\tscreen_for_disease()\t\t0.00 sec.\n",
      "\ttrack_stats()\t\t\t0.00 sec.\n",
      "[epoch=495]\tinfected=150\ttransmitters(visible+invisible)=254\n",
      "\n",
      "\n",
      "radiuses 4 5\n",
      "resp.sum 51870\n",
      "resp.sum 50712\n",
      "\tdecrement_timers()\t\t0.00 sec.\n",
      "\twalk_iter()\t\t\t6.38 sec.\n",
      "\tmake_disease_matrices()\t\t0.01 sec.\n"
     ]
    },
    {
     "name": "stderr",
     "output_type": "stream",
     "text": [
      "\r",
      " 83%|████████▎ | 496/600 [45:47<13:24,  7.73s/it]"
     ]
    },
    {
     "name": "stdout",
     "output_type": "stream",
     "text": [
      "\tspread_disease()\t\t1.42 sec.\n",
      "\tscreen_for_disease()\t\t0.00 sec.\n",
      "\ttrack_stats()\t\t\t0.00 sec.\n",
      "[epoch=496]\tinfected=151\ttransmitters(visible+invisible)=252\n",
      "\n",
      "\n",
      "radiuses 4 5\n",
      "resp.sum 51242\n",
      "resp.sum 50712\n",
      "\tdecrement_timers()\t\t0.00 sec.\n",
      "\twalk_iter()\t\t\t6.27 sec.\n",
      "\tmake_disease_matrices()\t\t0.01 sec.\n"
     ]
    },
    {
     "name": "stderr",
     "output_type": "stream",
     "text": [
      "\r",
      " 83%|████████▎ | 497/600 [45:55<13:20,  7.78s/it]"
     ]
    },
    {
     "name": "stdout",
     "output_type": "stream",
     "text": [
      "\tspread_disease()\t\t1.58 sec.\n",
      "\tscreen_for_disease()\t\t0.00 sec.\n",
      "\ttrack_stats()\t\t\t0.00 sec.\n",
      "[epoch=497]\tinfected=151\ttransmitters(visible+invisible)=252\n",
      "\n",
      "\n",
      "radiuses 4 5\n",
      "resp.sum 51025\n",
      "resp.sum 50712\n",
      "\tdecrement_timers()\t\t0.01 sec.\n",
      "\twalk_iter()\t\t\t6.20 sec.\n",
      "\tmake_disease_matrices()\t\t0.01 sec.\n"
     ]
    },
    {
     "name": "stderr",
     "output_type": "stream",
     "text": [
      "\r",
      " 83%|████████▎ | 498/600 [46:03<13:13,  7.78s/it]"
     ]
    },
    {
     "name": "stdout",
     "output_type": "stream",
     "text": [
      "\tspread_disease()\t\t1.56 sec.\n",
      "\tscreen_for_disease()\t\t0.00 sec.\n",
      "\ttrack_stats()\t\t\t0.00 sec.\n",
      "[epoch=498]\tinfected=148\ttransmitters(visible+invisible)=255\n",
      "\n",
      "\n",
      "radiuses 4 5\n",
      "resp.sum 51242\n",
      "resp.sum 50712\n",
      "\tdecrement_timers()\t\t0.00 sec.\n",
      "\twalk_iter()\t\t\t6.22 sec.\n",
      "\tmake_disease_matrices()\t\t0.01 sec.\n"
     ]
    },
    {
     "name": "stderr",
     "output_type": "stream",
     "text": [
      "\r",
      " 83%|████████▎ | 499/600 [46:10<13:01,  7.74s/it]"
     ]
    },
    {
     "name": "stdout",
     "output_type": "stream",
     "text": [
      "\tspread_disease()\t\t1.41 sec.\n",
      "\tscreen_for_disease()\t\t0.00 sec.\n",
      "\ttrack_stats()\t\t\t0.00 sec.\n",
      "[epoch=499]\tinfected=156\ttransmitters(visible+invisible)=256\n",
      "\n",
      "\n",
      "radiuses 4 5\n",
      "resp.sum 51456\n",
      "resp.sum 50712\n",
      "\tdecrement_timers()\t\t0.00 sec.\n",
      "\twalk_iter()\t\t\t6.30 sec.\n",
      "\tmake_disease_matrices()\t\t0.01 sec.\n"
     ]
    },
    {
     "name": "stderr",
     "output_type": "stream",
     "text": [
      "\r",
      " 83%|████████▎ | 500/600 [46:18<12:58,  7.79s/it]"
     ]
    },
    {
     "name": "stdout",
     "output_type": "stream",
     "text": [
      "\tspread_disease()\t\t1.57 sec.\n",
      "\tscreen_for_disease()\t\t0.00 sec.\n",
      "\ttrack_stats()\t\t\t0.00 sec.\n",
      "[epoch=500]\tinfected=154\ttransmitters(visible+invisible)=265\n",
      "\n",
      "\n",
      "radiuses 4 5\n",
      "resp.sum 52651\n",
      "resp.sum 50712\n",
      "\tdecrement_timers()\t\t0.00 sec.\n",
      "\twalk_iter()\t\t\t6.18 sec.\n",
      "\tmake_disease_matrices()\t\t0.01 sec.\n"
     ]
    },
    {
     "name": "stderr",
     "output_type": "stream",
     "text": [
      "\r",
      " 84%|████████▎ | 501/600 [46:26<12:48,  7.76s/it]"
     ]
    },
    {
     "name": "stdout",
     "output_type": "stream",
     "text": [
      "\tspread_disease()\t\t1.49 sec.\n",
      "\tscreen_for_disease()\t\t0.00 sec.\n",
      "\ttrack_stats()\t\t\t0.00 sec.\n",
      "[epoch=501]\tinfected=154\ttransmitters(visible+invisible)=271\n",
      "\n",
      "\n",
      "radiuses 4 5\n",
      "resp.sum 52651\n",
      "resp.sum 50712\n",
      "\tdecrement_timers()\t\t0.00 sec.\n",
      "\twalk_iter()\t\t\t6.21 sec.\n",
      "\tmake_disease_matrices()\t\t0.01 sec.\n"
     ]
    },
    {
     "name": "stderr",
     "output_type": "stream",
     "text": [
      "\r",
      " 84%|████████▎ | 502/600 [46:34<12:37,  7.73s/it]"
     ]
    },
    {
     "name": "stdout",
     "output_type": "stream",
     "text": [
      "\tspread_disease()\t\t1.43 sec.\n",
      "\tscreen_for_disease()\t\t0.00 sec.\n",
      "\ttrack_stats()\t\t\t0.00 sec.\n",
      "[epoch=502]\tinfected=153\ttransmitters(visible+invisible)=275\n",
      "\n",
      "\n",
      "radiuses 4 5\n",
      "resp.sum 53019\n",
      "resp.sum 50712\n",
      "\tdecrement_timers()\t\t0.00 sec.\n",
      "\twalk_iter()\t\t\t6.16 sec.\n",
      "\tmake_disease_matrices()\t\t0.01 sec.\n"
     ]
    },
    {
     "name": "stderr",
     "output_type": "stream",
     "text": [
      "\r",
      " 84%|████████▍ | 503/600 [46:42<12:31,  7.75s/it]"
     ]
    },
    {
     "name": "stdout",
     "output_type": "stream",
     "text": [
      "\tspread_disease()\t\t1.61 sec.\n",
      "\tscreen_for_disease()\t\t0.00 sec.\n",
      "\ttrack_stats()\t\t\t0.00 sec.\n",
      "[epoch=503]\tinfected=153\ttransmitters(visible+invisible)=272\n",
      "\n",
      "\n",
      "radiuses 4 5\n",
      "resp.sum 52461\n",
      "resp.sum 50712\n",
      "\tdecrement_timers()\t\t0.01 sec.\n",
      "\twalk_iter()\t\t\t6.19 sec.\n",
      "\tmake_disease_matrices()\t\t0.01 sec.\n"
     ]
    },
    {
     "name": "stderr",
     "output_type": "stream",
     "text": [
      "\r",
      " 84%|████████▍ | 504/600 [46:49<12:21,  7.72s/it]"
     ]
    },
    {
     "name": "stdout",
     "output_type": "stream",
     "text": [
      "\tspread_disease()\t\t1.44 sec.\n",
      "\tscreen_for_disease()\t\t0.00 sec.\n",
      "\ttrack_stats()\t\t\t0.00 sec.\n",
      "[epoch=504]\tinfected=157\ttransmitters(visible+invisible)=270\n",
      "\n",
      "\n",
      "radiuses 4 5\n",
      "resp.sum 52268\n",
      "resp.sum 50712\n",
      "\tdecrement_timers()\t\t0.00 sec.\n",
      "\twalk_iter()\t\t\t6.26 sec.\n",
      "\tmake_disease_matrices()\t\t0.01 sec.\n"
     ]
    },
    {
     "name": "stderr",
     "output_type": "stream",
     "text": [
      "\r",
      " 84%|████████▍ | 505/600 [46:57<12:16,  7.76s/it]"
     ]
    },
    {
     "name": "stdout",
     "output_type": "stream",
     "text": [
      "\tspread_disease()\t\t1.56 sec.\n",
      "\tscreen_for_disease()\t\t0.00 sec.\n",
      "\ttrack_stats()\t\t\t0.00 sec.\n",
      "[epoch=505]\tinfected=156\ttransmitters(visible+invisible)=274\n",
      "\n",
      "\n",
      "radiuses 4 5\n",
      "resp.sum 53374\n",
      "resp.sum 50712\n",
      "\tdecrement_timers()\t\t0.01 sec.\n",
      "\twalk_iter()\t\t\t6.13 sec.\n",
      "\tmake_disease_matrices()\t\t0.01 sec.\n"
     ]
    },
    {
     "name": "stderr",
     "output_type": "stream",
     "text": [
      "\r",
      " 84%|████████▍ | 506/600 [47:05<12:07,  7.73s/it]"
     ]
    },
    {
     "name": "stdout",
     "output_type": "stream",
     "text": [
      "\tspread_disease()\t\t1.52 sec.\n",
      "\tscreen_for_disease()\t\t0.00 sec.\n",
      "\ttrack_stats()\t\t\t0.00 sec.\n",
      "[epoch=506]\tinfected=163\ttransmitters(visible+invisible)=278\n",
      "\n",
      "\n",
      "radiuses 4 5\n",
      "resp.sum 53881\n",
      "resp.sum 50712\n",
      "\tdecrement_timers()\t\t0.00 sec.\n",
      "\twalk_iter()\t\t\t6.13 sec.\n",
      "\tmake_disease_matrices()\t\t0.01 sec.\n"
     ]
    },
    {
     "name": "stderr",
     "output_type": "stream",
     "text": [
      "\r",
      " 84%|████████▍ | 507/600 [47:12<11:59,  7.74s/it]"
     ]
    },
    {
     "name": "stdout",
     "output_type": "stream",
     "text": [
      "\tspread_disease()\t\t1.61 sec.\n",
      "\tscreen_for_disease()\t\t0.00 sec.\n",
      "\ttrack_stats()\t\t\t0.00 sec.\n",
      "[epoch=507]\tinfected=162\ttransmitters(visible+invisible)=282\n",
      "\n",
      "\n",
      "radiuses 4 5\n",
      "resp.sum 54044\n",
      "resp.sum 50712\n",
      "\tdecrement_timers()\t\t0.00 sec.\n",
      "\twalk_iter()\t\t\t6.20 sec.\n",
      "\tmake_disease_matrices()\t\t0.01 sec.\n"
     ]
    },
    {
     "name": "stderr",
     "output_type": "stream",
     "text": [
      "\r",
      " 85%|████████▍ | 508/600 [47:20<11:49,  7.72s/it]"
     ]
    },
    {
     "name": "stdout",
     "output_type": "stream",
     "text": [
      "\tspread_disease()\t\t1.44 sec.\n",
      "\tscreen_for_disease()\t\t0.00 sec.\n",
      "\ttrack_stats()\t\t\t0.00 sec.\n",
      "[epoch=508]\tinfected=156\ttransmitters(visible+invisible)=285\n",
      "\n",
      "\n",
      "radiuses 4 5\n",
      "resp.sum 53715\n",
      "resp.sum 50712\n",
      "\tdecrement_timers()\t\t0.00 sec.\n",
      "\twalk_iter()\t\t\t6.25 sec.\n",
      "\tmake_disease_matrices()\t\t0.01 sec.\n"
     ]
    },
    {
     "name": "stderr",
     "output_type": "stream",
     "text": [
      "\r",
      " 85%|████████▍ | 509/600 [47:28<11:41,  7.70s/it]"
     ]
    },
    {
     "name": "stdout",
     "output_type": "stream",
     "text": [
      "\tspread_disease()\t\t1.40 sec.\n",
      "\tscreen_for_disease()\t\t0.00 sec.\n",
      "\ttrack_stats()\t\t\t0.00 sec.\n",
      "[epoch=509]\tinfected=161\ttransmitters(visible+invisible)=286\n",
      "\n",
      "\n",
      "radiuses 4 5\n",
      "resp.sum 53715\n",
      "resp.sum 50712\n",
      "\tdecrement_timers()\t\t0.00 sec.\n",
      "\twalk_iter()\t\t\t6.24 sec.\n",
      "\tmake_disease_matrices()\t\t0.01 sec.\n"
     ]
    },
    {
     "name": "stderr",
     "output_type": "stream",
     "text": [
      "\r",
      " 85%|████████▌ | 510/600 [47:35<11:32,  7.70s/it]"
     ]
    },
    {
     "name": "stdout",
     "output_type": "stream",
     "text": [
      "\tspread_disease()\t\t1.42 sec.\n",
      "\tscreen_for_disease()\t\t0.00 sec.\n",
      "\ttrack_stats()\t\t\t0.00 sec.\n",
      "[epoch=510]\tinfected=164\ttransmitters(visible+invisible)=285\n",
      "\n",
      "\n",
      "radiuses 4 5\n",
      "resp.sum 53881\n",
      "resp.sum 50712\n",
      "\tdecrement_timers()\t\t0.00 sec.\n",
      "\twalk_iter()\t\t\t6.19 sec.\n",
      "\tmake_disease_matrices()\t\t0.01 sec.\n"
     ]
    },
    {
     "name": "stderr",
     "output_type": "stream",
     "text": [
      "\r",
      " 85%|████████▌ | 511/600 [47:43<11:24,  7.69s/it]"
     ]
    },
    {
     "name": "stdout",
     "output_type": "stream",
     "text": [
      "\tspread_disease()\t\t1.45 sec.\n",
      "\tscreen_for_disease()\t\t0.00 sec.\n",
      "\ttrack_stats()\t\t\t0.00 sec.\n",
      "[epoch=511]\tinfected=167\ttransmitters(visible+invisible)=290\n",
      "\n",
      "\n",
      "radiuses 4 5\n",
      "resp.sum 53546\n",
      "resp.sum 50712\n",
      "\tdecrement_timers()\t\t0.00 sec.\n",
      "\twalk_iter()\t\t\t6.25 sec.\n",
      "\tmake_disease_matrices()\t\t0.01 sec.\n"
     ]
    },
    {
     "name": "stderr",
     "output_type": "stream",
     "text": [
      "\r",
      " 85%|████████▌ | 512/600 [47:51<11:19,  7.72s/it]"
     ]
    },
    {
     "name": "stdout",
     "output_type": "stream",
     "text": [
      "\tspread_disease()\t\t1.52 sec.\n",
      "\tscreen_for_disease()\t\t0.00 sec.\n",
      "\ttrack_stats()\t\t\t0.00 sec.\n",
      "[epoch=512]\tinfected=175\ttransmitters(visible+invisible)=290\n",
      "\n",
      "\n",
      "radiuses 4 5\n",
      "resp.sum 53546\n",
      "resp.sum 50712\n",
      "\tdecrement_timers()\t\t0.00 sec.\n",
      "\twalk_iter()\t\t\t6.11 sec.\n",
      "\tmake_disease_matrices()\t\t0.01 sec.\n"
     ]
    },
    {
     "name": "stderr",
     "output_type": "stream",
     "text": [
      "\r",
      " 86%|████████▌ | 513/600 [47:59<11:11,  7.72s/it]"
     ]
    },
    {
     "name": "stdout",
     "output_type": "stream",
     "text": [
      "\tspread_disease()\t\t1.56 sec.\n",
      "\tscreen_for_disease()\t\t0.00 sec.\n",
      "\ttrack_stats()\t\t\t0.00 sec.\n",
      "[epoch=513]\tinfected=171\ttransmitters(visible+invisible)=296\n",
      "\n",
      "\n",
      "radiuses 4 5\n",
      "resp.sum 53715\n",
      "resp.sum 50712\n",
      "\tdecrement_timers()\t\t0.00 sec.\n",
      "\twalk_iter()\t\t\t6.18 sec.\n",
      "\tmake_disease_matrices()\t\t0.01 sec.\n"
     ]
    },
    {
     "name": "stderr",
     "output_type": "stream",
     "text": [
      "\r",
      " 86%|████████▌ | 514/600 [48:06<11:02,  7.70s/it]"
     ]
    },
    {
     "name": "stdout",
     "output_type": "stream",
     "text": [
      "\tspread_disease()\t\t1.47 sec.\n",
      "\tscreen_for_disease()\t\t0.00 sec.\n",
      "\ttrack_stats()\t\t\t0.00 sec.\n",
      "[epoch=514]\tinfected=172\ttransmitters(visible+invisible)=301\n",
      "\n",
      "\n",
      "radiuses 4 5\n",
      "resp.sum 54813\n",
      "resp.sum 50712\n",
      "\tdecrement_timers()\t\t0.00 sec.\n",
      "\twalk_iter()\t\t\t6.20 sec.\n",
      "\tmake_disease_matrices()\t\t0.01 sec.\n"
     ]
    },
    {
     "name": "stderr",
     "output_type": "stream",
     "text": [
      "\r",
      " 86%|████████▌ | 515/600 [48:14<10:54,  7.70s/it]"
     ]
    },
    {
     "name": "stdout",
     "output_type": "stream",
     "text": [
      "\tspread_disease()\t\t1.46 sec.\n",
      "\tscreen_for_disease()\t\t0.00 sec.\n",
      "\ttrack_stats()\t\t\t0.00 sec.\n",
      "[epoch=515]\tinfected=171\ttransmitters(visible+invisible)=306\n",
      "\n",
      "\n",
      "radiuses 4 5\n",
      "resp.sum 54959\n",
      "resp.sum 50712\n",
      "\tdecrement_timers()\t\t0.00 sec.\n",
      "\twalk_iter()\t\t\t6.15 sec.\n",
      "\tmake_disease_matrices()\t\t0.01 sec.\n"
     ]
    },
    {
     "name": "stderr",
     "output_type": "stream",
     "text": [
      "\r",
      " 86%|████████▌ | 516/600 [48:22<10:47,  7.71s/it]"
     ]
    },
    {
     "name": "stdout",
     "output_type": "stream",
     "text": [
      "\tspread_disease()\t\t1.55 sec.\n",
      "\tscreen_for_disease()\t\t0.00 sec.\n",
      "\ttrack_stats()\t\t\t0.00 sec.\n",
      "[epoch=516]\tinfected=176\ttransmitters(visible+invisible)=315\n",
      "\n",
      "\n",
      "radiuses 4 5\n",
      "resp.sum 55778\n",
      "resp.sum 50712\n",
      "\tdecrement_timers()\t\t0.01 sec.\n",
      "\twalk_iter()\t\t\t6.08 sec.\n",
      "\tmake_disease_matrices()\t\t0.01 sec.\n"
     ]
    },
    {
     "name": "stderr",
     "output_type": "stream",
     "text": [
      "\r",
      " 86%|████████▌ | 517/600 [48:29<10:37,  7.68s/it]"
     ]
    },
    {
     "name": "stdout",
     "output_type": "stream",
     "text": [
      "\tspread_disease()\t\t1.51 sec.\n",
      "\tscreen_for_disease()\t\t0.00 sec.\n",
      "\ttrack_stats()\t\t\t0.00 sec.\n",
      "[epoch=517]\tinfected=178\ttransmitters(visible+invisible)=315\n",
      "\n",
      "\n",
      "radiuses 4 5\n",
      "resp.sum 55648\n",
      "resp.sum 50712\n",
      "\tdecrement_timers()\t\t0.00 sec.\n",
      "\twalk_iter()\t\t\t6.17 sec.\n",
      "\tmake_disease_matrices()\t\t0.01 sec.\n"
     ]
    },
    {
     "name": "stderr",
     "output_type": "stream",
     "text": [
      "\r",
      " 86%|████████▋ | 518/600 [48:37<10:30,  7.69s/it]"
     ]
    },
    {
     "name": "stdout",
     "output_type": "stream",
     "text": [
      "\tspread_disease()\t\t1.52 sec.\n",
      "\tscreen_for_disease()\t\t0.00 sec.\n",
      "\ttrack_stats()\t\t\t0.00 sec.\n",
      "[epoch=518]\tinfected=184\ttransmitters(visible+invisible)=317\n",
      "\n",
      "\n",
      "radiuses 4 5\n",
      "resp.sum 55648\n",
      "resp.sum 50712\n",
      "\tdecrement_timers()\t\t0.00 sec.\n",
      "\twalk_iter()\t\t\t6.37 sec.\n",
      "\tmake_disease_matrices()\t\t0.01 sec.\n"
     ]
    },
    {
     "name": "stderr",
     "output_type": "stream",
     "text": [
      "\r",
      " 86%|████████▋ | 519/600 [48:45<10:29,  7.77s/it]"
     ]
    },
    {
     "name": "stdout",
     "output_type": "stream",
     "text": [
      "\tspread_disease()\t\t1.55 sec.\n",
      "\tscreen_for_disease()\t\t0.01 sec.\n",
      "\ttrack_stats()\t\t\t0.00 sec.\n",
      "[epoch=519]\tinfected=194\ttransmitters(visible+invisible)=312\n",
      "\n",
      "\n",
      "radiuses 4 5\n",
      "resp.sum 55102\n",
      "resp.sum 50712\n",
      "\tdecrement_timers()\t\t0.01 sec.\n",
      "\twalk_iter()\t\t\t6.17 sec.\n",
      "\tmake_disease_matrices()\t\t0.01 sec.\n"
     ]
    },
    {
     "name": "stderr",
     "output_type": "stream",
     "text": [
      "\r",
      " 87%|████████▋ | 520/600 [48:53<10:19,  7.75s/it]"
     ]
    },
    {
     "name": "stdout",
     "output_type": "stream",
     "text": [
      "\tspread_disease()\t\t1.49 sec.\n",
      "\tscreen_for_disease()\t\t0.00 sec.\n",
      "\ttrack_stats()\t\t\t0.00 sec.\n",
      "[epoch=520]\tinfected=196\ttransmitters(visible+invisible)=315\n",
      "\n",
      "\n",
      "radiuses 4 5\n",
      "resp.sum 56277\n",
      "resp.sum 50712\n",
      "\tdecrement_timers()\t\t0.00 sec.\n",
      "\twalk_iter()\t\t\t6.25 sec.\n",
      "\tmake_disease_matrices()\t\t0.01 sec.\n"
     ]
    },
    {
     "name": "stderr",
     "output_type": "stream",
     "text": [
      "\r",
      " 87%|████████▋ | 521/600 [49:00<10:12,  7.76s/it]"
     ]
    },
    {
     "name": "stdout",
     "output_type": "stream",
     "text": [
      "\tspread_disease()\t\t1.50 sec.\n",
      "\tscreen_for_disease()\t\t0.00 sec.\n",
      "\ttrack_stats()\t\t\t0.00 sec.\n",
      "[epoch=521]\tinfected=203\ttransmitters(visible+invisible)=308\n",
      "\n",
      "\n",
      "radiuses 4 5\n",
      "resp.sum 55778\n",
      "resp.sum 50712\n",
      "\tdecrement_timers()\t\t0.00 sec.\n",
      "\twalk_iter()\t\t\t6.17 sec.\n",
      "\tmake_disease_matrices()\t\t0.01 sec.\n"
     ]
    },
    {
     "name": "stderr",
     "output_type": "stream",
     "text": [
      "\r",
      " 87%|████████▋ | 522/600 [49:08<10:02,  7.73s/it]"
     ]
    },
    {
     "name": "stdout",
     "output_type": "stream",
     "text": [
      "\tspread_disease()\t\t1.48 sec.\n",
      "\tscreen_for_disease()\t\t0.00 sec.\n",
      "\ttrack_stats()\t\t\t0.00 sec.\n",
      "[epoch=522]\tinfected=198\ttransmitters(visible+invisible)=314\n",
      "\n",
      "\n",
      "radiuses 4 5\n",
      "resp.sum 55906\n",
      "resp.sum 50712\n",
      "\tdecrement_timers()\t\t0.00 sec.\n",
      "\twalk_iter()\t\t\t6.23 sec.\n",
      "\tmake_disease_matrices()\t\t0.01 sec.\n"
     ]
    },
    {
     "name": "stderr",
     "output_type": "stream",
     "text": [
      "\r",
      " 87%|████████▋ | 523/600 [49:16<09:56,  7.74s/it]"
     ]
    },
    {
     "name": "stdout",
     "output_type": "stream",
     "text": [
      "\tspread_disease()\t\t1.52 sec.\n",
      "\tscreen_for_disease()\t\t0.00 sec.\n",
      "\ttrack_stats()\t\t\t0.00 sec.\n",
      "[epoch=523]\tinfected=205\ttransmitters(visible+invisible)=318\n",
      "\n",
      "\n",
      "radiuses 4 5\n",
      "resp.sum 56396\n",
      "resp.sum 50712\n",
      "\tdecrement_timers()\t\t0.00 sec.\n",
      "\twalk_iter()\t\t\t6.15 sec.\n",
      "\tmake_disease_matrices()\t\t0.01 sec.\n"
     ]
    },
    {
     "name": "stderr",
     "output_type": "stream",
     "text": [
      "\r",
      " 87%|████████▋ | 524/600 [49:24<09:49,  7.75s/it]"
     ]
    },
    {
     "name": "stdout",
     "output_type": "stream",
     "text": [
      "\tspread_disease()\t\t1.59 sec.\n",
      "\tscreen_for_disease()\t\t0.01 sec.\n",
      "\ttrack_stats()\t\t\t0.00 sec.\n",
      "[epoch=524]\tinfected=204\ttransmitters(visible+invisible)=321\n",
      "\n",
      "\n",
      "radiuses 4 5\n",
      "resp.sum 56156\n",
      "resp.sum 50712\n",
      "\tdecrement_timers()\t\t0.01 sec.\n",
      "\twalk_iter()\t\t\t6.27 sec.\n",
      "\tmake_disease_matrices()\t\t0.01 sec.\n"
     ]
    },
    {
     "name": "stderr",
     "output_type": "stream",
     "text": [
      "\r",
      " 88%|████████▊ | 525/600 [49:32<09:43,  7.77s/it]"
     ]
    },
    {
     "name": "stdout",
     "output_type": "stream",
     "text": [
      "\tspread_disease()\t\t1.53 sec.\n",
      "\tscreen_for_disease()\t\t0.00 sec.\n",
      "\ttrack_stats()\t\t\t0.00 sec.\n",
      "[epoch=525]\tinfected=206\ttransmitters(visible+invisible)=325\n",
      "\n",
      "\n",
      "radiuses 4 5\n",
      "resp.sum 55648\n",
      "resp.sum 50712\n",
      "\tdecrement_timers()\t\t0.01 sec.\n"
     ]
    },
    {
     "name": "stderr",
     "output_type": "stream",
     "text": [
      "/home/sergey/projects/gasnich/Transport-networks/transportation.py:45: RuntimeWarning: overflow encountered in long_scalars\n",
      "  if (x - j) >= 0 and (y + i) >= 0 and (x - j) < x_size and (y + i) < y_size:\n"
     ]
    },
    {
     "name": "stdout",
     "output_type": "stream",
     "text": [
      "\twalk_iter()\t\t\t6.11 sec.\n",
      "\tmake_disease_matrices()\t\t0.01 sec.\n"
     ]
    },
    {
     "name": "stderr",
     "output_type": "stream",
     "text": [
      "\r",
      " 88%|████████▊ | 526/600 [49:39<09:31,  7.72s/it]"
     ]
    },
    {
     "name": "stdout",
     "output_type": "stream",
     "text": [
      "\tspread_disease()\t\t1.46 sec.\n",
      "\tscreen_for_disease()\t\t0.00 sec.\n",
      "\ttrack_stats()\t\t\t0.00 sec.\n",
      "[epoch=526]\tinfected=205\ttransmitters(visible+invisible)=334\n",
      "\n",
      "\n",
      "radiuses 4 5\n",
      "resp.sum 56277\n",
      "resp.sum 50712\n",
      "\tdecrement_timers()\t\t0.00 sec.\n",
      "\twalk_iter()\t\t\t6.23 sec.\n",
      "\tmake_disease_matrices()\t\t0.01 sec.\n"
     ]
    },
    {
     "name": "stderr",
     "output_type": "stream",
     "text": [
      "\r",
      " 88%|████████▊ | 527/600 [49:47<09:22,  7.71s/it]"
     ]
    },
    {
     "name": "stdout",
     "output_type": "stream",
     "text": [
      "\tspread_disease()\t\t1.44 sec.\n",
      "\tscreen_for_disease()\t\t0.00 sec.\n",
      "\ttrack_stats()\t\t\t0.00 sec.\n",
      "[epoch=527]\tinfected=210\ttransmitters(visible+invisible)=331\n",
      "\n",
      "\n",
      "radiuses 4 5\n",
      "resp.sum 55778\n",
      "resp.sum 50712\n",
      "\tdecrement_timers()\t\t0.00 sec.\n",
      "\twalk_iter()\t\t\t6.14 sec.\n",
      "\tmake_disease_matrices()\t\t0.01 sec.\n"
     ]
    },
    {
     "name": "stderr",
     "output_type": "stream",
     "text": [
      "\r",
      " 88%|████████▊ | 528/600 [49:55<09:15,  7.71s/it]"
     ]
    },
    {
     "name": "stdout",
     "output_type": "stream",
     "text": [
      "\tspread_disease()\t\t1.55 sec.\n",
      "\tscreen_for_disease()\t\t0.00 sec.\n",
      "\ttrack_stats()\t\t\t0.00 sec.\n",
      "[epoch=528]\tinfected=207\ttransmitters(visible+invisible)=331\n",
      "\n",
      "\n",
      "radiuses 4 5\n",
      "resp.sum 55242\n",
      "resp.sum 50712\n",
      "\tdecrement_timers()\t\t0.01 sec.\n",
      "\twalk_iter()\t\t\t6.18 sec.\n",
      "\tmake_disease_matrices()\t\t0.01 sec.\n"
     ]
    },
    {
     "name": "stderr",
     "output_type": "stream",
     "text": [
      "\r",
      " 88%|████████▊ | 529/600 [50:02<09:07,  7.71s/it]"
     ]
    },
    {
     "name": "stdout",
     "output_type": "stream",
     "text": [
      "\tspread_disease()\t\t1.49 sec.\n",
      "\tscreen_for_disease()\t\t0.00 sec.\n",
      "\ttrack_stats()\t\t\t0.00 sec.\n",
      "[epoch=529]\tinfected=212\ttransmitters(visible+invisible)=329\n",
      "\n",
      "\n",
      "radiuses 4 5\n",
      "resp.sum 54203\n",
      "resp.sum 50712\n",
      "\tdecrement_timers()\t\t0.00 sec.\n",
      "\twalk_iter()\t\t\t6.28 sec.\n",
      "\tmake_disease_matrices()\t\t0.01 sec.\n"
     ]
    },
    {
     "name": "stderr",
     "output_type": "stream",
     "text": [
      "\r",
      " 88%|████████▊ | 530/600 [50:10<09:00,  7.72s/it]"
     ]
    },
    {
     "name": "stdout",
     "output_type": "stream",
     "text": [
      "\tspread_disease()\t\t1.44 sec.\n",
      "\tscreen_for_disease()\t\t0.00 sec.\n",
      "\ttrack_stats()\t\t\t0.00 sec.\n",
      "[epoch=530]\tinfected=210\ttransmitters(visible+invisible)=338\n",
      "\n",
      "\n",
      "radiuses 4 5\n",
      "resp.sum 54959\n",
      "resp.sum 50712\n",
      "\tdecrement_timers()\t\t0.00 sec.\n",
      "\twalk_iter()\t\t\t6.23 sec.\n",
      "\tmake_disease_matrices()\t\t0.01 sec.\n"
     ]
    },
    {
     "name": "stderr",
     "output_type": "stream",
     "text": [
      "\r",
      " 88%|████████▊ | 531/600 [50:18<08:54,  7.74s/it]"
     ]
    },
    {
     "name": "stdout",
     "output_type": "stream",
     "text": [
      "\tspread_disease()\t\t1.53 sec.\n",
      "\tscreen_for_disease()\t\t0.00 sec.\n",
      "\ttrack_stats()\t\t\t0.00 sec.\n",
      "[epoch=531]\tinfected=201\ttransmitters(visible+invisible)=339\n",
      "\n",
      "\n",
      "radiuses 4 5\n",
      "resp.sum 54665\n",
      "resp.sum 50712\n",
      "\tdecrement_timers()\t\t0.00 sec.\n",
      "\twalk_iter()\t\t\t6.13 sec.\n",
      "\tmake_disease_matrices()\t\t0.01 sec.\n"
     ]
    },
    {
     "name": "stderr",
     "output_type": "stream",
     "text": [
      "\r",
      " 89%|████████▊ | 532/600 [50:25<08:42,  7.69s/it]"
     ]
    },
    {
     "name": "stdout",
     "output_type": "stream",
     "text": [
      "\tspread_disease()\t\t1.41 sec.\n",
      "\tscreen_for_disease()\t\t0.00 sec.\n",
      "\ttrack_stats()\t\t\t0.00 sec.\n",
      "[epoch=532]\tinfected=201\ttransmitters(visible+invisible)=340\n",
      "\n",
      "\n",
      "radiuses 4 5\n",
      "resp.sum 54959\n",
      "resp.sum 50712\n",
      "\tdecrement_timers()\t\t0.00 sec.\n",
      "\twalk_iter()\t\t\t6.27 sec.\n",
      "\tmake_disease_matrices()\t\t0.01 sec.\n"
     ]
    },
    {
     "name": "stderr",
     "output_type": "stream",
     "text": [
      "\r",
      " 89%|████████▉ | 533/600 [50:33<08:38,  7.73s/it]"
     ]
    },
    {
     "name": "stdout",
     "output_type": "stream",
     "text": [
      "\tspread_disease()\t\t1.54 sec.\n",
      "\tscreen_for_disease()\t\t0.00 sec.\n",
      "\ttrack_stats()\t\t\t0.00 sec.\n",
      "[epoch=533]\tinfected=196\ttransmitters(visible+invisible)=346\n",
      "\n",
      "\n",
      "radiuses 4 5\n",
      "resp.sum 54203\n",
      "resp.sum 50712\n",
      "\tdecrement_timers()\t\t0.00 sec.\n",
      "\twalk_iter()\t\t\t6.12 sec.\n",
      "\tmake_disease_matrices()\t\t0.01 sec.\n"
     ]
    },
    {
     "name": "stderr",
     "output_type": "stream",
     "text": [
      "\r",
      " 89%|████████▉ | 534/600 [50:41<08:29,  7.72s/it]"
     ]
    },
    {
     "name": "stdout",
     "output_type": "stream",
     "text": [
      "\tspread_disease()\t\t1.56 sec.\n",
      "\tscreen_for_disease()\t\t0.00 sec.\n",
      "\ttrack_stats()\t\t\t0.00 sec.\n",
      "[epoch=534]\tinfected=192\ttransmitters(visible+invisible)=352\n",
      "\n",
      "\n",
      "radiuses 4 5\n",
      "resp.sum 54360\n",
      "resp.sum 50712\n",
      "\tdecrement_timers()\t\t0.00 sec.\n",
      "\twalk_iter()\t\t\t6.28 sec.\n",
      "\tmake_disease_matrices()\t\t0.01 sec.\n"
     ]
    },
    {
     "name": "stderr",
     "output_type": "stream",
     "text": [
      "\r",
      " 89%|████████▉ | 535/600 [50:49<08:24,  7.76s/it]"
     ]
    },
    {
     "name": "stdout",
     "output_type": "stream",
     "text": [
      "\tspread_disease()\t\t1.54 sec.\n",
      "\tscreen_for_disease()\t\t0.01 sec.\n",
      "\ttrack_stats()\t\t\t0.00 sec.\n",
      "[epoch=535]\tinfected=188\ttransmitters(visible+invisible)=356\n",
      "\n",
      "\n",
      "radiuses 4 5\n",
      "resp.sum 55102\n",
      "resp.sum 50712\n",
      "\tdecrement_timers()\t\t0.01 sec.\n",
      "\twalk_iter()\t\t\t6.14 sec.\n",
      "\tmake_disease_matrices()\t\t0.01 sec.\n"
     ]
    },
    {
     "name": "stderr",
     "output_type": "stream",
     "text": [
      "\r",
      " 89%|████████▉ | 536/600 [50:56<08:15,  7.73s/it]"
     ]
    },
    {
     "name": "stdout",
     "output_type": "stream",
     "text": [
      "\tspread_disease()\t\t1.51 sec.\n",
      "\tscreen_for_disease()\t\t0.00 sec.\n",
      "\ttrack_stats()\t\t\t0.00 sec.\n",
      "[epoch=536]\tinfected=198\ttransmitters(visible+invisible)=355\n",
      "\n",
      "\n",
      "radiuses 4 5\n",
      "resp.sum 55515\n",
      "resp.sum 50712\n",
      "\tdecrement_timers()\t\t0.00 sec.\n",
      "\twalk_iter()\t\t\t6.23 sec.\n",
      "\tmake_disease_matrices()\t\t0.01 sec.\n"
     ]
    },
    {
     "name": "stderr",
     "output_type": "stream",
     "text": [
      "\r",
      " 90%|████████▉ | 537/600 [51:04<08:06,  7.72s/it]"
     ]
    },
    {
     "name": "stdout",
     "output_type": "stream",
     "text": [
      "\tspread_disease()\t\t1.45 sec.\n",
      "\tscreen_for_disease()\t\t0.00 sec.\n",
      "\ttrack_stats()\t\t\t0.00 sec.\n",
      "[epoch=537]\tinfected=201\ttransmitters(visible+invisible)=359\n",
      "\n",
      "\n",
      "radiuses 4 5\n",
      "resp.sum 55906\n",
      "resp.sum 50712\n",
      "\tdecrement_timers()\t\t0.00 sec.\n",
      "\twalk_iter()\t\t\t6.27 sec.\n",
      "\tmake_disease_matrices()\t\t0.01 sec.\n"
     ]
    },
    {
     "name": "stderr",
     "output_type": "stream",
     "text": [
      "\r",
      " 90%|████████▉ | 538/600 [51:12<08:01,  7.76s/it]"
     ]
    },
    {
     "name": "stdout",
     "output_type": "stream",
     "text": [
      "\tspread_disease()\t\t1.55 sec.\n",
      "\tscreen_for_disease()\t\t0.00 sec.\n",
      "\ttrack_stats()\t\t\t0.00 sec.\n",
      "[epoch=538]\tinfected=195\ttransmitters(visible+invisible)=371\n",
      "\n",
      "\n",
      "radiuses 4 5\n",
      "resp.sum 56513\n",
      "resp.sum 50712\n",
      "\tdecrement_timers()\t\t0.00 sec.\n",
      "\twalk_iter()\t\t\t6.23 sec.\n",
      "\tmake_disease_matrices()\t\t0.01 sec.\n"
     ]
    },
    {
     "name": "stderr",
     "output_type": "stream",
     "text": [
      "\r",
      " 90%|████████▉ | 539/600 [51:20<07:51,  7.73s/it]"
     ]
    },
    {
     "name": "stdout",
     "output_type": "stream",
     "text": [
      "\tspread_disease()\t\t1.41 sec.\n",
      "\tscreen_for_disease()\t\t0.00 sec.\n",
      "\ttrack_stats()\t\t\t0.00 sec.\n",
      "[epoch=539]\tinfected=190\ttransmitters(visible+invisible)=377\n",
      "\n",
      "\n",
      "radiuses 4 5\n",
      "resp.sum 57378\n",
      "resp.sum 50712\n",
      "\tdecrement_timers()\t\t0.00 sec.\n",
      "\twalk_iter()\t\t\t6.28 sec.\n",
      "\tmake_disease_matrices()\t\t0.01 sec.\n"
     ]
    },
    {
     "name": "stderr",
     "output_type": "stream",
     "text": [
      "\r",
      " 90%|█████████ | 540/600 [51:27<07:43,  7.72s/it]"
     ]
    },
    {
     "name": "stdout",
     "output_type": "stream",
     "text": [
      "\tspread_disease()\t\t1.40 sec.\n",
      "\tscreen_for_disease()\t\t0.00 sec.\n",
      "\ttrack_stats()\t\t\t0.00 sec.\n",
      "[epoch=540]\tinfected=183\ttransmitters(visible+invisible)=381\n",
      "\n",
      "\n",
      "radiuses 4 5\n",
      "resp.sum 57068\n",
      "resp.sum 50712\n",
      "\tdecrement_timers()\t\t0.00 sec.\n",
      "\twalk_iter()\t\t\t6.19 sec.\n",
      "\tmake_disease_matrices()\t\t0.01 sec.\n"
     ]
    },
    {
     "name": "stderr",
     "output_type": "stream",
     "text": [
      "\r",
      " 90%|█████████ | 541/600 [51:35<07:35,  7.71s/it]"
     ]
    },
    {
     "name": "stdout",
     "output_type": "stream",
     "text": [
      "\tspread_disease()\t\t1.46 sec.\n",
      "\tscreen_for_disease()\t\t0.00 sec.\n",
      "\ttrack_stats()\t\t\t0.00 sec.\n",
      "[epoch=541]\tinfected=184\ttransmitters(visible+invisible)=386\n",
      "\n",
      "\n",
      "radiuses 4 5\n",
      "resp.sum 57277\n",
      "resp.sum 50712\n",
      "\tdecrement_timers()\t\t0.00 sec.\n",
      "\twalk_iter()\t\t\t6.32 sec.\n",
      "\tmake_disease_matrices()\t\t0.01 sec.\n"
     ]
    },
    {
     "name": "stderr",
     "output_type": "stream",
     "text": [
      "\r",
      " 90%|█████████ | 542/600 [51:43<07:30,  7.76s/it]"
     ]
    },
    {
     "name": "stdout",
     "output_type": "stream",
     "text": [
      "\tspread_disease()\t\t1.53 sec.\n",
      "\tscreen_for_disease()\t\t0.00 sec.\n",
      "\ttrack_stats()\t\t\t0.00 sec.\n",
      "[epoch=542]\tinfected=188\ttransmitters(visible+invisible)=384\n",
      "\n",
      "\n",
      "radiuses 4 5\n",
      "resp.sum 57378\n",
      "resp.sum 50712\n",
      "\tdecrement_timers()\t\t0.00 sec.\n",
      "\twalk_iter()\t\t\t6.34 sec.\n",
      "\tmake_disease_matrices()\t\t0.02 sec.\n"
     ]
    },
    {
     "name": "stderr",
     "output_type": "stream",
     "text": [
      "\r",
      " 90%|█████████ | 543/600 [51:51<07:24,  7.79s/it]"
     ]
    },
    {
     "name": "stdout",
     "output_type": "stream",
     "text": [
      "\tspread_disease()\t\t1.48 sec.\n",
      "\tscreen_for_disease()\t\t0.00 sec.\n",
      "\ttrack_stats()\t\t\t0.00 sec.\n",
      "[epoch=543]\tinfected=187\ttransmitters(visible+invisible)=388\n",
      "\n",
      "\n",
      "radiuses 4 5\n",
      "resp.sum 57173\n",
      "resp.sum 50712\n",
      "\tdecrement_timers()\t\t0.00 sec.\n",
      "\twalk_iter()\t\t\t6.30 sec.\n",
      "\tmake_disease_matrices()\t\t0.01 sec.\n"
     ]
    },
    {
     "name": "stderr",
     "output_type": "stream",
     "text": [
      "\r",
      " 91%|█████████ | 544/600 [51:58<07:15,  7.78s/it]"
     ]
    },
    {
     "name": "stdout",
     "output_type": "stream",
     "text": [
      "\tspread_disease()\t\t1.44 sec.\n",
      "\tscreen_for_disease()\t\t0.00 sec.\n",
      "\ttrack_stats()\t\t\t0.00 sec.\n",
      "[epoch=544]\tinfected=186\ttransmitters(visible+invisible)=389\n",
      "\n",
      "\n",
      "radiuses 4 5\n",
      "resp.sum 57478\n",
      "resp.sum 50712\n",
      "\tdecrement_timers()\t\t0.00 sec.\n",
      "\twalk_iter()\t\t\t6.20 sec.\n",
      "\tmake_disease_matrices()\t\t0.01 sec.\n"
     ]
    },
    {
     "name": "stderr",
     "output_type": "stream",
     "text": [
      "\r",
      " 91%|█████████ | 545/600 [52:06<07:07,  7.77s/it]"
     ]
    },
    {
     "name": "stdout",
     "output_type": "stream",
     "text": [
      "\tspread_disease()\t\t1.51 sec.\n",
      "\tscreen_for_disease()\t\t0.00 sec.\n",
      "\ttrack_stats()\t\t\t0.00 sec.\n",
      "[epoch=545]\tinfected=191\ttransmitters(visible+invisible)=391\n",
      "\n",
      "\n",
      "radiuses 4 5\n",
      "resp.sum 58041\n",
      "resp.sum 50712\n",
      "\tdecrement_timers()\t\t0.00 sec.\n",
      "\twalk_iter()\t\t\t6.23 sec.\n",
      "\tmake_disease_matrices()\t\t0.01 sec.\n"
     ]
    },
    {
     "name": "stderr",
     "output_type": "stream",
     "text": [
      "\r",
      " 91%|█████████ | 546/600 [52:14<07:00,  7.79s/it]"
     ]
    },
    {
     "name": "stdout",
     "output_type": "stream",
     "text": [
      "\tspread_disease()\t\t1.57 sec.\n",
      "\tscreen_for_disease()\t\t0.00 sec.\n",
      "\ttrack_stats()\t\t\t0.00 sec.\n",
      "[epoch=546]\tinfected=193\ttransmitters(visible+invisible)=393\n",
      "\n",
      "\n",
      "radiuses 4 5\n",
      "resp.sum 58130\n",
      "resp.sum 50712\n",
      "\tdecrement_timers()\t\t0.01 sec.\n",
      "\twalk_iter()\t\t\t6.15 sec.\n",
      "\tmake_disease_matrices()\t\t0.01 sec.\n"
     ]
    },
    {
     "name": "stderr",
     "output_type": "stream",
     "text": [
      "\r",
      " 91%|█████████ | 547/600 [52:22<06:51,  7.77s/it]"
     ]
    },
    {
     "name": "stdout",
     "output_type": "stream",
     "text": [
      "\tspread_disease()\t\t1.55 sec.\n",
      "\tscreen_for_disease()\t\t0.00 sec.\n",
      "\ttrack_stats()\t\t\t0.00 sec.\n",
      "[epoch=547]\tinfected=193\ttransmitters(visible+invisible)=397\n",
      "\n",
      "\n",
      "radiuses 4 5\n",
      "resp.sum 58041\n",
      "resp.sum 50712\n",
      "\tdecrement_timers()\t\t0.01 sec.\n",
      "\twalk_iter()\t\t\t6.16 sec.\n",
      "\tmake_disease_matrices()\t\t0.01 sec.\n"
     ]
    },
    {
     "name": "stderr",
     "output_type": "stream",
     "text": [
      "\r",
      " 91%|█████████▏| 548/600 [52:29<06:41,  7.72s/it]"
     ]
    },
    {
     "name": "stdout",
     "output_type": "stream",
     "text": [
      "\tspread_disease()\t\t1.40 sec.\n",
      "\tscreen_for_disease()\t\t0.00 sec.\n",
      "\ttrack_stats()\t\t\t0.00 sec.\n",
      "[epoch=548]\tinfected=200\ttransmitters(visible+invisible)=398\n",
      "\n",
      "\n",
      "radiuses 4 5\n",
      "resp.sum 57860\n",
      "resp.sum 50712\n",
      "\tdecrement_timers()\t\t0.00 sec.\n",
      "\twalk_iter()\t\t\t6.29 sec.\n",
      "\tmake_disease_matrices()\t\t0.01 sec.\n"
     ]
    },
    {
     "name": "stderr",
     "output_type": "stream",
     "text": [
      "\r",
      " 92%|█████████▏| 549/600 [52:37<06:35,  7.75s/it]"
     ]
    },
    {
     "name": "stdout",
     "output_type": "stream",
     "text": [
      "\tspread_disease()\t\t1.50 sec.\n",
      "\tscreen_for_disease()\t\t0.00 sec.\n",
      "\ttrack_stats()\t\t\t0.00 sec.\n",
      "[epoch=549]\tinfected=200\ttransmitters(visible+invisible)=396\n",
      "\n",
      "\n",
      "radiuses 4 5\n",
      "resp.sum 57860\n",
      "resp.sum 50712\n",
      "\tdecrement_timers()\t\t0.00 sec.\n",
      "\twalk_iter()\t\t\t6.28 sec.\n",
      "\tmake_disease_matrices()\t\t0.01 sec.\n"
     ]
    },
    {
     "name": "stderr",
     "output_type": "stream",
     "text": [
      "\r",
      " 92%|█████████▏| 550/600 [52:45<06:26,  7.73s/it]"
     ]
    },
    {
     "name": "stdout",
     "output_type": "stream",
     "text": [
      "\tspread_disease()\t\t1.39 sec.\n",
      "\tscreen_for_disease()\t\t0.00 sec.\n",
      "\ttrack_stats()\t\t\t0.00 sec.\n",
      "[epoch=550]\tinfected=203\ttransmitters(visible+invisible)=395\n",
      "\n",
      "\n",
      "radiuses 4 5\n",
      "resp.sum 57173\n",
      "resp.sum 50712\n",
      "\tdecrement_timers()\t\t0.00 sec.\n",
      "\twalk_iter()\t\t\t6.30 sec.\n",
      "\tmake_disease_matrices()\t\t0.01 sec.\n"
     ]
    },
    {
     "name": "stderr",
     "output_type": "stream",
     "text": [
      "\r",
      " 92%|█████████▏| 551/600 [52:53<06:18,  7.72s/it]"
     ]
    },
    {
     "name": "stdout",
     "output_type": "stream",
     "text": [
      "\tspread_disease()\t\t1.37 sec.\n",
      "\tscreen_for_disease()\t\t0.00 sec.\n",
      "\ttrack_stats()\t\t\t0.00 sec.\n",
      "[epoch=551]\tinfected=209\ttransmitters(visible+invisible)=395\n",
      "\n",
      "\n",
      "radiuses 4 5\n",
      "resp.sum 56961\n",
      "resp.sum 50712\n",
      "\tdecrement_timers()\t\t0.00 sec.\n",
      "\twalk_iter()\t\t\t6.23 sec.\n",
      "\tmake_disease_matrices()\t\t0.01 sec.\n"
     ]
    },
    {
     "name": "stderr",
     "output_type": "stream",
     "text": [
      "\r",
      " 92%|█████████▏| 552/600 [53:00<06:10,  7.71s/it]"
     ]
    },
    {
     "name": "stdout",
     "output_type": "stream",
     "text": [
      "\tspread_disease()\t\t1.44 sec.\n",
      "\tscreen_for_disease()\t\t0.00 sec.\n",
      "\ttrack_stats()\t\t\t0.00 sec.\n",
      "[epoch=552]\tinfected=220\ttransmitters(visible+invisible)=401\n",
      "\n",
      "\n",
      "radiuses 4 5\n",
      "resp.sum 57378\n",
      "resp.sum 50712\n",
      "\tdecrement_timers()\t\t0.00 sec.\n",
      "\twalk_iter()\t\t\t6.28 sec.\n",
      "\tmake_disease_matrices()\t\t0.01 sec.\n"
     ]
    },
    {
     "name": "stderr",
     "output_type": "stream",
     "text": [
      "\r",
      " 92%|█████████▏| 553/600 [53:08<06:04,  7.75s/it]"
     ]
    },
    {
     "name": "stdout",
     "output_type": "stream",
     "text": [
      "\tspread_disease()\t\t1.52 sec.\n",
      "\tscreen_for_disease()\t\t0.00 sec.\n",
      "\ttrack_stats()\t\t\t0.00 sec.\n",
      "[epoch=553]\tinfected=218\ttransmitters(visible+invisible)=401\n",
      "\n",
      "\n",
      "radiuses 4 5\n",
      "resp.sum 57068\n",
      "resp.sum 50712\n",
      "\tdecrement_timers()\t\t0.00 sec.\n",
      "\twalk_iter()\t\t\t6.14 sec.\n",
      "\tmake_disease_matrices()\t\t0.01 sec.\n"
     ]
    },
    {
     "name": "stderr",
     "output_type": "stream",
     "text": [
      "\r",
      " 92%|█████████▏| 554/600 [53:16<05:55,  7.73s/it]"
     ]
    },
    {
     "name": "stdout",
     "output_type": "stream",
     "text": [
      "\tspread_disease()\t\t1.53 sec.\n",
      "\tscreen_for_disease()\t\t0.00 sec.\n",
      "\ttrack_stats()\t\t\t0.00 sec.\n",
      "[epoch=554]\tinfected=219\ttransmitters(visible+invisible)=409\n",
      "\n",
      "\n",
      "radiuses 4 5\n",
      "resp.sum 57378\n",
      "resp.sum 50712\n",
      "\tdecrement_timers()\t\t0.00 sec.\n",
      "\twalk_iter()\t\t\t6.21 sec.\n",
      "\tmake_disease_matrices()\t\t0.01 sec.\n"
     ]
    },
    {
     "name": "stderr",
     "output_type": "stream",
     "text": [
      "\r",
      " 92%|█████████▎| 555/600 [53:23<05:46,  7.71s/it]"
     ]
    },
    {
     "name": "stdout",
     "output_type": "stream",
     "text": [
      "\tspread_disease()\t\t1.40 sec.\n",
      "\tscreen_for_disease()\t\t0.00 sec.\n",
      "\ttrack_stats()\t\t\t0.00 sec.\n",
      "[epoch=555]\tinfected=219\ttransmitters(visible+invisible)=405\n",
      "\n",
      "\n",
      "radiuses 4 5\n",
      "resp.sum 57068\n",
      "resp.sum 50712\n",
      "\tdecrement_timers()\t\t0.00 sec.\n",
      "\twalk_iter()\t\t\t6.22 sec.\n",
      "\tmake_disease_matrices()\t\t0.01 sec.\n"
     ]
    },
    {
     "name": "stderr",
     "output_type": "stream",
     "text": [
      "\r",
      " 93%|█████████▎| 556/600 [53:31<05:38,  7.70s/it]"
     ]
    },
    {
     "name": "stdout",
     "output_type": "stream",
     "text": [
      "\tspread_disease()\t\t1.45 sec.\n",
      "\tscreen_for_disease()\t\t0.00 sec.\n",
      "\ttrack_stats()\t\t\t0.00 sec.\n",
      "[epoch=556]\tinfected=224\ttransmitters(visible+invisible)=405\n",
      "\n",
      "\n",
      "radiuses 4 5\n",
      "resp.sum 57173\n",
      "resp.sum 50712\n",
      "\tdecrement_timers()\t\t0.00 sec.\n",
      "\twalk_iter()\t\t\t6.30 sec.\n",
      "\tmake_disease_matrices()\t\t0.01 sec.\n"
     ]
    },
    {
     "name": "stderr",
     "output_type": "stream",
     "text": [
      "\r",
      " 93%|█████████▎| 557/600 [53:39<05:33,  7.76s/it]"
     ]
    },
    {
     "name": "stdout",
     "output_type": "stream",
     "text": [
      "\tspread_disease()\t\t1.55 sec.\n",
      "\tscreen_for_disease()\t\t0.00 sec.\n",
      "\ttrack_stats()\t\t\t0.00 sec.\n",
      "[epoch=557]\tinfected=222\ttransmitters(visible+invisible)=406\n",
      "\n",
      "\n",
      "radiuses 4 5\n",
      "resp.sum 57672\n",
      "resp.sum 50712\n",
      "\tdecrement_timers()\t\t0.00 sec.\n",
      "\twalk_iter()\t\t\t6.26 sec.\n",
      "\tmake_disease_matrices()\t\t0.01 sec.\n"
     ]
    },
    {
     "name": "stderr",
     "output_type": "stream",
     "text": [
      "\r",
      " 93%|█████████▎| 558/600 [53:47<05:25,  7.76s/it]"
     ]
    },
    {
     "name": "stdout",
     "output_type": "stream",
     "text": [
      "\tspread_disease()\t\t1.48 sec.\n",
      "\tscreen_for_disease()\t\t0.00 sec.\n",
      "\ttrack_stats()\t\t\t0.00 sec.\n",
      "[epoch=558]\tinfected=222\ttransmitters(visible+invisible)=406\n",
      "\n",
      "\n",
      "radiuses 4 5\n",
      "resp.sum 57478\n",
      "resp.sum 50712\n",
      "\tdecrement_timers()\t\t0.00 sec.\n",
      "\twalk_iter()\t\t\t6.17 sec.\n",
      "\tmake_disease_matrices()\t\t0.01 sec.\n"
     ]
    },
    {
     "name": "stderr",
     "output_type": "stream",
     "text": [
      "\r",
      " 93%|█████████▎| 559/600 [53:54<05:16,  7.72s/it]"
     ]
    },
    {
     "name": "stdout",
     "output_type": "stream",
     "text": [
      "\tspread_disease()\t\t1.43 sec.\n",
      "\tscreen_for_disease()\t\t0.00 sec.\n",
      "\ttrack_stats()\t\t\t0.00 sec.\n",
      "[epoch=559]\tinfected=225\ttransmitters(visible+invisible)=411\n",
      "\n",
      "\n",
      "radiuses 4 5\n",
      "resp.sum 57576\n",
      "resp.sum 50712\n",
      "\tdecrement_timers()\t\t0.00 sec.\n",
      "\twalk_iter()\t\t\t6.30 sec.\n",
      "\tmake_disease_matrices()\t\t0.01 sec.\n"
     ]
    },
    {
     "name": "stderr",
     "output_type": "stream",
     "text": [
      "\r",
      " 93%|█████████▎| 560/600 [54:02<05:08,  7.72s/it]"
     ]
    },
    {
     "name": "stdout",
     "output_type": "stream",
     "text": [
      "\tspread_disease()\t\t1.40 sec.\n",
      "\tscreen_for_disease()\t\t0.00 sec.\n",
      "\ttrack_stats()\t\t\t0.00 sec.\n",
      "[epoch=560]\tinfected=230\ttransmitters(visible+invisible)=410\n",
      "\n",
      "\n",
      "radiuses 4 5\n",
      "resp.sum 57952\n",
      "resp.sum 50712\n",
      "\tdecrement_timers()\t\t0.00 sec.\n",
      "\twalk_iter()\t\t\t6.25 sec.\n",
      "\tmake_disease_matrices()\t\t0.01 sec.\n"
     ]
    },
    {
     "name": "stderr",
     "output_type": "stream",
     "text": [
      "\r",
      " 94%|█████████▎| 561/600 [54:10<05:00,  7.71s/it]"
     ]
    },
    {
     "name": "stdout",
     "output_type": "stream",
     "text": [
      "\tspread_disease()\t\t1.40 sec.\n",
      "\tscreen_for_disease()\t\t0.00 sec.\n",
      "\ttrack_stats()\t\t\t0.00 sec.\n",
      "[epoch=561]\tinfected=230\ttransmitters(visible+invisible)=420\n",
      "\n",
      "\n",
      "radiuses 4 5\n",
      "resp.sum 58629\n",
      "resp.sum 50712\n",
      "\tdecrement_timers()\t\t0.00 sec.\n",
      "\twalk_iter()\t\t\t6.21 sec.\n",
      "\tmake_disease_matrices()\t\t0.01 sec.\n"
     ]
    },
    {
     "name": "stderr",
     "output_type": "stream",
     "text": [
      "\r",
      " 94%|█████████▎| 562/600 [54:18<04:53,  7.71s/it]"
     ]
    },
    {
     "name": "stdout",
     "output_type": "stream",
     "text": [
      "\tspread_disease()\t\t1.48 sec.\n",
      "\tscreen_for_disease()\t\t0.00 sec.\n",
      "\ttrack_stats()\t\t\t0.00 sec.\n",
      "[epoch=562]\tinfected=224\ttransmitters(visible+invisible)=429\n",
      "\n",
      "\n",
      "radiuses 4 5\n",
      "resp.sum 58784\n",
      "resp.sum 50712\n",
      "\tdecrement_timers()\t\t0.00 sec.\n",
      "\twalk_iter()\t\t\t6.26 sec.\n",
      "\tmake_disease_matrices()\t\t0.01 sec.\n"
     ]
    },
    {
     "name": "stderr",
     "output_type": "stream",
     "text": [
      "\r",
      " 94%|█████████▍| 563/600 [54:25<04:44,  7.70s/it]"
     ]
    },
    {
     "name": "stdout",
     "output_type": "stream",
     "text": [
      "\tspread_disease()\t\t1.39 sec.\n",
      "\tscreen_for_disease()\t\t0.00 sec.\n",
      "\ttrack_stats()\t\t\t0.00 sec.\n",
      "[epoch=563]\tinfected=227\ttransmitters(visible+invisible)=434\n",
      "\n",
      "\n",
      "radiuses 4 5\n",
      "resp.sum 59420\n",
      "resp.sum 50712\n",
      "\tdecrement_timers()\t\t0.00 sec.\n",
      "\twalk_iter()\t\t\t6.19 sec.\n",
      "\tmake_disease_matrices()\t\t0.01 sec.\n"
     ]
    },
    {
     "name": "stderr",
     "output_type": "stream",
     "text": [
      "\r",
      " 94%|█████████▍| 564/600 [54:33<04:36,  7.68s/it]"
     ]
    },
    {
     "name": "stdout",
     "output_type": "stream",
     "text": [
      "\tspread_disease()\t\t1.42 sec.\n",
      "\tscreen_for_disease()\t\t0.00 sec.\n",
      "\ttrack_stats()\t\t\t0.00 sec.\n",
      "[epoch=564]\tinfected=215\ttransmitters(visible+invisible)=440\n",
      "\n",
      "\n",
      "radiuses 4 5\n",
      "resp.sum 59420\n",
      "resp.sum 50712\n",
      "\tdecrement_timers()\t\t0.00 sec.\n",
      "\twalk_iter()\t\t\t6.23 sec.\n",
      "\tmake_disease_matrices()\t\t0.01 sec.\n"
     ]
    },
    {
     "name": "stderr",
     "output_type": "stream",
     "text": [
      "\r",
      " 94%|█████████▍| 565/600 [54:41<04:29,  7.71s/it]"
     ]
    },
    {
     "name": "stdout",
     "output_type": "stream",
     "text": [
      "\tspread_disease()\t\t1.53 sec.\n",
      "\tscreen_for_disease()\t\t0.00 sec.\n",
      "\ttrack_stats()\t\t\t0.00 sec.\n",
      "[epoch=565]\tinfected=222\ttransmitters(visible+invisible)=435\n",
      "\n",
      "\n",
      "radiuses 4 5\n",
      "resp.sum 59485\n",
      "resp.sum 50712\n",
      "\tdecrement_timers()\t\t0.00 sec.\n",
      "\twalk_iter()\t\t\t6.36 sec.\n",
      "\tmake_disease_matrices()\t\t0.01 sec.\n"
     ]
    },
    {
     "name": "stderr",
     "output_type": "stream",
     "text": [
      "\r",
      " 94%|█████████▍| 566/600 [54:49<04:24,  7.78s/it]"
     ]
    },
    {
     "name": "stdout",
     "output_type": "stream",
     "text": [
      "\tspread_disease()\t\t1.54 sec.\n",
      "\tscreen_for_disease()\t\t0.00 sec.\n",
      "\ttrack_stats()\t\t\t0.00 sec.\n",
      "[epoch=566]\tinfected=217\ttransmitters(visible+invisible)=440\n",
      "\n",
      "\n",
      "radiuses 4 5\n",
      "resp.sum 59673\n",
      "resp.sum 50712\n",
      "\tdecrement_timers()\t\t0.00 sec.\n",
      "\twalk_iter()\t\t\t6.16 sec.\n",
      "\tmake_disease_matrices()\t\t0.01 sec.\n"
     ]
    },
    {
     "name": "stderr",
     "output_type": "stream",
     "text": [
      "\r",
      " 94%|█████████▍| 567/600 [54:56<04:16,  7.77s/it]"
     ]
    },
    {
     "name": "stdout",
     "output_type": "stream",
     "text": [
      "\tspread_disease()\t\t1.56 sec.\n",
      "\tscreen_for_disease()\t\t0.00 sec.\n",
      "\ttrack_stats()\t\t\t0.00 sec.\n",
      "[epoch=567]\tinfected=217\ttransmitters(visible+invisible)=436\n",
      "\n",
      "\n",
      "radiuses 4 5\n",
      "resp.sum 59673\n",
      "resp.sum 50712\n",
      "\tdecrement_timers()\t\t0.00 sec.\n",
      "\twalk_iter()\t\t\t6.23 sec.\n",
      "\tmake_disease_matrices()\t\t0.01 sec.\n"
     ]
    },
    {
     "name": "stderr",
     "output_type": "stream",
     "text": [
      "\r",
      " 95%|█████████▍| 568/600 [55:04<04:08,  7.77s/it]"
     ]
    },
    {
     "name": "stdout",
     "output_type": "stream",
     "text": [
      "\tspread_disease()\t\t1.52 sec.\n",
      "\tscreen_for_disease()\t\t0.00 sec.\n",
      "\ttrack_stats()\t\t\t0.00 sec.\n",
      "[epoch=568]\tinfected=222\ttransmitters(visible+invisible)=431\n",
      "\n",
      "\n",
      "radiuses 4 5\n",
      "resp.sum 59852\n",
      "resp.sum 50712\n",
      "\tdecrement_timers()\t\t0.00 sec.\n",
      "\twalk_iter()\t\t\t6.18 sec.\n",
      "\tmake_disease_matrices()\t\t0.01 sec.\n"
     ]
    },
    {
     "name": "stderr",
     "output_type": "stream",
     "text": [
      "\r",
      " 95%|█████████▍| 569/600 [55:12<03:59,  7.74s/it]"
     ]
    },
    {
     "name": "stdout",
     "output_type": "stream",
     "text": [
      "\tspread_disease()\t\t1.46 sec.\n",
      "\tscreen_for_disease()\t\t0.00 sec.\n",
      "\ttrack_stats()\t\t\t0.00 sec.\n",
      "[epoch=569]\tinfected=225\ttransmitters(visible+invisible)=438\n",
      "\n",
      "\n",
      "radiuses 4 5\n",
      "resp.sum 59966\n",
      "resp.sum 50712\n",
      "\tdecrement_timers()\t\t0.00 sec.\n",
      "\twalk_iter()\t\t\t6.23 sec.\n",
      "\tmake_disease_matrices()\t\t0.01 sec.\n"
     ]
    },
    {
     "name": "stderr",
     "output_type": "stream",
     "text": [
      "\r",
      " 95%|█████████▌| 570/600 [55:20<03:52,  7.76s/it]"
     ]
    },
    {
     "name": "stdout",
     "output_type": "stream",
     "text": [
      "\tspread_disease()\t\t1.54 sec.\n",
      "\tscreen_for_disease()\t\t0.00 sec.\n",
      "\ttrack_stats()\t\t\t0.00 sec.\n",
      "[epoch=570]\tinfected=223\ttransmitters(visible+invisible)=443\n",
      "\n",
      "\n",
      "radiuses 4 5\n",
      "resp.sum 60076\n",
      "resp.sum 50712\n",
      "\tdecrement_timers()\t\t0.00 sec.\n",
      "\twalk_iter()\t\t\t6.17 sec.\n",
      "\tmake_disease_matrices()\t\t0.01 sec.\n"
     ]
    },
    {
     "name": "stderr",
     "output_type": "stream",
     "text": [
      "\r",
      " 95%|█████████▌| 571/600 [55:27<03:44,  7.74s/it]"
     ]
    },
    {
     "name": "stdout",
     "output_type": "stream",
     "text": [
      "\tspread_disease()\t\t1.52 sec.\n",
      "\tscreen_for_disease()\t\t0.00 sec.\n",
      "\ttrack_stats()\t\t\t0.00 sec.\n",
      "[epoch=571]\tinfected=217\ttransmitters(visible+invisible)=450\n",
      "\n",
      "\n",
      "radiuses 4 5\n",
      "resp.sum 59966\n",
      "resp.sum 50712\n",
      "\tdecrement_timers()\t\t0.00 sec.\n",
      "\twalk_iter()\t\t\t6.17 sec.\n",
      "\tmake_disease_matrices()\t\t0.01 sec.\n"
     ]
    },
    {
     "name": "stderr",
     "output_type": "stream",
     "text": [
      "\r",
      " 95%|█████████▌| 572/600 [55:35<03:36,  7.74s/it]"
     ]
    },
    {
     "name": "stdout",
     "output_type": "stream",
     "text": [
      "\tspread_disease()\t\t1.54 sec.\n",
      "\tscreen_for_disease()\t\t0.01 sec.\n",
      "\ttrack_stats()\t\t\t0.00 sec.\n",
      "[epoch=572]\tinfected=224\ttransmitters(visible+invisible)=447\n",
      "\n",
      "\n",
      "radiuses 4 5\n",
      "resp.sum 59611\n",
      "resp.sum 50712\n",
      "\tdecrement_timers()\t\t0.01 sec.\n",
      "\twalk_iter()\t\t\t6.19 sec.\n",
      "\tmake_disease_matrices()\t\t0.01 sec.\n"
     ]
    },
    {
     "name": "stderr",
     "output_type": "stream",
     "text": [
      "\r",
      " 96%|█████████▌| 573/600 [55:43<03:28,  7.74s/it]"
     ]
    },
    {
     "name": "stdout",
     "output_type": "stream",
     "text": [
      "\tspread_disease()\t\t1.50 sec.\n",
      "\tscreen_for_disease()\t\t0.01 sec.\n",
      "\ttrack_stats()\t\t\t0.00 sec.\n",
      "[epoch=573]\tinfected=226\ttransmitters(visible+invisible)=447\n",
      "\n",
      "\n",
      "radiuses 4 5\n",
      "resp.sum 59354\n",
      "resp.sum 50712\n",
      "\tdecrement_timers()\t\t0.01 sec.\n",
      "\twalk_iter()\t\t\t6.22 sec.\n",
      "\tmake_disease_matrices()\t\t0.01 sec.\n"
     ]
    },
    {
     "name": "stderr",
     "output_type": "stream",
     "text": [
      "\r",
      " 96%|█████████▌| 574/600 [55:50<03:20,  7.71s/it]"
     ]
    },
    {
     "name": "stdout",
     "output_type": "stream",
     "text": [
      "\tspread_disease()\t\t1.39 sec.\n",
      "\tscreen_for_disease()\t\t0.00 sec.\n",
      "\ttrack_stats()\t\t\t0.00 sec.\n",
      "[epoch=574]\tinfected=237\ttransmitters(visible+invisible)=443\n",
      "\n",
      "\n",
      "radiuses 4 5\n",
      "resp.sum 59485\n",
      "resp.sum 50712\n",
      "\tdecrement_timers()\t\t0.00 sec.\n",
      "\twalk_iter()\t\t\t6.24 sec.\n",
      "\tmake_disease_matrices()\t\t0.01 sec.\n"
     ]
    },
    {
     "name": "stderr",
     "output_type": "stream",
     "text": [
      "\r",
      " 96%|█████████▌| 575/600 [55:58<03:13,  7.75s/it]"
     ]
    },
    {
     "name": "stdout",
     "output_type": "stream",
     "text": [
      "\tspread_disease()\t\t1.56 sec.\n",
      "\tscreen_for_disease()\t\t0.00 sec.\n",
      "\ttrack_stats()\t\t\t0.00 sec.\n",
      "[epoch=575]\tinfected=238\ttransmitters(visible+invisible)=444\n",
      "\n",
      "\n",
      "radiuses 4 5\n",
      "resp.sum 59793\n",
      "resp.sum 50712\n",
      "\tdecrement_timers()\t\t0.01 sec.\n",
      "\twalk_iter()\t\t\t6.16 sec.\n",
      "\tmake_disease_matrices()\t\t0.01 sec.\n"
     ]
    },
    {
     "name": "stderr",
     "output_type": "stream",
     "text": [
      "\r",
      " 96%|█████████▌| 576/600 [56:06<03:04,  7.71s/it]"
     ]
    },
    {
     "name": "stdout",
     "output_type": "stream",
     "text": [
      "\tspread_disease()\t\t1.43 sec.\n",
      "\tscreen_for_disease()\t\t0.00 sec.\n",
      "\ttrack_stats()\t\t\t0.00 sec.\n",
      "[epoch=576]\tinfected=234\ttransmitters(visible+invisible)=444\n",
      "\n",
      "\n",
      "radiuses 4 5\n",
      "resp.sum 59611\n",
      "resp.sum 50712\n",
      "\tdecrement_timers()\t\t0.00 sec.\n",
      "\twalk_iter()\t\t\t6.28 sec.\n",
      "\tmake_disease_matrices()\t\t0.01 sec.\n"
     ]
    },
    {
     "name": "stderr",
     "output_type": "stream",
     "text": [
      "\r",
      " 96%|█████████▌| 577/600 [56:14<02:57,  7.73s/it]"
     ]
    },
    {
     "name": "stdout",
     "output_type": "stream",
     "text": [
      "\tspread_disease()\t\t1.48 sec.\n",
      "\tscreen_for_disease()\t\t0.00 sec.\n",
      "\ttrack_stats()\t\t\t0.00 sec.\n",
      "[epoch=577]\tinfected=230\ttransmitters(visible+invisible)=444\n",
      "\n",
      "\n",
      "radiuses 4 5\n",
      "resp.sum 59219\n",
      "resp.sum 50712\n",
      "\tdecrement_timers()\t\t0.00 sec.\n",
      "\twalk_iter()\t\t\t6.23 sec.\n",
      "\tmake_disease_matrices()\t\t0.01 sec.\n"
     ]
    },
    {
     "name": "stderr",
     "output_type": "stream",
     "text": [
      "\r",
      " 96%|█████████▋| 578/600 [56:21<02:50,  7.75s/it]"
     ]
    },
    {
     "name": "stdout",
     "output_type": "stream",
     "text": [
      "\tspread_disease()\t\t1.54 sec.\n",
      "\tscreen_for_disease()\t\t0.01 sec.\n",
      "\ttrack_stats()\t\t\t0.00 sec.\n",
      "[epoch=578]\tinfected=230\ttransmitters(visible+invisible)=454\n",
      "\n",
      "\n",
      "radiuses 4 5\n",
      "resp.sum 59219\n",
      "resp.sum 50712\n",
      "\tdecrement_timers()\t\t0.01 sec.\n",
      "\twalk_iter()\t\t\t6.17 sec.\n",
      "\tmake_disease_matrices()\t\t0.01 sec.\n"
     ]
    },
    {
     "name": "stderr",
     "output_type": "stream",
     "text": [
      "\r",
      " 96%|█████████▋| 579/600 [56:29<02:42,  7.74s/it]"
     ]
    },
    {
     "name": "stdout",
     "output_type": "stream",
     "text": [
      "\tspread_disease()\t\t1.53 sec.\n",
      "\tscreen_for_disease()\t\t0.01 sec.\n",
      "\ttrack_stats()\t\t\t0.00 sec.\n",
      "[epoch=579]\tinfected=226\ttransmitters(visible+invisible)=454\n",
      "\n",
      "\n",
      "radiuses 4 5\n",
      "resp.sum 59287\n",
      "resp.sum 50712\n",
      "\tdecrement_timers()\t\t0.01 sec.\n",
      "\twalk_iter()\t\t\t6.26 sec.\n",
      "\tmake_disease_matrices()\t\t0.01 sec.\n"
     ]
    },
    {
     "name": "stderr",
     "output_type": "stream",
     "text": [
      "\r",
      " 97%|█████████▋| 580/600 [56:37<02:35,  7.77s/it]"
     ]
    },
    {
     "name": "stdout",
     "output_type": "stream",
     "text": [
      "\tspread_disease()\t\t1.54 sec.\n",
      "\tscreen_for_disease()\t\t0.01 sec.\n",
      "\ttrack_stats()\t\t\t0.00 sec.\n",
      "[epoch=580]\tinfected=234\ttransmitters(visible+invisible)=447\n",
      "\n",
      "\n",
      "radiuses 4 5\n",
      "resp.sum 59149\n",
      "resp.sum 50712\n",
      "\tdecrement_timers()\t\t0.01 sec.\n",
      "\twalk_iter()\t\t\t6.31 sec.\n",
      "\tmake_disease_matrices()\t\t0.01 sec.\n"
     ]
    },
    {
     "name": "stderr",
     "output_type": "stream",
     "text": [
      "\r",
      " 97%|█████████▋| 581/600 [56:45<02:28,  7.79s/it]"
     ]
    },
    {
     "name": "stdout",
     "output_type": "stream",
     "text": [
      "\tspread_disease()\t\t1.51 sec.\n",
      "\tscreen_for_disease()\t\t0.00 sec.\n",
      "\ttrack_stats()\t\t\t0.00 sec.\n",
      "[epoch=581]\tinfected=236\ttransmitters(visible+invisible)=443\n",
      "\n",
      "\n",
      "radiuses 4 5\n",
      "resp.sum 59219\n",
      "resp.sum 50712\n",
      "\tdecrement_timers()\t\t0.00 sec.\n",
      "\twalk_iter()\t\t\t6.26 sec.\n",
      "\tmake_disease_matrices()\t\t0.01 sec.\n"
     ]
    },
    {
     "name": "stderr",
     "output_type": "stream",
     "text": [
      "\r",
      " 97%|█████████▋| 582/600 [56:53<02:20,  7.82s/it]"
     ]
    },
    {
     "name": "stdout",
     "output_type": "stream",
     "text": [
      "\tspread_disease()\t\t1.57 sec.\n",
      "\tscreen_for_disease()\t\t0.01 sec.\n",
      "\ttrack_stats()\t\t\t0.00 sec.\n",
      "[epoch=582]\tinfected=243\ttransmitters(visible+invisible)=441\n",
      "\n",
      "\n",
      "radiuses 4 5\n",
      "resp.sum 58629\n",
      "resp.sum 50712\n",
      "\tdecrement_timers()\t\t0.01 sec.\n",
      "\twalk_iter()\t\t\t6.11 sec.\n",
      "\tmake_disease_matrices()\t\t0.01 sec.\n"
     ]
    },
    {
     "name": "stderr",
     "output_type": "stream",
     "text": [
      "\r",
      " 97%|█████████▋| 583/600 [57:00<02:11,  7.73s/it]"
     ]
    },
    {
     "name": "stdout",
     "output_type": "stream",
     "text": [
      "\tspread_disease()\t\t1.39 sec.\n",
      "\tscreen_for_disease()\t\t0.00 sec.\n",
      "\ttrack_stats()\t\t\t0.00 sec.\n",
      "[epoch=583]\tinfected=243\ttransmitters(visible+invisible)=442\n",
      "\n",
      "\n",
      "radiuses 4 5\n",
      "resp.sum 58707\n",
      "resp.sum 50712\n",
      "\tdecrement_timers()\t\t0.00 sec.\n",
      "\twalk_iter()\t\t\t6.23 sec.\n",
      "\tmake_disease_matrices()\t\t0.01 sec.\n"
     ]
    },
    {
     "name": "stderr",
     "output_type": "stream",
     "text": [
      "\r",
      " 97%|█████████▋| 584/600 [57:08<02:03,  7.72s/it]"
     ]
    },
    {
     "name": "stdout",
     "output_type": "stream",
     "text": [
      "\tspread_disease()\t\t1.43 sec.\n",
      "\tscreen_for_disease()\t\t0.00 sec.\n",
      "\ttrack_stats()\t\t\t0.00 sec.\n",
      "[epoch=584]\tinfected=233\ttransmitters(visible+invisible)=450\n",
      "\n",
      "\n",
      "radiuses 4 5\n",
      "resp.sum 59007\n",
      "resp.sum 50712\n",
      "\tdecrement_timers()\t\t0.00 sec.\n",
      "\twalk_iter()\t\t\t6.30 sec.\n",
      "\tmake_disease_matrices()\t\t0.01 sec.\n"
     ]
    },
    {
     "name": "stderr",
     "output_type": "stream",
     "text": [
      "\r",
      " 98%|█████████▊| 585/600 [57:16<01:56,  7.75s/it]"
     ]
    },
    {
     "name": "stdout",
     "output_type": "stream",
     "text": [
      "\tspread_disease()\t\t1.50 sec.\n",
      "\tscreen_for_disease()\t\t0.00 sec.\n",
      "\ttrack_stats()\t\t\t0.00 sec.\n",
      "[epoch=585]\tinfected=227\ttransmitters(visible+invisible)=453\n",
      "\n",
      "\n",
      "radiuses 4 5\n",
      "resp.sum 58549\n",
      "resp.sum 50712\n",
      "\tdecrement_timers()\t\t0.00 sec.\n",
      "\twalk_iter()\t\t\t6.21 sec.\n",
      "\tmake_disease_matrices()\t\t0.01 sec.\n"
     ]
    },
    {
     "name": "stderr",
     "output_type": "stream",
     "text": [
      "\r",
      " 98%|█████████▊| 586/600 [57:24<01:48,  7.77s/it]"
     ]
    },
    {
     "name": "stdout",
     "output_type": "stream",
     "text": [
      "\tspread_disease()\t\t1.57 sec.\n",
      "\tscreen_for_disease()\t\t0.00 sec.\n",
      "\ttrack_stats()\t\t\t0.00 sec.\n",
      "[epoch=586]\tinfected=225\ttransmitters(visible+invisible)=457\n",
      "\n",
      "\n",
      "radiuses 4 5\n",
      "resp.sum 58707\n",
      "resp.sum 50712\n",
      "\tdecrement_timers()\t\t0.00 sec.\n",
      "\twalk_iter()\t\t\t6.17 sec.\n",
      "\tmake_disease_matrices()\t\t0.01 sec.\n"
     ]
    },
    {
     "name": "stderr",
     "output_type": "stream",
     "text": [
      "\r",
      " 98%|█████████▊| 587/600 [57:31<01:40,  7.72s/it]"
     ]
    },
    {
     "name": "stdout",
     "output_type": "stream",
     "text": [
      "\tspread_disease()\t\t1.43 sec.\n",
      "\tscreen_for_disease()\t\t0.00 sec.\n",
      "\ttrack_stats()\t\t\t0.00 sec.\n",
      "[epoch=587]\tinfected=222\ttransmitters(visible+invisible)=461\n",
      "\n",
      "\n",
      "radiuses 4 5\n",
      "resp.sum 58629\n",
      "resp.sum 50712\n",
      "\tdecrement_timers()\t\t0.00 sec.\n",
      "\twalk_iter()\t\t\t6.23 sec.\n",
      "\tmake_disease_matrices()\t\t0.01 sec.\n"
     ]
    },
    {
     "name": "stderr",
     "output_type": "stream",
     "text": [
      "\r",
      " 98%|█████████▊| 588/600 [57:39<01:32,  7.72s/it]"
     ]
    },
    {
     "name": "stdout",
     "output_type": "stream",
     "text": [
      "\tspread_disease()\t\t1.47 sec.\n",
      "\tscreen_for_disease()\t\t0.00 sec.\n",
      "\ttrack_stats()\t\t\t0.00 sec.\n",
      "[epoch=588]\tinfected=225\ttransmitters(visible+invisible)=466\n",
      "\n",
      "\n",
      "radiuses 4 5\n",
      "resp.sum 58934\n",
      "resp.sum 50712\n",
      "\tdecrement_timers()\t\t0.00 sec.\n",
      "\twalk_iter()\t\t\t6.47 sec.\n",
      "\tmake_disease_matrices()\t\t0.01 sec.\n"
     ]
    },
    {
     "name": "stderr",
     "output_type": "stream",
     "text": [
      "\r",
      " 98%|█████████▊| 589/600 [57:47<01:25,  7.80s/it]"
     ]
    },
    {
     "name": "stdout",
     "output_type": "stream",
     "text": [
      "\tspread_disease()\t\t1.48 sec.\n",
      "\tscreen_for_disease()\t\t0.00 sec.\n",
      "\ttrack_stats()\t\t\t0.00 sec.\n",
      "[epoch=589]\tinfected=231\ttransmitters(visible+invisible)=465\n",
      "\n",
      "\n",
      "radiuses 4 5\n",
      "resp.sum 58784\n",
      "resp.sum 50712\n",
      "\tdecrement_timers()\t\t0.01 sec.\n",
      "\twalk_iter()\t\t\t6.19 sec.\n",
      "\tmake_disease_matrices()\t\t0.01 sec.\n"
     ]
    },
    {
     "name": "stderr",
     "output_type": "stream",
     "text": [
      "\r",
      " 98%|█████████▊| 590/600 [57:55<01:17,  7.78s/it]"
     ]
    },
    {
     "name": "stdout",
     "output_type": "stream",
     "text": [
      "\tspread_disease()\t\t1.52 sec.\n",
      "\tscreen_for_disease()\t\t0.00 sec.\n",
      "\ttrack_stats()\t\t\t0.00 sec.\n",
      "[epoch=590]\tinfected=230\ttransmitters(visible+invisible)=468\n",
      "\n",
      "\n",
      "radiuses 4 5\n",
      "resp.sum 58468\n",
      "resp.sum 50712\n",
      "\tdecrement_timers()\t\t0.00 sec.\n",
      "\twalk_iter()\t\t\t6.18 sec.\n",
      "\tmake_disease_matrices()\t\t0.01 sec.\n"
     ]
    },
    {
     "name": "stderr",
     "output_type": "stream",
     "text": [
      "\r",
      " 98%|█████████▊| 591/600 [58:02<01:09,  7.75s/it]"
     ]
    },
    {
     "name": "stdout",
     "output_type": "stream",
     "text": [
      "\tspread_disease()\t\t1.46 sec.\n",
      "\tscreen_for_disease()\t\t0.00 sec.\n",
      "\ttrack_stats()\t\t\t0.00 sec.\n",
      "[epoch=591]\tinfected=233\ttransmitters(visible+invisible)=466\n",
      "\n",
      "\n",
      "radiuses 4 5\n",
      "resp.sum 58934\n",
      "resp.sum 50712\n",
      "\tdecrement_timers()\t\t0.00 sec.\n",
      "\twalk_iter()\t\t\t6.16 sec.\n",
      "\tmake_disease_matrices()\t\t0.01 sec.\n"
     ]
    },
    {
     "name": "stderr",
     "output_type": "stream",
     "text": [
      "\r",
      " 99%|█████████▊| 592/600 [58:10<01:01,  7.71s/it]"
     ]
    },
    {
     "name": "stdout",
     "output_type": "stream",
     "text": [
      "\tspread_disease()\t\t1.45 sec.\n",
      "\tscreen_for_disease()\t\t0.00 sec.\n",
      "\ttrack_stats()\t\t\t0.00 sec.\n",
      "[epoch=592]\tinfected=247\ttransmitters(visible+invisible)=459\n",
      "\n",
      "\n",
      "radiuses 4 5\n",
      "resp.sum 59007\n",
      "resp.sum 50712\n",
      "\tdecrement_timers()\t\t0.01 sec.\n",
      "\twalk_iter()\t\t\t6.23 sec.\n",
      "\tmake_disease_matrices()\t\t0.01 sec.\n"
     ]
    },
    {
     "name": "stderr",
     "output_type": "stream",
     "text": [
      "\r",
      " 99%|█████████▉| 593/600 [58:18<00:54,  7.72s/it]"
     ]
    },
    {
     "name": "stdout",
     "output_type": "stream",
     "text": [
      "\tspread_disease()\t\t1.46 sec.\n",
      "\tscreen_for_disease()\t\t0.00 sec.\n",
      "\ttrack_stats()\t\t\t0.00 sec.\n",
      "[epoch=593]\tinfected=246\ttransmitters(visible+invisible)=467\n",
      "\n",
      "\n",
      "radiuses 4 5\n",
      "resp.sum 59673\n",
      "resp.sum 50712\n",
      "\tdecrement_timers()\t\t0.00 sec.\n",
      "\twalk_iter()\t\t\t6.26 sec.\n",
      "\tmake_disease_matrices()\t\t0.01 sec.\n"
     ]
    },
    {
     "name": "stderr",
     "output_type": "stream",
     "text": [
      "\r",
      " 99%|█████████▉| 594/600 [58:25<00:46,  7.71s/it]"
     ]
    },
    {
     "name": "stdout",
     "output_type": "stream",
     "text": [
      "\tspread_disease()\t\t1.42 sec.\n",
      "\tscreen_for_disease()\t\t0.00 sec.\n",
      "\ttrack_stats()\t\t\t0.00 sec.\n",
      "[epoch=594]\tinfected=243\ttransmitters(visible+invisible)=467\n",
      "\n",
      "\n",
      "radiuses 4 5\n",
      "resp.sum 59909\n",
      "resp.sum 50712\n",
      "\tdecrement_timers()\t\t0.00 sec.\n",
      "\twalk_iter()\t\t\t6.23 sec.\n",
      "\tmake_disease_matrices()\t\t0.01 sec.\n"
     ]
    },
    {
     "name": "stderr",
     "output_type": "stream",
     "text": [
      "\r",
      " 99%|█████████▉| 595/600 [58:33<00:38,  7.74s/it]"
     ]
    },
    {
     "name": "stdout",
     "output_type": "stream",
     "text": [
      "\tspread_disease()\t\t1.56 sec.\n",
      "\tscreen_for_disease()\t\t0.01 sec.\n",
      "\ttrack_stats()\t\t\t0.00 sec.\n",
      "[epoch=595]\tinfected=246\ttransmitters(visible+invisible)=467\n",
      "\n",
      "\n",
      "radiuses 4 5\n",
      "resp.sum 59673\n",
      "resp.sum 50712\n",
      "\tdecrement_timers()\t\t0.01 sec.\n",
      "\twalk_iter()\t\t\t6.11 sec.\n",
      "\tmake_disease_matrices()\t\t0.01 sec.\n"
     ]
    },
    {
     "name": "stderr",
     "output_type": "stream",
     "text": [
      "\r",
      " 99%|█████████▉| 596/600 [58:41<00:30,  7.72s/it]"
     ]
    },
    {
     "name": "stdout",
     "output_type": "stream",
     "text": [
      "\tspread_disease()\t\t1.52 sec.\n",
      "\tscreen_for_disease()\t\t0.00 sec.\n",
      "\ttrack_stats()\t\t\t0.00 sec.\n",
      "[epoch=596]\tinfected=246\ttransmitters(visible+invisible)=470\n",
      "\n",
      "\n",
      "radiuses 4 5\n",
      "resp.sum 59733\n",
      "resp.sum 50712\n",
      "\tdecrement_timers()\t\t0.00 sec.\n",
      "\twalk_iter()\t\t\t6.28 sec.\n",
      "\tmake_disease_matrices()\t\t0.01 sec.\n"
     ]
    },
    {
     "name": "stderr",
     "output_type": "stream",
     "text": [
      "\r",
      "100%|█████████▉| 597/600 [58:49<00:23,  7.76s/it]"
     ]
    },
    {
     "name": "stdout",
     "output_type": "stream",
     "text": [
      "\tspread_disease()\t\t1.55 sec.\n",
      "\tscreen_for_disease()\t\t0.00 sec.\n",
      "\ttrack_stats()\t\t\t0.00 sec.\n",
      "[epoch=597]\tinfected=236\ttransmitters(visible+invisible)=479\n",
      "\n",
      "\n",
      "radiuses 4 5\n",
      "resp.sum 60076\n",
      "resp.sum 50712\n",
      "\tdecrement_timers()\t\t0.00 sec.\n",
      "\twalk_iter()\t\t\t6.21 sec.\n",
      "\tmake_disease_matrices()\t\t0.01 sec.\n"
     ]
    },
    {
     "name": "stderr",
     "output_type": "stream",
     "text": [
      "\r",
      "100%|█████████▉| 598/600 [58:56<00:15,  7.73s/it]"
     ]
    },
    {
     "name": "stdout",
     "output_type": "stream",
     "text": [
      "\tspread_disease()\t\t1.39 sec.\n",
      "\tscreen_for_disease()\t\t0.00 sec.\n",
      "\ttrack_stats()\t\t\t0.00 sec.\n",
      "[epoch=598]\tinfected=228\ttransmitters(visible+invisible)=487\n",
      "\n",
      "\n",
      "radiuses 4 5\n",
      "resp.sum 60235\n",
      "resp.sum 50712\n",
      "\tdecrement_timers()\t\t0.00 sec.\n",
      "\twalk_iter()\t\t\t6.21 sec.\n",
      "\tmake_disease_matrices()\t\t0.01 sec.\n"
     ]
    },
    {
     "name": "stderr",
     "output_type": "stream",
     "text": [
      "\r",
      "100%|█████████▉| 599/600 [59:04<00:07,  7.73s/it]"
     ]
    },
    {
     "name": "stdout",
     "output_type": "stream",
     "text": [
      "\tspread_disease()\t\t1.49 sec.\n",
      "\tscreen_for_disease()\t\t0.01 sec.\n",
      "\ttrack_stats()\t\t\t0.00 sec.\n",
      "[epoch=599]\tinfected=230\ttransmitters(visible+invisible)=485\n",
      "\n",
      "\n",
      "radiuses 4 5\n",
      "resp.sum 60287\n",
      "resp.sum 50712\n",
      "\tdecrement_timers()\t\t0.01 sec.\n",
      "\twalk_iter()\t\t\t6.17 sec.\n",
      "\tmake_disease_matrices()\t\t0.01 sec.\n"
     ]
    },
    {
     "name": "stderr",
     "output_type": "stream",
     "text": [
      "100%|██████████| 600/600 [59:12<00:00,  5.92s/it]"
     ]
    },
    {
     "name": "stdout",
     "output_type": "stream",
     "text": [
      "\tspread_disease()\t\t1.45 sec.\n",
      "\tscreen_for_disease()\t\t0.00 sec.\n",
      "\ttrack_stats()\t\t\t0.00 sec.\n",
      "[epoch=600]\tinfected=242\ttransmitters(visible+invisible)=480\n",
      "\n",
      "\n"
     ]
    },
    {
     "name": "stderr",
     "output_type": "stream",
     "text": [
      "\n"
     ]
    }
   ],
   "source": [
    "import os\n",
    "import time\n",
    "import numpy as np\n",
    "import pandas as pd\n",
    "from collections import defaultdict\n",
    "from tqdm import tqdm\n",
    "import matplotlib.pyplot as plt\n",
    "\n",
    "from multiprocessing.dummy import Pool as ThreadPool\n",
    "# Turn interactive plotting off\n",
    "plt.ioff()\n",
    "\n",
    "from models import *\n",
    "\n",
    "DEBUG = True                   # Output each main function runtime\n",
    "SAVE_DATA = True                # Flag to save data below (dataframe + plots)\n",
    "# PATH = r'C:\\Users\\Владислав\\Downloads\\Transport-networks-main'ё  # Base path (existing) where subfolder with results will be created\n",
    "# PATH = r'C:\\Users\\va\\Documents\\Transport-networks'\n",
    "\n",
    "PATH = '/home/sergey/projects/gasnich/Transport-networks'\n",
    "\n",
    "# 1 person = 100 people\n",
    "init_transmitters_num = 2      # Initial infected people number\n",
    "\n",
    "timer_min = 12                   # Min steps (epochs) until infected person can transmit a disease (exception: initial group)\n",
    "timer_max = 27                  # Max steps (epochs) until infected person can transmit a disease (exception: initial group)\n",
    "transmission_time = 42          # Disease lifespan\n",
    "\n",
    "# 1 distance point = 100 meters\n",
    "neighbourhood_radius = 5        # Maximum distance allowed to travel for each person from his initial location\n",
    "\n",
    "# 1 epoch = 8 hours\n",
    "epochs = 600                    # Steps to perform during each people 1) travel and 2) spread the disease\n",
    "\n",
    "radius = 4                      # Maximum radius for person to travel in single epoch\n",
    "spread_radius = 1               # Disease spreading radius\n",
    "infect_prob = 0.1              # Base probability for disease to transmit\n",
    "death_prob = 0.02               # Death probability after disease\n",
    "\n",
    "# (x, z, S, j, u)\n",
    "transmitters_test_quota = 1     # Number of tests for visible transmitters to have possibility to move to quarantine zone with less death rate\n",
    "others_test_quota = 10000       # Number of tests for others to have possibility to move to quarantine zone with less death rate\n",
    "quarantine_zone_size = 300      # Quarantine zone's capacity\n",
    "remote_workers = 0.4            # Fraction of remote workers\n",
    "responsible_people = 0.5       # Fraction of responsible people (which have lower probability of getting ill)\n",
    "quarantine_start = 60\n",
    "# Path to plot of disease (exposure) matrix before transmitting a disease in each epoch\n",
    "plot_disease_matrix = os.path.join(PATH, 'radius_{}_spread_radius_{}_infected_prob_{}'.format(str(radius).replace('.', '_'),\n",
    "                                                                                           str(spread_radius).replace('.', '_'),\n",
    "                                                                                           str(infect_prob).replace('.', '_')))\n",
    "# Create this subfolder\n",
    "try:\n",
    "    os.mkdir(plot_disease_matrix)\n",
    "except FileExistsError:\n",
    "    pass\n",
    "\n",
    "num_threads = 12\n",
    "\n",
    "# Perform simulation (without city plots in each epoch)\n",
    "timer_dict, healthy_tracker, infected_tracker, invisible_transmitters_tracker, \\\n",
    "transmitters_tracker, cured_tracker, dead_tracker, quarantine_tracker = simulate_transportations_with_infections(init_transmitters_num, \\\n",
    "                                                                                                remote_workers, \\\n",
    "                                                                                                responsible_people, \\\n",
    "                                                                                                timer_min, \\\n",
    "                                                                                                timer_max, \\\n",
    "                                                                                                transmission_time, \\\n",
    "                                                                                                neighbourhood_radius, \\\n",
    "                                                                                                infect_prob, \\\n",
    "                                                                                                death_prob, \\\n",
    "                                                                                                radius, \\\n",
    "                                                                                                spread_radius, \\\n",
    "                                                                                                quarantine_zone_size, \\\n",
    "                                                                                                transmitters_test_quota, \\\n",
    "                                                                                                others_test_quota, \\\n",
    "                                                                                                epochs, \\\n",
    "                                                                                                DEBUG, \\\n",
    "                                                                                                None,\n",
    "                                                                                                num_threads=num_threads,\n",
    "                                                                                                quarantine_start=quarantine_start)\n",
    "\n"
   ]
  },
  {
   "cell_type": "code",
   "execution_count": 2,
   "metadata": {},
   "outputs": [],
   "source": [
    "def real_data_preparation(mos_odl_data_name, mos_data_name, start_day=12, epoch_scale=3, people_scale=0.01):\n",
    "    mos_obl_data = pd.read_csv(mos_odl_data_name)\n",
    "    mos_data = pd.read_csv(mos_data_name)\n",
    "    mos_obl_cum_cases = mos_obl_data.values[:,3:].sum(-1)\n",
    "    mos_obl_cum_dates = mos_obl_data.values[:,2]\n",
    "    mos_dates = mos_data.values[:,-1]\n",
    "    # mos_data = mos_data.values[:,1]\n",
    "    mos_dates\n",
    "    observed_dates = set([i for i in mos_obl_cum_dates if i in mos_dates])\n",
    "    mos_observed_indexes = np.arange(mos_dates.shape[0])[np.array([i in observed_dates for i in mos_dates])]\n",
    "    mos_obl_obs_index_list = []\n",
    "    for i in observed_dates:\n",
    "        for n, j in enumerate(mos_obl_cum_dates):\n",
    "            if j == i:\n",
    "                mos_obl_obs_index_list += [n]\n",
    "                break\n",
    "    # mos_obl_observed_indexes = np.arange(mos_obl_cum_dates.shape[0])[np.array([i in observed_dates for i in mos_obl_cum_dates])]\n",
    "    mos_and_obl_cum_data = mos_data.values[:,1][mos_observed_indexes] + mos_obl_cum_cases[np.array(mos_obl_obs_index_list)]\n",
    "    observed_epoch = (np.sort(np.array(list(observed_dates))) - min(observed_dates) + start_day) * epoch_scale\n",
    "    return (mos_and_obl_cum_data * people_scale).astype(np.int), observed_epoch\n",
    "\n",
    "\n",
    "mos_odl_data_name = 'mos_obl_data.csv'\n",
    "mos_data_name = 'mos_data.csv'\n",
    "real_cases, real_epoch = real_data_preparation(mos_odl_data_name, mos_data_name)"
   ]
  },
  {
   "cell_type": "code",
   "execution_count": 4,
   "metadata": {},
   "outputs": [
    {
     "data": {
      "image/png": "[encoded data removed]",
      "text/plain": [
       "<Figure size 1080x720 with 2 Axes>"
      ]
     },
     "metadata": {
      "needs_background": "light"
     },
     "output_type": "display_data"
    }
   ],
   "source": [
    "# Save detailed stats\n",
    "df = pd.DataFrame(np.array([healthy_tracker, infected_tracker, invisible_transmitters_tracker, \\\n",
    "                            transmitters_tracker, cured_tracker, dead_tracker, quarantine_tracker]).T,\n",
    "                  columns=['healthy', 'infected', 'invisible_transmitters', 'transmitters', 'cured', 'dead', 'quarantined'])\n",
    "if SAVE_DATA:\n",
    "    df.to_csv(os.path.join(plot_disease_matrix, 'stats.csv'), sep='\\t')\n",
    "\n",
    "# Save progress plot\n",
    "fig, ax = plt.subplots(nrows=2, figsize=(15, 2 * 5))\n",
    "\n",
    "ax[0].plot(infected_tracker, '.-', c='tab:blue', label='Infected people')\n",
    "ax[0].plot(invisible_transmitters_tracker + transmitters_tracker, '.-', c='tab:red', label='All transmitters (visible + invisible)')\n",
    "ax[0].plot(dead_tracker, '.-', c='black', label='Deceased')\n",
    "# ax[0].plot(cured_tracker, '.-', c='tab:green', label='Cured')\n",
    "ax[0].plot(quarantine_tracker, '.-', c='tab:orange', label='Quarantined')\n",
    "# ax[0].plot(invisible_transmitters_tracker + transmitters_tracker + cured_tracker, '.-', c='tab:cyan', label='All_people_were_infected')\n",
    "\n",
    "ax[0].set_ylabel('People')\n",
    "ax[0].set_xlabel('Time')\n",
    "ax[0].set_title(f'People by groups vs. time (radius={radius}, spread_radius={spread_radius}, infect_prob={infect_prob})')\n",
    "ax[0].grid()\n",
    "ax[0].legend()\n",
    "\n",
    "ax[1].plot(infected_tracker + invisible_transmitters_tracker + transmitters_tracker + dead_tracker + cured_tracker, '.-',\n",
    "           c='violet', label='People that contacted a disease')\n",
    "\n",
    "ax[1].set_ylabel('People')\n",
    "ax[1].set_xlabel('Time')\n",
    "ax[1].set_title(f'People that contacted a disease vs. time (radius={radius}, spread_radius={spread_radius}, infect_prob={infect_prob})')\n",
    "ax[1].plot(real_epoch[:np.searchsorted(real_epoch, len(infected_tracker))], real_cases[:np.searchsorted(real_epoch, len(infected_tracker))], '.-', c='red', label='Real people that contacted a disease')\n",
    "ax[1].grid()\n",
    "ax[1].legend()\n",
    "\n",
    "if SAVE_DATA:\n",
    "    fig.savefig(os.path.join(plot_disease_matrix, 'stats_ts.png'), dpi=300);\n",
    "\n",
    "plt.show()"
   ]
  },
  {
   "cell_type": "code",
   "execution_count": 14,
   "metadata": {},
   "outputs": [
    {
     "data": {
      "image/png": "[encoded data removed]",
      "text/plain": [
       "<Figure size 1080x720 with 2 Axes>"
      ]
     },
     "metadata": {
      "needs_background": "light"
     },
     "output_type": "display_data"
    }
   ],
   "source": [
    "# Save detailed stats\n",
    "df = pd.DataFrame(np.array([healthy_tracker, infected_tracker, invisible_transmitters_tracker, \\\n",
    "                            transmitters_tracker, cured_tracker, dead_tracker, quarantine_tracker]).T,\n",
    "                  columns=['healthy', 'infected', 'invisible_transmitters', 'transmitters', 'cured', 'dead', 'quarantined'])\n",
    "if SAVE_DATA:\n",
    "    df.to_csv(os.path.join(plot_disease_matrix, 'stats.csv'), sep='\\t')\n",
    "\n",
    "# Save progress plot\n",
    "fig, ax = plt.subplots(nrows=2, figsize=(15, 2 * 5))\n",
    "\n",
    "ax[0].plot(infected_tracker, '.-', c='tab:blue', label='Infected people')\n",
    "ax[0].plot(invisible_transmitters_tracker + transmitters_tracker, '.-', c='tab:red', label='All transmitters (visible + invisible)')\n",
    "ax[0].plot(dead_tracker, '.-', c='black', label='Deceased')\n",
    "ax[0].plot(cured_tracker, '.-', c='tab:green', label='Cured')\n",
    "ax[0].plot(quarantine_tracker, '.-', c='tab:orange', label='Quarantined')\n",
    "ax[0].plot(invisible_transmitters_tracker + transmitters_tracker + cured_tracker, '.-', c='tab:cyan', label='All_people_were_infected')\n",
    "\n",
    "ax[0].set_ylabel('People')\n",
    "ax[0].set_xlabel('Time')\n",
    "ax[0].set_title(f'People by groups vs. time (radius={radius}, spread_radius={spread_radius}, infect_prob={infect_prob})')\n",
    "ax[0].grid()\n",
    "ax[0].legend()\n",
    "\n",
    "ax[1].plot(infected_tracker + invisible_transmitters_tracker + transmitters_tracker + dead_tracker + cured_tracker, '.-',\n",
    "           c='violet', label='People that contacted a disease')\n",
    "\n",
    "ax[1].set_ylabel('People')\n",
    "ax[1].set_xlabel('Time')\n",
    "ax[1].set_title(f'People that contacted a disease vs. time (radius={radius}, spread_radius={spread_radius}, infect_prob={infect_prob})')\n",
    "ax[1].plot(real_epoch[:np.searchsorted(real_epoch, len(infected_tracker))], real_cases[:np.searchsorted(real_epoch, len(infected_tracker))], '.-', c='red', label='Real people that contacted a disease')\n",
    "ax[1].grid()\n",
    "ax[1].legend()\n",
    "\n",
    "if SAVE_DATA:\n",
    "    fig.savefig(os.path.join(plot_disease_matrix, 'stats_ts.png'), dpi=300);\n",
    "\n",
    "plt.show()"
   ]
  },
  {
   "cell_type": "code",
   "execution_count": 11,
   "metadata": {},
   "outputs": [
    {
     "data": {
      "image/png": "[encoded data removed]",
      "text/plain": [
       "<Figure size 1080x720 with 2 Axes>"
      ]
     },
     "metadata": {
      "needs_background": "light"
     },
     "output_type": "display_data"
    }
   ],
   "source": [
    "# Save detailed stats\n",
    "df = pd.DataFrame(np.array([healthy_tracker, infected_tracker, invisible_transmitters_tracker, \\\n",
    "                            transmitters_tracker, cured_tracker, dead_tracker, quarantine_tracker]).T,\n",
    "                  columns=['healthy', 'infected', 'invisible_transmitters', 'transmitters', 'cured', 'dead', 'quarantined'])\n",
    "if SAVE_DATA:\n",
    "    df.to_csv(os.path.join(plot_disease_matrix, 'stats.csv'), sep='\\t')\n",
    "\n",
    "# Save progress plot\n",
    "fig, ax = plt.subplots(nrows=2, figsize=(15, 2 * 5))\n",
    "\n",
    "ax[0].plot(infected_tracker, '.-', c='tab:blue', label='Infected people')\n",
    "ax[0].plot(invisible_transmitters_tracker + transmitters_tracker, '.-', c='tab:red', label='All transmitters (visible + invisible)')\n",
    "ax[0].plot(dead_tracker, '.-', c='black', label='Deceased')\n",
    "ax[0].plot(cured_tracker, '.-', c='tab:green', label='Cured')\n",
    "ax[0].plot(quarantine_tracker, '.-', c='tab:orange', label='Quarantined')\n",
    "ax[0].plot(invisible_transmitters_tracker + transmitters_tracker + cured_tracker, '.-', c='tab:cyan', label='All_people_were_infected')\n",
    "\n",
    "ax[0].set_ylabel('People')\n",
    "ax[0].set_xlabel('Time')\n",
    "ax[0].set_title(f'People by groups vs. time (radius={radius}, spread_radius={spread_radius}, infect_prob={infect_prob})')\n",
    "ax[0].grid()\n",
    "ax[0].legend()\n",
    "\n",
    "ax[1].plot(infected_tracker + invisible_transmitters_tracker + transmitters_tracker + dead_tracker + cured_tracker, '.-',\n",
    "           c='violet', label='People that contacted a disease')\n",
    "\n",
    "ax[1].set_ylabel('People')\n",
    "ax[1].set_xlabel('Time')\n",
    "ax[1].set_title(f'People that contacted a disease vs. time (radius={radius}, spread_radius={spread_radius}, infect_prob={infect_prob})')\n",
    "ax[1].plot(real_epoch[:np.searchsorted(real_epoch, len(infected_tracker))], real_cases[:np.searchsorted(real_epoch, len(infected_tracker))], '.-', c='red', label='Real people that contacted a disease')\n",
    "ax[1].grid()\n",
    "ax[1].legend()\n",
    "\n",
    "if SAVE_DATA:\n",
    "    fig.savefig(os.path.join(plot_disease_matrix, 'stats_ts.png'), dpi=300);\n",
    "\n",
    "plt.show()"
   ]
  },
  {
   "cell_type": "code",
   "execution_count": null,
   "metadata": {},
   "outputs": [],
   "source": []
  }
 ],
 "metadata": {
  "kernelspec": {
   "display_name": "Python 3",
   "language": "python",
   "name": "python3"
  },
  "language_info": {
   "codemirror_mode": {
    "name": "ipython",
    "version": 3
   },
   "file_extension": ".py",
   "mimetype": "text/x-python",
   "name": "python",
   "nbconvert_exporter": "python",
   "pygments_lexer": "ipython3",
   "version": "3.6.9"
  }
 },
 "nbformat": 4,
 "nbformat_minor": 4
}
