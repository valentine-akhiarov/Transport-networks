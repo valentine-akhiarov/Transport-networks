{
 "cells": [
  {
   "cell_type": "code",
   "execution_count": 1,
   "metadata": {
    "scrolled": true
   },
   "outputs": [
    {
     "name": "stderr",
     "output_type": "stream",
     "text": [
      "\r",
      "  0%|          | 0/600 [00:00<?, ?it/s]"
     ]
    },
    {
     "name": "stdout",
     "output_type": "stream",
     "text": [
      "radiuses 3 4\n",
      "resp.sum 0\n",
      "resp.sum 0\n",
      "\twalk_iter()\t\t\t4.01 sec.\n",
      "\tmake_disease_matrices()\t\t0.00 sec.\n"
     ]
    },
    {
     "name": "stderr",
     "output_type": "stream",
     "text": [
      "\r",
      "  0%|          | 1/600 [00:05<54:45,  5.49s/it]"
     ]
    },
    {
     "name": "stdout",
     "output_type": "stream",
     "text": [
      "\tspread_disease()\t\t1.47 sec.\n",
      "\tscreen_for_disease()\t\t0.00 sec.\n",
      "\ttrack_stats()\t\t\t0.00 sec.\n",
      "[epoch=1]\tinfected=1\ttransmitters(visible+invisible)=2\n",
      "\n",
      "\n",
      "radiuses 3 4\n",
      "resp.sum 0\n",
      "resp.sum 0\n",
      "\tdecrement_timers()\t\t0.00 sec.\n",
      "\twalk_iter()\t\t\t4.13 sec.\n",
      "\tmake_disease_matrices()\t\t0.00 sec.\n"
     ]
    },
    {
     "name": "stderr",
     "output_type": "stream",
     "text": [
      "\r",
      "  0%|          | 2/600 [00:11<54:52,  5.51s/it]"
     ]
    },
    {
     "name": "stdout",
     "output_type": "stream",
     "text": [
      "\tspread_disease()\t\t1.41 sec.\n",
      "\tscreen_for_disease()\t\t0.00 sec.\n",
      "\ttrack_stats()\t\t\t0.00 sec.\n",
      "[epoch=2]\tinfected=1\ttransmitters(visible+invisible)=2\n",
      "\n",
      "\n",
      "radiuses 3 4\n",
      "resp.sum 0\n",
      "resp.sum 0\n",
      "\tdecrement_timers()\t\t0.00 sec.\n",
      "\twalk_iter()\t\t\t4.35 sec.\n",
      "\tmake_disease_matrices()\t\t0.00 sec.\n"
     ]
    },
    {
     "name": "stderr",
     "output_type": "stream",
     "text": [
      "\r",
      "  0%|          | 3/600 [00:16<55:24,  5.57s/it]"
     ]
    },
    {
     "name": "stdout",
     "output_type": "stream",
     "text": [
      "\tspread_disease()\t\t1.36 sec.\n",
      "\tscreen_for_disease()\t\t0.00 sec.\n",
      "\ttrack_stats()\t\t\t0.00 sec.\n",
      "[epoch=3]\tinfected=2\ttransmitters(visible+invisible)=2\n",
      "\n",
      "\n",
      "radiuses 3 4\n",
      "resp.sum 0\n",
      "resp.sum 0\n",
      "\tdecrement_timers()\t\t0.00 sec.\n",
      "\twalk_iter()\t\t\t4.45 sec.\n",
      "\tmake_disease_matrices()\t\t0.00 sec.\n"
     ]
    },
    {
     "name": "stderr",
     "output_type": "stream",
     "text": [
      "\r",
      "  1%|          | 4/600 [00:22<56:53,  5.73s/it]"
     ]
    },
    {
     "name": "stdout",
     "output_type": "stream",
     "text": [
      "\tspread_disease()\t\t1.63 sec.\n",
      "\tscreen_for_disease()\t\t0.00 sec.\n",
      "\ttrack_stats()\t\t\t0.00 sec.\n",
      "[epoch=4]\tinfected=3\ttransmitters(visible+invisible)=2\n",
      "\n",
      "\n",
      "radiuses 3 4\n",
      "resp.sum 0\n",
      "resp.sum 0\n",
      "\tdecrement_timers()\t\t0.00 sec.\n",
      "\twalk_iter()\t\t\t4.68 sec.\n",
      "\tmake_disease_matrices()\t\t0.00 sec.\n"
     ]
    },
    {
     "name": "stderr",
     "output_type": "stream",
     "text": [
      "\r",
      "  1%|          | 5/600 [00:29<58:10,  5.87s/it]"
     ]
    },
    {
     "name": "stdout",
     "output_type": "stream",
     "text": [
      "\tspread_disease()\t\t1.49 sec.\n",
      "\tscreen_for_disease()\t\t0.00 sec.\n",
      "\ttrack_stats()\t\t\t0.00 sec.\n",
      "[epoch=5]\tinfected=4\ttransmitters(visible+invisible)=2\n",
      "\n",
      "\n",
      "radiuses 3 4\n",
      "resp.sum 0\n",
      "resp.sum 0\n",
      "\tdecrement_timers()\t\t0.00 sec.\n",
      "\twalk_iter()\t\t\t4.50 sec.\n",
      "\tmake_disease_matrices()\t\t0.00 sec.\n"
     ]
    },
    {
     "name": "stderr",
     "output_type": "stream",
     "text": [
      "\r",
      "  1%|          | 6/600 [00:35<58:29,  5.91s/it]"
     ]
    },
    {
     "name": "stdout",
     "output_type": "stream",
     "text": [
      "\tspread_disease()\t\t1.49 sec.\n",
      "\tscreen_for_disease()\t\t0.00 sec.\n",
      "\ttrack_stats()\t\t\t0.00 sec.\n",
      "[epoch=6]\tinfected=5\ttransmitters(visible+invisible)=2\n",
      "\n",
      "\n",
      "radiuses 3 4\n",
      "resp.sum 0\n",
      "resp.sum 0\n",
      "\tdecrement_timers()\t\t0.00 sec.\n",
      "\twalk_iter()\t\t\t4.52 sec.\n",
      "\tmake_disease_matrices()\t\t0.00 sec.\n"
     ]
    },
    {
     "name": "stderr",
     "output_type": "stream",
     "text": [
      "\r",
      "  1%|          | 7/600 [00:41<58:41,  5.94s/it]"
     ]
    },
    {
     "name": "stdout",
     "output_type": "stream",
     "text": [
      "\tspread_disease()\t\t1.47 sec.\n",
      "\tscreen_for_disease()\t\t0.00 sec.\n",
      "\ttrack_stats()\t\t\t0.00 sec.\n",
      "[epoch=7]\tinfected=6\ttransmitters(visible+invisible)=2\n",
      "\n",
      "\n",
      "radiuses 3 4\n",
      "resp.sum 0\n",
      "resp.sum 0\n",
      "\tdecrement_timers()\t\t0.00 sec.\n",
      "\twalk_iter()\t\t\t4.57 sec.\n",
      "\tmake_disease_matrices()\t\t0.00 sec.\n"
     ]
    },
    {
     "name": "stderr",
     "output_type": "stream",
     "text": [
      "\r",
      "  1%|▏         | 8/600 [00:47<58:52,  5.97s/it]"
     ]
    },
    {
     "name": "stdout",
     "output_type": "stream",
     "text": [
      "\tspread_disease()\t\t1.45 sec.\n",
      "\tscreen_for_disease()\t\t0.00 sec.\n",
      "\ttrack_stats()\t\t\t0.00 sec.\n",
      "[epoch=8]\tinfected=6\ttransmitters(visible+invisible)=2\n",
      "\n",
      "\n",
      "radiuses 3 4\n",
      "resp.sum 0\n",
      "resp.sum 0\n",
      "\tdecrement_timers()\t\t0.00 sec.\n",
      "\twalk_iter()\t\t\t4.49 sec.\n",
      "\tmake_disease_matrices()\t\t0.00 sec.\n"
     ]
    },
    {
     "name": "stderr",
     "output_type": "stream",
     "text": [
      "\r",
      "  2%|▏         | 9/600 [00:53<58:53,  5.98s/it]"
     ]
    },
    {
     "name": "stdout",
     "output_type": "stream",
     "text": [
      "\tspread_disease()\t\t1.50 sec.\n",
      "\tscreen_for_disease()\t\t0.00 sec.\n",
      "\ttrack_stats()\t\t\t0.00 sec.\n",
      "[epoch=9]\tinfected=7\ttransmitters(visible+invisible)=2\n",
      "\n",
      "\n",
      "radiuses 3 4\n",
      "resp.sum 0\n",
      "resp.sum 0\n",
      "\tdecrement_timers()\t\t0.00 sec.\n",
      "\twalk_iter()\t\t\t4.74 sec.\n",
      "\tmake_disease_matrices()\t\t0.00 sec.\n"
     ]
    },
    {
     "name": "stderr",
     "output_type": "stream",
     "text": [
      "\r",
      "  2%|▏         | 10/600 [00:59<59:36,  6.06s/it]"
     ]
    },
    {
     "name": "stdout",
     "output_type": "stream",
     "text": [
      "\tspread_disease()\t\t1.50 sec.\n",
      "\tscreen_for_disease()\t\t0.00 sec.\n",
      "\ttrack_stats()\t\t\t0.00 sec.\n",
      "[epoch=10]\tinfected=7\ttransmitters(visible+invisible)=2\n",
      "\n",
      "\n",
      "radiuses 3 4\n",
      "resp.sum 0\n",
      "resp.sum 0\n",
      "\tdecrement_timers()\t\t0.00 sec.\n",
      "\twalk_iter()\t\t\t4.57 sec.\n",
      "\tmake_disease_matrices()\t\t0.00 sec.\n"
     ]
    },
    {
     "name": "stderr",
     "output_type": "stream",
     "text": [
      "\r",
      "  2%|▏         | 11/600 [01:05<59:30,  6.06s/it]"
     ]
    },
    {
     "name": "stdout",
     "output_type": "stream",
     "text": [
      "\tspread_disease()\t\t1.48 sec.\n",
      "\tscreen_for_disease()\t\t0.00 sec.\n",
      "\ttrack_stats()\t\t\t0.00 sec.\n",
      "[epoch=11]\tinfected=8\ttransmitters(visible+invisible)=2\n",
      "\n",
      "\n",
      "radiuses 3 4\n",
      "resp.sum 0\n",
      "resp.sum 0\n",
      "\tdecrement_timers()\t\t0.00 sec.\n",
      "\twalk_iter()\t\t\t4.52 sec.\n",
      "\tmake_disease_matrices()\t\t0.00 sec.\n"
     ]
    },
    {
     "name": "stderr",
     "output_type": "stream",
     "text": [
      "\r",
      "  2%|▏         | 12/600 [01:11<59:14,  6.05s/it]"
     ]
    },
    {
     "name": "stdout",
     "output_type": "stream",
     "text": [
      "\tspread_disease()\t\t1.46 sec.\n",
      "\tscreen_for_disease()\t\t0.00 sec.\n",
      "\ttrack_stats()\t\t\t0.00 sec.\n",
      "[epoch=12]\tinfected=9\ttransmitters(visible+invisible)=2\n",
      "\n",
      "\n",
      "radiuses 3 4\n",
      "resp.sum 0\n",
      "resp.sum 0\n",
      "\tdecrement_timers()\t\t0.00 sec.\n",
      "\twalk_iter()\t\t\t4.58 sec.\n",
      "\tmake_disease_matrices()\t\t0.00 sec.\n"
     ]
    },
    {
     "name": "stderr",
     "output_type": "stream",
     "text": [
      "\r",
      "  2%|▏         | 13/600 [01:17<59:18,  6.06s/it]"
     ]
    },
    {
     "name": "stdout",
     "output_type": "stream",
     "text": [
      "\tspread_disease()\t\t1.51 sec.\n",
      "\tscreen_for_disease()\t\t0.00 sec.\n",
      "\ttrack_stats()\t\t\t0.00 sec.\n",
      "[epoch=13]\tinfected=9\ttransmitters(visible+invisible)=2\n",
      "\n",
      "\n",
      "radiuses 3 4\n",
      "resp.sum 0\n",
      "resp.sum 0\n",
      "\tdecrement_timers()\t\t0.00 sec.\n",
      "\twalk_iter()\t\t\t4.55 sec.\n",
      "\tmake_disease_matrices()\t\t0.01 sec.\n"
     ]
    },
    {
     "name": "stderr",
     "output_type": "stream",
     "text": [
      "\r",
      "  2%|▏         | 14/600 [01:23<59:38,  6.11s/it]"
     ]
    },
    {
     "name": "stdout",
     "output_type": "stream",
     "text": [
      "\tspread_disease()\t\t1.64 sec.\n",
      "\tscreen_for_disease()\t\t0.00 sec.\n",
      "\ttrack_stats()\t\t\t0.00 sec.\n",
      "[epoch=14]\tinfected=10\ttransmitters(visible+invisible)=2\n",
      "\n",
      "\n",
      "radiuses 3 4\n",
      "resp.sum 0\n",
      "resp.sum 0\n",
      "\tdecrement_timers()\t\t0.00 sec.\n",
      "\twalk_iter()\t\t\t4.77 sec.\n",
      "\tmake_disease_matrices()\t\t0.00 sec.\n"
     ]
    },
    {
     "name": "stderr",
     "output_type": "stream",
     "text": [
      "\r",
      "  2%|▎         | 15/600 [01:30<1:00:03,  6.16s/it]"
     ]
    },
    {
     "name": "stdout",
     "output_type": "stream",
     "text": [
      "\tspread_disease()\t\t1.49 sec.\n",
      "\tscreen_for_disease()\t\t0.00 sec.\n",
      "\ttrack_stats()\t\t\t0.00 sec.\n",
      "[epoch=15]\tinfected=12\ttransmitters(visible+invisible)=2\n",
      "\n",
      "\n",
      "radiuses 3 4\n",
      "resp.sum 0\n",
      "resp.sum 0\n",
      "\tdecrement_timers()\t\t0.00 sec.\n",
      "\twalk_iter()\t\t\t4.48 sec.\n",
      "\tmake_disease_matrices()\t\t0.00 sec.\n"
     ]
    },
    {
     "name": "stderr",
     "output_type": "stream",
     "text": [
      "\r",
      "  3%|▎         | 16/600 [01:36<59:26,  6.11s/it]  "
     ]
    },
    {
     "name": "stdout",
     "output_type": "stream",
     "text": [
      "\tspread_disease()\t\t1.49 sec.\n",
      "\tscreen_for_disease()\t\t0.00 sec.\n",
      "\ttrack_stats()\t\t\t0.00 sec.\n",
      "[epoch=16]\tinfected=12\ttransmitters(visible+invisible)=2\n",
      "\n",
      "\n",
      "radiuses 3 4\n",
      "resp.sum 0\n",
      "resp.sum 0\n",
      "\tdecrement_timers()\t\t0.00 sec.\n",
      "\twalk_iter()\t\t\t4.51 sec.\n",
      "\tmake_disease_matrices()\t\t0.00 sec.\n"
     ]
    },
    {
     "name": "stderr",
     "output_type": "stream",
     "text": [
      "\r",
      "  3%|▎         | 17/600 [01:42<59:10,  6.09s/it]"
     ]
    },
    {
     "name": "stdout",
     "output_type": "stream",
     "text": [
      "\tspread_disease()\t\t1.52 sec.\n",
      "\tscreen_for_disease()\t\t0.00 sec.\n",
      "\ttrack_stats()\t\t\t0.00 sec.\n",
      "[epoch=17]\tinfected=12\ttransmitters(visible+invisible)=2\n",
      "\n",
      "\n",
      "radiuses 3 4\n",
      "resp.sum 0\n",
      "resp.sum 0\n",
      "\tdecrement_timers()\t\t0.00 sec.\n",
      "\twalk_iter()\t\t\t4.52 sec.\n",
      "\tmake_disease_matrices()\t\t0.00 sec.\n"
     ]
    },
    {
     "name": "stderr",
     "output_type": "stream",
     "text": [
      "\r",
      "  3%|▎         | 18/600 [01:48<58:45,  6.06s/it]"
     ]
    },
    {
     "name": "stdout",
     "output_type": "stream",
     "text": [
      "\tspread_disease()\t\t1.44 sec.\n",
      "\tscreen_for_disease()\t\t0.00 sec.\n",
      "\ttrack_stats()\t\t\t0.00 sec.\n",
      "[epoch=18]\tinfected=12\ttransmitters(visible+invisible)=2\n",
      "\n",
      "\n",
      "radiuses 3 4\n",
      "resp.sum 0\n",
      "resp.sum 0\n",
      "\tdecrement_timers()\t\t0.00 sec.\n",
      "\twalk_iter()\t\t\t4.48 sec.\n",
      "\tmake_disease_matrices()\t\t0.00 sec.\n"
     ]
    },
    {
     "name": "stderr",
     "output_type": "stream",
     "text": [
      "\r",
      "  3%|▎         | 19/600 [01:54<58:25,  6.03s/it]"
     ]
    },
    {
     "name": "stdout",
     "output_type": "stream",
     "text": [
      "\tspread_disease()\t\t1.48 sec.\n",
      "\tscreen_for_disease()\t\t0.00 sec.\n",
      "\ttrack_stats()\t\t\t0.00 sec.\n",
      "[epoch=19]\tinfected=12\ttransmitters(visible+invisible)=2\n",
      "\n",
      "\n",
      "radiuses 3 4\n",
      "resp.sum 0\n",
      "resp.sum 0\n",
      "\tdecrement_timers()\t\t0.00 sec.\n",
      "\twalk_iter()\t\t\t4.49 sec.\n",
      "\tmake_disease_matrices()\t\t0.00 sec.\n"
     ]
    },
    {
     "name": "stderr",
     "output_type": "stream",
     "text": [
      "\r",
      "  3%|▎         | 20/600 [01:59<58:08,  6.01s/it]"
     ]
    },
    {
     "name": "stdout",
     "output_type": "stream",
     "text": [
      "\tspread_disease()\t\t1.46 sec.\n",
      "\tscreen_for_disease()\t\t0.00 sec.\n",
      "\ttrack_stats()\t\t\t0.00 sec.\n",
      "[epoch=20]\tinfected=12\ttransmitters(visible+invisible)=2\n",
      "\n",
      "\n",
      "radiuses 3 4\n",
      "resp.sum 0\n",
      "resp.sum 0\n",
      "\tdecrement_timers()\t\t0.00 sec.\n",
      "\twalk_iter()\t\t\t4.50 sec.\n",
      "\tmake_disease_matrices()\t\t0.00 sec.\n"
     ]
    },
    {
     "name": "stderr",
     "output_type": "stream",
     "text": [
      "\r",
      "  4%|▎         | 21/600 [02:06<58:03,  6.02s/it]"
     ]
    },
    {
     "name": "stdout",
     "output_type": "stream",
     "text": [
      "\tspread_disease()\t\t1.50 sec.\n",
      "\tscreen_for_disease()\t\t0.00 sec.\n",
      "\ttrack_stats()\t\t\t0.00 sec.\n",
      "[epoch=21]\tinfected=13\ttransmitters(visible+invisible)=2\n",
      "\n",
      "\n",
      "radiuses 3 4\n",
      "resp.sum 0\n",
      "resp.sum 0\n",
      "\tdecrement_timers()\t\t0.00 sec.\n",
      "\twalk_iter()\t\t\t4.49 sec.\n",
      "\tmake_disease_matrices()\t\t0.00 sec.\n"
     ]
    },
    {
     "name": "stderr",
     "output_type": "stream",
     "text": [
      "\r",
      "  4%|▎         | 22/600 [02:11<57:53,  6.01s/it]"
     ]
    },
    {
     "name": "stdout",
     "output_type": "stream",
     "text": [
      "\tspread_disease()\t\t1.49 sec.\n",
      "\tscreen_for_disease()\t\t0.00 sec.\n",
      "\ttrack_stats()\t\t\t0.00 sec.\n",
      "[epoch=22]\tinfected=13\ttransmitters(visible+invisible)=3\n",
      "\n",
      "\n",
      "radiuses 3 4\n",
      "resp.sum 0\n",
      "resp.sum 0\n",
      "\tdecrement_timers()\t\t0.00 sec.\n",
      "\twalk_iter()\t\t\t4.54 sec.\n",
      "\tmake_disease_matrices()\t\t0.00 sec.\n"
     ]
    },
    {
     "name": "stderr",
     "output_type": "stream",
     "text": [
      "\r",
      "  4%|▍         | 23/600 [02:18<57:53,  6.02s/it]"
     ]
    },
    {
     "name": "stdout",
     "output_type": "stream",
     "text": [
      "\tspread_disease()\t\t1.48 sec.\n",
      "\tscreen_for_disease()\t\t0.00 sec.\n",
      "\ttrack_stats()\t\t\t0.00 sec.\n",
      "[epoch=23]\tinfected=14\ttransmitters(visible+invisible)=4\n",
      "\n",
      "\n",
      "radiuses 3 4\n",
      "resp.sum 0\n",
      "resp.sum 0\n",
      "\tdecrement_timers()\t\t0.00 sec.\n",
      "\twalk_iter()\t\t\t4.54 sec.\n",
      "\tmake_disease_matrices()\t\t0.00 sec.\n"
     ]
    },
    {
     "name": "stderr",
     "output_type": "stream",
     "text": [
      "\r",
      "  4%|▍         | 24/600 [02:24<57:56,  6.04s/it]"
     ]
    },
    {
     "name": "stdout",
     "output_type": "stream",
     "text": [
      "\tspread_disease()\t\t1.52 sec.\n",
      "\tscreen_for_disease()\t\t0.00 sec.\n",
      "\ttrack_stats()\t\t\t0.00 sec.\n",
      "[epoch=24]\tinfected=13\ttransmitters(visible+invisible)=6\n",
      "\n",
      "\n",
      "radiuses 3 4\n",
      "resp.sum 0\n",
      "resp.sum 0\n",
      "\tdecrement_timers()\t\t0.00 sec.\n",
      "\twalk_iter()\t\t\t4.55 sec.\n",
      "\tmake_disease_matrices()\t\t0.00 sec.\n"
     ]
    },
    {
     "name": "stderr",
     "output_type": "stream",
     "text": [
      "\r",
      "  4%|▍         | 25/600 [02:30<57:56,  6.05s/it]"
     ]
    },
    {
     "name": "stdout",
     "output_type": "stream",
     "text": [
      "\tspread_disease()\t\t1.51 sec.\n",
      "\tscreen_for_disease()\t\t0.00 sec.\n",
      "\ttrack_stats()\t\t\t0.00 sec.\n",
      "[epoch=25]\tinfected=16\ttransmitters(visible+invisible)=7\n",
      "\n",
      "\n",
      "radiuses 3 4\n",
      "resp.sum 0\n",
      "resp.sum 0\n",
      "\tdecrement_timers()\t\t0.00 sec.\n",
      "\twalk_iter()\t\t\t4.52 sec.\n",
      "\tmake_disease_matrices()\t\t0.00 sec.\n"
     ]
    },
    {
     "name": "stderr",
     "output_type": "stream",
     "text": [
      "\r",
      "  4%|▍         | 26/600 [02:36<57:43,  6.03s/it]"
     ]
    },
    {
     "name": "stdout",
     "output_type": "stream",
     "text": [
      "\tspread_disease()\t\t1.47 sec.\n",
      "\tscreen_for_disease()\t\t0.00 sec.\n",
      "\ttrack_stats()\t\t\t0.00 sec.\n",
      "[epoch=26]\tinfected=20\ttransmitters(visible+invisible)=7\n",
      "\n",
      "\n",
      "radiuses 3 4\n",
      "resp.sum 0\n",
      "resp.sum 0\n",
      "\tdecrement_timers()\t\t0.00 sec.\n",
      "\twalk_iter()\t\t\t4.49 sec.\n",
      "\tmake_disease_matrices()\t\t0.00 sec.\n"
     ]
    },
    {
     "name": "stderr",
     "output_type": "stream",
     "text": [
      "\r",
      "  4%|▍         | 27/600 [02:42<57:31,  6.02s/it]"
     ]
    },
    {
     "name": "stdout",
     "output_type": "stream",
     "text": [
      "\tspread_disease()\t\t1.49 sec.\n",
      "\tscreen_for_disease()\t\t0.00 sec.\n",
      "\ttrack_stats()\t\t\t0.00 sec.\n",
      "[epoch=27]\tinfected=22\ttransmitters(visible+invisible)=7\n",
      "\n",
      "\n",
      "radiuses 3 4\n",
      "resp.sum 0\n",
      "resp.sum 0\n",
      "\tdecrement_timers()\t\t0.00 sec.\n",
      "\twalk_iter()\t\t\t4.53 sec.\n",
      "\tmake_disease_matrices()\t\t0.00 sec.\n"
     ]
    },
    {
     "name": "stderr",
     "output_type": "stream",
     "text": [
      "\r",
      "  5%|▍         | 28/600 [02:48<57:29,  6.03s/it]"
     ]
    },
    {
     "name": "stdout",
     "output_type": "stream",
     "text": [
      "\tspread_disease()\t\t1.51 sec.\n",
      "\tscreen_for_disease()\t\t0.00 sec.\n",
      "\ttrack_stats()\t\t\t0.00 sec.\n",
      "[epoch=28]\tinfected=22\ttransmitters(visible+invisible)=7\n",
      "\n",
      "\n",
      "radiuses 3 4\n",
      "resp.sum 0\n",
      "resp.sum 0\n",
      "\tdecrement_timers()\t\t0.00 sec.\n",
      "\twalk_iter()\t\t\t4.54 sec.\n",
      "\tmake_disease_matrices()\t\t0.00 sec.\n"
     ]
    },
    {
     "name": "stderr",
     "output_type": "stream",
     "text": [
      "\r",
      "  5%|▍         | 29/600 [02:54<57:49,  6.08s/it]"
     ]
    },
    {
     "name": "stdout",
     "output_type": "stream",
     "text": [
      "\tspread_disease()\t\t1.62 sec.\n",
      "\tscreen_for_disease()\t\t0.00 sec.\n",
      "\ttrack_stats()\t\t\t0.00 sec.\n",
      "[epoch=29]\tinfected=21\ttransmitters(visible+invisible)=9\n",
      "\n",
      "\n",
      "radiuses 3 4\n",
      "resp.sum 0\n",
      "resp.sum 0\n",
      "\tdecrement_timers()\t\t0.00 sec.\n",
      "\twalk_iter()\t\t\t4.56 sec.\n",
      "\tmake_disease_matrices()\t\t0.00 sec.\n"
     ]
    },
    {
     "name": "stderr",
     "output_type": "stream",
     "text": [
      "\r",
      "  5%|▌         | 30/600 [03:00<57:46,  6.08s/it]"
     ]
    },
    {
     "name": "stdout",
     "output_type": "stream",
     "text": [
      "\tspread_disease()\t\t1.52 sec.\n",
      "\tscreen_for_disease()\t\t0.00 sec.\n",
      "\ttrack_stats()\t\t\t0.00 sec.\n",
      "[epoch=30]\tinfected=21\ttransmitters(visible+invisible)=9\n",
      "\n",
      "\n",
      "radiuses 3 4\n",
      "resp.sum 11171\n",
      "resp.sum 0\n",
      "\tdecrement_timers()\t\t0.00 sec.\n",
      "\twalk_iter()\t\t\t4.55 sec.\n",
      "\tmake_disease_matrices()\t\t0.00 sec.\n"
     ]
    },
    {
     "name": "stderr",
     "output_type": "stream",
     "text": [
      "\r",
      "  5%|▌         | 31/600 [03:06<57:38,  6.08s/it]"
     ]
    },
    {
     "name": "stdout",
     "output_type": "stream",
     "text": [
      "\tspread_disease()\t\t1.50 sec.\n",
      "\tscreen_for_disease()\t\t0.00 sec.\n",
      "\ttrack_stats()\t\t\t0.00 sec.\n",
      "[epoch=31]\tinfected=22\ttransmitters(visible+invisible)=9\n",
      "\n",
      "\n",
      "radiuses 3 4\n",
      "resp.sum 11171\n",
      "resp.sum 0\n",
      "\tdecrement_timers()\t\t0.00 sec.\n",
      "\twalk_iter()\t\t\t4.50 sec.\n",
      "\tmake_disease_matrices()\t\t0.00 sec.\n"
     ]
    },
    {
     "name": "stderr",
     "output_type": "stream",
     "text": [
      "\r",
      "  5%|▌         | 32/600 [03:12<57:18,  6.05s/it]"
     ]
    },
    {
     "name": "stdout",
     "output_type": "stream",
     "text": [
      "\tspread_disease()\t\t1.47 sec.\n",
      "\tscreen_for_disease()\t\t0.00 sec.\n",
      "\ttrack_stats()\t\t\t0.00 sec.\n",
      "[epoch=32]\tinfected=21\ttransmitters(visible+invisible)=10\n",
      "\n",
      "\n",
      "radiuses 3 4\n",
      "resp.sum 11171\n",
      "resp.sum 0\n",
      "\tdecrement_timers()\t\t0.00 sec.\n",
      "\twalk_iter()\t\t\t4.48 sec.\n",
      "\tmake_disease_matrices()\t\t0.00 sec.\n"
     ]
    },
    {
     "name": "stderr",
     "output_type": "stream",
     "text": [
      "\r",
      "  6%|▌         | 33/600 [03:18<56:58,  6.03s/it]"
     ]
    },
    {
     "name": "stdout",
     "output_type": "stream",
     "text": [
      "\tspread_disease()\t\t1.47 sec.\n",
      "\tscreen_for_disease()\t\t0.00 sec.\n",
      "\ttrack_stats()\t\t\t0.00 sec.\n",
      "[epoch=33]\tinfected=19\ttransmitters(visible+invisible)=12\n",
      "\n",
      "\n",
      "radiuses 3 4\n",
      "resp.sum 11171\n",
      "resp.sum 0\n",
      "\tdecrement_timers()\t\t0.00 sec.\n",
      "\twalk_iter()\t\t\t4.49 sec.\n",
      "\tmake_disease_matrices()\t\t0.00 sec.\n"
     ]
    },
    {
     "name": "stderr",
     "output_type": "stream",
     "text": [
      "\r",
      "  6%|▌         | 34/600 [03:24<56:53,  6.03s/it]"
     ]
    },
    {
     "name": "stdout",
     "output_type": "stream",
     "text": [
      "\tspread_disease()\t\t1.52 sec.\n",
      "\tscreen_for_disease()\t\t0.00 sec.\n",
      "\ttrack_stats()\t\t\t0.00 sec.\n",
      "[epoch=34]\tinfected=20\ttransmitters(visible+invisible)=12\n",
      "\n",
      "\n",
      "radiuses 3 4\n",
      "resp.sum 11171\n",
      "resp.sum 0\n",
      "\tdecrement_timers()\t\t0.00 sec.\n",
      "\twalk_iter()\t\t\t4.58 sec.\n",
      "\tmake_disease_matrices()\t\t0.00 sec.\n"
     ]
    },
    {
     "name": "stderr",
     "output_type": "stream",
     "text": [
      "\r",
      "  6%|▌         | 35/600 [03:30<57:03,  6.06s/it]"
     ]
    },
    {
     "name": "stdout",
     "output_type": "stream",
     "text": [
      "\tspread_disease()\t\t1.53 sec.\n",
      "\tscreen_for_disease()\t\t0.00 sec.\n",
      "\ttrack_stats()\t\t\t0.00 sec.\n",
      "[epoch=35]\tinfected=22\ttransmitters(visible+invisible)=12\n",
      "\n",
      "\n",
      "radiuses 3 4\n",
      "resp.sum 11171\n",
      "resp.sum 0\n",
      "\tdecrement_timers()\t\t0.00 sec.\n",
      "\twalk_iter()\t\t\t4.54 sec.\n",
      "\tmake_disease_matrices()\t\t0.00 sec.\n"
     ]
    },
    {
     "name": "stderr",
     "output_type": "stream",
     "text": [
      "\r",
      "  6%|▌         | 36/600 [03:36<56:53,  6.05s/it]"
     ]
    },
    {
     "name": "stdout",
     "output_type": "stream",
     "text": [
      "\tspread_disease()\t\t1.48 sec.\n",
      "\tscreen_for_disease()\t\t0.00 sec.\n",
      "\ttrack_stats()\t\t\t0.00 sec.\n",
      "[epoch=36]\tinfected=22\ttransmitters(visible+invisible)=12\n",
      "\n",
      "\n",
      "radiuses 3 4\n",
      "resp.sum 11171\n",
      "resp.sum 0\n",
      "\tdecrement_timers()\t\t0.00 sec.\n",
      "\twalk_iter()\t\t\t4.51 sec.\n",
      "\tmake_disease_matrices()\t\t0.00 sec.\n"
     ]
    },
    {
     "name": "stderr",
     "output_type": "stream",
     "text": [
      "\r",
      "  6%|▌         | 37/600 [03:42<56:38,  6.04s/it]"
     ]
    },
    {
     "name": "stdout",
     "output_type": "stream",
     "text": [
      "\tspread_disease()\t\t1.47 sec.\n",
      "\tscreen_for_disease()\t\t0.00 sec.\n",
      "\ttrack_stats()\t\t\t0.00 sec.\n",
      "[epoch=37]\tinfected=19\ttransmitters(visible+invisible)=15\n",
      "\n",
      "\n",
      "radiuses 3 4\n",
      "resp.sum 11171\n",
      "resp.sum 0\n",
      "\tdecrement_timers()\t\t0.00 sec.\n",
      "\twalk_iter()\t\t\t4.48 sec.\n",
      "\tmake_disease_matrices()\t\t0.00 sec.\n"
     ]
    },
    {
     "name": "stderr",
     "output_type": "stream",
     "text": [
      "\r",
      "  6%|▋         | 38/600 [03:48<56:18,  6.01s/it]"
     ]
    },
    {
     "name": "stdout",
     "output_type": "stream",
     "text": [
      "\tspread_disease()\t\t1.46 sec.\n",
      "\tscreen_for_disease()\t\t0.00 sec.\n",
      "\ttrack_stats()\t\t\t0.00 sec.\n",
      "[epoch=38]\tinfected=18\ttransmitters(visible+invisible)=17\n",
      "\n",
      "\n",
      "radiuses 3 4\n",
      "resp.sum 11171\n",
      "resp.sum 0\n",
      "\tdecrement_timers()\t\t0.00 sec.\n",
      "\twalk_iter()\t\t\t4.80 sec.\n",
      "\tmake_disease_matrices()\t\t0.01 sec.\n"
     ]
    },
    {
     "name": "stderr",
     "output_type": "stream",
     "text": [
      "\r",
      "  6%|▋         | 39/600 [03:55<57:51,  6.19s/it]"
     ]
    },
    {
     "name": "stdout",
     "output_type": "stream",
     "text": [
      "\tspread_disease()\t\t1.78 sec.\n",
      "\tscreen_for_disease()\t\t0.00 sec.\n",
      "\ttrack_stats()\t\t\t0.00 sec.\n",
      "[epoch=39]\tinfected=20\ttransmitters(visible+invisible)=17\n",
      "\n",
      "\n",
      "radiuses 1 1\n",
      "resp.sum 11171\n",
      "resp.sum 63390\n",
      "\tdecrement_timers()\t\t0.00 sec.\n",
      "\twalk_iter()\t\t\t38.37 sec.\n",
      "\tmake_disease_matrices()\t\t0.01 sec.\n"
     ]
    },
    {
     "name": "stderr",
     "output_type": "stream",
     "text": [
      "\r",
      "  7%|▋         | 40/600 [04:35<2:32:18, 16.32s/it]"
     ]
    },
    {
     "name": "stdout",
     "output_type": "stream",
     "text": [
      "\tspread_disease()\t\t1.56 sec.\n",
      "\tscreen_for_disease()\t\t0.00 sec.\n",
      "\ttrack_stats()\t\t\t0.00 sec.\n",
      "[epoch=40]\tinfected=21\ttransmitters(visible+invisible)=18\n",
      "\n",
      "\n",
      "radiuses 1 1\n",
      "resp.sum 11171\n",
      "resp.sum 63390\n",
      "\tdecrement_timers()\t\t0.00 sec.\n",
      "\twalk_iter()\t\t\t2.07 sec.\n",
      "\tmake_disease_matrices()\t\t0.00 sec.\n"
     ]
    },
    {
     "name": "stderr",
     "output_type": "stream",
     "text": [
      "\r",
      "  7%|▋         | 41/600 [04:38<1:56:40, 12.52s/it]"
     ]
    },
    {
     "name": "stdout",
     "output_type": "stream",
     "text": [
      "\tspread_disease()\t\t1.57 sec.\n",
      "\tscreen_for_disease()\t\t0.00 sec.\n",
      "\ttrack_stats()\t\t\t0.00 sec.\n",
      "[epoch=41]\tinfected=25\ttransmitters(visible+invisible)=18\n",
      "\n",
      "\n",
      "radiuses 1 1\n",
      "resp.sum 11171\n",
      "resp.sum 63390\n",
      "\tdecrement_timers()\t\t0.00 sec.\n",
      "\twalk_iter()\t\t\t2.50 sec.\n",
      "\tmake_disease_matrices()\t\t0.00 sec.\n"
     ]
    },
    {
     "name": "stderr",
     "output_type": "stream",
     "text": [
      "\r",
      "  7%|▋         | 42/600 [04:43<1:32:58, 10.00s/it]"
     ]
    },
    {
     "name": "stdout",
     "output_type": "stream",
     "text": [
      "\tspread_disease()\t\t1.57 sec.\n",
      "\tscreen_for_disease()\t\t0.00 sec.\n",
      "\ttrack_stats()\t\t\t0.00 sec.\n",
      "[epoch=42]\tinfected=25\ttransmitters(visible+invisible)=19\n",
      "\n",
      "\n",
      "radiuses 1 1\n",
      "resp.sum 11171\n",
      "resp.sum 63390\n",
      "\tdecrement_timers()\t\t0.00 sec.\n",
      "\twalk_iter()\t\t\t2.41 sec.\n",
      "\tmake_disease_matrices()\t\t0.00 sec.\n"
     ]
    },
    {
     "name": "stderr",
     "output_type": "stream",
     "text": [
      "\r",
      "  7%|▋         | 43/600 [04:46<1:15:59,  8.19s/it]"
     ]
    },
    {
     "name": "stdout",
     "output_type": "stream",
     "text": [
      "\tspread_disease()\t\t1.53 sec.\n",
      "\tscreen_for_disease()\t\t0.00 sec.\n",
      "\ttrack_stats()\t\t\t0.00 sec.\n",
      "[epoch=43]\tinfected=25\ttransmitters(visible+invisible)=19\n",
      "\n",
      "\n",
      "radiuses 1 1\n",
      "resp.sum 0\n",
      "resp.sum 63390\n",
      "\tdecrement_timers()\t\t0.00 sec.\n",
      "\twalk_iter()\t\t\t2.32 sec.\n",
      "\tmake_disease_matrices()\t\t0.00 sec.\n"
     ]
    },
    {
     "name": "stderr",
     "output_type": "stream",
     "text": [
      "\r",
      "  7%|▋         | 44/600 [04:50<1:04:08,  6.92s/it]"
     ]
    },
    {
     "name": "stdout",
     "output_type": "stream",
     "text": [
      "\tspread_disease()\t\t1.63 sec.\n",
      "\tscreen_for_disease()\t\t0.00 sec.\n",
      "\ttrack_stats()\t\t\t0.00 sec.\n",
      "[epoch=44]\tinfected=26\ttransmitters(visible+invisible)=19\n",
      "\n",
      "\n",
      "radiuses 1 1\n",
      "resp.sum 0\n",
      "resp.sum 63390\n",
      "\tdecrement_timers()\t\t0.01 sec.\n",
      "\twalk_iter()\t\t\t2.48 sec.\n",
      "\tmake_disease_matrices()\t\t0.00 sec.\n"
     ]
    },
    {
     "name": "stderr",
     "output_type": "stream",
     "text": [
      "\r",
      "  8%|▊         | 45/600 [04:55<56:07,  6.07s/it]  "
     ]
    },
    {
     "name": "stdout",
     "output_type": "stream",
     "text": [
      "\tspread_disease()\t\t1.57 sec.\n",
      "\tscreen_for_disease()\t\t0.00 sec.\n",
      "\ttrack_stats()\t\t\t0.00 sec.\n",
      "[epoch=45]\tinfected=26\ttransmitters(visible+invisible)=20\n",
      "\n",
      "\n",
      "radiuses 1 1\n",
      "resp.sum 0\n",
      "resp.sum 63390\n",
      "\tdecrement_timers()\t\t0.00 sec.\n",
      "\twalk_iter()\t\t\t2.31 sec.\n",
      "\tmake_disease_matrices()\t\t0.00 sec.\n"
     ]
    },
    {
     "name": "stderr",
     "output_type": "stream",
     "text": [
      "\r",
      "  8%|▊         | 46/600 [04:58<49:51,  5.40s/it]"
     ]
    },
    {
     "name": "stdout",
     "output_type": "stream",
     "text": [
      "\tspread_disease()\t\t1.51 sec.\n",
      "\tscreen_for_disease()\t\t0.00 sec.\n",
      "\ttrack_stats()\t\t\t0.00 sec.\n",
      "[epoch=46]\tinfected=26\ttransmitters(visible+invisible)=22\n",
      "\n",
      "\n",
      "radiuses 1 1\n",
      "resp.sum 0\n",
      "resp.sum 63390\n",
      "\tdecrement_timers()\t\t0.00 sec.\n",
      "\twalk_iter()\t\t\t2.50 sec.\n",
      "\tmake_disease_matrices()\t\t0.00 sec.\n"
     ]
    },
    {
     "name": "stderr",
     "output_type": "stream",
     "text": [
      "\r",
      "  8%|▊         | 47/600 [05:02<46:11,  5.01s/it]"
     ]
    },
    {
     "name": "stdout",
     "output_type": "stream",
     "text": [
      "\tspread_disease()\t\t1.58 sec.\n",
      "\tscreen_for_disease()\t\t0.00 sec.\n",
      "\ttrack_stats()\t\t\t0.00 sec.\n",
      "[epoch=47]\tinfected=26\ttransmitters(visible+invisible)=22\n",
      "\n",
      "\n",
      "radiuses 1 1\n",
      "resp.sum 0\n",
      "resp.sum 63390\n",
      "\tdecrement_timers()\t\t0.00 sec.\n",
      "\twalk_iter()\t\t\t2.44 sec.\n",
      "\tmake_disease_matrices()\t\t0.00 sec.\n"
     ]
    },
    {
     "name": "stderr",
     "output_type": "stream",
     "text": [
      "\r",
      "  8%|▊         | 48/600 [05:07<43:29,  4.73s/it]"
     ]
    },
    {
     "name": "stdout",
     "output_type": "stream",
     "text": [
      "\tspread_disease()\t\t1.60 sec.\n",
      "\tscreen_for_disease()\t\t0.00 sec.\n",
      "\ttrack_stats()\t\t\t0.00 sec.\n",
      "[epoch=48]\tinfected=28\ttransmitters(visible+invisible)=22\n",
      "\n",
      "\n",
      "radiuses 1 1\n",
      "resp.sum 0\n",
      "resp.sum 63390\n",
      "\tdecrement_timers()\t\t0.00 sec.\n",
      "\twalk_iter()\t\t\t2.43 sec.\n",
      "\tmake_disease_matrices()\t\t0.00 sec.\n"
     ]
    },
    {
     "name": "stderr",
     "output_type": "stream",
     "text": [
      "\r",
      "  8%|▊         | 49/600 [05:11<41:41,  4.54s/it]"
     ]
    },
    {
     "name": "stdout",
     "output_type": "stream",
     "text": [
      "\tspread_disease()\t\t1.65 sec.\n",
      "\tscreen_for_disease()\t\t0.00 sec.\n",
      "\ttrack_stats()\t\t\t0.00 sec.\n",
      "[epoch=49]\tinfected=27\ttransmitters(visible+invisible)=24\n",
      "\n",
      "\n",
      "radiuses 1 1\n",
      "resp.sum 7930\n",
      "resp.sum 63390\n",
      "\tdecrement_timers()\t\t0.00 sec.\n",
      "\twalk_iter()\t\t\t2.41 sec.\n",
      "\tmake_disease_matrices()\t\t0.00 sec.\n"
     ]
    },
    {
     "name": "stderr",
     "output_type": "stream",
     "text": [
      "\r",
      "  8%|▊         | 50/600 [05:15<40:19,  4.40s/it]"
     ]
    },
    {
     "name": "stdout",
     "output_type": "stream",
     "text": [
      "\tspread_disease()\t\t1.64 sec.\n",
      "\tscreen_for_disease()\t\t0.00 sec.\n",
      "\ttrack_stats()\t\t\t0.00 sec.\n",
      "[epoch=50]\tinfected=25\ttransmitters(visible+invisible)=26\n",
      "\n",
      "\n",
      "radiuses 1 1\n",
      "resp.sum 7930\n",
      "resp.sum 63390\n",
      "\tdecrement_timers()\t\t0.00 sec.\n",
      "\twalk_iter()\t\t\t2.33 sec.\n",
      "\tmake_disease_matrices()\t\t0.00 sec.\n"
     ]
    },
    {
     "name": "stderr",
     "output_type": "stream",
     "text": [
      "\r",
      "  8%|▊         | 51/600 [05:19<39:01,  4.27s/it]"
     ]
    },
    {
     "name": "stdout",
     "output_type": "stream",
     "text": [
      "\tspread_disease()\t\t1.60 sec.\n",
      "\tscreen_for_disease()\t\t0.00 sec.\n",
      "\ttrack_stats()\t\t\t0.00 sec.\n",
      "[epoch=51]\tinfected=22\ttransmitters(visible+invisible)=29\n",
      "\n",
      "\n",
      "radiuses 1 1\n",
      "resp.sum 13629\n",
      "resp.sum 63390\n",
      "\tdecrement_timers()\t\t0.00 sec.\n",
      "\twalk_iter()\t\t\t2.36 sec.\n",
      "\tmake_disease_matrices()\t\t0.01 sec.\n"
     ]
    },
    {
     "name": "stderr",
     "output_type": "stream",
     "text": [
      "\r",
      "  9%|▊         | 52/600 [05:23<38:11,  4.18s/it]"
     ]
    },
    {
     "name": "stdout",
     "output_type": "stream",
     "text": [
      "\tspread_disease()\t\t1.60 sec.\n",
      "\tscreen_for_disease()\t\t0.00 sec.\n",
      "\ttrack_stats()\t\t\t0.00 sec.\n",
      "[epoch=52]\tinfected=20\ttransmitters(visible+invisible)=32\n",
      "\n",
      "\n",
      "radiuses 1 1\n",
      "resp.sum 13629\n",
      "resp.sum 63390\n",
      "\tdecrement_timers()\t\t0.00 sec.\n",
      "\twalk_iter()\t\t\t2.39 sec.\n",
      "\tmake_disease_matrices()\t\t0.00 sec.\n"
     ]
    },
    {
     "name": "stderr",
     "output_type": "stream",
     "text": [
      "\r",
      "  9%|▉         | 53/600 [05:27<37:36,  4.13s/it]"
     ]
    },
    {
     "name": "stdout",
     "output_type": "stream",
     "text": [
      "\tspread_disease()\t\t1.58 sec.\n",
      "\tscreen_for_disease()\t\t0.00 sec.\n",
      "\ttrack_stats()\t\t\t0.00 sec.\n",
      "[epoch=53]\tinfected=19\ttransmitters(visible+invisible)=33\n",
      "\n",
      "\n",
      "radiuses 1 1\n",
      "resp.sum 13629\n",
      "resp.sum 63390\n",
      "\tdecrement_timers()\t\t0.00 sec.\n",
      "\twalk_iter()\t\t\t2.38 sec.\n",
      "\tmake_disease_matrices()\t\t0.00 sec.\n"
     ]
    },
    {
     "name": "stderr",
     "output_type": "stream",
     "text": [
      "\r",
      "  9%|▉         | 54/600 [05:31<37:31,  4.12s/it]"
     ]
    },
    {
     "name": "stdout",
     "output_type": "stream",
     "text": [
      "\tspread_disease()\t\t1.71 sec.\n",
      "\tscreen_for_disease()\t\t0.00 sec.\n",
      "\ttrack_stats()\t\t\t0.00 sec.\n",
      "[epoch=54]\tinfected=17\ttransmitters(visible+invisible)=35\n",
      "\n",
      "\n",
      "radiuses 1 1\n",
      "resp.sum 15676\n",
      "resp.sum 63390\n",
      "\tdecrement_timers()\t\t0.00 sec.\n",
      "\twalk_iter()\t\t\t2.64 sec.\n",
      "\tmake_disease_matrices()\t\t0.01 sec.\n"
     ]
    },
    {
     "name": "stderr",
     "output_type": "stream",
     "text": [
      "\r",
      "  9%|▉         | 55/600 [05:35<38:02,  4.19s/it]"
     ]
    },
    {
     "name": "stdout",
     "output_type": "stream",
     "text": [
      "\tspread_disease()\t\t1.67 sec.\n",
      "\tscreen_for_disease()\t\t0.00 sec.\n",
      "\ttrack_stats()\t\t\t0.00 sec.\n",
      "[epoch=55]\tinfected=17\ttransmitters(visible+invisible)=35\n",
      "\n",
      "\n",
      "radiuses 1 1\n",
      "resp.sum 15676\n",
      "resp.sum 63390\n",
      "\tdecrement_timers()\t\t0.00 sec.\n",
      "\twalk_iter()\t\t\t2.40 sec.\n",
      "\tmake_disease_matrices()\t\t0.00 sec.\n"
     ]
    },
    {
     "name": "stderr",
     "output_type": "stream",
     "text": [
      "\r",
      "  9%|▉         | 56/600 [05:39<37:36,  4.15s/it]"
     ]
    },
    {
     "name": "stdout",
     "output_type": "stream",
     "text": [
      "\tspread_disease()\t\t1.64 sec.\n",
      "\tscreen_for_disease()\t\t0.01 sec.\n",
      "\ttrack_stats()\t\t\t0.00 sec.\n",
      "[epoch=56]\tinfected=19\ttransmitters(visible+invisible)=35\n",
      "\n",
      "\n",
      "radiuses 1 1\n",
      "resp.sum 17459\n",
      "resp.sum 63390\n",
      "\tdecrement_timers()\t\t0.00 sec.\n",
      "\twalk_iter()\t\t\t2.60 sec.\n",
      "\tmake_disease_matrices()\t\t0.00 sec.\n"
     ]
    },
    {
     "name": "stderr",
     "output_type": "stream",
     "text": [
      "\r",
      " 10%|▉         | 57/600 [05:43<37:56,  4.19s/it]"
     ]
    },
    {
     "name": "stdout",
     "output_type": "stream",
     "text": [
      "\tspread_disease()\t\t1.68 sec.\n",
      "\tscreen_for_disease()\t\t0.00 sec.\n",
      "\ttrack_stats()\t\t\t0.00 sec.\n",
      "[epoch=57]\tinfected=20\ttransmitters(visible+invisible)=36\n",
      "\n",
      "\n",
      "radiuses 1 1\n",
      "resp.sum 17459\n",
      "resp.sum 63390\n",
      "\tdecrement_timers()\t\t0.00 sec.\n",
      "\twalk_iter()\t\t\t2.60 sec.\n",
      "\tmake_disease_matrices()\t\t0.00 sec.\n"
     ]
    },
    {
     "name": "stderr",
     "output_type": "stream",
     "text": [
      "\r",
      " 10%|▉         | 58/600 [05:48<37:52,  4.19s/it]"
     ]
    },
    {
     "name": "stdout",
     "output_type": "stream",
     "text": [
      "\tspread_disease()\t\t1.57 sec.\n",
      "\tscreen_for_disease()\t\t0.00 sec.\n",
      "\ttrack_stats()\t\t\t0.00 sec.\n",
      "[epoch=58]\tinfected=16\ttransmitters(visible+invisible)=42\n",
      "\n",
      "\n",
      "radiuses 1 1\n",
      "resp.sum 19052\n",
      "resp.sum 63390\n",
      "\tdecrement_timers()\t\t0.00 sec.\n",
      "\twalk_iter()\t\t\t2.60 sec.\n",
      "\tmake_disease_matrices()\t\t0.00 sec.\n"
     ]
    },
    {
     "name": "stderr",
     "output_type": "stream",
     "text": [
      "\r",
      " 10%|▉         | 59/600 [05:52<38:06,  4.23s/it]"
     ]
    },
    {
     "name": "stdout",
     "output_type": "stream",
     "text": [
      "\tspread_disease()\t\t1.67 sec.\n",
      "\tscreen_for_disease()\t\t0.00 sec.\n",
      "\ttrack_stats()\t\t\t0.00 sec.\n",
      "[epoch=59]\tinfected=16\ttransmitters(visible+invisible)=43\n",
      "\n",
      "\n",
      "radiuses 1 1\n",
      "resp.sum 20499\n",
      "resp.sum 63390\n",
      "\tdecrement_timers()\t\t0.00 sec.\n",
      "\twalk_iter()\t\t\t2.71 sec.\n",
      "\tmake_disease_matrices()\t\t0.01 sec.\n"
     ]
    },
    {
     "name": "stderr",
     "output_type": "stream",
     "text": [
      "\r",
      " 10%|█         | 60/600 [05:56<38:27,  4.27s/it]"
     ]
    },
    {
     "name": "stdout",
     "output_type": "stream",
     "text": [
      "\tspread_disease()\t\t1.65 sec.\n",
      "\tscreen_for_disease()\t\t0.00 sec.\n",
      "\ttrack_stats()\t\t\t0.00 sec.\n",
      "[epoch=60]\tinfected=15\ttransmitters(visible+invisible)=44\n",
      "\n",
      "\n",
      "radiuses 1 1\n",
      "resp.sum 21830\n",
      "resp.sum 63390\n",
      "\tdecrement_timers()\t\t0.00 sec.\n",
      "\twalk_iter()\t\t\t2.30 sec.\n",
      "\tmake_disease_matrices()\t\t0.00 sec.\n"
     ]
    },
    {
     "name": "stderr",
     "output_type": "stream",
     "text": [
      "\r",
      " 10%|█         | 61/600 [06:00<37:38,  4.19s/it]"
     ]
    },
    {
     "name": "stdout",
     "output_type": "stream",
     "text": [
      "\tspread_disease()\t\t1.67 sec.\n",
      "\tscreen_for_disease()\t\t0.00 sec.\n",
      "\ttrack_stats()\t\t\t0.00 sec.\n",
      "[epoch=61]\tinfected=15\ttransmitters(visible+invisible)=45\n",
      "\n",
      "\n",
      "radiuses 1 1\n",
      "resp.sum 23066\n",
      "resp.sum 63390\n",
      "\tdecrement_timers()\t\t0.01 sec.\n",
      "\twalk_iter()\t\t\t2.51 sec.\n",
      "\tmake_disease_matrices()\t\t0.00 sec.\n"
     ]
    },
    {
     "name": "stderr",
     "output_type": "stream",
     "text": [
      "\r",
      " 10%|█         | 62/600 [06:05<37:33,  4.19s/it]"
     ]
    },
    {
     "name": "stdout",
     "output_type": "stream",
     "text": [
      "\tspread_disease()\t\t1.65 sec.\n",
      "\tscreen_for_disease()\t\t0.00 sec.\n",
      "\ttrack_stats()\t\t\t0.00 sec.\n",
      "[epoch=62]\tinfected=15\ttransmitters(visible+invisible)=46\n",
      "\n",
      "\n",
      "radiuses 1 1\n",
      "resp.sum 23066\n",
      "resp.sum 63390\n",
      "\tdecrement_timers()\t\t0.01 sec.\n",
      "\twalk_iter()\t\t\t2.59 sec.\n",
      "\tmake_disease_matrices()\t\t0.00 sec.\n"
     ]
    },
    {
     "name": "stderr",
     "output_type": "stream",
     "text": [
      "Process ForkPoolWorker-4:\n",
      "Process ForkPoolWorker-5:\n",
      "Process ForkPoolWorker-11:\n",
      "Process ForkPoolWorker-1:\n",
      "Traceback (most recent call last):\n",
      "Traceback (most recent call last):\n",
      "Process ForkPoolWorker-2:\n",
      "Process ForkPoolWorker-3:\n",
      "Traceback (most recent call last):\n",
      "Traceback (most recent call last):\n",
      "  File \"/usr/lib/python3.6/multiprocessing/process.py\", line 93, in run\n",
      "    self._target(*self._args, **self._kwargs)\n",
      "  File \"/usr/lib/python3.6/multiprocessing/process.py\", line 258, in _bootstrap\n",
      "    self.run()\n",
      "  File \"/usr/lib/python3.6/multiprocessing/process.py\", line 258, in _bootstrap\n",
      "    self.run()\n",
      "  File \"/usr/lib/python3.6/multiprocessing/process.py\", line 258, in _bootstrap\n",
      "    self.run()\n",
      "  File \"/usr/lib/python3.6/multiprocessing/process.py\", line 93, in run\n",
      "    self._target(*self._args, **self._kwargs)\n",
      "Process ForkPoolWorker-10:\n",
      "Traceback (most recent call last):\n",
      "  File \"/usr/lib/python3.6/multiprocessing/pool.py\", line 119, in worker\n",
      "    result = (True, func(*args, **kwds))\n",
      "  File \"/usr/lib/python3.6/multiprocessing/process.py\", line 93, in run\n",
      "    self._target(*self._args, **self._kwargs)\n",
      "Traceback (most recent call last):\n",
      "  File \"/usr/lib/python3.6/multiprocessing/pool.py\", line 119, in worker\n",
      "    result = (True, func(*args, **kwds))\n",
      "Traceback (most recent call last):\n",
      "  File \"/usr/lib/python3.6/multiprocessing/process.py\", line 258, in _bootstrap\n",
      "    self.run()\n",
      "  File \"/usr/lib/python3.6/multiprocessing/process.py\", line 258, in _bootstrap\n",
      "    self.run()\n",
      "  File \"/usr/lib/python3.6/multiprocessing/process.py\", line 258, in _bootstrap\n",
      "    self.run()\n",
      "  File \"/usr/lib/python3.6/multiprocessing/pool.py\", line 44, in mapstar\n",
      "    return list(map(*args))\n",
      "  File \"/usr/lib/python3.6/multiprocessing/process.py\", line 93, in run\n",
      "    self._target(*self._args, **self._kwargs)\n",
      "  File \"/usr/lib/python3.6/multiprocessing/process.py\", line 93, in run\n",
      "    self._target(*self._args, **self._kwargs)\n",
      "Process ForkPoolWorker-8:\n",
      "  File \"/home/sergey/projects/gasnich/Transport-networks/disease.py\", line 106, in spread_disease_observed_indexes\n",
      "    replace=False)\n",
      "  File \"/usr/lib/python3.6/multiprocessing/pool.py\", line 119, in worker\n",
      "    result = (True, func(*args, **kwds))\n",
      "Process ForkPoolWorker-12:\n",
      "Process ForkPoolWorker-9:\n",
      "  File \"/usr/lib/python3.6/multiprocessing/pool.py\", line 44, in mapstar\n",
      "    return list(map(*args))\n",
      "  File \"/usr/lib/python3.6/multiprocessing/pool.py\", line 119, in worker\n",
      "    result = (True, func(*args, **kwds))\n",
      "KeyboardInterrupt\n",
      "  File \"/usr/lib/python3.6/multiprocessing/pool.py\", line 44, in mapstar\n",
      "    return list(map(*args))\n",
      "  File \"/home/sergey/projects/gasnich/Transport-networks/disease.py\", line 109, in spread_disease_observed_indexes\n",
      "    assert city.status_arr[i] == HEALTHY\n",
      "Process ForkPoolWorker-6:\n",
      "  File \"/usr/lib/python3.6/multiprocessing/pool.py\", line 44, in mapstar\n",
      "    return list(map(*args))\n",
      "  File \"mtrand.pyx\", line 954, in numpy.random.mtrand.RandomState.choice\n",
      "Process ForkPoolWorker-7:\n",
      "Traceback (most recent call last):\n",
      "  File \"/usr/lib/python3.6/multiprocessing/process.py\", line 93, in run\n",
      "    self._target(*self._args, **self._kwargs)\n",
      "Traceback (most recent call last):\n",
      "  File \"/usr/lib/python3.6/multiprocessing/pool.py\", line 119, in worker\n",
      "    result = (True, func(*args, **kwds))\n",
      "  File \"/home/sergey/projects/gasnich/Transport-networks/disease.py\", line 106, in spread_disease_observed_indexes\n",
      "    replace=False)\n",
      "  File \"<__array_function__ internals>\", line 2, in count_nonzero\n",
      "  File \"/home/sergey/projects/gasnich/Transport-networks/disease.py\", line 106, in spread_disease_observed_indexes\n",
      "    replace=False)\n",
      "  File \"/usr/lib/python3.6/multiprocessing/pool.py\", line 44, in mapstar\n",
      "    return list(map(*args))\n",
      "  File \"/usr/lib/python3.6/multiprocessing/process.py\", line 258, in _bootstrap\n",
      "    self.run()\n",
      "Traceback (most recent call last):\n",
      "  File \"/usr/lib/python3.6/multiprocessing/pool.py\", line 119, in worker\n",
      "    result = (True, func(*args, **kwds))\n",
      "  File \"mtrand.pyx\", line 954, in numpy.random.mtrand.RandomState.choice\n",
      "Traceback (most recent call last):\n",
      "  File \"/usr/lib/python3.6/multiprocessing/process.py\", line 258, in _bootstrap\n",
      "    self.run()\n",
      "  File \"/usr/lib/python3.6/multiprocessing/process.py\", line 93, in run\n",
      "    self._target(*self._args, **self._kwargs)\n",
      "  File \"/usr/lib/python3.6/multiprocessing/process.py\", line 258, in _bootstrap\n",
      "    self.run()\n",
      "  File \"mtrand.pyx\", line 967, in numpy.random.mtrand.RandomState.choice\n",
      "  File \"/home/sergey/projects/gasnich/Transport-networks/disease.py\", line 106, in spread_disease_observed_indexes\n",
      "    replace=False)\n",
      "  File \"<__array_function__ internals>\", line 2, in count_nonzero\n",
      "  File \"/usr/lib/python3.6/multiprocessing/pool.py\", line 119, in worker\n",
      "    result = (True, func(*args, **kwds))\n",
      "  File \"/usr/lib/python3.6/multiprocessing/process.py\", line 93, in run\n",
      "    self._target(*self._args, **self._kwargs)\n",
      "  File \"<__array_function__ internals>\", line 2, in unique\n",
      "  File \"/usr/lib/python3.6/multiprocessing/process.py\", line 93, in run\n",
      "    self._target(*self._args, **self._kwargs)\n",
      "  File \"mtrand.pyx\", line 964, in numpy.random.mtrand.RandomState.choice\n",
      "  File \"/usr/lib/python3.6/multiprocessing/process.py\", line 258, in _bootstrap\n",
      "    self.run()\n",
      "Traceback (most recent call last):\n",
      "KeyboardInterrupt\n",
      "KeyboardInterrupt\n",
      "  File \"/usr/lib/python3.6/multiprocessing/pool.py\", line 119, in worker\n",
      "    result = (True, func(*args, **kwds))\n",
      "  File \"/usr/lib/python3.6/multiprocessing/pool.py\", line 44, in mapstar\n",
      "    return list(map(*args))\n",
      "  File \"/usr/lib/python3.6/multiprocessing/process.py\", line 93, in run\n",
      "    self._target(*self._args, **self._kwargs)\n",
      "  File \"/usr/lib/python3.6/multiprocessing/pool.py\", line 119, in worker\n",
      "    result = (True, func(*args, **kwds))\n",
      "  File \"<__array_function__ internals>\", line 2, in cumsum\n",
      "  File \"/usr/lib/python3.6/multiprocessing/pool.py\", line 44, in mapstar\n",
      "    return list(map(*args))\n",
      "  File \"/usr/lib/python3.6/multiprocessing/pool.py\", line 119, in worker\n",
      "    result = (True, func(*args, **kwds))\n",
      "  File \"/home/sergey/projects/gasnich/Transport-networks/disease.py\", line 106, in spread_disease_observed_indexes\n",
      "    replace=False)\n",
      "  File \"/home/sergey/projects/gasnich/Transport-networks/disease.py\", line 106, in spread_disease_observed_indexes\n",
      "    replace=False)\n",
      "  File \"mtrand.pyx\", line 954, in numpy.random.mtrand.RandomState.choice\n",
      "  File \"mtrand.pyx\", line 967, in numpy.random.mtrand.RandomState.choice\n",
      "  File \"/usr/lib/python3.6/multiprocessing/pool.py\", line 44, in mapstar\n",
      "    return list(map(*args))\n",
      "  File \"/usr/lib/python3.6/multiprocessing/pool.py\", line 44, in mapstar\n",
      "    return list(map(*args))\n",
      "  File \"<__array_function__ internals>\", line 2, in unique\n",
      "  File \"/usr/lib/python3.6/multiprocessing/pool.py\", line 44, in mapstar\n",
      "    return list(map(*args))\n",
      "KeyboardInterrupt\n",
      "  File \"<__array_function__ internals>\", line 2, in count_nonzero\n",
      "  File \"/usr/lib/python3.6/multiprocessing/process.py\", line 258, in _bootstrap\n",
      "    self.run()\n",
      "KeyboardInterrupt\n",
      "KeyboardInterrupt\n",
      "KeyboardInterrupt\n",
      "  File \"/usr/lib/python3.6/multiprocessing/process.py\", line 258, in _bootstrap\n",
      "    self.run()\n",
      "  File \"/home/sergey/projects/gasnich/Transport-networks/disease.py\", line 106, in spread_disease_observed_indexes\n",
      "    replace=False)\n",
      "  File \"/home/sergey/projects/gasnich/Transport-networks/disease.py\", line 106, in spread_disease_observed_indexes\n",
      "    replace=False)\n",
      "  File \"/usr/lib/python3.6/multiprocessing/process.py\", line 93, in run\n",
      "    self._target(*self._args, **self._kwargs)\n",
      "  File \"/usr/lib/python3.6/multiprocessing/process.py\", line 93, in run\n",
      "    self._target(*self._args, **self._kwargs)\n",
      "KeyboardInterrupt\n",
      "  File \"/usr/lib/python3.6/multiprocessing/pool.py\", line 119, in worker\n",
      "    result = (True, func(*args, **kwds))\n",
      "  File \"mtrand.pyx\", line 954, in numpy.random.mtrand.RandomState.choice\n",
      "  File \"<__array_function__ internals>\", line 2, in count_nonzero\n",
      "  File \"/home/sergey/projects/gasnich/Transport-networks/disease.py\", line 106, in spread_disease_observed_indexes\n",
      "    replace=False)\n",
      "  File \"/usr/lib/python3.6/multiprocessing/pool.py\", line 44, in mapstar\n",
      "    return list(map(*args))\n",
      "  File \"mtrand.pyx\", line 967, in numpy.random.mtrand.RandomState.choice\n",
      "  File \"mtrand.pyx\", line 954, in numpy.random.mtrand.RandomState.choice\n"
     ]
    },
    {
     "name": "stderr",
     "output_type": "stream",
     "text": [
      "  File \"/usr/lib/python3.6/multiprocessing/pool.py\", line 119, in worker\n",
      "    result = (True, func(*args, **kwds))\n",
      "  File \"/home/sergey/projects/gasnich/Transport-networks/disease.py\", line 106, in spread_disease_observed_indexes\n",
      "    replace=False)\n",
      "  File \"<__array_function__ internals>\", line 2, in count_nonzero\n",
      "  File \"<__array_function__ internals>\", line 2, in unique\n",
      "  File \"/usr/lib/python3.6/multiprocessing/pool.py\", line 44, in mapstar\n",
      "    return list(map(*args))\n",
      "  File \"mtrand.pyx\", line 967, in numpy.random.mtrand.RandomState.choice\n",
      "KeyboardInterrupt\n",
      "  File \"<__array_function__ internals>\", line 6, in unique\n",
      "KeyboardInterrupt\n",
      "KeyboardInterrupt\n",
      "KeyboardInterrupt\n",
      "  File \"/home/sergey/projects/gasnich/Transport-networks/disease.py\", line 102, in spread_disease_observed_indexes\n",
      "    infection_prob = calc_infection_prob(infection_exposure, infect_prob)\n",
      "  File \"/home/sergey/projects/gasnich/Transport-networks/disease.py\", line 89, in calc_infection_prob\n",
      "    return 1 - (1 - infect_prob) ** infection_exposure\n"
     ]
    },
    {
     "ename": "KeyboardInterrupt",
     "evalue": "",
     "output_type": "error",
     "traceback": [
      "\u001b[0;31m---------------------------------------------------------------------------\u001b[0m",
      "\u001b[0;31mKeyboardInterrupt\u001b[0m                         Traceback (most recent call last)",
      "\u001b[0;32m<ipython-input-1-7149d83d98c2>\u001b[0m in \u001b[0;36m<module>\u001b[0;34m\u001b[0m\n\u001b[1;32m     76\u001b[0m                                                                                                 \u001b[0mDEBUG\u001b[0m\u001b[0;34m,\u001b[0m\u001b[0;31m \u001b[0m\u001b[0;31m\\\u001b[0m\u001b[0;34m\u001b[0m\u001b[0;34m\u001b[0m\u001b[0m\n\u001b[1;32m     77\u001b[0m                                                                                                 \u001b[0;32mNone\u001b[0m\u001b[0;34m,\u001b[0m\u001b[0;34m\u001b[0m\u001b[0;34m\u001b[0m\u001b[0m\n\u001b[0;32m---> 78\u001b[0;31m                                                                                                 num_threads=num_threads)\n\u001b[0m\u001b[1;32m     79\u001b[0m \u001b[0;34m\u001b[0m\u001b[0m\n",
      "\u001b[0;32m~/projects/gasnich/Transport-networks/models.py\u001b[0m in \u001b[0;36msimulate_transportations_with_infections\u001b[0;34m(init_transmitters_num, remote_workers, responsible_people, timer_min, timer_max, transmission_time, neighbourhood_radius, infect_prob, death_prob, radius, spread_radius, quarantine_zone_size, transmitters_test_quota, others_test_quota, epochs, debug, plot_disease_matrix, num_threads)\u001b[0m\n\u001b[1;32m    309\u001b[0m         \u001b[0;31m# Spread disease (based on the maps above)\u001b[0m\u001b[0;34m\u001b[0m\u001b[0;34m\u001b[0m\u001b[0;34m\u001b[0m\u001b[0m\n\u001b[1;32m    310\u001b[0m         \u001b[0mstart_time\u001b[0m \u001b[0;34m=\u001b[0m \u001b[0mtime\u001b[0m\u001b[0;34m.\u001b[0m\u001b[0mtime\u001b[0m\u001b[0;34m(\u001b[0m\u001b[0;34m)\u001b[0m\u001b[0;34m\u001b[0m\u001b[0;34m\u001b[0m\u001b[0m\n\u001b[0;32m--> 311\u001b[0;31m         \u001b[0mspread_disease\u001b[0m\u001b[0;34m(\u001b[0m\u001b[0mdisease_mat_list\u001b[0m\u001b[0;34m,\u001b[0m \u001b[0mcities_list\u001b[0m\u001b[0;34m,\u001b[0m \u001b[0mtimer_min\u001b[0m\u001b[0;34m,\u001b[0m \u001b[0mtimer_max\u001b[0m\u001b[0;34m,\u001b[0m \u001b[0mtransmission_time\u001b[0m\u001b[0;34m,\u001b[0m \u001b[0minfect_prob\u001b[0m\u001b[0;34m,\u001b[0m \u001b[0mpool\u001b[0m\u001b[0;34m,\u001b[0m \u001b[0mnum_threads\u001b[0m\u001b[0;34m)\u001b[0m\u001b[0;34m\u001b[0m\u001b[0;34m\u001b[0m\u001b[0m\n\u001b[0m\u001b[1;32m    312\u001b[0m         \u001b[0mend_time\u001b[0m \u001b[0;34m=\u001b[0m \u001b[0mtime\u001b[0m\u001b[0;34m.\u001b[0m\u001b[0mtime\u001b[0m\u001b[0;34m(\u001b[0m\u001b[0;34m)\u001b[0m\u001b[0;34m\u001b[0m\u001b[0;34m\u001b[0m\u001b[0m\n\u001b[1;32m    313\u001b[0m         \u001b[0mtimer_dict\u001b[0m\u001b[0;34m[\u001b[0m\u001b[0;34m'spread_disease'\u001b[0m\u001b[0;34m]\u001b[0m\u001b[0;34m.\u001b[0m\u001b[0mappend\u001b[0m\u001b[0;34m(\u001b[0m\u001b[0mend_time\u001b[0m \u001b[0;34m-\u001b[0m \u001b[0mstart_time\u001b[0m\u001b[0;34m)\u001b[0m\u001b[0;34m\u001b[0m\u001b[0;34m\u001b[0m\u001b[0m\n",
      "\u001b[0;32m~/projects/gasnich/Transport-networks/disease.py\u001b[0m in \u001b[0;36mspread_disease\u001b[0;34m(disease_mat_list, cities_list, timer_min, timer_max, transmission_time, infect_prob, pool, num_threads)\u001b[0m\n\u001b[1;32m    136\u001b[0m         \u001b[0mstep\u001b[0m \u001b[0;34m=\u001b[0m  \u001b[0mfull_num\u001b[0m \u001b[0;34m//\u001b[0m \u001b[0mnum_threads\u001b[0m \u001b[0;34m+\u001b[0m \u001b[0;36m1\u001b[0m\u001b[0;34m\u001b[0m\u001b[0;34m\u001b[0m\u001b[0m\n\u001b[1;32m    137\u001b[0m         \u001b[0margs\u001b[0m \u001b[0;34m=\u001b[0m \u001b[0;34m[\u001b[0m\u001b[0;34m(\u001b[0m\u001b[0mcity\u001b[0m\u001b[0;34m,\u001b[0m \u001b[0mdisease_mat\u001b[0m\u001b[0;34m,\u001b[0m \u001b[0minfect_prob\u001b[0m\u001b[0;34m,\u001b[0m \u001b[0mtimer_max\u001b[0m\u001b[0;34m,\u001b[0m \u001b[0mtransmission_time\u001b[0m\u001b[0;34m,\u001b[0m \u001b[0mdisease_indices\u001b[0m\u001b[0;34m[\u001b[0m\u001b[0mi\u001b[0m\u001b[0;34m:\u001b[0m\u001b[0mi\u001b[0m\u001b[0;34m+\u001b[0m\u001b[0mstep\u001b[0m\u001b[0;34m]\u001b[0m\u001b[0;34m)\u001b[0m \u001b[0;32mfor\u001b[0m \u001b[0mi\u001b[0m \u001b[0;32min\u001b[0m \u001b[0mnp\u001b[0m\u001b[0;34m.\u001b[0m\u001b[0marange\u001b[0m\u001b[0;34m(\u001b[0m\u001b[0;36m0\u001b[0m\u001b[0;34m,\u001b[0m \u001b[0mfull_num\u001b[0m\u001b[0;34m,\u001b[0m \u001b[0mstep\u001b[0m\u001b[0;34m)\u001b[0m\u001b[0;34m]\u001b[0m\u001b[0;34m\u001b[0m\u001b[0;34m\u001b[0m\u001b[0m\n\u001b[0;32m--> 138\u001b[0;31m         \u001b[0ma\u001b[0m \u001b[0;34m=\u001b[0m \u001b[0;34m[\u001b[0m\u001b[0ml\u001b[0m \u001b[0;32mfor\u001b[0m \u001b[0ml\u001b[0m \u001b[0;32min\u001b[0m \u001b[0mpool\u001b[0m\u001b[0;34m.\u001b[0m\u001b[0mmap\u001b[0m\u001b[0;34m(\u001b[0m\u001b[0mspread_disease_observed_indexes\u001b[0m\u001b[0;34m,\u001b[0m \u001b[0margs\u001b[0m\u001b[0;34m)\u001b[0m \u001b[0;32mif\u001b[0m \u001b[0ml\u001b[0m\u001b[0;34m.\u001b[0m\u001b[0mshape\u001b[0m\u001b[0;34m[\u001b[0m\u001b[0;36m0\u001b[0m\u001b[0;34m]\u001b[0m\u001b[0;34m]\u001b[0m\u001b[0;34m\u001b[0m\u001b[0;34m\u001b[0m\u001b[0m\n\u001b[0m\u001b[1;32m    139\u001b[0m         \u001b[0;32mif\u001b[0m \u001b[0ma\u001b[0m\u001b[0;34m:\u001b[0m\u001b[0;34m\u001b[0m\u001b[0;34m\u001b[0m\u001b[0m\n\u001b[1;32m    140\u001b[0m             \u001b[0mprocessed_indexes\u001b[0m \u001b[0;34m=\u001b[0m \u001b[0mnp\u001b[0m\u001b[0;34m.\u001b[0m\u001b[0mconcatenate\u001b[0m\u001b[0;34m(\u001b[0m\u001b[0ma\u001b[0m\u001b[0;34m)\u001b[0m\u001b[0;34m\u001b[0m\u001b[0;34m\u001b[0m\u001b[0m\n",
      "\u001b[0;32m/usr/lib/python3.6/multiprocessing/pool.py\u001b[0m in \u001b[0;36mmap\u001b[0;34m(self, func, iterable, chunksize)\u001b[0m\n\u001b[1;32m    264\u001b[0m         \u001b[0;32min\u001b[0m \u001b[0ma\u001b[0m \u001b[0mlist\u001b[0m \u001b[0mthat\u001b[0m \u001b[0;32mis\u001b[0m \u001b[0mreturned\u001b[0m\u001b[0;34m.\u001b[0m\u001b[0;34m\u001b[0m\u001b[0;34m\u001b[0m\u001b[0m\n\u001b[1;32m    265\u001b[0m         '''\n\u001b[0;32m--> 266\u001b[0;31m         \u001b[0;32mreturn\u001b[0m \u001b[0mself\u001b[0m\u001b[0;34m.\u001b[0m\u001b[0m_map_async\u001b[0m\u001b[0;34m(\u001b[0m\u001b[0mfunc\u001b[0m\u001b[0;34m,\u001b[0m \u001b[0miterable\u001b[0m\u001b[0;34m,\u001b[0m \u001b[0mmapstar\u001b[0m\u001b[0;34m,\u001b[0m \u001b[0mchunksize\u001b[0m\u001b[0;34m)\u001b[0m\u001b[0;34m.\u001b[0m\u001b[0mget\u001b[0m\u001b[0;34m(\u001b[0m\u001b[0;34m)\u001b[0m\u001b[0;34m\u001b[0m\u001b[0;34m\u001b[0m\u001b[0m\n\u001b[0m\u001b[1;32m    267\u001b[0m \u001b[0;34m\u001b[0m\u001b[0m\n\u001b[1;32m    268\u001b[0m     \u001b[0;32mdef\u001b[0m \u001b[0mstarmap\u001b[0m\u001b[0;34m(\u001b[0m\u001b[0mself\u001b[0m\u001b[0;34m,\u001b[0m \u001b[0mfunc\u001b[0m\u001b[0;34m,\u001b[0m \u001b[0miterable\u001b[0m\u001b[0;34m,\u001b[0m \u001b[0mchunksize\u001b[0m\u001b[0;34m=\u001b[0m\u001b[0;32mNone\u001b[0m\u001b[0;34m)\u001b[0m\u001b[0;34m:\u001b[0m\u001b[0;34m\u001b[0m\u001b[0;34m\u001b[0m\u001b[0m\n",
      "\u001b[0;32m/usr/lib/python3.6/multiprocessing/pool.py\u001b[0m in \u001b[0;36mget\u001b[0;34m(self, timeout)\u001b[0m\n\u001b[1;32m    636\u001b[0m \u001b[0;34m\u001b[0m\u001b[0m\n\u001b[1;32m    637\u001b[0m     \u001b[0;32mdef\u001b[0m \u001b[0mget\u001b[0m\u001b[0;34m(\u001b[0m\u001b[0mself\u001b[0m\u001b[0;34m,\u001b[0m \u001b[0mtimeout\u001b[0m\u001b[0;34m=\u001b[0m\u001b[0;32mNone\u001b[0m\u001b[0;34m)\u001b[0m\u001b[0;34m:\u001b[0m\u001b[0;34m\u001b[0m\u001b[0;34m\u001b[0m\u001b[0m\n\u001b[0;32m--> 638\u001b[0;31m         \u001b[0mself\u001b[0m\u001b[0;34m.\u001b[0m\u001b[0mwait\u001b[0m\u001b[0;34m(\u001b[0m\u001b[0mtimeout\u001b[0m\u001b[0;34m)\u001b[0m\u001b[0;34m\u001b[0m\u001b[0;34m\u001b[0m\u001b[0m\n\u001b[0m\u001b[1;32m    639\u001b[0m         \u001b[0;32mif\u001b[0m \u001b[0;32mnot\u001b[0m \u001b[0mself\u001b[0m\u001b[0;34m.\u001b[0m\u001b[0mready\u001b[0m\u001b[0;34m(\u001b[0m\u001b[0;34m)\u001b[0m\u001b[0;34m:\u001b[0m\u001b[0;34m\u001b[0m\u001b[0;34m\u001b[0m\u001b[0m\n\u001b[1;32m    640\u001b[0m             \u001b[0;32mraise\u001b[0m \u001b[0mTimeoutError\u001b[0m\u001b[0;34m\u001b[0m\u001b[0;34m\u001b[0m\u001b[0m\n",
      "\u001b[0;32m/usr/lib/python3.6/multiprocessing/pool.py\u001b[0m in \u001b[0;36mwait\u001b[0;34m(self, timeout)\u001b[0m\n\u001b[1;32m    633\u001b[0m \u001b[0;34m\u001b[0m\u001b[0m\n\u001b[1;32m    634\u001b[0m     \u001b[0;32mdef\u001b[0m \u001b[0mwait\u001b[0m\u001b[0;34m(\u001b[0m\u001b[0mself\u001b[0m\u001b[0;34m,\u001b[0m \u001b[0mtimeout\u001b[0m\u001b[0;34m=\u001b[0m\u001b[0;32mNone\u001b[0m\u001b[0;34m)\u001b[0m\u001b[0;34m:\u001b[0m\u001b[0;34m\u001b[0m\u001b[0;34m\u001b[0m\u001b[0m\n\u001b[0;32m--> 635\u001b[0;31m         \u001b[0mself\u001b[0m\u001b[0;34m.\u001b[0m\u001b[0m_event\u001b[0m\u001b[0;34m.\u001b[0m\u001b[0mwait\u001b[0m\u001b[0;34m(\u001b[0m\u001b[0mtimeout\u001b[0m\u001b[0;34m)\u001b[0m\u001b[0;34m\u001b[0m\u001b[0;34m\u001b[0m\u001b[0m\n\u001b[0m\u001b[1;32m    636\u001b[0m \u001b[0;34m\u001b[0m\u001b[0m\n\u001b[1;32m    637\u001b[0m     \u001b[0;32mdef\u001b[0m \u001b[0mget\u001b[0m\u001b[0;34m(\u001b[0m\u001b[0mself\u001b[0m\u001b[0;34m,\u001b[0m \u001b[0mtimeout\u001b[0m\u001b[0;34m=\u001b[0m\u001b[0;32mNone\u001b[0m\u001b[0;34m)\u001b[0m\u001b[0;34m:\u001b[0m\u001b[0;34m\u001b[0m\u001b[0;34m\u001b[0m\u001b[0m\n",
      "\u001b[0;32m/usr/lib/python3.6/threading.py\u001b[0m in \u001b[0;36mwait\u001b[0;34m(self, timeout)\u001b[0m\n\u001b[1;32m    549\u001b[0m             \u001b[0msignaled\u001b[0m \u001b[0;34m=\u001b[0m \u001b[0mself\u001b[0m\u001b[0;34m.\u001b[0m\u001b[0m_flag\u001b[0m\u001b[0;34m\u001b[0m\u001b[0;34m\u001b[0m\u001b[0m\n\u001b[1;32m    550\u001b[0m             \u001b[0;32mif\u001b[0m \u001b[0;32mnot\u001b[0m \u001b[0msignaled\u001b[0m\u001b[0;34m:\u001b[0m\u001b[0;34m\u001b[0m\u001b[0;34m\u001b[0m\u001b[0m\n\u001b[0;32m--> 551\u001b[0;31m                 \u001b[0msignaled\u001b[0m \u001b[0;34m=\u001b[0m \u001b[0mself\u001b[0m\u001b[0;34m.\u001b[0m\u001b[0m_cond\u001b[0m\u001b[0;34m.\u001b[0m\u001b[0mwait\u001b[0m\u001b[0;34m(\u001b[0m\u001b[0mtimeout\u001b[0m\u001b[0;34m)\u001b[0m\u001b[0;34m\u001b[0m\u001b[0;34m\u001b[0m\u001b[0m\n\u001b[0m\u001b[1;32m    552\u001b[0m             \u001b[0;32mreturn\u001b[0m \u001b[0msignaled\u001b[0m\u001b[0;34m\u001b[0m\u001b[0;34m\u001b[0m\u001b[0m\n\u001b[1;32m    553\u001b[0m \u001b[0;34m\u001b[0m\u001b[0m\n",
      "\u001b[0;32m/usr/lib/python3.6/threading.py\u001b[0m in \u001b[0;36mwait\u001b[0;34m(self, timeout)\u001b[0m\n\u001b[1;32m    293\u001b[0m         \u001b[0;32mtry\u001b[0m\u001b[0;34m:\u001b[0m    \u001b[0;31m# restore state no matter what (e.g., KeyboardInterrupt)\u001b[0m\u001b[0;34m\u001b[0m\u001b[0;34m\u001b[0m\u001b[0m\n\u001b[1;32m    294\u001b[0m             \u001b[0;32mif\u001b[0m \u001b[0mtimeout\u001b[0m \u001b[0;32mis\u001b[0m \u001b[0;32mNone\u001b[0m\u001b[0;34m:\u001b[0m\u001b[0;34m\u001b[0m\u001b[0;34m\u001b[0m\u001b[0m\n\u001b[0;32m--> 295\u001b[0;31m                 \u001b[0mwaiter\u001b[0m\u001b[0;34m.\u001b[0m\u001b[0macquire\u001b[0m\u001b[0;34m(\u001b[0m\u001b[0;34m)\u001b[0m\u001b[0;34m\u001b[0m\u001b[0;34m\u001b[0m\u001b[0m\n\u001b[0m\u001b[1;32m    296\u001b[0m                 \u001b[0mgotit\u001b[0m \u001b[0;34m=\u001b[0m \u001b[0;32mTrue\u001b[0m\u001b[0;34m\u001b[0m\u001b[0;34m\u001b[0m\u001b[0m\n\u001b[1;32m    297\u001b[0m             \u001b[0;32melse\u001b[0m\u001b[0;34m:\u001b[0m\u001b[0;34m\u001b[0m\u001b[0;34m\u001b[0m\u001b[0m\n",
      "\u001b[0;31mKeyboardInterrupt\u001b[0m: "
     ]
    }
   ],
   "source": [
    "import os\n",
    "import time\n",
    "import numpy as np\n",
    "import pandas as pd\n",
    "from collections import defaultdict\n",
    "from tqdm import tqdm\n",
    "import matplotlib.pyplot as plt\n",
    "\n",
    "from multiprocessing.dummy import Pool as ThreadPool\n",
    "# Turn interactive plotting off\n",
    "plt.ioff()\n",
    "\n",
    "from models import *\n",
    "\n",
    "DEBUG = True                   # Output each main function runtime\n",
    "SAVE_DATA = True                # Flag to save data below (dataframe + plots)\n",
    "# PATH = r'C:\\Users\\Владислав\\Downloads\\Transport-networks-main'ё  # Base path (existing) where subfolder with results will be created\n",
    "# PATH = r'C:\\Users\\va\\Documents\\Transport-networks'\n",
    "\n",
    "PATH = '/home/sergey/projects/gasnich/Transport-networks'\n",
    "\n",
    "# 1 person = 100 people\n",
    "init_transmitters_num = 2      # Initial infected people number\n",
    "\n",
    "timer_min = 12                   # Min steps (epochs) until infected person can transmit a disease (exception: initial group)\n",
    "timer_max = 27                  # Max steps (epochs) until infected person can transmit a disease (exception: initial group)\n",
    "transmission_time = 42          # Disease lifespan\n",
    "\n",
    "# 1 distance point = 100 meters\n",
    "neighbourhood_radius = 4        # Maximum distance allowed to travel for each person from his initial location\n",
    "\n",
    "# 1 epoch = 8 hours\n",
    "epochs = 600                    # Steps to perform during each people 1) travel and 2) spread the disease\n",
    "\n",
    "radius = 3                      # Maximum radius for person to travel in single epoch\n",
    "spread_radius = 1               # Disease spreading radius\n",
    "infect_prob = 0.15              # Base probability for disease to transmit\n",
    "death_prob = 0.02               # Death probability after disease\n",
    "\n",
    "# (x, z, S, j, u)\n",
    "transmitters_test_quota = 1     # Number of tests for visible transmitters to have possibility to move to quarantine zone with less death rate\n",
    "others_test_quota = 10000       # Number of tests for others to have possibility to move to quarantine zone with less death rate\n",
    "quarantine_zone_size = 300      # Quarantine zone's capacity\n",
    "remote_workers = 0.5            # Fraction of remote workers\n",
    "responsible_people = 0.5       # Fraction of responsible people (which have lower probability of getting ill)\n",
    "\n",
    "# Path to plot of disease (exposure) matrix before transmitting a disease in each epoch\n",
    "plot_disease_matrix = os.path.join(PATH, 'radius_{}_spread_radius_{}_infected_prob_{}'.format(str(radius).replace('.', '_'),\n",
    "                                                                                           str(spread_radius).replace('.', '_'),\n",
    "                                                                                           str(infect_prob).replace('.', '_')))\n",
    "# Create this subfolder\n",
    "try:\n",
    "    os.mkdir(plot_disease_matrix)\n",
    "except FileExistsError:\n",
    "    pass\n",
    "\n",
    "num_threads = 12\n",
    "\n",
    "# Perform simulation (without city plots in each epoch)\n",
    "timer_dict, healthy_tracker, infected_tracker, invisible_transmitters_tracker, \\\n",
    "transmitters_tracker, cured_tracker, dead_tracker, quarantine_tracker = simulate_transportations_with_infections(init_transmitters_num, \\\n",
    "                                                                                                remote_workers, \\\n",
    "                                                                                                responsible_people, \\\n",
    "                                                                                                timer_min, \\\n",
    "                                                                                                timer_max, \\\n",
    "                                                                                                transmission_time, \\\n",
    "                                                                                                neighbourhood_radius, \\\n",
    "                                                                                                infect_prob, \\\n",
    "                                                                                                death_prob, \\\n",
    "                                                                                                radius, \\\n",
    "                                                                                                spread_radius, \\\n",
    "                                                                                                quarantine_zone_size, \\\n",
    "                                                                                                transmitters_test_quota, \\\n",
    "                                                                                                others_test_quota, \\\n",
    "                                                                                                epochs, \\\n",
    "                                                                                                DEBUG, \\\n",
    "                                                                                                None,\n",
    "                                                                                                num_threads=num_threads)\n",
    "\n"
   ]
  },
  {
   "cell_type": "code",
   "execution_count": 4,
   "metadata": {},
   "outputs": [],
   "source": [
    "def real_data_preparation(mos_odl_data_name, mos_data_name, start_day=12, epoch_scale=3, people_scale=0.01):\n",
    "    mos_obl_data = pd.read_csv(mos_odl_data_name)\n",
    "    mos_data = pd.read_csv(mos_data_name)\n",
    "    mos_obl_cum_cases = mos_obl_data.values[:,3:].sum(-1)\n",
    "    mos_obl_cum_dates = mos_obl_data.values[:,2]\n",
    "    mos_dates = mos_data.values[:,-1]\n",
    "    # mos_data = mos_data.values[:,1]\n",
    "    mos_dates\n",
    "    observed_dates = set([i for i in mos_obl_cum_dates if i in mos_dates])\n",
    "    mos_observed_indexes = np.arange(mos_dates.shape[0])[np.array([i in observed_dates for i in mos_dates])]\n",
    "    mos_obl_obs_index_list = []\n",
    "    for i in observed_dates:\n",
    "        for n, j in enumerate(mos_obl_cum_dates):\n",
    "            if j == i:\n",
    "                mos_obl_obs_index_list += [n]\n",
    "                break\n",
    "    # mos_obl_observed_indexes = np.arange(mos_obl_cum_dates.shape[0])[np.array([i in observed_dates for i in mos_obl_cum_dates])]\n",
    "    mos_and_obl_cum_data = mos_data.values[:,1][mos_observed_indexes] + mos_obl_cum_cases[np.array(mos_obl_obs_index_list)]\n",
    "    observed_epoch = (np.sort(np.array(list(observed_dates))) - min(observed_dates) + start_day) * epoch_scale\n",
    "    return (mos_and_obl_cum_data * people_scale).astype(np.int), observed_epoch\n",
    "\n",
    "\n",
    "mos_odl_data_name = 'mos_obl_data.csv'\n",
    "mos_data_name = 'mos_data.csv'\n",
    "real_cases, real_epoch = real_data_preparation(mos_odl_data_name, mos_data_name)"
   ]
  },
  {
   "cell_type": "code",
   "execution_count": 5,
   "metadata": {},
   "outputs": [
    {
     "data": {
      "image/png": "[encoded data removed]",
      "text/plain": [
       "<Figure size 1080x720 with 2 Axes>"
      ]
     },
     "metadata": {
      "needs_background": "light"
     },
     "output_type": "display_data"
    }
   ],
   "source": [
    "# Save detailed stats\n",
    "df = pd.DataFrame(np.array([healthy_tracker, infected_tracker, invisible_transmitters_tracker, \\\n",
    "                            transmitters_tracker, cured_tracker, dead_tracker, quarantine_tracker]).T,\n",
    "                  columns=['healthy', 'infected', 'invisible_transmitters', 'transmitters', 'cured', 'dead', 'quarantined'])\n",
    "if SAVE_DATA:\n",
    "    df.to_csv(os.path.join(plot_disease_matrix, 'stats.csv'), sep='\\t')\n",
    "\n",
    "# Save progress plot\n",
    "fig, ax = plt.subplots(nrows=2, figsize=(15, 2 * 5))\n",
    "\n",
    "ax[0].plot(infected_tracker, '.-', c='tab:blue', label='Infected people')\n",
    "ax[0].plot(invisible_transmitters_tracker + transmitters_tracker, '.-', c='tab:red', label='All transmitters (visible + invisible)')\n",
    "ax[0].plot(dead_tracker, '.-', c='black', label='Deceased')\n",
    "ax[0].plot(cured_tracker, '.-', c='tab:green', label='Cured')\n",
    "ax[0].plot(quarantine_tracker, '.-', c='tab:orange', label='Quarantined')\n",
    "ax[0].plot(invisible_transmitters_tracker + transmitters_tracker + cured_tracker, '.-', c='tab:cyan', label='All_people_were_infected')\n",
    "\n",
    "ax[0].set_ylabel('People')\n",
    "ax[0].set_xlabel('Time')\n",
    "ax[0].set_title(f'People by groups vs. time (radius={radius}, spread_radius={spread_radius}, infect_prob={infect_prob})')\n",
    "ax[0].grid()\n",
    "ax[0].legend()\n",
    "\n",
    "ax[1].plot(infected_tracker + invisible_transmitters_tracker + transmitters_tracker + dead_tracker + cured_tracker, '.-',\n",
    "           c='violet', label='People that contacted a disease')\n",
    "\n",
    "ax[1].set_ylabel('People')\n",
    "ax[1].set_xlabel('Time')\n",
    "ax[1].set_title(f'People that contacted a disease vs. time (radius={radius}, spread_radius={spread_radius}, infect_prob={infect_prob})')\n",
    "ax[1].plot(real_epoch[:np.searchsorted(real_epoch, len(infected_tracker))], real_cases[:np.searchsorted(real_epoch, len(infected_tracker))], '.-', c='red', label='Real people that contacted a disease')\n",
    "ax[1].grid()\n",
    "ax[1].legend()\n",
    "\n",
    "if SAVE_DATA:\n",
    "    fig.savefig(os.path.join(plot_disease_matrix, 'stats_ts.png'), dpi=300);\n",
    "\n",
    "plt.show()"
   ]
  }
 ],
 "metadata": {
  "kernelspec": {
   "display_name": "Python 3",
   "language": "python",
   "name": "python3"
  },
  "language_info": {
   "codemirror_mode": {
    "name": "ipython",
    "version": 3
   },
   "file_extension": ".py",
   "mimetype": "text/x-python",
   "name": "python",
   "nbconvert_exporter": "python",
   "pygments_lexer": "ipython3",
   "version": "3.6.9"
  }
 },
 "nbformat": 4,
 "nbformat_minor": 4
}
